{
 "cells": [
  {
   "cell_type": "markdown",
   "id": "7411e20a-6354-4655-b63c-3002c8b33b40",
   "metadata": {},
   "source": [
    "# Dictionary\n",
    "* What is dictionary and why we use it?"
   ]
  },
  {
   "cell_type": "code",
   "execution_count": 4,
   "id": "bbe82064-9ba3-41b9-8f78-ef38cc3085b8",
   "metadata": {},
   "outputs": [
    {
     "name": "stdout",
     "output_type": "stream",
     "text": [
      "Syed Ejaz\n",
      "1\n"
     ]
    }
   ],
   "source": [
    "# List                0              1          2 \n",
    "data: list[str] = [\"Syed Ejaz\",\"Wania Kazmi\",\"BSSE\"]\n",
    "# The problem was : \n",
    "# here the value is stored on the index base and we dont know on what index which value is store\n",
    "print(data[0])\n",
    "print(data.index(\"Wania Kazmi\"))"
   ]
  },
  {
   "cell_type": "markdown",
   "id": "471d50e8",
   "metadata": {},
   "source": [
    "# To overcome above problem - new datatype is introduce we call it dictionary\n",
    "* Dictionary is datastructure\n",
    "* It's a collection of key-value pairs.\n",
    "* Using dictionary we can create our own database and we can also write our own language like SQL "
   ]
  },
  {
   "cell_type": "markdown",
   "id": "3884ce4a",
   "metadata": {},
   "source": [
    "### we will convert the above list into dictionary\n",
    "* key:value (items)\n",
    "    * key is replacement of index of list\n",
    "    * value is an item of list\n",
    "* to extract dictionary information \n",
    "    * dict_variable[key]\n",
    "* to add new value in the dictionary\n",
    "    * dict_variable[new_key] = new_value - it will add new value and you can also update value through it\n"
   ]
  },
  {
   "cell_type": "code",
   "execution_count": 2,
   "id": "4b97347f",
   "metadata": {},
   "outputs": [
    {
     "data": {
      "text/plain": [
       "{'fname': 'Syed Ejaz', 'name': 'Wania Kazmi', 'education': 'BSSE'}"
      ]
     },
     "metadata": {},
     "output_type": "display_data"
    },
    {
     "name": "stdout",
     "output_type": "stream",
     "text": [
      "{'education': 'BSSE', 'fname': 'Syed Ejaz', 'name': 'Wania Kazmi'}\n"
     ]
    }
   ],
   "source": [
    "# List                0              1          2 \n",
    "data: list[str] = [\"Syed Ejaz\",\"Wania Kazmi\",\"BSSE\"]\n",
    "import pprint\n",
    "# dictionary\n",
    "dict_data : dict[str, str] = {\n",
    "                                \"fname\":\"Syed Ejaz\",\n",
    "                                \"name\":\"Wania Kazmi\",\n",
    "                                \"education\":\"BSSE\"\n",
    "                              }\n",
    "display(dict_data) #display only works with jupyter not with console\n",
    "pprint.pprint(dict_data) # it is used for dictionary and it print like a dictionary"
   ]
  },
  {
   "cell_type": "code",
   "execution_count": 24,
   "id": "a2457d31",
   "metadata": {},
   "outputs": [
    {
     "name": "stdout",
     "output_type": "stream",
     "text": [
      "{10: [1, 2, 3, 4],\n",
      " 'dictionaryValue': {'a': 123, 'b': 234},\n",
      " 'education': 'BSSE',\n",
      " 'fname': 'Syed Ejaz',\n",
      " 'listValue': [1, 2, 3],\n",
      " 'name': 'Wania Kazmi',\n",
      " 'setValue': {1, 2, 3},\n",
      " 'tupleValue': (1, 2, 3),\n",
      " (1, 2, 3): 'Tuple is applyable'}\n",
      "Wania Kazmi\n",
      "Syed Ejaz\n",
      "BSSE\n",
      "[1, 2, 3, 4]\n",
      "Tuple is applyable\n",
      "[1, 2, 3]\n",
      "(1, 2, 3)\n",
      "{1, 2, 3}\n",
      "{'a': 123, 'b': 234}\n",
      "123\n"
     ]
    }
   ],
   "source": [
    "# if we want that our key could be string or integer then for that we can use type alias \n",
    "# if we want that our value could be of multiple datatype then for that we will use type alias\n",
    "from typing import Union\n",
    "import pprint\n",
    "\n",
    "\n",
    "Key = [int, str, list]\n",
    "Value = [int, str, list, tuple, set, dict]\n",
    "\n",
    "dict_data : dict[Key, Value] = {\n",
    "                                \"fname\":\"Syed Ejaz\",\n",
    "                                \"name\":\"Wania Kazmi\",\n",
    "                                \"education\":\"BSSE\",\n",
    "                                10: [1,2,3,4],\n",
    "                                # [2,3,4]: \"list is not applyable\"\n",
    "                                (1,2,3): \"Tuple is applyable\",\n",
    "                                # {1,2,3}: \"Set is not applyable\" \n",
    "                                \"listValue\": [1,2,3],\n",
    "                                \"tupleValue\": (1,2,3),\n",
    "                                \"setValue\":{1,2,3},\n",
    "                                \"dictionaryValue\" : {\"a\":123, \"b\": 234}\n",
    "                              }\n",
    "# getting value through key\n",
    "pprint.pprint(dict_data)\n",
    "print(dict_data[\"name\"])\n",
    "print(dict_data[\"fname\"])\n",
    "print(dict_data[\"education\"])\n",
    "print(dict_data[10])\n",
    "#it shows error because it will give error if we use unhashable datatype like list on key but we can add anything in value\n",
    "# print(dict_data[[2,3,4]]) #list is unhasable\n",
    "print(dict_data[(1,2,3)]) # as tuple is fixed value so it is hashable and give result\n",
    "# print(dict_data[{1,2,3}]) # set is unhashable\n",
    "print(dict_data[\"listValue\"])\n",
    "print(dict_data[\"tupleValue\"])\n",
    "print(dict_data[\"setValue\"])\n",
    "print(dict_data[\"dictionaryValue\"])\n",
    "print(dict_data[\"dictionaryValue\"][\"a\"])\n",
    "\n",
    "#hashable means - such data type that are unique like int or string but list is unhashable because it can be changable with time so it's not unique so it is unhashable\n",
    "# so hashable means such things to which we can give unique identification through hashable algorithm \n"
   ]
  },
  {
   "cell_type": "markdown",
   "id": "014de040",
   "metadata": {},
   "source": [
    "## how to add and update value in the dictionary"
   ]
  },
  {
   "cell_type": "code",
   "execution_count": 31,
   "id": "b404cc8a",
   "metadata": {},
   "outputs": [
    {
     "name": "stdout",
     "output_type": "stream",
     "text": [
      "{'name': 'Wania', 'fname': 'Syed Ejaz', 'education': 'BSSE'}\n",
      "{'name': 'Wania Kazmi', 'fname': 'Syed Ejaz', 'education': 'BSSE'}\n"
     ]
    }
   ],
   "source": [
    "from typing import Union\n",
    "import pprint\n",
    "\n",
    "\n",
    "Key = [int, str, list]\n",
    "Value = [int, str, list, tuple, set, dict]\n",
    "\n",
    "update_dict : dict[Key, Value] = {}\n",
    "\n",
    "update_dict[\"name\"] = \"Wania\" #add data in dict\n",
    "update_dict[\"fname\"] = \"Syed Ejaz\"\n",
    "update_dict[\"education\"] = \"BSSE\"\n",
    "print(update_dict)\n",
    "#update value in dict\n",
    "update_dict[\"name\"] = \"Wania Kazmi\"\n",
    "print(update_dict)"
   ]
  },
  {
   "cell_type": "markdown",
   "id": "b0b8e066",
   "metadata": {},
   "source": [
    "# Methods of dictionary"
   ]
  },
  {
   "cell_type": "code",
   "execution_count": 49,
   "metadata": {},
   "outputs": [
    {
     "name": "stdout",
     "output_type": "stream",
     "text": [
      "['clear', 'copy', 'fromkeys', 'get', 'items', 'keys', 'pop', 'popitem', 'setdefault', 'update', 'values']\n",
      "--get() method--\n",
      "Find the key if you dont get the key then print this message\n",
      "Wania\n",
      "--keys() method--\n",
      "name\n",
      "fname\n",
      "education\n",
      "dict_keys(['name', 'fname', 'education'])\n",
      "--values() method--\n",
      "dict_values(['Wania', 'Syed Ejaz', 'BSSE'])\n",
      "--items() method--\n",
      "dict_items([('name', 'Wania'), ('fname', 'Syed Ejaz'), ('education', 'BSSE')])\n",
      "name Wania\n",
      "fname Syed Ejaz\n",
      "education BSSE\n",
      "Wania\n",
      "Syed Ejaz\n",
      "BSSE\n",
      "Value we get from items() method:  name Wania\n",
      "Value we get from items() method:  fname Syed Ejaz\n",
      "Value we get from items() method:  education BSSE\n"
     ]
    }
   ],
   "source": [
    "print([i for i in dir(dict) if \"__\" not in i])\n",
    "from typing import Union\n",
    "import pprint\n",
    "\n",
    "\n",
    "Key = [int, str, list]\n",
    "Value = [int, str, list, tuple, set, dict]\n",
    "\n",
    "dict_value : dict[Key, Value] = {\"name\":\"Wania\", \"fname\":\"Syed Ejaz\",\"education\":\"BSSE\"}\n",
    "\n",
    "#get\n",
    "print(\"--get() method--\")\n",
    "# print(dict_value[\"Pakistan\"] )#as there is no value of Pakistan exist - so if this error came in production then your whole application will get crash - so to avoid this we have get function\n",
    "\n",
    "#                        key                     if there is no key this message will print\n",
    "print(dict_value.get(\"Pakistan\", \"Find the key if you dont get the key then print this message\")) # so it doesnot give an error here\n",
    "print(dict_value.get(\"name\", \"Find the key if you dont get the key then print this message\")) # so it doesnot give an error here\n",
    "\n",
    "\n",
    "#keys\n",
    "# to get only keys\n",
    "print(\"--keys() method--\")\n",
    "\n",
    "for d in dict_value:\n",
    "    print(d)\n",
    "\n",
    "print(dict_value.keys()) #return all the keys  \n",
    "print(\"--values() method--\") \n",
    "print(dict_value.values()) #return all the values\n",
    "\n",
    "#list of tuples\n",
    "print(\"--items() method--\")\n",
    "print(dict_value.items()) \n",
    "\n",
    "# we can iterate through every method:\n",
    "for k in dict_value.keys(): #it is returning us keys\n",
    "    print(k, dict_value[k]) # we are getting keys and values\n",
    "\n",
    "for v in dict_value.values():\n",
    "    print(v)\n",
    "\n",
    "for k,v in dict_value.items():\n",
    "    print(\"Value we get from items() method: \",k,v)\n"
   ]
  },
  {
   "cell_type": "code",
   "execution_count": 52,
   "id": "373e5fcb",
   "metadata": {},
   "outputs": [
    {
     "data": {
      "text/plain": [
       "{'Wania': 'name', 'Syed Ejaz': 'fname', 'BSSE': 'education'}"
      ]
     },
     "execution_count": 52,
     "metadata": {},
     "output_type": "execute_result"
    }
   ],
   "source": [
    "\n",
    "#using comprehensive style\n",
    "{k:v for k,v in dict_value.items()}\n",
    "\n",
    "#if we want to shuffle it then:\n",
    "{v:k for k,v in dict_value.items()}\n"
   ]
  },
  {
   "cell_type": "code",
   "execution_count": 59,
   "id": "3d3bf29d",
   "metadata": {},
   "outputs": [
    {
     "name": "stdout",
     "output_type": "stream",
     "text": [
      "{}\n",
      "{'id': None, 'name': None, 'fname': None, 'course': None}\n",
      "value updated in the dictionary {'id': None, 'name': None, 'fname': None, 'course': None}\n"
     ]
    }
   ],
   "source": [
    "#fromkeys method\n",
    "keys: list[str] = [\"id\",\"name\",\"fname\",\"course\"]\n",
    "data: dict[Key,Value] = {}\n",
    "\n",
    "print(data)\n",
    "print(data.fromkeys(keys)) #it is an inline operation it doesnot update the keys in the data dictionary \n",
    "# to update the data dictionar\n",
    "data = data.fromkeys(keys)\n",
    "print(\"value updated in the dictionary\",data)"
   ]
  },
  {
   "cell_type": "markdown",
   "id": "733f88fb",
   "metadata": {},
   "source": [
    "# set\n",
    "* This is not a key value\n",
    "* If you have a duplicate values inside it will make them unique\n",
    "* we cannot apply indexing on it\n",
    "\n"
   ]
  },
  {
   "cell_type": "code",
   "execution_count": 22,
   "id": "ef8ee0f3",
   "metadata": {},
   "outputs": [
    {
     "name": "stdout",
     "output_type": "stream",
     "text": [
      "{2, 3, 4, 5, 6}\n",
      "[1, 2, 3, 4]\n"
     ]
    }
   ],
   "source": [
    "set_value : set = {2,3,4,4,6,2,3,5,6} # this is not a key value and if you have duplicate values set will make it unique\n",
    "print(set_value) # we cannot apply indexing on it\n",
    "# set methods has its own attributes \n",
    "[ i for i in dir(set) if \"__\" not in i]\n",
    "\n",
    "#we can also type cast set into list\n",
    "abc : set = {1,2,3,4}\n",
    "list_value : list[int] = list(abc)\n",
    "print(list_value)"
   ]
  }
 ],
 "metadata": {
  "kernelspec": {
   "display_name": "Python 3 (ipykernel)",
   "language": "python",
   "name": "python3"
  },
  "language_info": {
   "codemirror_mode": {
    "name": "ipython",
    "version": 3
   },
   "file_extension": ".py",
   "mimetype": "text/x-python",
   "name": "python",
   "nbconvert_exporter": "python",
   "pygments_lexer": "ipython3",
   "version": "3.12.0"
  }
 },
 "nbformat": 4,
 "nbformat_minor": 5
}

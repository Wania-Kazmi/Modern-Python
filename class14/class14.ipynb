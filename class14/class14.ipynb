{
 "cells": [
  {
   "cell_type": "markdown",
   "metadata": {},
   "source": [
    "## Multiple Inheritance in Python\n"
   ]
  },
  {
   "cell_type": "code",
   "execution_count": 4,
   "metadata": {},
   "outputs": [],
   "source": [
    "# Basic multiple inheritance\n",
    "class Mother():\n",
    "    def __init__(self, name: str) -> None:\n",
    "        self.name = name\n",
    "        self.eye_color = \"Blue\"\n",
    "    def speaking(self, language : str) -> None:\n",
    "        print(f\"I am a mother and I speak,{language}\")\n",
    "\n",
    "class Father():\n",
    "    def __init__(self, name: str) -> None:\n",
    "        self.name = name\n",
    "        self.height = \"6 Feet\"\n",
    "\n",
    "class Child(Mother, Father):\n",
    "    def __init__(self, mother_name : str, father_name : str, child_name : str) -> None:\n",
    "        Mother.__init__(self, mother_name) #calling mother constructor\n",
    "        Father.__init__(self, father_name) #calling father constructor\n",
    "        self.child_name : str = child_name   \n",
    "\n",
    "wania : Child = Child(\"Abida\", \"Ejaz\", \"Wania\") \n"
   ]
  },
  {
   "cell_type": "code",
   "execution_count": 5,
   "metadata": {},
   "outputs": [
    {
     "data": {
      "text/plain": [
       "['__class__',\n",
       " '__delattr__',\n",
       " '__dict__',\n",
       " '__dir__',\n",
       " '__doc__',\n",
       " '__eq__',\n",
       " '__format__',\n",
       " '__ge__',\n",
       " '__getattribute__',\n",
       " '__getstate__',\n",
       " '__gt__',\n",
       " '__hash__',\n",
       " '__init__',\n",
       " '__init_subclass__',\n",
       " '__le__',\n",
       " '__lt__',\n",
       " '__module__',\n",
       " '__ne__',\n",
       " '__new__',\n",
       " '__reduce__',\n",
       " '__reduce_ex__',\n",
       " '__repr__',\n",
       " '__setattr__',\n",
       " '__sizeof__',\n",
       " '__str__',\n",
       " '__subclasshook__',\n",
       " '__weakref__',\n",
       " 'child_name',\n",
       " 'eye_color',\n",
       " 'height',\n",
       " 'name',\n",
       " 'speaking']"
      ]
     },
     "execution_count": 5,
     "metadata": {},
     "output_type": "execute_result"
    }
   ],
   "source": [
    "dir(wania)"
   ]
  },
  {
   "cell_type": "code",
   "execution_count": 6,
   "metadata": {},
   "outputs": [
    {
     "name": "stdout",
     "output_type": "stream",
     "text": [
      "Blue\n",
      "6 Feet\n",
      "I am a mother and I speak,English\n"
     ]
    }
   ],
   "source": [
    "print(wania.eye_color)\n",
    "print(wania.height)\n",
    "wania.speaking(\"English\")\n"
   ]
  },
  {
   "cell_type": "code",
   "execution_count": 8,
   "metadata": {},
   "outputs": [
    {
     "name": "stdout",
     "output_type": "stream",
     "text": [
      "I am a mother and I speak,English\n"
     ]
    }
   ],
   "source": [
    "class Mother():\n",
    "    def __init__(self, name: str) -> None:\n",
    "        self.name = name\n",
    "        self.eye_color = \"Blue\"\n",
    "    def speaking(self, language : str) -> None:\n",
    "        print(f\"I am a mother and I speak,{language}\")\n",
    "\n",
    "class Father():\n",
    "    def __init__(self, name: str) -> None:\n",
    "        self.name = name\n",
    "        self.height = \"6 Feet\"\n",
    "    def speaking(self, language : str) -> None:\n",
    "        print(f\"I am a father and I speak,{language}\")\n",
    "\n",
    "class Child(Mother, Father):\n",
    "    def __init__(self, mother_name : str, father_name : str, child_name : str) -> None:\n",
    "        Mother.__init__(self, mother_name) #calling mother constructor\n",
    "        Father.__init__(self, father_name) #calling father constructor\n",
    "        self.child_name : str = child_name   \n",
    "\n",
    "wania : Child = Child(\"Abida\", \"Ejaz\", \"Wania\") \n",
    "\n",
    "wania.speaking(\"English\") #notice that mother and father both have speaking function but it only mother function because it was most close to child according to this - class Child(Mother, Father) - first mother than father \n"
   ]
  },
  {
   "cell_type": "code",
   "execution_count": 9,
   "metadata": {},
   "outputs": [
    {
     "name": "stdout",
     "output_type": "stream",
     "text": [
      "I am a father and I speak,English\n"
     ]
    }
   ],
   "source": [
    "class Mother():\n",
    "    def __init__(self, name: str) -> None:\n",
    "        self.name = name\n",
    "        self.eye_color = \"Blue\"\n",
    "    def speaking(self, language : str) -> None:\n",
    "        print(f\"I am a mother and I speak,{language}\")\n",
    "\n",
    "class Father():\n",
    "    def __init__(self, name: str) -> None:\n",
    "        self.name = name\n",
    "        self.height = \"6 Feet\"\n",
    "    def speaking(self, language : str) -> None:\n",
    "        print(f\"I am a father and I speak,{language}\")\n",
    "\n",
    "class Child(Father, Mother):\n",
    "    def __init__(self, mother_name : str, father_name : str, child_name : str) -> None:\n",
    "        Mother.__init__(self, mother_name) #calling mother constructor\n",
    "        Father.__init__(self, father_name) #calling father constructor\n",
    "        self.child_name : str = child_name   \n",
    "\n",
    "wania : Child = Child(\"Abida\", \"Ejaz\", \"Wania\") \n",
    "\n",
    "wania.speaking(\"English\") #now here the father is first to speaking method of father come first\n"
   ]
  },
  {
   "cell_type": "markdown",
   "metadata": {},
   "source": [
    "## Polymorphism\n",
    "poly = more than one\n",
    "any method that show more than one behaviour is called polymorphism\n",
    "Polymorphism contain overriding\n",
    "\n",
    "\n",
    "overloading = in one class we have 2 methods of same name"
   ]
  },
  {
   "cell_type": "markdown",
   "metadata": {},
   "source": [
    "## Overloading"
   ]
  },
  {
   "cell_type": "code",
   "execution_count": 10,
   "metadata": {},
   "outputs": [
    {
     "name": "stdout",
     "output_type": "stream",
     "text": [
      "10.0\n",
      "5\n"
     ]
    }
   ],
   "source": [
    "# this is not a correct way in python\n",
    "class Adder():\n",
    "    def add(self, x: int, y: int) -> int: \n",
    "        return x + y\n",
    "    def add(self, x: float, y: float) -> float:\n",
    "        return x + y\n",
    "    \n",
    "obj : Adder = Adder()\n",
    "print(obj.add(7.0, 3.0))\n",
    "print(obj.add(2, 3))"
   ]
  },
  {
   "cell_type": "code",
   "execution_count": null,
   "metadata": {},
   "outputs": [],
   "source": [
    "class Calculator:\n",
    "\n",
    "    def add(self, a, b):\n",
    "        return a + b\n",
    "\n",
    "    def add(self, a, b, c):\n",
    "        return a + b + c\n",
    "\n",
    "calc = Calculator()\n",
    "\n",
    "# This will call the first version of add\n",
    "print(calc.add(1, 2))\n",
    "\n",
    "# This will call the second version of add\n",
    "print(calc.add(1, 2, 3))"
   ]
  },
  {
   "cell_type": "markdown",
   "metadata": {},
   "source": [
    "## Why the Error was occuring\n",
    "This error is because you are defining the same method twice in the same class. When you call the add method, Python does not know which one to call, as there are two methods with the same name.\n",
    "\n",
    "In Python, methods can't be overloaded in the way that they can in languages like Java or C#. If you want to add more arguments to your method, you should do so in a single method definition.\n"
   ]
  },
  {
   "cell_type": "code",
   "execution_count": null,
   "metadata": {},
   "outputs": [],
   "source": [
    "# correct way of overloading python\n",
    "class Adder():\n",
    "    def add(self, x, y):\n",
    "        if isinstance(x, int) and isinstance(y, int):\n",
    "            return x + y\n",
    "        elif isinstance(x, float) and isinstance(y, float):\n",
    "            return x + y\n",
    "        else:\n",
    "            raise TypeError(\"Unsupported operand types for addition\")\n",
    "\n",
    "obj : Adder = Adder()\n",
    "print(obj.add(7.0, 3.0))\n",
    "print(obj.add(2, 3))"
   ]
  },
  {
   "cell_type": "markdown",
   "metadata": {},
   "source": [
    "## Function Overloading"
   ]
  },
  {
   "cell_type": "code",
   "execution_count": 15,
   "metadata": {},
   "outputs": [
    {
     "name": "stdout",
     "output_type": "stream",
     "text": [
      "WaniaKazmi\n"
     ]
    }
   ],
   "source": [
    "from typing import Union, overload  \n",
    "\n",
    "@overload\n",
    "def add(x: int, y: int) -> int:\n",
    "    ...\n",
    "    \n",
    "@overload\n",
    "def add(x: float, y: float) -> float:\n",
    "    ...\n",
    "    \n",
    "@overload\n",
    "def add(x: str, y: str) -> str:\n",
    "    ...\n",
    "        \n",
    "    \n",
    "def add(x: Union[int, float, str], y: Union[int, float, str]) -> Union[int, float, str]:\n",
    "    if isinstance(x, int) and isinstance(y, int):\n",
    "        return x + y\n",
    "    elif isinstance(x, float) and isinstance(y, float):\n",
    "        return x + y\n",
    "    elif isinstance(x, str) and isinstance(y, str):\n",
    "        return x + y\n",
    "    else:\n",
    "        raise TypeError(\"Invalid argument types!\")\n",
    "\n",
    "   \n",
    "result1 = add(\"Wania\", \"Kazmi\") \n",
    "print(result1)"
   ]
  },
  {
   "cell_type": "markdown",
   "metadata": {},
   "source": [
    "## Class method overloading"
   ]
  },
  {
   "cell_type": "code",
   "execution_count": 12,
   "metadata": {},
   "outputs": [
    {
     "name": "stdout",
     "output_type": "stream",
     "text": [
      "3\n",
      "4.0\n",
      "Hello, world!\n"
     ]
    }
   ],
   "source": [
    "from typing import Union, overload\n",
    "\n",
    "class Adder:\n",
    "    @overload\n",
    "    def add(self, x: int, y: int) -> int:\n",
    "        ...\n",
    "        \n",
    "    @overload\n",
    "    def add(self, x: float, y: float) -> float:\n",
    "        ...\n",
    "        \n",
    "    @overload\n",
    "    def add(self, x: str, y: str) -> str:\n",
    "        ...\n",
    "        \n",
    "    \n",
    "    def add(self, x: Union[int, float, str], y: Union[int, float, str]) -> Union[int, float, str]:\n",
    "        if isinstance(x, int) and isinstance(y, int):\n",
    "            return x + y\n",
    "        elif isinstance(x, float) and isinstance(y, float):\n",
    "            return x + y\n",
    "        elif isinstance(x, str) and isinstance(y, str):\n",
    "            return x + y\n",
    "        else:\n",
    "            raise TypeError(\"Invalid argument types!\")\n",
    "\n",
    "# Usage examples\n",
    "adder = Adder()\n",
    "result1 = adder.add(1, 2)  # Should return 3\n",
    "result2 = adder.add(1.5, 2.5)  # Should return 4.0\n",
    "result3 = adder.add(\"Hello, \", \"world!\")  # Should return \"Hello, world!\"\n",
    "\n",
    "print(result1)\n",
    "print(result2)\n",
    "print(result3)"
   ]
  },
  {
   "cell_type": "markdown",
   "metadata": {},
   "source": [
    "## Overriding\n",
    "It is a base technology to achieve a polymorphism \n",
    "If parent and child has method of same name e.g eating. \n",
    "Now it will decide on runtime time that eating is belong to which object and which method needs to call"
   ]
  }
 ],
 "metadata": {
  "kernelspec": {
   "display_name": "Python 3",
   "language": "python",
   "name": "python3"
  },
  "language_info": {
   "codemirror_mode": {
    "name": "ipython",
    "version": 3
   },
   "file_extension": ".py",
   "mimetype": "text/x-python",
   "name": "python",
   "nbconvert_exporter": "python",
   "pygments_lexer": "ipython3",
   "version": "3.12.0"
  }
 },
 "nbformat": 4,
 "nbformat_minor": 2
}

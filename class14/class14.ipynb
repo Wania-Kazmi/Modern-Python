{
 "cells": [
  {
   "cell_type": "markdown",
   "metadata": {},
   "source": [
    "## Multiple Inheritance in Python\n"
   ]
  },
  {
   "cell_type": "code",
   "execution_count": 4,
   "metadata": {},
   "outputs": [],
   "source": [
    "# Basic multiple inheritance\n",
    "class Mother():\n",
    "    def __init__(self, name: str) -> None:\n",
    "        self.name = name\n",
    "        self.eye_color = \"Blue\"\n",
    "    def speaking(self, language : str) -> None:\n",
    "        print(f\"I am a mother and I speak,{language}\")\n",
    "\n",
    "class Father():\n",
    "    def __init__(self, name: str) -> None:\n",
    "        self.name = name\n",
    "        self.height = \"6 Feet\"\n",
    "\n",
    "class Child(Mother, Father):\n",
    "    def __init__(self, mother_name : str, father_name : str, child_name : str) -> None:\n",
    "        Mother.__init__(self, mother_name) #calling mother constructor\n",
    "        Father.__init__(self, father_name) #calling father constructor\n",
    "        self.child_name : str = child_name   \n",
    "\n",
    "wania : Child = Child(\"Abida\", \"Ejaz\", \"Wania\") \n"
   ]
  },
  {
   "cell_type": "code",
   "execution_count": 5,
   "metadata": {},
   "outputs": [
    {
     "data": {
      "text/plain": [
       "['__class__',\n",
       " '__delattr__',\n",
       " '__dict__',\n",
       " '__dir__',\n",
       " '__doc__',\n",
       " '__eq__',\n",
       " '__format__',\n",
       " '__ge__',\n",
       " '__getattribute__',\n",
       " '__getstate__',\n",
       " '__gt__',\n",
       " '__hash__',\n",
       " '__init__',\n",
       " '__init_subclass__',\n",
       " '__le__',\n",
       " '__lt__',\n",
       " '__module__',\n",
       " '__ne__',\n",
       " '__new__',\n",
       " '__reduce__',\n",
       " '__reduce_ex__',\n",
       " '__repr__',\n",
       " '__setattr__',\n",
       " '__sizeof__',\n",
       " '__str__',\n",
       " '__subclasshook__',\n",
       " '__weakref__',\n",
       " 'child_name',\n",
       " 'eye_color',\n",
       " 'height',\n",
       " 'name',\n",
       " 'speaking']"
      ]
     },
     "execution_count": 5,
     "metadata": {},
     "output_type": "execute_result"
    }
   ],
   "source": [
    "dir(wania)"
   ]
  },
  {
   "cell_type": "code",
   "execution_count": 6,
   "metadata": {},
   "outputs": [
    {
     "name": "stdout",
     "output_type": "stream",
     "text": [
      "Blue\n",
      "6 Feet\n",
      "I am a mother and I speak,English\n"
     ]
    }
   ],
   "source": [
    "print(wania.eye_color)\n",
    "print(wania.height)\n",
    "wania.speaking(\"English\")\n"
   ]
  },
  {
   "cell_type": "code",
   "execution_count": 8,
   "metadata": {},
   "outputs": [
    {
     "name": "stdout",
     "output_type": "stream",
     "text": [
      "I am a mother and I speak,English\n"
     ]
    }
   ],
   "source": [
    "class Mother():\n",
    "    def __init__(self, name: str) -> None:\n",
    "        self.name = name\n",
    "        self.eye_color = \"Blue\"\n",
    "    def speaking(self, language : str) -> None:\n",
    "        print(f\"I am a mother and I speak,{language}\")\n",
    "\n",
    "class Father():\n",
    "    def __init__(self, name: str) -> None:\n",
    "        self.name = name\n",
    "        self.height = \"6 Feet\"\n",
    "    def speaking(self, language : str) -> None:\n",
    "        print(f\"I am a father and I speak,{language}\")\n",
    "\n",
    "class Child(Mother, Father):\n",
    "    def __init__(self, mother_name : str, father_name : str, child_name : str) -> None:\n",
    "        Mother.__init__(self, mother_name) #calling mother constructor\n",
    "        Father.__init__(self, father_name) #calling father constructor\n",
    "        self.child_name : str = child_name   \n",
    "\n",
    "wania : Child = Child(\"Abida\", \"Ejaz\", \"Wania\") \n",
    "\n",
    "wania.speaking(\"English\") #notice that mother and father both have speaking function but it only mother function because it was most close to child according to this - class Child(Mother, Father) - first mother than father \n"
   ]
  },
  {
   "cell_type": "code",
   "execution_count": 9,
   "metadata": {},
   "outputs": [
    {
     "name": "stdout",
     "output_type": "stream",
     "text": [
      "I am a father and I speak,English\n"
     ]
    }
   ],
   "source": [
    "class Mother():\n",
    "    def __init__(self, name: str) -> None:\n",
    "        self.name = name\n",
    "        self.eye_color = \"Blue\"\n",
    "    def speaking(self, language : str) -> None:\n",
    "        print(f\"I am a mother and I speak,{language}\")\n",
    "\n",
    "class Father():\n",
    "    def __init__(self, name: str) -> None:\n",
    "        self.name = name\n",
    "        self.height = \"6 Feet\"\n",
    "    def speaking(self, language : str) -> None:\n",
    "        print(f\"I am a father and I speak,{language}\")\n",
    "\n",
    "class Child(Father, Mother):\n",
    "    def __init__(self, mother_name : str, father_name : str, child_name : str) -> None:\n",
    "        Mother.__init__(self, mother_name) #calling mother constructor\n",
    "        Father.__init__(self, father_name) #calling father constructor\n",
    "        self.child_name : str = child_name   \n",
    "\n",
    "wania : Child = Child(\"Abida\", \"Ejaz\", \"Wania\") \n",
    "\n",
    "wania.speaking(\"English\") #now here the father is first to speaking method of father come first\n"
   ]
  },
  {
   "cell_type": "markdown",
   "metadata": {},
   "source": [
    "## Overloading"
   ]
  },
  {
   "cell_type": "code",
   "execution_count": 10,
   "metadata": {},
   "outputs": [
    {
     "name": "stdout",
     "output_type": "stream",
     "text": [
      "10.0\n",
      "5\n"
     ]
    }
   ],
   "source": [
    "# this is not a correct way in python\n",
    "class Adder():\n",
    "    def add(self, x: int, y: int) -> int: \n",
    "        return x + y\n",
    "    def add(self, x: float, y: float) -> float:\n",
    "        return x + y\n",
    "    \n",
    "obj : Adder = Adder()\n",
    "print(obj.add(7.0, 3.0))\n",
    "print(obj.add(2, 3))"
   ]
  },
  {
   "cell_type": "code",
   "execution_count": null,
   "metadata": {},
   "outputs": [],
   "source": [
    "class Calculator:\n",
    "\n",
    "    def add(self, a, b):\n",
    "        return a + b\n",
    "\n",
    "    def add(self, a, b, c):\n",
    "        return a + b + c\n",
    "\n",
    "calc = Calculator()\n",
    "\n",
    "# This will call the first version of add\n",
    "print(calc.add(1, 2))\n",
    "\n",
    "# This will call the second version of add\n",
    "print(calc.add(1, 2, 3))"
   ]
  },
  {
   "cell_type": "markdown",
   "metadata": {},
   "source": [
    "## Why the Error was occuring\n",
    "This error is because you are defining the same method twice in the same class. When you call the add method, Python does not know which one to call, as there are two methods with the same name.\n",
    "\n",
    "In Python, methods can't be overloaded in the way that they can in languages like Java or C#. If you want to add more arguments to your method, you should do so in a single method definition.\n"
   ]
  },
  {
   "cell_type": "code",
   "execution_count": null,
   "metadata": {},
   "outputs": [],
   "source": [
    "# correct way of overloading python\n",
    "class Adder():\n",
    "    def add(self, x, y):\n",
    "        if isinstance(x, int) and isinstance(y, int):\n",
    "            return x + y\n",
    "        elif isinstance(x, float) and isinstance(y, float):\n",
    "            return x + y\n",
    "        else:\n",
    "            raise TypeError(\"Unsupported operand types for addition\")\n",
    "\n",
    "obj : Adder = Adder()\n",
    "print(obj.add(7.0, 3.0))\n",
    "print(obj.add(2, 3))"
   ]
  },
  {
   "cell_type": "markdown",
   "metadata": {},
   "source": [
    "## Function Overloading"
   ]
  },
  {
   "cell_type": "code",
   "execution_count": 15,
   "metadata": {},
   "outputs": [
    {
     "name": "stdout",
     "output_type": "stream",
     "text": [
      "WaniaKazmi\n"
     ]
    }
   ],
   "source": [
    "from typing import Union, overload  \n",
    "\n",
    "@overload\n",
    "def add(x: int, y: int) -> int:\n",
    "    ...\n",
    "    \n",
    "@overload\n",
    "def add(x: float, y: float) -> float:\n",
    "    ...\n",
    "    \n",
    "@overload\n",
    "def add(x: str, y: str) -> str:\n",
    "    ...\n",
    "        \n",
    "    \n",
    "def add(x: Union[int, float, str], y: Union[int, float, str]) -> Union[int, float, str]:\n",
    "    if isinstance(x, int) and isinstance(y, int):\n",
    "        return x + y\n",
    "    elif isinstance(x, float) and isinstance(y, float):\n",
    "        return x + y\n",
    "    elif isinstance(x, str) and isinstance(y, str):\n",
    "        return x + y\n",
    "    else:\n",
    "        raise TypeError(\"Invalid argument types!\")\n",
    "\n",
    "   \n",
    "result1 = add(\"Wania\", \"Kazmi\") \n",
    "print(result1)"
   ]
  },
  {
   "cell_type": "markdown",
   "metadata": {},
   "source": [
    "## Class method overloading"
   ]
  },
  {
   "cell_type": "code",
   "execution_count": 12,
   "metadata": {},
   "outputs": [
    {
     "name": "stdout",
     "output_type": "stream",
     "text": [
      "3\n",
      "4.0\n",
      "Hello, world!\n"
     ]
    }
   ],
   "source": [
    "from typing import Union, overload\n",
    "\n",
    "class Adder:\n",
    "    @overload\n",
    "    def add(self, x: int, y: int) -> int:\n",
    "        ...\n",
    "        \n",
    "    @overload\n",
    "    def add(self, x: float, y: float) -> float:\n",
    "        ...\n",
    "        \n",
    "    @overload\n",
    "    def add(self, x: str, y: str) -> str:\n",
    "        ...\n",
    "        \n",
    "    \n",
    "    def add(self, x: Union[int, float, str], y: Union[int, float, str]) -> Union[int, float, str]:\n",
    "        if isinstance(x, int) and isinstance(y, int):\n",
    "            return x + y\n",
    "        elif isinstance(x, float) and isinstance(y, float):\n",
    "            return x + y\n",
    "        elif isinstance(x, str) and isinstance(y, str):\n",
    "            return x + y\n",
    "        else:\n",
    "            raise TypeError(\"Invalid argument types!\")\n",
    "\n",
    "# Usage examples\n",
    "adder = Adder()\n",
    "result1 = adder.add(1, 2)  # Should return 3\n",
    "result2 = adder.add(1.5, 2.5)  # Should return 4.0\n",
    "result3 = adder.add(\"Hello, \", \"world!\")  # Should return \"Hello, world!\"\n",
    "\n",
    "print(result1)\n",
    "print(result2)\n",
    "print(result3)"
   ]
  },
  {
   "cell_type": "markdown",
   "metadata": {},
   "source": [
    "## Overriding & polymorphism\n",
    "It is a base technology to achieve a polymorphism \n",
    "If parent and child has method of same name e.g eating. \n",
    "Now it will decide on runtime in polymorphism that eating is belong to which object and which method needs to call\n",
    "\n",
    "## Polymorphism\n",
    "poly = more than one\n",
    "any method that show more than one behaviour is called polymorphism\n",
    "Polymorphism contain overriding\n",
    "\n",
    "\n",
    "overloading = in one class we have 2 methods of same name"
   ]
  },
  {
   "cell_type": "code",
   "execution_count": 19,
   "metadata": {},
   "outputs": [
    {
     "name": "stdout",
     "output_type": "stream",
     "text": [
      "Bird is eating: Bread\n",
      "Animal is eating: Grass\n",
      "Bird is eating: Grass\n"
     ]
    }
   ],
   "source": [
    "#overriding means override the parent class method() just like eating here it is overriding in Bird class which is child of Animal class\n",
    "class Animal():\n",
    "    def eating(self, food : str) -> None:\n",
    "        print(f\"Animal is eating: {food}\")\n",
    "    \n",
    "class Bird(Animal):\n",
    "    def eating(self, food : str) -> None: #this is an overriding method here and polymorphism can only be achieved by overriding\n",
    "        print(f\"Bird is eating: {food}\") \n",
    "\n",
    "\n",
    "# no polymorphism involve here\n",
    "bird: Bird = Bird()\n",
    "bird.eating(\"Bread\")\n",
    "\n",
    "animal : Animal = Animal()\n",
    "animal.eating(\"Grass\")\n",
    "\n",
    "#Polymorphism:\n",
    "animal1 : Animal = Bird() #there is no error because by definition bird is inherited from animal and both Animal class and Bird class has eating() method\n",
    "animal1.eating(\"Grass\")"
   ]
  },
  {
   "cell_type": "markdown",
   "metadata": {},
   "source": [
    "## Polymorphism\n",
    "- We are achieving polymorphism here with the help of overriding"
   ]
  },
  {
   "cell_type": "code",
   "execution_count": 27,
   "metadata": {},
   "outputs": [
    {
     "name": "stdout",
     "output_type": "stream",
     "text": [
      "Bird is eating: Grass\n",
      "Animal is eating: Meat\n"
     ]
    }
   ],
   "source": [
    "animal1 : Animal = Bird() #at runtime it will decide who to call Animal or Bird method and then object method will run?\n",
    "animal1.eating(\"Grass\")\n",
    "# animal1 : Bird = Animal()  #Error\n",
    "# animal1.eating(\"Meat\")"
   ]
  },
  {
   "cell_type": "code",
   "execution_count": 20,
   "metadata": {},
   "outputs": [
    {
     "name": "stdout",
     "output_type": "stream",
     "text": [
      "<class '__main__.Bird'>\n"
     ]
    }
   ],
   "source": [
    "print(type(animal1))"
   ]
  },
  {
   "cell_type": "markdown",
   "metadata": {},
   "source": [
    "## Static method and static variables"
   ]
  },
  {
   "cell_type": "code",
   "execution_count": null,
   "metadata": {},
   "outputs": [],
   "source": [
    "# all the methods and variables we have created above are of object and belong to object\n",
    "# methods normally belong to object\n",
    "# their value get change according to object arguments\n",
    "# normally to call the obj method, we have to create the object     \n",
    "\n",
    "# static methods/class methods and static variables/class variables are belong to class\n",
    "# their value is same for all the objects \n",
    "class MathOperations:\n",
    "\n",
    "    counter : int = 100\n",
    "    organization : str = \"PIAIC\"\n",
    "\n",
    "# why we are using decorator here - this will describe the compiler that it is static method\n",
    "# how decorator run - decorator run first then the attached function run\n",
    "    @staticmethod \n",
    "    def add(x: int, y: int) -> int:\n",
    "        \"\"\"Add two numbers.\"\"\"\n",
    "        return x + y\n",
    "\n",
    "    @staticmethod\n",
    "    def multiply(x: int, y: int) -> int:\n",
    "        \"\"\"Multiply two numbers.\"\"\"\n",
    "        return x * y\n",
    "\n",
    "# Using the static methods\n",
    "result_add = MathOperations.add(10, 20) #here we are calling the add method through class name means it's a class method/static method not an object method\n",
    "result_multiply = MathOperations.multiply(10, 20)\n",
    "\n",
    "print(\"Addition:\", result_add)\n",
    "print(\"Multiplication:\", result_multiply)\n",
    "\n",
    "print(\"Static variable or Class variable\",MathOperations.organization)"
   ]
  },
  {
   "cell_type": "markdown",
   "metadata": {},
   "source": [
    "# Everything is an object in python\n",
    "https://www.codingninjas.com/studio/library/how-everything-in-python-is-an-object\n",
    "\n",
    "- Below 2 examples are identical\n",
    "- Here Human class is inherit from object behind the scene - there is nothing in python that doesnot inherit from object either it is int, str or class. Everything inherit from object"
   ]
  },
  {
   "cell_type": "code",
   "execution_count": 21,
   "metadata": {},
   "outputs": [
    {
     "name": "stdout",
     "output_type": "stream",
     "text": [
      "Human eats: Seafood\n"
     ]
    }
   ],
   "source": [
    "class Human(): #here it is like class Human(object)\n",
    "    def eating(self, food : str) -> None:\n",
    "        print(f\"Human eats: {food}\")\n",
    "\n",
    "obj1 : Human = Human()\n",
    "obj1.eating(\"Seafood\")"
   ]
  },
  {
   "cell_type": "code",
   "execution_count": 24,
   "metadata": {},
   "outputs": [
    {
     "data": {
      "text/plain": [
       "['__class__',\n",
       " '__delattr__',\n",
       " '__dict__',\n",
       " '__dir__',\n",
       " '__doc__',\n",
       " '__eq__',\n",
       " '__format__',\n",
       " '__ge__',\n",
       " '__getattribute__',\n",
       " '__getstate__',\n",
       " '__gt__',\n",
       " '__hash__',\n",
       " '__init__',\n",
       " '__init_subclass__',\n",
       " '__le__',\n",
       " '__lt__',\n",
       " '__module__',\n",
       " '__ne__',\n",
       " '__new__',\n",
       " '__reduce__',\n",
       " '__reduce_ex__',\n",
       " '__repr__',\n",
       " '__setattr__',\n",
       " '__sizeof__',\n",
       " '__str__',\n",
       " '__subclasshook__',\n",
       " '__weakref__',\n",
       " 'eating']"
      ]
     },
     "execution_count": 24,
     "metadata": {},
     "output_type": "execute_result"
    }
   ],
   "source": [
    "dir(obj1) # we only gave eating method to obj1 - so from where the rest of methods are coming - these are coming from object"
   ]
  },
  {
   "cell_type": "code",
   "execution_count": 25,
   "metadata": {},
   "outputs": [
    {
     "data": {
      "text/plain": [
       "['__class__',\n",
       " '__delattr__',\n",
       " '__dir__',\n",
       " '__doc__',\n",
       " '__eq__',\n",
       " '__format__',\n",
       " '__ge__',\n",
       " '__getattribute__',\n",
       " '__getstate__',\n",
       " '__gt__',\n",
       " '__hash__',\n",
       " '__init__',\n",
       " '__init_subclass__',\n",
       " '__le__',\n",
       " '__lt__',\n",
       " '__ne__',\n",
       " '__new__',\n",
       " '__reduce__',\n",
       " '__reduce_ex__',\n",
       " '__repr__',\n",
       " '__setattr__',\n",
       " '__sizeof__',\n",
       " '__str__',\n",
       " '__subclasshook__']"
      ]
     },
     "execution_count": 25,
     "metadata": {},
     "output_type": "execute_result"
    }
   ],
   "source": [
    "dir(object) # we are getting same method as above except eating"
   ]
  },
  {
   "cell_type": "code",
   "execution_count": 23,
   "metadata": {},
   "outputs": [
    {
     "name": "stdout",
     "output_type": "stream",
     "text": [
      "Human eats: Seafood\n"
     ]
    }
   ],
   "source": [
    "class Human1(object): #object is a base class here\n",
    "    def eating(self, food : str) -> None:\n",
    "        print(f\"Human eats: {food}\")\n",
    "\n",
    "obj2 : Human1 = Human1()\n",
    "obj2.eating(\"Seafood\")"
   ]
  },
  {
   "cell_type": "code",
   "execution_count": 26,
   "metadata": {},
   "outputs": [
    {
     "data": {
      "text/plain": [
       "['__class__',\n",
       " '__delattr__',\n",
       " '__dict__',\n",
       " '__dir__',\n",
       " '__doc__',\n",
       " '__eq__',\n",
       " '__format__',\n",
       " '__ge__',\n",
       " '__getattribute__',\n",
       " '__getstate__',\n",
       " '__gt__',\n",
       " '__hash__',\n",
       " '__init__',\n",
       " '__init_subclass__',\n",
       " '__le__',\n",
       " '__lt__',\n",
       " '__module__',\n",
       " '__ne__',\n",
       " '__new__',\n",
       " '__reduce__',\n",
       " '__reduce_ex__',\n",
       " '__repr__',\n",
       " '__setattr__',\n",
       " '__sizeof__',\n",
       " '__str__',\n",
       " '__subclasshook__',\n",
       " '__weakref__',\n",
       " 'eating']"
      ]
     },
     "execution_count": 26,
     "metadata": {},
     "output_type": "execute_result"
    }
   ],
   "source": [
    "dir(obj2) #it has same method like obj1 - so hence proved that everything is an object in python\n",
    "# if you want to override these methods through polymorphism then only the child class method will call"
   ]
  },
  {
   "cell_type": "markdown",
   "metadata": {},
   "source": [
    "## Callable\n",
    "https://realpython.com/python-callable-instances/"
   ]
  },
  {
   "cell_type": "code",
   "execution_count": 28,
   "metadata": {},
   "outputs": [
    {
     "name": "stdout",
     "output_type": "stream",
     "text": [
      "Human eats: Seafood\n",
      "Human eats: Nehari\n"
     ]
    }
   ],
   "source": [
    "from typing import Any\n",
    "\n",
    "\n",
    "class Human2(object): #object is a base class here\n",
    "    def eating(self, food : str) -> None:\n",
    "        print(f\"Human eats: {food}\")\n",
    "\n",
    "    def __call__(self) -> None:\n",
    "        self.eating(\"Nehari\")\n",
    "\n",
    "obj3 : Human2 = Human2()\n",
    "obj3.eating(\"Seafood\")\n",
    "obj3.__call__()"
   ]
  },
  {
   "cell_type": "code",
   "execution_count": 29,
   "metadata": {},
   "outputs": [
    {
     "data": {
      "text/plain": [
       "<__main__.Human2 at 0x1f1822fe3c0>"
      ]
     },
     "execution_count": 29,
     "metadata": {},
     "output_type": "execute_result"
    }
   ],
   "source": [
    "Human2()"
   ]
  }
 ],
 "metadata": {
  "kernelspec": {
   "display_name": "Python 3",
   "language": "python",
   "name": "python3"
  },
  "language_info": {
   "codemirror_mode": {
    "name": "ipython",
    "version": 3
   },
   "file_extension": ".py",
   "mimetype": "text/x-python",
   "name": "python",
   "nbconvert_exporter": "python",
   "pygments_lexer": "ipython3",
   "version": "3.12.0"
  }
 },
 "nbformat": 4,
 "nbformat_minor": 2
}

{
 "cells": [
  {
   "cell_type": "markdown",
   "id": "b38a02ce",
   "metadata": {},
   "source": [
    "## List \n",
    "* Iteration operation with loop\n",
    "* Apply any operation on element"
   ]
  },
  {
   "cell_type": "code",
   "execution_count": 1,
   "id": "149b1f5b",
   "metadata": {},
   "outputs": [
    {
     "name": "stdout",
     "output_type": "stream",
     "text": [
      "['Wania Kazmi', 'Roma', 'Arzak']\n"
     ]
    }
   ],
   "source": [
    "names : list[str] = [\"Wania Kazmi\", \"Roma\", \"Arzak\"]\n",
    "print(names)"
   ]
  },
  {
   "cell_type": "markdown",
   "id": "9c02d5a8",
   "metadata": {},
   "source": [
    "## what for loop check for us:\n",
    "* Intialization i - i=0\n",
    "* condition - i<len(names)\n",
    "* increment/decrement - i++\n",
    "\n",
    "### That's what we do in javascript\n",
    "```\n",
    "names : list[str] = [\"Wania Kazmi\", \"Roma\", \"Arzak\"]\n",
    "for(i=0; i < names.length; i++){\n",
    "    names[i]\n",
    "}\n",
    "```\n",
    "\n",
    "### Python convert all this into single line \n",
    "\n",
    "```\n",
    "for name in names:\n",
    "    print(name)\n",
    "```\n",
    "* what is important in the python code \n",
    "    * name\n",
    "    * names\n",
    "    * :\n",
    "    "
   ]
  },
  {
   "cell_type": "code",
   "execution_count": 4,
   "id": "05930202",
   "metadata": {},
   "outputs": [
    {
     "name": "stdout",
     "output_type": "stream",
     "text": [
      "Wania Kazmi\n",
      "Roma\n",
      "Arzak\n"
     ]
    }
   ],
   "source": [
    "names : list[str] = [\"Wania Kazmi\", \"Roma\", \"Arzak\"]\n",
    "for name in names:\n",
    "    print(name)"
   ]
  },
  {
   "cell_type": "code",
   "execution_count": 15,
   "id": "8b998193",
   "metadata": {},
   "outputs": [
    {
     "name": "stdout",
     "output_type": "stream",
     "text": [
      "Welcome Dear Teacher - Zia Khan\n",
      "GenAI Team \n",
      "\n",
      "Welcome Dear Teacher - Muhammad Qasim\n",
      "GenAI Team \n",
      "\n",
      "Welcome Dear Teacher - Dr Noman\n",
      "GenAI Team \n",
      "\n",
      "Outside the loop\n"
     ]
    }
   ],
   "source": [
    "names : list[str] = [\"zia khan\", \"muhammad qasim\", \"dr noman\"]\n",
    "for name in names:\n",
    "    print(f'Welcome Dear Teacher - {name.title()}')\n",
    "    print('GenAI Team \\n') #It print inside the loop because it's with indentation\n",
    "\n",
    "print('Outside the loop')"
   ]
  },
  {
   "cell_type": "markdown",
   "id": "3871b009",
   "metadata": {},
   "source": [
    "## If we donot want to iterate over whole loop we only want to iterate to half or to specific point then for that we will do:\n",
    "\n"
   ]
  },
  {
   "cell_type": "code",
   "execution_count": 21,
   "id": "19e62e55",
   "metadata": {},
   "outputs": [
    {
     "name": "stdout",
     "output_type": "stream",
     "text": [
      "The element of list is: Zia Khan\n",
      "The element of list is: Muhammad Qasim\n"
     ]
    }
   ],
   "source": [
    "names : list[str] = [\"zia khan\", \"muhammad qasim\", \"dr noman\",\"wania kazmi\"]\n",
    "\n",
    "for name in names[:2]:\n",
    "    print(f'The element of list is: {name.title()}')"
   ]
  },
  {
   "cell_type": "code",
   "execution_count": 22,
   "id": "6c5b37bd",
   "metadata": {},
   "outputs": [
    {
     "name": "stdout",
     "output_type": "stream",
     "text": [
      "('wania', '123')\n",
      "('qasim', '345')\n",
      "('roma', '678')\n"
     ]
    }
   ],
   "source": [
    "\n",
    "database: list[tuple[str, str]] = [\n",
    "    (\"wania\", \"123\"), (\"qasim\", \"345\"), (\"roma\", \"678\")]\n",
    "\n",
    "for row in database:\n",
    "    print(row)"
   ]
  },
  {
   "cell_type": "markdown",
   "id": "72725e59",
   "metadata": {},
   "source": [
    "## unziping the tuple\n"
   ]
  },
  {
   "cell_type": "code",
   "execution_count": 32,
   "id": "2c2e39ca",
   "metadata": {},
   "outputs": [
    {
     "name": "stdout",
     "output_type": "stream",
     "text": [
      "wania 123\n",
      "qasim 345\n",
      "roma 678\n"
     ]
    }
   ],
   "source": [
    "database: list[tuple[str, str]] = [\n",
    "    (\"wania\", \"123\"), (\"qasim\", \"345\"), (\"roma\", \"678\")]\n",
    "\n",
    "        \n",
    "for row in database:\n",
    "    user, password = row #user and password are local variables here\n",
    "    print(user, password)"
   ]
  },
  {
   "cell_type": "code",
   "execution_count": 41,
   "id": "0ea58f3f",
   "metadata": {},
   "outputs": [
    {
     "ename": "TypeError",
     "evalue": "'str' object is not callable",
     "output_type": "error",
     "traceback": [
      "\u001b[1;31m---------------------------------------------------------------------------\u001b[0m",
      "\u001b[1;31mTypeError\u001b[0m                                 Traceback (most recent call last)",
      "Cell \u001b[1;32mIn[41], line 4\u001b[0m\n\u001b[0;32m      1\u001b[0m database1: \u001b[38;5;28mlist\u001b[39m[\u001b[38;5;28mtuple\u001b[39m[\u001b[38;5;28mstr\u001b[39m, \u001b[38;5;28mstr\u001b[39m]] \u001b[38;5;241m=\u001b[39m [\n\u001b[0;32m      2\u001b[0m     (\u001b[38;5;124m\"\u001b[39m\u001b[38;5;124mwania\u001b[39m\u001b[38;5;124m\"\u001b[39m, \u001b[38;5;124m\"\u001b[39m\u001b[38;5;124m123\u001b[39m\u001b[38;5;124m\"\u001b[39m), (\u001b[38;5;124m\"\u001b[39m\u001b[38;5;124mqasim\u001b[39m\u001b[38;5;124m\"\u001b[39m, \u001b[38;5;124m\"\u001b[39m\u001b[38;5;124m345\u001b[39m\u001b[38;5;124m\"\u001b[39m), (\u001b[38;5;124m\"\u001b[39m\u001b[38;5;124mroma\u001b[39m\u001b[38;5;124m\"\u001b[39m, \u001b[38;5;124m\"\u001b[39m\u001b[38;5;124m678\u001b[39m\u001b[38;5;124m\"\u001b[39m)]\n\u001b[1;32m----> 4\u001b[0m input_user \u001b[38;5;241m=\u001b[39m \u001b[38;5;28minput\u001b[39m(\u001b[38;5;124m\"\u001b[39m\u001b[38;5;124mEnter username\u001b[39m\u001b[38;5;124m\"\u001b[39m)\n\u001b[0;32m      5\u001b[0m input_password \u001b[38;5;241m=\u001b[39m \u001b[38;5;28minput\u001b[39m(\u001b[38;5;124m\"\u001b[39m\u001b[38;5;124mEnter your password\u001b[39m\u001b[38;5;124m\"\u001b[39m)\n\u001b[0;32m      7\u001b[0m \u001b[38;5;66;03m# now we want to match both username and password to database variable \u001b[39;00m\n",
      "\u001b[1;31mTypeError\u001b[0m: 'str' object is not callable"
     ]
    }
   ],
   "source": [
    "database1: list[tuple[str, str]] = [\n",
    "    (\"wania\", \"123\"), (\"qasim\", \"345\"), (\"roma\", \"678\")]\n",
    "\n",
    "input_user = input(\"Enter username\")\n",
    "input_password = input(\"Enter your password\")\n",
    "    \n",
    "# now we want to match both username and password to database variable \n",
    "\n",
    "for row in database1:\n",
    "    user, password = row \n",
    "#     print(user,password)\n",
    "    if input_user == user and input_password == password:\n",
    "        print(\"Valid User\")\n",
    "        break\n",
    "else: \n",
    "    print(\"Not found or Invalid User\")"
   ]
  },
  {
   "cell_type": "code",
   "execution_count": null,
   "id": "d6d0f6e4",
   "metadata": {},
   "outputs": [],
   "source": []
  }
 ],
 "metadata": {
  "kernelspec": {
   "display_name": "Python 3 (ipykernel)",
   "language": "python",
   "name": "python3"
  },
  "language_info": {
   "codemirror_mode": {
    "name": "ipython",
    "version": 3
   },
   "file_extension": ".py",
   "mimetype": "text/x-python",
   "name": "python",
   "nbconvert_exporter": "python",
   "pygments_lexer": "ipython3",
   "version": "3.11.4"
  }
 },
 "nbformat": 4,
 "nbformat_minor": 5
}

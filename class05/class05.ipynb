{
 "cells": [
  {
   "cell_type": "markdown",
   "id": "4a14b774",
   "metadata": {},
   "source": [
    "## List \n",
    "* Iteration operation with loop\n",
    "* Apply any operation on element"
   ]
  },
  {
   "cell_type": "code",
   "execution_count": 1,
   "id": "14970eb0",
   "metadata": {},
   "outputs": [
    {
     "name": "stdout",
     "output_type": "stream",
     "text": [
      "['Wania Kazmi', 'Roma', 'Arzak']\n"
     ]
    }
   ],
   "source": [
    "names : list[str] = [\"Wania Kazmi\", \"Roma\", \"Arzak\"]\n",
    "print(names)"
   ]
  },
  {
   "cell_type": "markdown",
   "id": "02ead19e",
   "metadata": {},
   "source": [
    "## what for loop check for us:\n",
    "* Intialization i - i=0\n",
    "* condition - i<len(names)\n",
    "* increment/decrement - i++\n",
    "\n",
    "### That's what we do in javascript\n",
    "```\n",
    "names : list[str] = [\"Wania Kazmi\", \"Roma\", \"Arzak\"]\n",
    "for(i=0; i < names.length; i++){\n",
    "    names[i]\n",
    "}\n",
    "```\n",
    "\n",
    "### Python convert all this into single line \n",
    "\n",
    "```\n",
    "for name in names:\n",
    "    print(name)\n",
    "```\n",
    "* what is important in the python code \n",
    "    * name\n",
    "    * names\n",
    "    * :\n",
    "    "
   ]
  },
  {
   "cell_type": "code",
   "execution_count": 4,
   "id": "89c8df3c",
   "metadata": {},
   "outputs": [
    {
     "name": "stdout",
     "output_type": "stream",
     "text": [
      "Wania Kazmi\n",
      "Roma\n",
      "Arzak\n"
     ]
    }
   ],
   "source": [
    "names : list[str] = [\"Wania Kazmi\", \"Roma\", \"Arzak\"]\n",
    "for name in names:\n",
    "    print(name)"
   ]
  },
  {
   "cell_type": "code",
   "execution_count": 15,
   "id": "b2615ec1",
   "metadata": {},
   "outputs": [
    {
     "name": "stdout",
     "output_type": "stream",
     "text": [
      "Welcome Dear Teacher - Zia Khan\n",
      "GenAI Team \n",
      "\n",
      "Welcome Dear Teacher - Muhammad Qasim\n",
      "GenAI Team \n",
      "\n",
      "Welcome Dear Teacher - Dr Noman\n",
      "GenAI Team \n",
      "\n",
      "Outside the loop\n"
     ]
    }
   ],
   "source": [
    "names : list[str] = [\"zia khan\", \"muhammad qasim\", \"dr noman\"]\n",
    "for name in names:\n",
    "    print(f'Welcome Dear Teacher - {name.title()}')\n",
    "    print('GenAI Team \\n') #It print inside the loop because it's with indentation\n",
    "\n",
    "print('Outside the loop')"
   ]
  },
  {
   "cell_type": "markdown",
   "id": "da288375",
   "metadata": {},
   "source": [
    "## If we donot want to iterate over whole loop we only want to iterate to half or to specific point then for that we will do:\n",
    "\n"
   ]
  },
  {
   "cell_type": "code",
   "execution_count": 21,
   "id": "b2c40428",
   "metadata": {},
   "outputs": [
    {
     "name": "stdout",
     "output_type": "stream",
     "text": [
      "The element of list is: Zia Khan\n",
      "The element of list is: Muhammad Qasim\n"
     ]
    }
   ],
   "source": [
    "names : list[str] = [\"zia khan\", \"muhammad qasim\", \"dr noman\",\"wania kazmi\"]\n",
    "\n",
    "for name in names[:2]:\n",
    "    print(f'The element of list is: {name.title()}')"
   ]
  },
  {
   "cell_type": "code",
   "execution_count": 22,
   "id": "6736c930",
   "metadata": {},
   "outputs": [
    {
     "name": "stdout",
     "output_type": "stream",
     "text": [
      "('wania', '123')\n",
      "('qasim', '345')\n",
      "('roma', '678')\n"
     ]
    }
   ],
   "source": [
    "\n",
    "database: list[tuple[str, str]] = [\n",
    "    (\"wania\", \"123\"), (\"qasim\", \"345\"), (\"roma\", \"678\")]\n",
    "\n",
    "for row in database:\n",
    "    print(row)"
   ]
  },
  {
   "cell_type": "markdown",
   "id": "4677ed6f",
   "metadata": {},
   "source": [
    "## unziping the tuple\n"
   ]
  },
  {
   "cell_type": "code",
   "execution_count": 44,
   "id": "36a75993",
   "metadata": {},
   "outputs": [
    {
     "name": "stdout",
     "output_type": "stream",
     "text": [
      "User and password unzipping:  wania 23080\n",
      "wania 123\n",
      "qasim 345\n",
      "roma 678\n"
     ]
    }
   ],
   "source": [
    "# unzip method\n",
    "user, password = (\"wania\", \"23080\")\n",
    "print(\"User and password unzipping: \",user, password)\n",
    "\n",
    "database: list[tuple[str, str]] = [\n",
    "    (\"wania\", \"123\"), (\"qasim\", \"345\"), (\"roma\", \"678\")]\n",
    "\n",
    "        \n",
    "for row in database:\n",
    "    user, password = row #user and password are local variables here\n",
    "    print(user, password)"
   ]
  },
  {
   "cell_type": "code",
   "execution_count": 42,
   "id": "2994b508",
   "metadata": {},
   "outputs": [
    {
     "ename": "TypeError",
     "evalue": "'str' object is not callable",
     "output_type": "error",
     "traceback": [
      "\u001b[1;31m---------------------------------------------------------------------------\u001b[0m",
      "\u001b[1;31mTypeError\u001b[0m                                 Traceback (most recent call last)",
      "Cell \u001b[1;32mIn[42], line 4\u001b[0m\n\u001b[0;32m      1\u001b[0m database1: \u001b[38;5;28mlist\u001b[39m[\u001b[38;5;28mtuple\u001b[39m[\u001b[38;5;28mstr\u001b[39m, \u001b[38;5;28mstr\u001b[39m]] \u001b[38;5;241m=\u001b[39m [\n\u001b[0;32m      2\u001b[0m     (\u001b[38;5;124m\"\u001b[39m\u001b[38;5;124mwania\u001b[39m\u001b[38;5;124m\"\u001b[39m, \u001b[38;5;124m\"\u001b[39m\u001b[38;5;124m123\u001b[39m\u001b[38;5;124m\"\u001b[39m), (\u001b[38;5;124m\"\u001b[39m\u001b[38;5;124mqasim\u001b[39m\u001b[38;5;124m\"\u001b[39m, \u001b[38;5;124m\"\u001b[39m\u001b[38;5;124m345\u001b[39m\u001b[38;5;124m\"\u001b[39m), (\u001b[38;5;124m\"\u001b[39m\u001b[38;5;124mroma\u001b[39m\u001b[38;5;124m\"\u001b[39m, \u001b[38;5;124m\"\u001b[39m\u001b[38;5;124m678\u001b[39m\u001b[38;5;124m\"\u001b[39m)]\n\u001b[1;32m----> 4\u001b[0m input_user \u001b[38;5;241m=\u001b[39m \u001b[38;5;28minput\u001b[39m(\u001b[38;5;124m\"\u001b[39m\u001b[38;5;124mEnter username\u001b[39m\u001b[38;5;124m\"\u001b[39m)\n\u001b[0;32m      5\u001b[0m input_password \u001b[38;5;241m=\u001b[39m \u001b[38;5;28minput\u001b[39m(\u001b[38;5;124m\"\u001b[39m\u001b[38;5;124mEnter your password\u001b[39m\u001b[38;5;124m\"\u001b[39m)\n\u001b[0;32m      7\u001b[0m \u001b[38;5;66;03m# now we want to match both username and password to database variable \u001b[39;00m\n",
      "\u001b[1;31mTypeError\u001b[0m: 'str' object is not callable"
     ]
    }
   ],
   "source": [
    "database1: list[tuple[str, str]] = [\n",
    "    (\"wania\", \"123\"), (\"qasim\", \"345\"), (\"roma\", \"678\")]\n",
    "\n",
    "input_user = input(\"Enter username\")\n",
    "input_password = input(\"Enter your password\")\n",
    "    \n",
    "# now we want to match both username and password to database variable \n",
    "\n",
    "for row in database1:\n",
    "    user, password = row \n",
    "#     print(user,password)\n",
    "    if input_user == user and input_password == password:\n",
    "        print(\"Valid User\")\n",
    "        break\n",
    "else: \n",
    "    print(\"Not found or Invalid User\")\n",
    "    \n",
    "#In python we can add else block with for loop, while, and with try-catch"
   ]
  },
  {
   "cell_type": "markdown",
   "id": "b8ba4a49",
   "metadata": {},
   "source": [
    "## else block with loops and try-catch\n"
   ]
  },
  {
   "cell_type": "code",
   "execution_count": 46,
   "id": "2a229e0e",
   "metadata": {},
   "outputs": [
    {
     "name": "stdout",
     "output_type": "stream",
     "text": [
      "wania\n"
     ]
    }
   ],
   "source": [
    "names : list[str] = [\"wania\",\"roma\",\"zarnab\"]\n",
    "\n",
    "#if the for loop doesnot break in between then the else block will also execute otherwise it will \n",
    "for name in names:\n",
    "    print(name)\n",
    "    break\n",
    "else: \n",
    "    print(\"else block executed\")\n",
    "    "
   ]
  },
  {
   "cell_type": "markdown",
   "id": "3838b22e",
   "metadata": {},
   "source": [
    "## When we dont write else block:"
   ]
  },
  {
   "cell_type": "code",
   "execution_count": 47,
   "id": "f917ec91",
   "metadata": {},
   "outputs": [
    {
     "name": "stdout",
     "output_type": "stream",
     "text": [
      "wania\n",
      "else block executed\n"
     ]
    }
   ],
   "source": [
    "#if we dont use else block then this print statement will execute anyway\n",
    "names : list[str] = [\"wania\",\"roma\",\"zarnab\"]   \n",
    "\n",
    "for name in names:\n",
    "    print(name)\n",
    "    break\n",
    "\n",
    "print(\"else block executed\")"
   ]
  },
  {
   "cell_type": "code",
   "execution_count": 50,
   "id": "8655cc34",
   "metadata": {},
   "outputs": [
    {
     "name": "stdout",
     "output_type": "stream",
     "text": [
      "Alice, that was a great trick\n",
      "David, that was a great trick\n",
      "Carolina, that was a great trick\n",
      "I can't wait to see your next trick, Carolina\n"
     ]
    }
   ],
   "source": [
    "magicians: list[str] = [\"alice\",\"david\",'carolina']\n",
    "for magician in magicians:\n",
    "    print(f\"{magician.title()}, that was a great trick\")\n",
    "#this line also work because local variable magician save the last item of list and can be accessible outside the body\n",
    "print(f\"I can't wait to see your next trick, {magician.title()}\")"
   ]
  },
  {
   "cell_type": "markdown",
   "id": "352e05a2",
   "metadata": {},
   "source": [
    "## Avoid uncessary indentation as it will generate Error in your code"
   ]
  },
  {
   "cell_type": "markdown",
   "id": "165dc485",
   "metadata": {},
   "source": [
    "## Numbers with loop\n",
    "* `range(start,end,step)` - range function doesnot run it's own as it is a generator function"
   ]
  },
  {
   "cell_type": "code",
   "execution_count": 51,
   "id": "8d132dfc",
   "metadata": {},
   "outputs": [
    {
     "data": {
      "text/plain": [
       "range(0, 10)"
      ]
     },
     "execution_count": 51,
     "metadata": {},
     "output_type": "execute_result"
    }
   ],
   "source": [
    "range(10) "
   ]
  },
  {
   "cell_type": "code",
   "execution_count": 54,
   "id": "40abe570",
   "metadata": {},
   "outputs": [
    {
     "data": {
      "text/plain": [
       "[2, 3, 4, 5, 6, 7, 8, 9]"
      ]
     },
     "execution_count": 54,
     "metadata": {},
     "output_type": "execute_result"
    }
   ],
   "source": [
    "#To run a generator function we need to perform an iteration and we will do it with list() function\n",
    "list(range(10)) #start = 0, end = n-1 - it will exclude the last value \n",
    "list(range(2,10))"
   ]
  },
  {
   "cell_type": "code",
   "execution_count": 55,
   "id": "9766d082",
   "metadata": {},
   "outputs": [
    {
     "data": {
      "text/plain": [
       "[2, 4, 6, 8, 10, 12, 14, 16, 18, 20]"
      ]
     },
     "execution_count": 55,
     "metadata": {},
     "output_type": "execute_result"
    }
   ],
   "source": [
    "list(range(2,21,2))"
   ]
  },
  {
   "cell_type": "code",
   "execution_count": 66,
   "id": "b7c710e1",
   "metadata": {},
   "outputs": [
    {
     "name": "stdout",
     "output_type": "stream",
     "text": [
      "0 alice\n",
      "1 david\n",
      "2 carolina\n"
     ]
    }
   ],
   "source": [
    "# enumerate function \n",
    "magicians = [\"alice\", \"david\", \"carolina\"]\n",
    "list(enumerate(magicians))\n",
    "\n",
    "\n",
    "#unzipping here\n",
    "for index, magician in enumerate(magicians):\n",
    "    print(index, magician)"
   ]
  },
  {
   "cell_type": "code",
   "execution_count": 69,
   "id": "ccc3d518",
   "metadata": {},
   "outputs": [
    {
     "name": "stdout",
     "output_type": "stream",
     "text": [
      "2 x 1 = 2\n",
      "2 x 2 = 4\n",
      "2 x 3 = 6\n",
      "2 x 4 = 8\n",
      "2 x 5 = 10\n",
      "2 x 6 = 12\n",
      "2 x 7 = 14\n",
      "2 x 8 = 16\n",
      "2 x 9 = 18\n",
      "2 x 10 = 20\n"
     ]
    }
   ],
   "source": [
    "for index,n in enumerate(range(2,21,2)): #here we donot write a list because on range iteration is already performing through for loop\n",
    "    print(f\"2 x {index + 1} = {n}\")\n"
   ]
  },
  {
   "cell_type": "code",
   "execution_count": 71,
   "id": "e8ecb341",
   "metadata": {},
   "outputs": [
    {
     "name": "stdout",
     "output_type": "stream",
     "text": [
      "[1, 4, 9, 16, 25, 36, 49, 64, 81, 100]\n"
     ]
    }
   ],
   "source": [
    "square : list[int] = []\n",
    "for value in range(1,11):\n",
    "    sq = value ** 2\n",
    "    square.append(sq)\n",
    "print(square)\n",
    "\n",
    "#This task can be done in a single line so we donot need to write multople lines: so for this we will use list comprehensive"
   ]
  },
  {
   "cell_type": "markdown",
   "id": "ef2019a1",
   "metadata": {},
   "source": [
    "# List Comprehensive\n",
    "\n",
    "### Non Comprehensive Style\n",
    "```\n",
    "for item in items_list:\n",
    "    loop_body\n",
    "```\n",
    "\n",
    "### Comprehensive Style\n",
    "body came first and there will be no colon in the end\n",
    "```\n",
    "loop_body for item in items_list\n",
    "    \n",
    "```"
   ]
  },
  {
   "cell_type": "code",
   "execution_count": 72,
   "id": "09c6c1d9",
   "metadata": {},
   "outputs": [
    {
     "data": {
      "text/plain": [
       "[1, 2, 3, 4, 5, 6, 7, 8, 9, 10]"
      ]
     },
     "execution_count": 72,
     "metadata": {},
     "output_type": "execute_result"
    }
   ],
   "source": [
    "list(range(1,11))"
   ]
  },
  {
   "cell_type": "code",
   "execution_count": 78,
   "id": "f1b1d6ff",
   "metadata": {},
   "outputs": [
    {
     "name": "stdout",
     "output_type": "stream",
     "text": [
      "1\n",
      "4\n",
      "9\n",
      "16\n",
      "25\n",
      "36\n",
      "49\n",
      "64\n",
      "81\n",
      "100\n"
     ]
    },
    {
     "data": {
      "text/plain": [
       "[1, 4, 9, 16, 25, 36, 49, 64, 81, 100]"
      ]
     },
     "execution_count": 78,
     "metadata": {},
     "output_type": "execute_result"
    }
   ],
   "source": [
    "# take power of 2 for every element like we did in above square example\n",
    "# Traditional Method:\n",
    "for i in range(1,11):\n",
    "    print(i**2)\n",
    "    \n",
    "# Non Traditional Method with using list comprehension - as we want list in return so,\n",
    "[i**2 for i in range(1,11)]"
   ]
  },
  {
   "cell_type": "code",
   "execution_count": 80,
   "id": "f8eb2434",
   "metadata": {},
   "outputs": [
    {
     "name": "stdout",
     "output_type": "stream",
     "text": [
      "[0, 1, 2, 3, 4, 5, 6, 7, 8, 9]\n",
      "0\n",
      "9\n",
      "45\n"
     ]
    }
   ],
   "source": [
    "digits: list[int] = [0,1,2,3,4,5,6,7,8,9]\n",
    "print(digits)\n",
    "print(min(digits))\n",
    "print(max(digits))\n",
    "print(sum(digits))"
   ]
  },
  {
   "cell_type": "markdown",
   "id": "e3866351",
   "metadata": {},
   "source": [
    "# Slicing Deep copy and Shallow copy\n",
    "\n",
    "* As we can see in below example - slicing always do `Deep copy` not shallow copy"
   ]
  },
  {
   "cell_type": "code",
   "execution_count": 82,
   "id": "fe128e58",
   "metadata": {},
   "outputs": [
    {
     "name": "stdout",
     "output_type": "stream",
     "text": [
      "['pizza', 'falafel', 'carrot cake']\n",
      "['pizza', 'falafel', 'carrot cake']\n",
      "After change in my_food:  ['pizza', 'falafel', 'carrot cake']\n",
      "After change in friends_food:  ['strawberrries', 'falafel', 'carrot cake']\n"
     ]
    }
   ],
   "source": [
    "my_foods: list[str] = ['pizza','falafel','carrot cake']\n",
    "friends_food : list[str] = my_foods[:]\n",
    "\n",
    "print(my_foods)\n",
    "print(friends_food)\n",
    "\n",
    "friends_food[0] = \"strawberrries\"\n",
    "print(\"After change in my_food: \",my_foods)\n",
    "print(\"After change in friends_food: \",friends_food)"
   ]
  },
  {
   "cell_type": "markdown",
   "id": "8d837a4d",
   "metadata": {},
   "source": [
    "# Tuples\n",
    "\n",
    "* Tuples are immutable - means we can't edit/update them\n",
    "* We can identify tuple with () - it starts with \"(\" and end with \")\" \n"
   ]
  },
  {
   "cell_type": "code",
   "execution_count": 89,
   "id": "d2cb695e",
   "metadata": {},
   "outputs": [
    {
     "name": "stdout",
     "output_type": "stream",
     "text": [
      "A\n",
      "B\n",
      "('A', 'B')\n",
      "['Pakistan', 'B', 'C']\n"
     ]
    }
   ],
   "source": [
    "names : tuple[str] = (\"A\",\"B\",\"C\")\n",
    "print(names[0])\n",
    "print(names[1])\n",
    "# we can also do slicing\n",
    "print(names[0:2])\n",
    "\n",
    "# as we know we cannot update the tuple so the below line will give an error\n",
    "# names[0] = \"Pakistan\"\n",
    "\n",
    "# So for reassignment - we will do\n",
    "names: list[str] = [\"Pakistan\",\"B\",\"C\"]\n",
    "print(names)"
   ]
  },
  {
   "cell_type": "code",
   "execution_count": 95,
   "id": "c20a7485",
   "metadata": {},
   "outputs": [
    {
     "name": "stdout",
     "output_type": "stream",
     "text": [
      "('A', [1, 2, 3], True)\n",
      "[1, 2, 3]\n",
      "('A', [1, 2, 3, 20], True)\n"
     ]
    }
   ],
   "source": [
    "# we can assign any datatype to tuple\n",
    "from typing import Any\n",
    "data : list[Any] = (\"A\",[1,2,3], True)\n",
    "print(data)\n",
    "\n",
    "#we can update list here \n",
    "print(data[1])\n",
    "data[1].append(20)\n",
    "print(data) # so here tuple doesnot update here list (which is an object) is updated - so we apply changes to that object not to tuple"
   ]
  },
  {
   "cell_type": "code",
   "execution_count": null,
   "id": "aa0deb7e",
   "metadata": {},
   "outputs": [],
   "source": []
  }
 ],
 "metadata": {
  "kernelspec": {
   "display_name": "Python 3 (ipykernel)",
   "language": "python",
   "name": "python3"
  },
  "language_info": {
   "codemirror_mode": {
    "name": "ipython",
    "version": 3
   },
   "file_extension": ".py",
   "mimetype": "text/x-python",
   "name": "python",
   "nbconvert_exporter": "python",
   "pygments_lexer": "ipython3",
   "version": "3.11.4"
  }
 },
 "nbformat": 4,
 "nbformat_minor": 5
}

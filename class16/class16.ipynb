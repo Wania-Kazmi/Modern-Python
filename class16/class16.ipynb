{
 "cells": [
  {
   "cell_type": "markdown",
   "metadata": {},
   "source": [
    "# Numpy \n",
    "- Numpy means numerical python\n",
    "- Numpy is fast then simple python\n",
    "- Manipulation perform on raw data\n",
    "- Numpy was not made on static typing so for that we will use np package"
   ]
  },
  {
   "cell_type": "code",
   "execution_count": 1,
   "metadata": {},
   "outputs": [
    {
     "name": "stdout",
     "output_type": "stream",
     "text": [
      "Collecting nptypingNote: you may need to restart the kernel to use updated packages.\n",
      "\n",
      "  Downloading nptyping-2.5.0-py3-none-any.whl (37 kB)\n",
      "Collecting beartype\n",
      "  Obtaining dependency information for beartype from https://files.pythonhosted.org/packages/46/8a/a90fe78c73958340ed6b6ab128a10598ad5f0ff57537ad17f6ccd1ad830b/beartype-0.16.4-py3-none-any.whl.metadata\n",
      "  Downloading beartype-0.16.4-py3-none-any.whl.metadata (29 kB)\n",
      "Requirement already satisfied: numpy<2.0.0,>=1.20.0 in c:\\users\\wania\\appdata\\local\\programs\\python\\python312\\lib\\site-packages (from nptyping) (1.26.1)\n",
      "Downloading beartype-0.16.4-py3-none-any.whl (819 kB)\n",
      "   ---------------------------------------- 0.0/819.1 kB ? eta -:--:--\n",
      "   ---------------------------------------- 0.0/819.1 kB ? eta -:--:--\n",
      "   ---------------------------------------- 0.0/819.1 kB ? eta -:--:--\n",
      "   ---------------------------------------- 0.0/819.1 kB ? eta -:--:--\n",
      "    --------------------------------------- 10.2/819.1 kB ? eta -:--:--\n",
      "    --------------------------------------- 10.2/819.1 kB ? eta -:--:--\n",
      "    --------------------------------------- 10.2/819.1 kB ? eta -:--:--\n",
      "    --------------------------------------- 10.2/819.1 kB ? eta -:--:--\n",
      "   - ------------------------------------- 30.7/819.1 kB 119.1 kB/s eta 0:00:07\n",
      "   - ------------------------------------- 30.7/819.1 kB 119.1 kB/s eta 0:00:07\n",
      "   - ------------------------------------- 30.7/819.1 kB 119.1 kB/s eta 0:00:07\n",
      "   - ------------------------------------- 41.0/819.1 kB 109.3 kB/s eta 0:00:08\n",
      "   - ------------------------------------- 41.0/819.1 kB 109.3 kB/s eta 0:00:08\n",
      "   -- ------------------------------------ 61.4/819.1 kB 136.5 kB/s eta 0:00:06\n",
      "   -- ------------------------------------ 61.4/819.1 kB 136.5 kB/s eta 0:00:06\n",
      "   -- ------------------------------------ 61.4/819.1 kB 136.5 kB/s eta 0:00:06\n",
      "   --- ----------------------------------- 71.7/819.1 kB 122.9 kB/s eta 0:00:07\n",
      "   ---- ---------------------------------- 92.2/819.1 kB 145.8 kB/s eta 0:00:05\n",
      "   ---- ---------------------------------- 92.2/819.1 kB 145.8 kB/s eta 0:00:05\n",
      "   ---- ---------------------------------- 92.2/819.1 kB 145.8 kB/s eta 0:00:05\n",
      "   ---- --------------------------------- 102.4/819.1 kB 137.1 kB/s eta 0:00:06\n",
      "   ---- --------------------------------- 102.4/819.1 kB 137.1 kB/s eta 0:00:06\n",
      "   ----- -------------------------------- 122.9/819.1 kB 147.2 kB/s eta 0:00:05\n",
      "   ------ ------------------------------- 133.1/819.1 kB 145.8 kB/s eta 0:00:05\n",
      "   ------ ------------------------------- 143.4/819.1 kB 157.9 kB/s eta 0:00:05\n",
      "   ------ ------------------------------- 143.4/819.1 kB 157.9 kB/s eta 0:00:05\n",
      "   ------- ------------------------------ 153.6/819.1 kB 150.4 kB/s eta 0:00:05\n",
      "   ------- ------------------------------ 153.6/819.1 kB 150.4 kB/s eta 0:00:05\n",
      "   ------- ------------------------------ 153.6/819.1 kB 150.4 kB/s eta 0:00:05\n",
      "   -------- ----------------------------- 174.1/819.1 kB 154.3 kB/s eta 0:00:05\n",
      "   -------- ----------------------------- 174.1/819.1 kB 154.3 kB/s eta 0:00:05\n",
      "   -------- ----------------------------- 184.3/819.1 kB 146.7 kB/s eta 0:00:05\n",
      "   -------- ----------------------------- 184.3/819.1 kB 146.7 kB/s eta 0:00:05\n",
      "   --------- ---------------------------- 204.8/819.1 kB 153.8 kB/s eta 0:00:04\n",
      "   --------- ---------------------------- 204.8/819.1 kB 153.8 kB/s eta 0:00:04\n",
      "   --------- ---------------------------- 204.8/819.1 kB 153.8 kB/s eta 0:00:04\n",
      "   ---------- --------------------------- 225.3/819.1 kB 154.7 kB/s eta 0:00:04\n",
      "   ---------- --------------------------- 225.3/819.1 kB 154.7 kB/s eta 0:00:04\n",
      "   ---------- --------------------------- 235.5/819.1 kB 151.8 kB/s eta 0:00:04\n",
      "   ---------- --------------------------- 235.5/819.1 kB 151.8 kB/s eta 0:00:04\n",
      "   ---------- --------------------------- 235.5/819.1 kB 151.8 kB/s eta 0:00:04\n",
      "   ----------- -------------------------- 256.0/819.1 kB 152.7 kB/s eta 0:00:04\n",
      "   ----------- -------------------------- 256.0/819.1 kB 152.7 kB/s eta 0:00:04\n",
      "   ----------- -------------------------- 256.0/819.1 kB 152.7 kB/s eta 0:00:04\n",
      "   ----------- -------------------------- 256.0/819.1 kB 152.7 kB/s eta 0:00:04\n",
      "   ------------ ------------------------- 266.2/819.1 kB 142.5 kB/s eta 0:00:04\n",
      "   ------------ ------------------------- 266.2/819.1 kB 142.5 kB/s eta 0:00:04\n",
      "   ------------- ------------------------ 286.7/819.1 kB 146.3 kB/s eta 0:00:04\n",
      "   ------------- ------------------------ 286.7/819.1 kB 146.3 kB/s eta 0:00:04\n",
      "   ------------- ------------------------ 286.7/819.1 kB 146.3 kB/s eta 0:00:04\n",
      "   ------------- ------------------------ 286.7/819.1 kB 146.3 kB/s eta 0:00:04\n",
      "   -------------- ----------------------- 307.2/819.1 kB 145.1 kB/s eta 0:00:04\n",
      "   -------------- ----------------------- 307.2/819.1 kB 145.1 kB/s eta 0:00:04\n",
      "   -------------- ----------------------- 307.2/819.1 kB 145.1 kB/s eta 0:00:04\n",
      "   -------------- ----------------------- 307.2/819.1 kB 145.1 kB/s eta 0:00:04\n",
      "   -------------- ----------------------- 307.2/819.1 kB 145.1 kB/s eta 0:00:04\n",
      "   -------------- ----------------------- 307.2/819.1 kB 145.1 kB/s eta 0:00:04\n",
      "   -------------- ----------------------- 307.2/819.1 kB 145.1 kB/s eta 0:00:04\n",
      "   -------------- ----------------------- 317.4/819.1 kB 132.0 kB/s eta 0:00:04\n",
      "   -------------- ----------------------- 317.4/819.1 kB 132.0 kB/s eta 0:00:04\n",
      "   -------------- ----------------------- 317.4/819.1 kB 132.0 kB/s eta 0:00:04\n",
      "   -------------- ----------------------- 317.4/819.1 kB 132.0 kB/s eta 0:00:04\n",
      "   --------------- ---------------------- 337.9/819.1 kB 131.1 kB/s eta 0:00:04\n",
      "   --------------- ---------------------- 337.9/819.1 kB 131.1 kB/s eta 0:00:04\n",
      "   --------------- ---------------------- 337.9/819.1 kB 131.1 kB/s eta 0:00:04\n",
      "   --------------- ---------------------- 337.9/819.1 kB 131.1 kB/s eta 0:00:04\n",
      "   --------------- ---------------------- 337.9/819.1 kB 131.1 kB/s eta 0:00:04\n",
      "   --------------- ---------------------- 337.9/819.1 kB 131.1 kB/s eta 0:00:04\n",
      "   ---------------- --------------------- 348.2/819.1 kB 123.6 kB/s eta 0:00:04\n",
      "   ---------------- --------------------- 348.2/819.1 kB 123.6 kB/s eta 0:00:04\n",
      "   ---------------- --------------------- 348.2/819.1 kB 123.6 kB/s eta 0:00:04\n",
      "   ---------------- --------------------- 348.2/819.1 kB 123.6 kB/s eta 0:00:04\n",
      "   ---------------- --------------------- 348.2/819.1 kB 123.6 kB/s eta 0:00:04\n",
      "   ---------------- --------------------- 348.2/819.1 kB 123.6 kB/s eta 0:00:04\n",
      "   ---------------- --------------------- 348.2/819.1 kB 123.6 kB/s eta 0:00:04\n",
      "   ---------------- --------------------- 348.2/819.1 kB 123.6 kB/s eta 0:00:04\n",
      "   ----------------- -------------------- 368.6/819.1 kB 116.4 kB/s eta 0:00:04\n",
      "   ----------------- -------------------- 368.6/819.1 kB 116.4 kB/s eta 0:00:04\n",
      "   ----------------- -------------------- 368.6/819.1 kB 116.4 kB/s eta 0:00:04\n",
      "   ----------------- -------------------- 368.6/819.1 kB 116.4 kB/s eta 0:00:04\n",
      "   ----------------- -------------------- 368.6/819.1 kB 116.4 kB/s eta 0:00:04\n",
      "   ----------------- -------------------- 368.6/819.1 kB 116.4 kB/s eta 0:00:04\n",
      "   ----------------- -------------------- 368.6/819.1 kB 116.4 kB/s eta 0:00:04\n",
      "   ----------------- -------------------- 368.6/819.1 kB 116.4 kB/s eta 0:00:04\n",
      "   ----------------- -------------------- 368.6/819.1 kB 116.4 kB/s eta 0:00:04\n",
      "   ----------------- -------------------- 368.6/819.1 kB 116.4 kB/s eta 0:00:04\n",
      "   ----------------- -------------------- 368.6/819.1 kB 116.4 kB/s eta 0:00:04\n",
      "   ----------------- -------------------- 368.6/819.1 kB 116.4 kB/s eta 0:00:04\n",
      "   ----------------- -------------------- 368.6/819.1 kB 116.4 kB/s eta 0:00:04\n",
      "   ----------------- -------------------- 368.6/819.1 kB 116.4 kB/s eta 0:00:04\n",
      "   ------------------ ------------------- 389.1/819.1 kB 102.3 kB/s eta 0:00:05\n",
      "   ------------------ ------------------- 389.1/819.1 kB 102.3 kB/s eta 0:00:05\n",
      "   ------------------ ------------------- 389.1/819.1 kB 102.3 kB/s eta 0:00:05\n",
      "   ------------------ ------------------- 389.1/819.1 kB 102.3 kB/s eta 0:00:05\n",
      "   ------------------ ------------------- 389.1/819.1 kB 102.3 kB/s eta 0:00:05\n",
      "   ------------------ ------------------- 389.1/819.1 kB 102.3 kB/s eta 0:00:05\n",
      "   ------------------ ------------------- 389.1/819.1 kB 102.3 kB/s eta 0:00:05\n",
      "   ------------------ ------------------- 389.1/819.1 kB 102.3 kB/s eta 0:00:05\n",
      "   ------------------ ------------------- 389.1/819.1 kB 102.3 kB/s eta 0:00:05\n",
      "   ------------------ ------------------- 389.1/819.1 kB 102.3 kB/s eta 0:00:05\n",
      "   ------------------- ------------------- 399.4/819.1 kB 95.1 kB/s eta 0:00:05\n",
      "   ------------------- ------------------- 399.4/819.1 kB 95.1 kB/s eta 0:00:05\n",
      "   ------------------- ------------------- 399.4/819.1 kB 95.1 kB/s eta 0:00:05\n",
      "   ------------------- ------------------- 399.4/819.1 kB 95.1 kB/s eta 0:00:05\n",
      "   ------------------- ------------------- 399.4/819.1 kB 95.1 kB/s eta 0:00:05\n",
      "   ------------------- ------------------- 419.8/819.1 kB 95.0 kB/s eta 0:00:05\n",
      "   ------------------- ------------------- 419.8/819.1 kB 95.0 kB/s eta 0:00:05\n",
      "   ------------------- ------------------- 419.8/819.1 kB 95.0 kB/s eta 0:00:05\n",
      "   ------------------- ------------------- 419.8/819.1 kB 95.0 kB/s eta 0:00:05\n",
      "   -------------------- ------------------ 430.1/819.1 kB 93.6 kB/s eta 0:00:05\n",
      "   -------------------- ------------------ 430.1/819.1 kB 93.6 kB/s eta 0:00:05\n",
      "   -------------------- ------------------ 430.1/819.1 kB 93.6 kB/s eta 0:00:05\n",
      "   --------------------- ----------------- 450.6/819.1 kB 95.2 kB/s eta 0:00:04\n",
      "   --------------------- ----------------- 450.6/819.1 kB 95.2 kB/s eta 0:00:04\n",
      "   --------------------- ----------------- 450.6/819.1 kB 95.2 kB/s eta 0:00:04\n",
      "   ---------------------- ---------------- 471.0/819.1 kB 96.7 kB/s eta 0:00:04\n",
      "   ---------------------- ---------------- 471.0/819.1 kB 96.7 kB/s eta 0:00:04\n",
      "   ---------------------- ---------------- 471.0/819.1 kB 96.7 kB/s eta 0:00:04\n",
      "   ---------------------- ---------------- 481.3/819.1 kB 96.3 kB/s eta 0:00:04\n",
      "   ---------------------- ---------------- 481.3/819.1 kB 96.3 kB/s eta 0:00:04\n",
      "   ----------------------- --------------- 501.8/819.1 kB 98.6 kB/s eta 0:00:04\n",
      "   ----------------------- --------------- 501.8/819.1 kB 98.6 kB/s eta 0:00:04\n",
      "   ----------------------- --------------- 501.8/819.1 kB 98.6 kB/s eta 0:00:04\n",
      "   ------------------------ -------------- 512.0/819.1 kB 98.8 kB/s eta 0:00:04\n",
      "   ------------------------ -------------- 512.0/819.1 kB 98.8 kB/s eta 0:00:04\n",
      "   ------------------------ ------------- 532.5/819.1 kB 101.3 kB/s eta 0:00:03\n",
      "   ------------------------- ------------ 553.0/819.1 kB 104.0 kB/s eta 0:00:03\n",
      "   ------------------------- ------------ 553.0/819.1 kB 104.0 kB/s eta 0:00:03\n",
      "   -------------------------- ----------- 563.2/819.1 kB 104.1 kB/s eta 0:00:03\n",
      "   -------------------------- ----------- 563.2/819.1 kB 104.1 kB/s eta 0:00:03\n",
      "   --------------------------- ---------- 583.7/819.1 kB 106.4 kB/s eta 0:00:03\n",
      "   --------------------------- ---------- 583.7/819.1 kB 106.4 kB/s eta 0:00:03\n",
      "   --------------------------- ---------- 593.9/819.1 kB 107.0 kB/s eta 0:00:03\n",
      "   --------------------------- ---------- 593.9/819.1 kB 107.0 kB/s eta 0:00:03\n",
      "   ---------------------------- --------- 614.4/819.1 kB 108.9 kB/s eta 0:00:02\n",
      "   ----------------------------- -------- 634.9/819.1 kB 111.4 kB/s eta 0:00:02\n",
      "   ----------------------------- -------- 645.1/819.1 kB 112.2 kB/s eta 0:00:02\n",
      "   ------------------------------ ------- 665.6/819.1 kB 114.6 kB/s eta 0:00:02\n",
      "   ------------------------------- ------ 675.8/819.1 kB 115.1 kB/s eta 0:00:02\n",
      "   ------------------------------- ------ 675.8/819.1 kB 115.1 kB/s eta 0:00:02\n",
      "   -------------------------------- ----- 696.3/819.1 kB 117.1 kB/s eta 0:00:02\n",
      "   --------------------------------- ---- 716.8/819.1 kB 119.6 kB/s eta 0:00:01\n",
      "   --------------------------------- ---- 727.0/819.1 kB 120.4 kB/s eta 0:00:01\n",
      "   --------------------------------- ---- 727.0/819.1 kB 120.4 kB/s eta 0:00:01\n",
      "   ---------------------------------- --- 747.5/819.1 kB 122.9 kB/s eta 0:00:01\n",
      "   ----------------------------------- -- 757.8/819.1 kB 123.6 kB/s eta 0:00:01\n",
      "   ------------------------------------ - 778.2/819.1 kB 126.0 kB/s eta 0:00:01\n",
      "   ------------------------------------ - 778.2/819.1 kB 126.0 kB/s eta 0:00:01\n",
      "   -------------------------------------  798.7/819.1 kB 128.1 kB/s eta 0:00:01\n",
      "   -------------------------------------- 819.1/819.1 kB 130.1 kB/s eta 0:00:00\n",
      "Installing collected packages: nptyping, beartype\n",
      "Successfully installed beartype-0.16.4 nptyping-2.5.0\n"
     ]
    },
    {
     "name": "stderr",
     "output_type": "stream",
     "text": [
      "\n",
      "[notice] A new release of pip is available: 23.2.1 -> 23.3.1\n",
      "[notice] To update, run: python.exe -m pip install --upgrade pip\n"
     ]
    }
   ],
   "source": [
    "%pip install nptyping beartype"
   ]
  },
  {
   "cell_type": "markdown",
   "metadata": {},
   "source": [
    "# Scaler value\n"
   ]
  },
  {
   "cell_type": "code",
   "execution_count": 7,
   "metadata": {},
   "outputs": [
    {
     "data": {
      "text/plain": [
       "array(1000)"
      ]
     },
     "metadata": {},
     "output_type": "display_data"
    }
   ],
   "source": [
    "import numpy as np\n",
    "\n",
    "a : np.ndarray = np.array(1000) # object to store\n",
    "\n",
    "display(a) # prints"
   ]
  },
  {
   "cell_type": "code",
   "execution_count": 8,
   "metadata": {},
   "outputs": [
    {
     "data": {
      "text/plain": [
       "()"
      ]
     },
     "metadata": {},
     "output_type": "display_data"
    }
   ],
   "source": [
    "display(a.shape) # prints the shape of the object () = 0 -Dimensional"
   ]
  },
  {
   "cell_type": "code",
   "execution_count": 9,
   "metadata": {},
   "outputs": [
    {
     "data": {
      "text/plain": [
       "dtype('int32')"
      ]
     },
     "metadata": {},
     "output_type": "display_data"
    }
   ],
   "source": [
    "display(a.dtype) # prints the dtype of the object"
   ]
  },
  {
   "cell_type": "code",
   "execution_count": 10,
   "metadata": {},
   "outputs": [
    {
     "data": {
      "text/plain": [
       "numpy.ndarray"
      ]
     },
     "metadata": {},
     "output_type": "display_data"
    }
   ],
   "source": [
    "display(type(a)) "
   ]
  },
  {
   "cell_type": "code",
   "execution_count": 11,
   "metadata": {},
   "outputs": [
    {
     "data": {
      "text/plain": [
       "0"
      ]
     },
     "metadata": {},
     "output_type": "display_data"
    }
   ],
   "source": [
    "display(a.ndim) # prints the number of dimensions"
   ]
  },
  {
   "cell_type": "code",
   "execution_count": 12,
   "metadata": {},
   "outputs": [
    {
     "data": {
      "text/plain": [
       "1"
      ]
     },
     "metadata": {},
     "output_type": "display_data"
    }
   ],
   "source": [
    "display(a.size) # prints the size of the object"
   ]
  },
  {
   "cell_type": "code",
   "execution_count": 13,
   "metadata": {},
   "outputs": [
    {
     "data": {
      "text/plain": [
       "4"
      ]
     },
     "metadata": {},
     "output_type": "display_data"
    }
   ],
   "source": [
    "display(a.itemsize) # prints the itemsize of the object"
   ]
  },
  {
   "cell_type": "markdown",
   "metadata": {},
   "source": [
    "# Vector Type\n",
    "We can only store upto 5D dimension \n"
   ]
  },
  {
   "cell_type": "code",
   "execution_count": 14,
   "metadata": {},
   "outputs": [
    {
     "data": {
      "text/plain": [
       "'object [1 2 3 4]'"
      ]
     },
     "metadata": {},
     "output_type": "display_data"
    },
    {
     "data": {
      "text/plain": [
       "'object shape (4,)'"
      ]
     },
     "metadata": {},
     "output_type": "display_data"
    },
    {
     "data": {
      "text/plain": [
       "'object dtype int32'"
      ]
     },
     "metadata": {},
     "output_type": "display_data"
    },
    {
     "data": {
      "text/plain": [
       "\"type of a <class 'numpy.ndarray'>\""
      ]
     },
     "metadata": {},
     "output_type": "display_data"
    },
    {
     "data": {
      "text/plain": [
       "'object dimension 1'"
      ]
     },
     "metadata": {},
     "output_type": "display_data"
    },
    {
     "data": {
      "text/plain": [
       "'object size 4'"
      ]
     },
     "metadata": {},
     "output_type": "display_data"
    },
    {
     "data": {
      "text/plain": [
       "'object item size 4'"
      ]
     },
     "metadata": {},
     "output_type": "display_data"
    }
   ],
   "source": [
    "import numpy as np\n",
    "\n",
    "a : np.ndarray = np.array([1,2,3,4]) # we pass list here, object to store [1,2,3,4] = vector type\n",
    "\n",
    "display(f\"object {a}\") # prints\n",
    "display(f\"object shape {a.shape}\") # prints the shape of the object () = 0 Dimension\n",
    "display(f\"object dtype {a.dtype}\") # prints the dtype of the object\n",
    "display(f\"object type with global function {type(a)}\") \n",
    "display(f\"object dimension {a.ndim}\") # prints the number of dimensions\n",
    "display(f\"object size {a.size}\") # prints the size of the object\n",
    "display(f\"object item size (size of memory) {a.itemsize}\") # prints the itemsize of the object"
   ]
  },
  {
   "cell_type": "markdown",
   "metadata": {},
   "source": [
    "### For help about any function"
   ]
  },
  {
   "cell_type": "code",
   "execution_count": 16,
   "metadata": {},
   "outputs": [
    {
     "name": "stdout",
     "output_type": "stream",
     "text": [
      "Help on int object:\n",
      "\n",
      "class int(object)\n",
      " |  int([x]) -> integer\n",
      " |  int(x, base=10) -> integer\n",
      " |\n",
      " |  Convert a number or string to an integer, or return 0 if no arguments\n",
      " |  are given.  If x is a number, return x.__int__().  For floating point\n",
      " |  numbers, this truncates towards zero.\n",
      " |\n",
      " |  If x is not a number or if base is given, then x must be a string,\n",
      " |  bytes, or bytearray instance representing an integer literal in the\n",
      " |  given base.  The literal can be preceded by '+' or '-' and be surrounded\n",
      " |  by whitespace.  The base defaults to 10.  Valid bases are 0 and 2-36.\n",
      " |  Base 0 means to interpret the base from the string as an integer literal.\n",
      " |  >>> int('0b100', base=0)\n",
      " |  4\n",
      " |\n",
      " |  Built-in subclasses:\n",
      " |      bool\n",
      " |\n",
      " |  Methods defined here:\n",
      " |\n",
      " |  __abs__(self, /)\n",
      " |      abs(self)\n",
      " |\n",
      " |  __add__(self, value, /)\n",
      " |      Return self+value.\n",
      " |\n",
      " |  __and__(self, value, /)\n",
      " |      Return self&value.\n",
      " |\n",
      " |  __bool__(self, /)\n",
      " |      True if self else False\n",
      " |\n",
      " |  __ceil__(...)\n",
      " |      Ceiling of an Integral returns itself.\n",
      " |\n",
      " |  __divmod__(self, value, /)\n",
      " |      Return divmod(self, value).\n",
      " |\n",
      " |  __eq__(self, value, /)\n",
      " |      Return self==value.\n",
      " |\n",
      " |  __float__(self, /)\n",
      " |      float(self)\n",
      " |\n",
      " |  __floor__(...)\n",
      " |      Flooring an Integral returns itself.\n",
      " |\n",
      " |  __floordiv__(self, value, /)\n",
      " |      Return self//value.\n",
      " |\n",
      " |  __format__(self, format_spec, /)\n",
      " |      Convert to a string according to format_spec.\n",
      " |\n",
      " |  __ge__(self, value, /)\n",
      " |      Return self>=value.\n",
      " |\n",
      " |  __getattribute__(self, name, /)\n",
      " |      Return getattr(self, name).\n",
      " |\n",
      " |  __getnewargs__(self, /)\n",
      " |\n",
      " |  __gt__(self, value, /)\n",
      " |      Return self>value.\n",
      " |\n",
      " |  __hash__(self, /)\n",
      " |      Return hash(self).\n",
      " |\n",
      " |  __index__(self, /)\n",
      " |      Return self converted to an integer, if self is suitable for use as an index into a list.\n",
      " |\n",
      " |  __int__(self, /)\n",
      " |      int(self)\n",
      " |\n",
      " |  __invert__(self, /)\n",
      " |      ~self\n",
      " |\n",
      " |  __le__(self, value, /)\n",
      " |      Return self<=value.\n",
      " |\n",
      " |  __lshift__(self, value, /)\n",
      " |      Return self<<value.\n",
      " |\n",
      " |  __lt__(self, value, /)\n",
      " |      Return self<value.\n",
      " |\n",
      " |  __mod__(self, value, /)\n",
      " |      Return self%value.\n",
      " |\n",
      " |  __mul__(self, value, /)\n",
      " |      Return self*value.\n",
      " |\n",
      " |  __ne__(self, value, /)\n",
      " |      Return self!=value.\n",
      " |\n",
      " |  __neg__(self, /)\n",
      " |      -self\n",
      " |\n",
      " |  __or__(self, value, /)\n",
      " |      Return self|value.\n",
      " |\n",
      " |  __pos__(self, /)\n",
      " |      +self\n",
      " |\n",
      " |  __pow__(self, value, mod=None, /)\n",
      " |      Return pow(self, value, mod).\n",
      " |\n",
      " |  __radd__(self, value, /)\n",
      " |      Return value+self.\n",
      " |\n",
      " |  __rand__(self, value, /)\n",
      " |      Return value&self.\n",
      " |\n",
      " |  __rdivmod__(self, value, /)\n",
      " |      Return divmod(value, self).\n",
      " |\n",
      " |  __repr__(self, /)\n",
      " |      Return repr(self).\n",
      " |\n",
      " |  __rfloordiv__(self, value, /)\n",
      " |      Return value//self.\n",
      " |\n",
      " |  __rlshift__(self, value, /)\n",
      " |      Return value<<self.\n",
      " |\n",
      " |  __rmod__(self, value, /)\n",
      " |      Return value%self.\n",
      " |\n",
      " |  __rmul__(self, value, /)\n",
      " |      Return value*self.\n",
      " |\n",
      " |  __ror__(self, value, /)\n",
      " |      Return value|self.\n",
      " |\n",
      " |  __round__(...)\n",
      " |      Rounding an Integral returns itself.\n",
      " |\n",
      " |      Rounding with an ndigits argument also returns an integer.\n",
      " |\n",
      " |  __rpow__(self, value, mod=None, /)\n",
      " |      Return pow(value, self, mod).\n",
      " |\n",
      " |  __rrshift__(self, value, /)\n",
      " |      Return value>>self.\n",
      " |\n",
      " |  __rshift__(self, value, /)\n",
      " |      Return self>>value.\n",
      " |\n",
      " |  __rsub__(self, value, /)\n",
      " |      Return value-self.\n",
      " |\n",
      " |  __rtruediv__(self, value, /)\n",
      " |      Return value/self.\n",
      " |\n",
      " |  __rxor__(self, value, /)\n",
      " |      Return value^self.\n",
      " |\n",
      " |  __sizeof__(self, /)\n",
      " |      Returns size in memory, in bytes.\n",
      " |\n",
      " |  __sub__(self, value, /)\n",
      " |      Return self-value.\n",
      " |\n",
      " |  __truediv__(self, value, /)\n",
      " |      Return self/value.\n",
      " |\n",
      " |  __trunc__(...)\n",
      " |      Truncating an Integral returns itself.\n",
      " |\n",
      " |  __xor__(self, value, /)\n",
      " |      Return self^value.\n",
      " |\n",
      " |  as_integer_ratio(self, /)\n",
      " |      Return a pair of integers, whose ratio is equal to the original int.\n",
      " |\n",
      " |      The ratio is in lowest terms and has a positive denominator.\n",
      " |\n",
      " |      >>> (10).as_integer_ratio()\n",
      " |      (10, 1)\n",
      " |      >>> (-10).as_integer_ratio()\n",
      " |      (-10, 1)\n",
      " |      >>> (0).as_integer_ratio()\n",
      " |      (0, 1)\n",
      " |\n",
      " |  bit_count(self, /)\n",
      " |      Number of ones in the binary representation of the absolute value of self.\n",
      " |\n",
      " |      Also known as the population count.\n",
      " |\n",
      " |      >>> bin(13)\n",
      " |      '0b1101'\n",
      " |      >>> (13).bit_count()\n",
      " |      3\n",
      " |\n",
      " |  bit_length(self, /)\n",
      " |      Number of bits necessary to represent self in binary.\n",
      " |\n",
      " |      >>> bin(37)\n",
      " |      '0b100101'\n",
      " |      >>> (37).bit_length()\n",
      " |      6\n",
      " |\n",
      " |  conjugate(...)\n",
      " |      Returns self, the complex conjugate of any int.\n",
      " |\n",
      " |  is_integer(self, /)\n",
      " |      Returns True. Exists for duck type compatibility with float.is_integer.\n",
      " |\n",
      " |  to_bytes(self, /, length=1, byteorder='big', *, signed=False)\n",
      " |      Return an array of bytes representing an integer.\n",
      " |\n",
      " |      length\n",
      " |        Length of bytes object to use.  An OverflowError is raised if the\n",
      " |        integer is not representable with the given number of bytes.  Default\n",
      " |        is length 1.\n",
      " |      byteorder\n",
      " |        The byte order used to represent the integer.  If byteorder is 'big',\n",
      " |        the most significant byte is at the beginning of the byte array.  If\n",
      " |        byteorder is 'little', the most significant byte is at the end of the\n",
      " |        byte array.  To request the native byte order of the host system, use\n",
      " |        `sys.byteorder' as the byte order value.  Default is to use 'big'.\n",
      " |      signed\n",
      " |        Determines whether two's complement is used to represent the integer.\n",
      " |        If signed is False and a negative integer is given, an OverflowError\n",
      " |        is raised.\n",
      " |\n",
      " |  ----------------------------------------------------------------------\n",
      " |  Class methods defined here:\n",
      " |\n",
      " |  from_bytes(bytes, byteorder='big', *, signed=False) from builtins.type\n",
      " |      Return the integer represented by the given array of bytes.\n",
      " |\n",
      " |      bytes\n",
      " |        Holds the array of bytes to convert.  The argument must either\n",
      " |        support the buffer protocol or be an iterable object producing bytes.\n",
      " |        Bytes and bytearray are examples of built-in objects that support the\n",
      " |        buffer protocol.\n",
      " |      byteorder\n",
      " |        The byte order used to represent the integer.  If byteorder is 'big',\n",
      " |        the most significant byte is at the beginning of the byte array.  If\n",
      " |        byteorder is 'little', the most significant byte is at the end of the\n",
      " |        byte array.  To request the native byte order of the host system, use\n",
      " |        `sys.byteorder' as the byte order value.  Default is to use 'big'.\n",
      " |      signed\n",
      " |        Indicates whether two's complement is used to represent the integer.\n",
      " |\n",
      " |  ----------------------------------------------------------------------\n",
      " |  Static methods defined here:\n",
      " |\n",
      " |  __new__(*args, **kwargs) from builtins.type\n",
      " |      Create and return a new object.  See help(type) for accurate signature.\n",
      " |\n",
      " |  ----------------------------------------------------------------------\n",
      " |  Data descriptors defined here:\n",
      " |\n",
      " |  denominator\n",
      " |      the denominator of a rational number in lowest terms\n",
      " |\n",
      " |  imag\n",
      " |      the imaginary part of a complex number\n",
      " |\n",
      " |  numerator\n",
      " |      the numerator of a rational number in lowest terms\n",
      " |\n",
      " |  real\n",
      " |      the real part of a complex number\n",
      "\n"
     ]
    }
   ],
   "source": [
    "help(a.itemsize)"
   ]
  },
  {
   "cell_type": "markdown",
   "metadata": {},
   "source": [
    "# Matrix\n"
   ]
  },
  {
   "cell_type": "code",
   "execution_count": 20,
   "metadata": {},
   "outputs": [
    {
     "data": {
      "text/plain": [
       "'object [[ 0  1  2  3]\\n [ 4  5  6  7]\\n [ 8  9 10 11]\\n [12 13 14 15]]'"
      ]
     },
     "metadata": {},
     "output_type": "display_data"
    },
    {
     "data": {
      "text/plain": [
       "'object shape (4, 4)'"
      ]
     },
     "metadata": {},
     "output_type": "display_data"
    },
    {
     "data": {
      "text/plain": [
       "'object dtype int32'"
      ]
     },
     "metadata": {},
     "output_type": "display_data"
    },
    {
     "data": {
      "text/plain": [
       "\"object type with global function <class 'numpy.ndarray'>\""
      ]
     },
     "metadata": {},
     "output_type": "display_data"
    },
    {
     "data": {
      "text/plain": [
       "'object dimension 2'"
      ]
     },
     "metadata": {},
     "output_type": "display_data"
    },
    {
     "data": {
      "text/plain": [
       "'object size 16'"
      ]
     },
     "metadata": {},
     "output_type": "display_data"
    },
    {
     "data": {
      "text/plain": [
       "'object item size (size of memory) 4'"
      ]
     },
     "metadata": {},
     "output_type": "display_data"
    }
   ],
   "source": [
    "import numpy as np\n",
    "\n",
    "data = [[0,1,2,3],[4,5,6,7],    #this is 2D array\n",
    "        [8,9,10,11],[12,13,14,15]]\n",
    "\n",
    "a : np.ndarray = np.array(data) # object to store\n",
    "\n",
    "display(f\"object {a}\") # prints\n",
    "display(f\"object shape {a.shape}\") # prints the shape of the object () = 0 Dimension\n",
    "display(f\"object dtype {a.dtype}\") # prints the dtype of the object\n",
    "display(f\"object type with global function {type(a)}\") \n",
    "display(f\"object dimension {a.ndim}\") # prints the number of dimensions\n",
    "display(f\"object size {a.size}\") # prints the size of the object\n",
    "display(f\"object item size (size of memory) {a.itemsize}\")  # prints the itemsize of the object"
   ]
  },
  {
   "cell_type": "markdown",
   "metadata": {},
   "source": [
    "## So what to do when we have more than 5D dimensions?\n",
    "To handle it fastly we use numpy\n",
    "\n",
    "# Numpy with NDArray typing support\n",
    "Numpy new way to handle more dimensions"
   ]
  },
  {
   "cell_type": "code",
   "execution_count": 30,
   "metadata": {},
   "outputs": [
    {
     "data": {
      "text/plain": [
       "array([0, 1, 2, 3, 4, 5, 6, 7, 8, 9])"
      ]
     },
     "metadata": {},
     "output_type": "display_data"
    },
    {
     "data": {
      "text/plain": [
       "array([ 1,  2,  3,  4,  5,  6,  7,  8,  9, 10])"
      ]
     },
     "metadata": {},
     "output_type": "display_data"
    },
    {
     "data": {
      "text/plain": [
       "array([ 6,  7,  8,  9, 10, 11, 12, 13, 14, 15])"
      ]
     },
     "metadata": {},
     "output_type": "display_data"
    },
    {
     "data": {
      "text/plain": [
       "array([ 1,  2,  3,  4,  5,  6,  7,  8,  9, 10])"
      ]
     },
     "metadata": {},
     "output_type": "display_data"
    }
   ],
   "source": [
    "from nptyping import NDArray, Shape, UInt16\n",
    "\n",
    "data : NDArray[Shape[\"10\"], UInt16] = np.arange(10)\n",
    "data1 : NDArray[Shape[\"10\"], UInt16] = np.arange(1,11)\n",
    "\n",
    "display(data)\n",
    "display(data1)\n",
    "display(data1 + 5) #doesnot change an original array - numpy easy way and fast\n",
    "display(data1)\n",
    "\n"
   ]
  },
  {
   "cell_type": "code",
   "execution_count": 31,
   "metadata": {},
   "outputs": [
    {
     "data": {
      "text/plain": [
       "[6, 7, 8, 9, 10, 11, 12, 13, 14, 15]"
      ]
     },
     "execution_count": 31,
     "metadata": {},
     "output_type": "execute_result"
    }
   ],
   "source": [
    " # same plus operation using traditional way\n",
    "d1 : list[int] = [1,2,3,4,5,6,7,8,9,10]\n",
    "# print(d1 + 5) #Error\n",
    "[i+5 for i in d1] #traditional way - it is time consuming"
   ]
  },
  {
   "cell_type": "code",
   "execution_count": 33,
   "metadata": {},
   "outputs": [
    {
     "name": "stdout",
     "output_type": "stream",
     "text": [
      "CPU times: total: 15.6 ms\n",
      "Wall time: 9.06 ms\n"
     ]
    },
    {
     "data": {
      "text/plain": [
       "array([      6,       7,       8, ..., 2000002, 2000003, 2000004])"
      ]
     },
     "execution_count": 33,
     "metadata": {},
     "output_type": "execute_result"
    }
   ],
   "source": [
    "#with numpy\n",
    "%%time\n",
    "\n",
    "data2 : NDArray[Shape[\"10\"], UInt16] = np.arange(1,2000000)\n",
    "\n",
    "data2 + 5 #doesnot change an original array - numpy easy way and fast\n"
   ]
  },
  {
   "cell_type": "code",
   "execution_count": 44,
   "metadata": {},
   "outputs": [
    {
     "name": "stdout",
     "output_type": "stream",
     "text": [
      "Time taken to run the code is :  0.19343066215515137\n"
     ]
    }
   ],
   "source": [
    "# through traditional way\n",
    "%%time\n",
    "\n",
    "data3 : list[int] = list(range(1,1000000))\n",
    "[i + 5 for i in data3] #list comprehensive"
   ]
  },
  {
   "cell_type": "code",
   "execution_count": null,
   "metadata": {},
   "outputs": [],
   "source": [
    "# through traditional way\n",
    "import time\n",
    "# %%time\n",
    "\n",
    "start_time  = time.time()\n",
    "data3 : list[int] = list(range(1,1000000))\n",
    "[i + 5 for i in data3] #list comprehensive\n",
    "end_time = time.time()\n",
    "\n",
    "print(\"Time taken to run the code is : \", end_time - start_time)"
   ]
  },
  {
   "cell_type": "markdown",
   "metadata": {},
   "source": [
    "# Numpy advance operations vs list operations"
   ]
  },
  {
   "cell_type": "code",
   "execution_count": 46,
   "metadata": {},
   "outputs": [
    {
     "name": "stdout",
     "output_type": "stream",
     "text": [
      "[1, 2, 3, 4, 5, 6, 7, 8, 9, 10, 11, 12, 13, 14, 15, 16, 17, 18, 19, 20]\n",
      "[6, 7, 8, 9, 10, 11]\n"
     ]
    },
    {
     "ename": "TypeError",
     "evalue": "can only assign an iterable",
     "output_type": "error",
     "traceback": [
      "\u001b[1;31m---------------------------------------------------------------------------\u001b[0m",
      "\u001b[1;31mTypeError\u001b[0m                                 Traceback (most recent call last)",
      "\u001b[1;32md:\\solopreneur-journey\\Q4\\modern-python\\class16\\class16.ipynb Cell 24\u001b[0m line \u001b[0;36m6\n\u001b[0;32m      <a href='vscode-notebook-cell:/d%3A/solopreneur-journey/Q4/modern-python/class16/class16.ipynb#X42sZmlsZQ%3D%3D?line=2'>3</a>\u001b[0m \u001b[39mprint\u001b[39m(data[\u001b[39m5\u001b[39m:\u001b[39m11\u001b[39m])\n\u001b[0;32m      <a href='vscode-notebook-cell:/d%3A/solopreneur-journey/Q4/modern-python/class16/class16.ipynb#X42sZmlsZQ%3D%3D?line=4'>5</a>\u001b[0m \u001b[39m#now we want to update the list \u001b[39;00m\n\u001b[1;32m----> <a href='vscode-notebook-cell:/d%3A/solopreneur-journey/Q4/modern-python/class16/class16.ipynb#X42sZmlsZQ%3D%3D?line=5'>6</a>\u001b[0m data[\u001b[39m5\u001b[39;49m:\u001b[39m11\u001b[39;49m] \u001b[39m=\u001b[39m \u001b[39m1000\u001b[39m \u001b[39m#normal python list\u001b[39;00m\n\u001b[0;32m      <a href='vscode-notebook-cell:/d%3A/solopreneur-journey/Q4/modern-python/class16/class16.ipynb#X42sZmlsZQ%3D%3D?line=6'>7</a>\u001b[0m \u001b[39mprint\u001b[39m(data)\n",
      "\u001b[1;31mTypeError\u001b[0m: can only assign an iterable"
     ]
    }
   ],
   "source": [
    "data : list[int] = list(range(1,21))\n",
    "print(data)\n",
    "print(data[5:11])\n",
    "\n",
    "#now we want to update the list \n",
    "data[5:11] = 1000 #normal python list\n",
    "print(data)"
   ]
  },
  {
   "cell_type": "code",
   "execution_count": 8,
   "metadata": {},
   "outputs": [
    {
     "name": "stdout",
     "output_type": "stream",
     "text": [
      "[ 1  2  3  4  5  6  7  8  9 10 11 12 13 14 15 16 17 18 19 20]\n",
      "[ 6  7  8  9 10 11]\n",
      "[   1    2    3    4    5 1000 1000 1000 1000 1000 1000   12   13   14\n",
      "   15   16   17   18   19   20]\n"
     ]
    }
   ],
   "source": [
    "import numpy as np\n",
    "from nptyping import NDArray, Shape, UInt16\n",
    "\n",
    "\n",
    "ndata : NDArray[Shape[\"20\"], UInt16] = np.arange(1,21)\n",
    "print(ndata)\n",
    "print(ndata[5:11])\n",
    "\n",
    "ndata[5:11] = 1000 #it will change the numbers from the list \n",
    "print(ndata)"
   ]
  },
  {
   "cell_type": "markdown",
   "metadata": {},
   "source": [
    "# Num 1D function"
   ]
  },
  {
   "cell_type": "code",
   "execution_count": 6,
   "metadata": {},
   "outputs": [
    {
     "data": {
      "text/plain": [
       "array([ 1, 10])"
      ]
     },
     "execution_count": 6,
     "metadata": {},
     "output_type": "execute_result"
    }
   ],
   "source": [
    "from nptyping import Bool\n",
    "#  selection true value through numpy\n",
    "state_bank : NDArray[Shape[\"10\"], Bool] = np.array([1,7,8,10])\n",
    "\n",
    "# [1,7,8,10]\n",
    "# [True, False, False, True]\n",
    "\n",
    "select : NDArray[Shape[\"10\"],Bool] = np.array([True, False, False, True]) #boolean array\n",
    "state_bank[select] #it will compare the [1,7,8,10] and [True, False, False, True] and only return those value that are true"
   ]
  },
  {
   "cell_type": "markdown",
   "metadata": {},
   "source": [
    "### we can create the above boolean array from so many ways"
   ]
  },
  {
   "cell_type": "code",
   "execution_count": 7,
   "metadata": {},
   "outputs": [
    {
     "data": {
      "text/plain": [
       "array([False, False,  True,  True])"
      ]
     },
     "execution_count": 7,
     "metadata": {},
     "output_type": "execute_result"
    }
   ],
   "source": [
    "state_bank : NDArray[Shape[\"10\"], Bool] = np.array([1,7,8,10])\n",
    "state_bank % 2 == 0"
   ]
  },
  {
   "cell_type": "code",
   "execution_count": 8,
   "metadata": {},
   "outputs": [
    {
     "data": {
      "text/plain": [
       "array([ 8, 10])"
      ]
     },
     "execution_count": 8,
     "metadata": {},
     "output_type": "execute_result"
    }
   ],
   "source": [
    "#snapchat filters are created through this true and false\n",
    "state_bank : NDArray[Shape[\"10\"], Bool] = np.array([1,7,8,10])\n",
    "state_bank[state_bank % 2 == 0] # state_bank % 2 == 0 return [False, False,  True,  True] so when we pass state_bank[[False, False,  True,  True]] so it will compare the state_bank array with [False, False,  True,  True] and return value where there is true i.e 8, 10 here\n"
   ]
  },
  {
   "cell_type": "code",
   "execution_count": 14,
   "metadata": {},
   "outputs": [
    {
     "data": {
      "text/plain": [
       "array([ 1,  7,  8, 10])"
      ]
     },
     "metadata": {},
     "output_type": "display_data"
    },
    {
     "data": {
      "text/plain": [
       "array([95, 95, 15, 62, 55, 74, 92,  1, 75, 78, 20, 74, 61, 68, 54, 87, 62,\n",
       "       89, 25, 78])"
      ]
     },
     "metadata": {},
     "output_type": "display_data"
    }
   ],
   "source": [
    "import numpy as np\n",
    "from nptyping import NDArray, Shape, UInt16\n",
    "\n",
    "state_bank : NDArray[Shape[\"10\"], UInt16]= np.array([1,7,8,10])\n",
    "\n",
    "ubl_bank : NDArray[Shape[\"10\"],UInt16] = np.random.randint(1,100,20) #generate numbers between 1 and 100 and generate total elements 20\n",
    "\n",
    "display(state_bank)\n",
    "display(ubl_bank)\n"
   ]
  },
  {
   "cell_type": "code",
   "execution_count": 15,
   "metadata": {},
   "outputs": [
    {
     "data": {
      "text/plain": [
       "array([ True, False, False, False])"
      ]
     },
     "execution_count": 15,
     "metadata": {},
     "output_type": "execute_result"
    }
   ],
   "source": [
    "#       4items (willbe) search from 20 items\n",
    "np.in1d(state_bank, ubl_bank) #np.in1d(array_on_which_you_want_to_perform_search, array_through_which_you_want_to_search)"
   ]
  },
  {
   "cell_type": "code",
   "execution_count": 16,
   "metadata": {},
   "outputs": [
    {
     "data": {
      "text/plain": [
       "array([1])"
      ]
     },
     "execution_count": 16,
     "metadata": {},
     "output_type": "execute_result"
    }
   ],
   "source": [
    "state_bank[np.in1d(state_bank, ubl_bank)]"
   ]
  },
  {
   "cell_type": "code",
   "execution_count": 17,
   "metadata": {},
   "outputs": [
    {
     "data": {
      "text/plain": [
       "array([1])"
      ]
     },
     "execution_count": 17,
     "metadata": {},
     "output_type": "execute_result"
    }
   ],
   "source": [
    "np.intersect1d(state_bank, ubl_bank) #now we dont have to manually write and compare them"
   ]
  },
  {
   "cell_type": "code",
   "execution_count": 21,
   "metadata": {},
   "outputs": [
    {
     "data": {
      "text/plain": [
       "array([1, 2, 3, 4, 5])"
      ]
     },
     "metadata": {},
     "output_type": "display_data"
    },
    {
     "data": {
      "text/plain": [
       "array([5, 6, 2, 8, 3])"
      ]
     },
     "metadata": {},
     "output_type": "display_data"
    },
    {
     "data": {
      "text/plain": [
       "array([5, 6, 3, 8, 5])"
      ]
     },
     "execution_count": 21,
     "metadata": {},
     "output_type": "execute_result"
    }
   ],
   "source": [
    "x : NDArray[Shape[\"4\"], UInt16] = np.array([1,2,3,4,5])\n",
    "y : NDArray[Shape[\"4\"], UInt16] = np.array([5,6,2,8,3])\n",
    "\n",
    "display(x)\n",
    "display(y)\n",
    "np.where(x > y, x, y) #where is used for comparison"
   ]
  },
  {
   "cell_type": "markdown",
   "metadata": {},
   "source": [
    "# Create a Numpy array"
   ]
  },
  {
   "cell_type": "code",
   "execution_count": 26,
   "metadata": {},
   "outputs": [
    {
     "name": "stdout",
     "output_type": "stream",
     "text": [
      "[[1 2 3]\n",
      " [4 5 6]]\n",
      "[[1 2]\n",
      " [4 5]]\n",
      "[['A']\n",
      " ['B']]\n"
     ]
    }
   ],
   "source": [
    "from typing import Any\n",
    "\n",
    "a : NDArray[Shape[\"Size, Size\"], Any] = np.array([[1, 2, 3],\n",
    "                                                      [4, 5, 6]])\n",
    "print(a)  #2D array - 2x3\n",
    "\n",
    "a : NDArray[Shape[\"Size, Size\"], Any] = np.array([[1, 2],\n",
    "                                                      [4, 5]]) \n",
    "print(a) # 2D array - 2x2\n",
    "\n",
    "a : NDArray[Shape[\"Size, Size\"], Any] = np.array([[\"A\"],\n",
    "                                                    [\"B\"]]) \n",
    "print(a) # 2D array - 2x1"
   ]
  },
  {
   "cell_type": "code",
   "execution_count": 28,
   "metadata": {},
   "outputs": [
    {
     "name": "stdout",
     "output_type": "stream",
     "text": [
      "[[1 2 3]\n",
      " [4 5 6]]\n",
      "[[1 2]\n",
      " [4 5]]\n",
      "[['A']\n",
      " ['B']]\n"
     ]
    }
   ],
   "source": [
    "# we can also write like that\n",
    "from typing import Any\n",
    "\n",
    "a : NDArray[Shape[\"*, *\"], Any] = np.array([[1, 2, 3],\n",
    "                                                      [4, 5, 6]])\n",
    "print(a)  #2D array - 2x3\n",
    "\n",
    "a : NDArray[Shape[\"*, *\"], Any] = np.array([[1, 2],\n",
    "                                                      [4, 5]]) \n",
    "print(a) # 2D array - 2x2\n",
    "\n",
    "a : NDArray[Shape[\"*, *\"], Any] = np.array([[\"A\"],\n",
    "                                                    [\"B\"]]) \n",
    "print(a) # 2D array - 2x1"
   ]
  },
  {
   "cell_type": "code",
   "execution_count": 29,
   "metadata": {},
   "outputs": [
    {
     "name": "stdout",
     "output_type": "stream",
     "text": [
      "Name            Shape            Bytes            Type\n",
      "===========================================================\n",
      "\n",
      "_               5                20               int32\n",
      "__              5                20               int32\n",
      "___             5                20               int32\n",
      "state_bank      4                16               int32\n",
      "ubl_bank        20               80               int32\n",
      "select          4                4                bool\n",
      "_6              2                8                int32\n",
      "_7              4                4                bool\n",
      "_8              2                8                int32\n",
      "_9              4                4                bool\n",
      "_11             4                4                bool\n",
      "_13             4                4                bool\n",
      "_15             4                4                bool\n",
      "_16             1                4                int32\n",
      "_17             1                4                int32\n",
      "x               5                20               int32\n",
      "y               5                20               int32\n",
      "_19 (___)       5                20               int32\n",
      "_20 (__)        5                20               int32\n",
      "_21 (_)         5                20               int32\n",
      "a1              2 x 3            24               int32\n",
      "a               2 x 1            8                str32\n",
      "\n",
      "Upper bound on total bytes  =       276\n"
     ]
    }
   ],
   "source": [
    "np.who()"
   ]
  },
  {
   "cell_type": "markdown",
   "metadata": {},
   "source": [
    "# Create any Dimension array"
   ]
  },
  {
   "cell_type": "code",
   "execution_count": 33,
   "metadata": {},
   "outputs": [
    {
     "name": "stdout",
     "output_type": "stream",
     "text": [
      "[1 2 3 4]\n",
      "[[0 1 2]\n",
      " [3 4 5]\n",
      " [6 7 8]]\n"
     ]
    }
   ],
   "source": [
    "# 1D shape\n",
    "a : NDArray[Shape[\"Size, Size\"], UInt16] = np.arange(1,5)\n",
    "print(a)\n",
    "\n",
    "# 2D shape\n",
    "a : NDArray[Shape[\"Size, Size\"], UInt16] = np.arange(3*3).reshape(3,3)\n",
    "print(a)"
   ]
  },
  {
   "cell_type": "code",
   "execution_count": 35,
   "metadata": {},
   "outputs": [
    {
     "name": "stdout",
     "output_type": "stream",
     "text": [
      "[[ 0  1  2]\n",
      " [ 3  4  5]\n",
      " [ 6  7  8]\n",
      " [ 9 10 11]\n",
      " [12 13 14]]\n"
     ]
    }
   ],
   "source": [
    "# 2D shape with 5 rows\n",
    "a : NDArray[Shape[\"Size, Size\"], UInt16] = np.arange(5*3).reshape(5,3)\n",
    "print(a)"
   ]
  },
  {
   "cell_type": "code",
   "execution_count": 39,
   "metadata": {},
   "outputs": [
    {
     "name": "stdout",
     "output_type": "stream",
     "text": [
      "[[[ 0  1  2]\n",
      "  [ 3  4  5]\n",
      "  [ 6  7  8]]\n",
      "\n",
      " [[ 9 10 11]\n",
      "  [12 13 14]\n",
      "  [15 16 17]]\n",
      "\n",
      " [[18 19 20]\n",
      "  [21 22 23]\n",
      "  [24 25 26]]]\n"
     ]
    },
    {
     "data": {
      "text/plain": [
       "array([[[ 0,  1,  2],\n",
       "        [ 3,  4,  5],\n",
       "        [ 6,  7,  8]],\n",
       "\n",
       "       [[18, 19, 20],\n",
       "        [21, 22, 23],\n",
       "        [24, 25, 26]]])"
      ]
     },
     "execution_count": 39,
     "metadata": {},
     "output_type": "execute_result"
    }
   ],
   "source": [
    "#3D shape\n",
    "a : NDArray[Shape[\"Size, Size, Size\"], UInt16] = np.arange(3*3*3).reshape(3,3,3)\n",
    "print(a)\n",
    "\n",
    "#performing slicing on it\n",
    "a[::2,::,::]"
   ]
  },
  {
   "cell_type": "code",
   "execution_count": 40,
   "metadata": {},
   "outputs": [
    {
     "data": {
      "text/plain": [
       "array([ 0,  2,  4,  6,  8, 10, 12, 14, 16, 18, 20, 22, 24, 26])"
      ]
     },
     "execution_count": 40,
     "metadata": {},
     "output_type": "execute_result"
    }
   ],
   "source": [
    "a : NDArray[Shape[\"Size, Size, Size\"], UInt16] = np.arange(3*3*3).reshape(3,3,3)\n",
    "a[a%2 == 0]"
   ]
  },
  {
   "cell_type": "code",
   "execution_count": 41,
   "metadata": {},
   "outputs": [
    {
     "data": {
      "text/plain": [
       "array([1, 2, 3, 4])"
      ]
     },
     "execution_count": 41,
     "metadata": {},
     "output_type": "execute_result"
    }
   ],
   "source": [
    "#convert into numpy array\n",
    "np.asarray([1,2,3,4])"
   ]
  },
  {
   "cell_type": "code",
   "execution_count": 42,
   "metadata": {},
   "outputs": [
    {
     "data": {
      "text/plain": [
       "array([0., 0., 0., 0., 0., 0., 0., 0., 0., 0.])"
      ]
     },
     "execution_count": 42,
     "metadata": {},
     "output_type": "execute_result"
    }
   ],
   "source": [
    "# it will generate array of zeros\n",
    "np.zeros(10)"
   ]
  },
  {
   "cell_type": "code",
   "execution_count": 43,
   "metadata": {},
   "outputs": [
    {
     "data": {
      "text/plain": [
       "array([[0., 0., 0.],\n",
       "       [0., 0., 0.]])"
      ]
     },
     "execution_count": 43,
     "metadata": {},
     "output_type": "execute_result"
    }
   ],
   "source": [
    "#array of zeros with dimension\n",
    "np.zeros((2,3))"
   ]
  },
  {
   "cell_type": "code",
   "execution_count": 44,
   "metadata": {},
   "outputs": [
    {
     "data": {
      "text/plain": [
       "array([1., 1., 1., 1., 1., 1., 1., 1., 1., 1.])"
      ]
     },
     "execution_count": 44,
     "metadata": {},
     "output_type": "execute_result"
    }
   ],
   "source": [
    "# it will generate array of ones\n",
    "np.ones(10)"
   ]
  },
  {
   "cell_type": "code",
   "execution_count": 45,
   "metadata": {},
   "outputs": [
    {
     "data": {
      "text/plain": [
       "array([[1., 1., 1.],\n",
       "       [1., 1., 1.]])"
      ]
     },
     "execution_count": 45,
     "metadata": {},
     "output_type": "execute_result"
    }
   ],
   "source": [
    "#array of ones with dimension\n",
    "np.ones((2,3))"
   ]
  },
  {
   "cell_type": "code",
   "execution_count": 50,
   "metadata": {},
   "outputs": [
    {
     "data": {
      "text/plain": [
       "array([[1, 1, 1],\n",
       "       [1, 1, 1],\n",
       "       [1, 1, 1],\n",
       "       [1, 1, 1],\n",
       "       [1, 1, 1]])"
      ]
     },
     "execution_count": 50,
     "metadata": {},
     "output_type": "execute_result"
    }
   ],
   "source": [
    "a : NDArray[Shape[\"Size, Size\"], UInt16] = np.arange(5*3).reshape(5,3)\n",
    "np.ones_like(a) #it will create a copy of already existing array i.e a here and create ones array of that array"
   ]
  },
  {
   "cell_type": "code",
   "execution_count": 54,
   "metadata": {},
   "outputs": [
    {
     "name": "stdout",
     "output_type": "stream",
     "text": [
      "[[[ 0  1]\n",
      "  [ 2  3]]\n",
      "\n",
      " [[ 4  5]\n",
      "  [ 6  7]]\n",
      "\n",
      " [[ 8  9]\n",
      "  [10 11]]\n",
      "\n",
      " [[12 13]\n",
      "  [14 15]]\n",
      "\n",
      " [[16 17]\n",
      "  [18 19]]]\n",
      "===================\n"
     ]
    },
    {
     "data": {
      "text/plain": [
       "array([[[ 0,  1],\n",
       "        [ 2,  3]],\n",
       "\n",
       "       [[16, 17],\n",
       "        [18, 19]]])"
      ]
     },
     "execution_count": 54,
     "metadata": {},
     "output_type": "execute_result"
    }
   ],
   "source": [
    "a : NDArray[Shape[\"Size, Size\"], UInt16] = np.arange(5*2*2).reshape(5,2,2)\n",
    "print(a)\n",
    "print(\"===================\")\n",
    "a[[0,-1],::,::] # 0 = first, -1 = last -> means from the above whole array of a we select 0 image and last (-1) image "
   ]
  },
  {
   "cell_type": "code",
   "execution_count": 58,
   "metadata": {},
   "outputs": [
    {
     "name": "stdout",
     "output_type": "stream",
     "text": [
      "[ 1  2  3  4  5  6  7  8  9 10 11 12 13 14 15 16 17 18 19 20]\n",
      "1\n",
      "20\n",
      "19\n",
      "0\n",
      "10.5\n",
      "5.766281297335398\n",
      "210\n",
      "[  1   3   6  10  15  21  28  36  45  55  66  78  91 105 120 136 153 171\n",
      " 190 210]\n"
     ]
    }
   ],
   "source": [
    "ndata : NDArray[Shape[\"20\"], UInt16] = np.arange(1,21)\n",
    "\n",
    "print(ndata)\n",
    "print(ndata.min())\n",
    "print(ndata.max())\n",
    "print(ndata.argmax()) #index value of largest number\n",
    "print(ndata.argmin()) #index value of minimum number\n",
    "print(ndata.mean()) #\n",
    "print(ndata.std()) #\n",
    "print(ndata.sum()) #\n",
    "print(ndata.cumsum()) #"
   ]
  }
 ],
 "metadata": {
  "kernelspec": {
   "display_name": "Python 3",
   "language": "python",
   "name": "python3"
  },
  "language_info": {
   "codemirror_mode": {
    "name": "ipython",
    "version": 3
   },
   "file_extension": ".py",
   "mimetype": "text/x-python",
   "name": "python",
   "nbconvert_exporter": "python",
   "pygments_lexer": "ipython3",
   "version": "3.12.0"
  }
 },
 "nbformat": 4,
 "nbformat_minor": 2
}

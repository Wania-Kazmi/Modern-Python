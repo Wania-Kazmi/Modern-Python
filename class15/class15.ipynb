{
 "cells": [
  {
   "cell_type": "markdown",
   "metadata": {},
   "source": [
    "# Encapsulation, Abstract, and callable"
   ]
  },
  {
   "cell_type": "markdown",
   "metadata": {},
   "source": [
    "## ```__init__``` and ```__callable__``` functions\n",
    "- __init__ function call when we create an object or construct an object\n",
    "- but when u create an object or call any method of an instance of class/object of class then callable method of that object make it callable function. Benefit of this behaviour is that whenever you call the object callable method and in this result callable function will call and through it you can generate history, data append, decorator, "
   ]
  },
  {
   "cell_type": "code",
   "execution_count": null,
   "metadata": {},
   "outputs": [],
   "source": [
    "# callable is predefined method or function and part of base class object"
   ]
  },
  {
   "cell_type": "code",
   "execution_count": 1,
   "metadata": {},
   "outputs": [
    {
     "data": {
      "text/plain": [
       "['__class__',\n",
       " '__delattr__',\n",
       " '__dir__',\n",
       " '__doc__',\n",
       " '__eq__',\n",
       " '__format__',\n",
       " '__ge__',\n",
       " '__getattribute__',\n",
       " '__getstate__',\n",
       " '__gt__',\n",
       " '__hash__',\n",
       " '__init__',\n",
       " '__init_subclass__',\n",
       " '__le__',\n",
       " '__lt__',\n",
       " '__ne__',\n",
       " '__new__',\n",
       " '__reduce__',\n",
       " '__reduce_ex__',\n",
       " '__repr__',\n",
       " '__setattr__',\n",
       " '__sizeof__',\n",
       " '__str__',\n",
       " '__subclasshook__']"
      ]
     },
     "execution_count": 1,
     "metadata": {},
     "output_type": "execute_result"
    }
   ],
   "source": [
    "dir(object) #was trying to figure out where is callable"
   ]
  },
  {
   "cell_type": "code",
   "execution_count": 2,
   "metadata": {},
   "outputs": [
    {
     "name": "stdout",
     "output_type": "stream",
     "text": [
      "<class 'type'>\n"
     ]
    }
   ],
   "source": [
    "class SampleClass:\n",
    "    def method(self):\n",
    "        print(f\"You called method()\")\n",
    "\n",
    "print(type(SampleClass))"
   ]
  },
  {
   "cell_type": "code",
   "execution_count": 3,
   "metadata": {},
   "outputs": [
    {
     "data": {
      "text/plain": [
       "['__abstractmethods__',\n",
       " '__annotations__',\n",
       " '__base__',\n",
       " '__bases__',\n",
       " '__basicsize__',\n",
       " '__call__',\n",
       " '__class__',\n",
       " '__delattr__',\n",
       " '__dict__',\n",
       " '__dictoffset__',\n",
       " '__dir__',\n",
       " '__doc__',\n",
       " '__eq__',\n",
       " '__flags__',\n",
       " '__format__',\n",
       " '__ge__',\n",
       " '__getattribute__',\n",
       " '__getstate__',\n",
       " '__gt__',\n",
       " '__hash__',\n",
       " '__init__',\n",
       " '__init_subclass__',\n",
       " '__instancecheck__',\n",
       " '__itemsize__',\n",
       " '__le__',\n",
       " '__lt__',\n",
       " '__module__',\n",
       " '__mro__',\n",
       " '__name__',\n",
       " '__ne__',\n",
       " '__new__',\n",
       " '__or__',\n",
       " '__prepare__',\n",
       " '__qualname__',\n",
       " '__reduce__',\n",
       " '__reduce_ex__',\n",
       " '__repr__',\n",
       " '__ror__',\n",
       " '__setattr__',\n",
       " '__sizeof__',\n",
       " '__str__',\n",
       " '__subclasscheck__',\n",
       " '__subclasses__',\n",
       " '__subclasshook__',\n",
       " '__text_signature__',\n",
       " '__type_params__',\n",
       " '__weakrefoffset__',\n",
       " 'mro']"
      ]
     },
     "execution_count": 3,
     "metadata": {},
     "output_type": "execute_result"
    }
   ],
   "source": [
    "dir(type) #here the callable function is present by default. so __call__ function is inherit in SimpleClass by default"
   ]
  },
  {
   "cell_type": "code",
   "execution_count": 6,
   "metadata": {},
   "outputs": [
    {
     "data": {
      "text/plain": [
       "['__call__',\n",
       " '__class__',\n",
       " '__delattr__',\n",
       " '__dir__',\n",
       " '__doc__',\n",
       " '__eq__',\n",
       " '__format__',\n",
       " '__func__',\n",
       " '__ge__',\n",
       " '__getattribute__',\n",
       " '__getstate__',\n",
       " '__gt__',\n",
       " '__hash__',\n",
       " '__init__',\n",
       " '__init_subclass__',\n",
       " '__le__',\n",
       " '__lt__',\n",
       " '__ne__',\n",
       " '__new__',\n",
       " '__reduce__',\n",
       " '__reduce_ex__',\n",
       " '__repr__',\n",
       " '__self__',\n",
       " '__setattr__',\n",
       " '__sizeof__',\n",
       " '__str__',\n",
       " '__subclasshook__']"
      ]
     },
     "execution_count": 6,
     "metadata": {},
     "output_type": "execute_result"
    }
   ],
   "source": [
    "sample_instance = SampleClass()\n",
    "dir(sample_instance.method)"
   ]
  },
  {
   "cell_type": "markdown",
   "metadata": {},
   "source": [
    "## we can override our callable function \n",
    "- We can create our particular type which should not be callable - Now what does that mean?"
   ]
  },
  {
   "cell_type": "code",
   "execution_count": 7,
   "metadata": {},
   "outputs": [
    {
     "data": {
      "text/plain": [
       "True"
      ]
     },
     "execution_count": 7,
     "metadata": {},
     "output_type": "execute_result"
    }
   ],
   "source": [
    "from typing import Any\n",
    "class NonCallable():\n",
    "    def __call__(self) -> Any:\n",
    "        raise TypeError(\"Non-callable object is not callable\")\n",
    "    \n",
    "instance : NonCallable = NonCallable()\n",
    "callable(instance) #here when we call the object it returns true"
   ]
  },
  {
   "cell_type": "code",
   "execution_count": 8,
   "metadata": {},
   "outputs": [
    {
     "ename": "TypeError",
     "evalue": "Non-callable object is not callable",
     "output_type": "error",
     "traceback": [
      "\u001b[1;31m---------------------------------------------------------------------------\u001b[0m",
      "\u001b[1;31mTypeError\u001b[0m                                 Traceback (most recent call last)",
      "\u001b[1;32md:\\solopreneur-journey\\Q4\\modern-python\\class15\\class15.ipynb Cell 10\u001b[0m line \u001b[0;36m1\n\u001b[1;32m----> <a href='vscode-notebook-cell:/d%3A/solopreneur-journey/Q4/modern-python/class15/class15.ipynb#X12sZmlsZQ%3D%3D?line=0'>1</a>\u001b[0m instance()\n",
      "\u001b[1;32md:\\solopreneur-journey\\Q4\\modern-python\\class15\\class15.ipynb Cell 10\u001b[0m line \u001b[0;36m6\n\u001b[0;32m      <a href='vscode-notebook-cell:/d%3A/solopreneur-journey/Q4/modern-python/class15/class15.ipynb#X12sZmlsZQ%3D%3D?line=4'>5</a>\u001b[0m \u001b[39mdef\u001b[39;00m \u001b[39m__call__\u001b[39m(\u001b[39mself\u001b[39m) \u001b[39m-\u001b[39m\u001b[39m>\u001b[39m Any:\n\u001b[1;32m----> <a href='vscode-notebook-cell:/d%3A/solopreneur-journey/Q4/modern-python/class15/class15.ipynb#X12sZmlsZQ%3D%3D?line=5'>6</a>\u001b[0m     \u001b[39mraise\u001b[39;00m \u001b[39mTypeError\u001b[39;00m(\u001b[39m\"\u001b[39m\u001b[39mNon-callable object is not callable\u001b[39m\u001b[39m\"\u001b[39m)\n",
      "\u001b[1;31mTypeError\u001b[0m: Non-callable object is not callable"
     ]
    }
   ],
   "source": [
    "instance() #here when we call an object it returns an error - now why error here?"
   ]
  },
  {
   "cell_type": "code",
   "execution_count": 1,
   "metadata": {},
   "outputs": [
    {
     "data": {
      "text/plain": [
       "2"
      ]
     },
     "execution_count": 1,
     "metadata": {},
     "output_type": "execute_result"
    }
   ],
   "source": [
    "class PowerFactory:\n",
    "    def __init__(self, exponent = 2):\n",
    "        self.exponent = exponent\n",
    "    \n",
    "    def __call__(self, base):\n",
    "        return base**self.exponent\n",
    "    \n",
    "a = PowerFactory() #constructor call here\n",
    "a.exponent #on call of exponent __call__() method call"
   ]
  },
  {
   "cell_type": "code",
   "execution_count": 5,
   "metadata": {},
   "outputs": [
    {
     "data": {
      "text/plain": [
       "16"
      ]
     },
     "execution_count": 5,
     "metadata": {},
     "output_type": "execute_result"
    }
   ],
   "source": [
    "a(4) #we pass exponent as 2, here base value is 4"
   ]
  },
  {
   "cell_type": "code",
   "execution_count": 6,
   "metadata": {},
   "outputs": [],
   "source": [
    "from typing import Any\n",
    "\n",
    "\n",
    "class CumulativeAverage:\n",
    "    def __init__(self):\n",
    "        self.data = []\n",
    "\n",
    "    def __call__(self, new_value) -> Any: # if you haven't create it, it is created by default and when it is called your logic execute\n",
    "        self.data.append(new_value)\n",
    "        print(self.data)\n",
    "        return sum(self.data)/len(self.data)\n"
   ]
  },
  {
   "cell_type": "code",
   "execution_count": 7,
   "metadata": {},
   "outputs": [
    {
     "name": "stdout",
     "output_type": "stream",
     "text": [
      "[12]\n",
      "12.0\n",
      "[12, 13]\n",
      "12.5\n",
      "[12, 13, 11]\n",
      "12.0\n"
     ]
    }
   ],
   "source": [
    "stream_avg = CumulativeAverage() #__init__ - constructor call here\n",
    "\n",
    "# data = [] created\n",
    "\n",
    "print(stream_avg(12)) # data = [12] - 12/1 = 12\n",
    "print(stream_avg(13)) # data = [12,13] - 25/2 = 12.5\n",
    "print(stream_avg(11)) # data = [12,13,11] - 25+11/3 =     - means our callable function is now associated with our object\n",
    "\n",
    "\n",
    "\n"
   ]
  },
  {
   "cell_type": "code",
   "execution_count": 22,
   "metadata": {},
   "outputs": [],
   "source": [
    "class Factorial:\n",
    "    def __init__(self):\n",
    "        self.cache = {0:1, 1:1}\n",
    "    \n",
    "    def __call__(self, number):\n",
    "        if number not in self.cache:\n",
    "            self.cache[number] = number * self(number - 1)\n",
    "        return self.cache[number]"
   ]
  },
  {
   "cell_type": "code",
   "execution_count": 25,
   "metadata": {},
   "outputs": [
    {
     "data": {
      "text/plain": [
       "{0: 1, 1: 1, 2: 2, 3: 6, 4: 24, 5: 120}"
      ]
     },
     "execution_count": 25,
     "metadata": {},
     "output_type": "execute_result"
    }
   ],
   "source": [
    "factorial_of = Factorial()\n",
    "\n",
    "factorial_of.cache #{0: 1, 1: 1}\n",
    "\n",
    "factorial_of(2)\n",
    "factorial_of.cache #{0: 1, 1: 1, 2: 2}\n",
    "\n",
    "factorial_of(5) #{0: 1, 1: 1, 2: 2, 3: 6, 4: 24, 5: 120}\n",
    "factorial_of.cache\n"
   ]
  },
  {
   "cell_type": "markdown",
   "metadata": {},
   "source": [
    "### now we will import the package of piaic"
   ]
  },
  {
   "cell_type": "code",
   "execution_count": 29,
   "metadata": {},
   "outputs": [],
   "source": [
    "from piaic.genai import ExecutionTimer #here we import our package "
   ]
  },
  {
   "cell_type": "code",
   "execution_count": 31,
   "metadata": {},
   "outputs": [
    {
     "name": "stdout",
     "output_type": "stream",
     "text": [
      "square_numbers() took 0.0044ms\n"
     ]
    },
    {
     "data": {
      "text/plain": [
       "[0, 1, 4, 9, 16, 25, 36, 49, 64, 81]"
      ]
     },
     "execution_count": 31,
     "metadata": {},
     "output_type": "execute_result"
    }
   ],
   "source": [
    "#now we will use the ExecutionTimer as a Decorator\n",
    "@ExecutionTimer\n",
    "def square_numbers(numbers):\n",
    "    return [number ** 2 for number in numbers]\n",
    "\n",
    "square_numbers(list(range(10)))"
   ]
  },
  {
   "cell_type": "markdown",
   "metadata": {},
   "source": [
    "### How we can create a package for users in python:\n",
    "https://www.turing.com/kb/how-to-create-pypi-packages"
   ]
  },
  {
   "cell_type": "markdown",
   "metadata": {},
   "source": [
    "## Access Modifiers"
   ]
  },
  {
   "cell_type": "code",
   "execution_count": 8,
   "metadata": {},
   "outputs": [
    {
     "name": "stdout",
     "output_type": "stream",
     "text": [
      "0800\n"
     ]
    }
   ],
   "source": [
    "class Piaic():\n",
    "    def __init__(self) -> None:\n",
    "        #self.name -> Public\n",
    "        self.piaic_helpline : str = \"0800\"\n",
    "\n",
    "        #self._name -> Protected\n",
    "        self._total_expense : int = 600000\n",
    "\n",
    "        #self.__name -> private \n",
    "        # __ = dunder\n",
    "        self.__exam_announcement : str = \"26 Nov 2023\"\n",
    "\n",
    "wania : Piaic = Piaic()\n",
    "print(wania.piaic_helpline) #this attribute is public so anyone can access it and change it \n"
   ]
  },
  {
   "cell_type": "markdown",
   "metadata": {},
   "source": [
    "### Public Access Modifier\n",
    "#### public attribute is accessible to everyone and anyone can change it"
   ]
  },
  {
   "cell_type": "code",
   "execution_count": 9,
   "metadata": {},
   "outputs": [
    {
     "name": "stdout",
     "output_type": "stream",
     "text": [
      "0800\n",
      "0320-1234567\n"
     ]
    }
   ],
   "source": [
    "print(wania.piaic_helpline)\n",
    "wania.piaic_helpline = \"0320-1234567\"\n",
    "print(wania.piaic_helpline) #anyone can change it easily\n"
   ]
  },
  {
   "cell_type": "markdown",
   "metadata": {},
   "source": [
    "## Private Access Modifier\n",
    "#### "
   ]
  },
  {
   "cell_type": "code",
   "execution_count": 10,
   "metadata": {},
   "outputs": [
    {
     "ename": "AttributeError",
     "evalue": "'Piaic' object has no attribute '__exam_announcement'",
     "output_type": "error",
     "traceback": [
      "\u001b[1;31m---------------------------------------------------------------------------\u001b[0m",
      "\u001b[1;31mAttributeError\u001b[0m                            Traceback (most recent call last)",
      "Cell \u001b[1;32mIn[10], line 1\u001b[0m\n\u001b[1;32m----> 1\u001b[0m \u001b[38;5;28mprint\u001b[39m(\u001b[43mwania\u001b[49m\u001b[38;5;241;43m.\u001b[39;49m\u001b[43m__exam_announcement\u001b[49m) \u001b[38;5;66;03m#as it is private so we can't access it \u001b[39;00m\n\u001b[0;32m      2\u001b[0m \u001b[38;5;66;03m# Now how to access private attributes\u001b[39;00m\n",
      "\u001b[1;31mAttributeError\u001b[0m: 'Piaic' object has no attribute '__exam_announcement'"
     ]
    }
   ],
   "source": [
    "print(wania.__exam_announcement) #as it is private so we can't access it \n",
    "# Now how to access private attributes\n"
   ]
  },
  {
   "cell_type": "code",
   "execution_count": 11,
   "metadata": {},
   "outputs": [
    {
     "name": "stdout",
     "output_type": "stream",
     "text": [
      "26 Nov 2023\n"
     ]
    }
   ],
   "source": [
    "wania._Piaic__exam_announcement\n",
    "\n",
    "\n",
    "#objName._className__attribute\n",
    "\n",
    "print(wania._Piaic__exam_announcement) #now in this way we can access private properties - this is a big problem now and it is clear that python is not pure object oriented programming\n"
   ]
  },
  {
   "cell_type": "markdown",
   "metadata": {},
   "source": [
    "### Now we will see Encapsulation through it\n",
    "## What is Encapsulation?\n",
    "Means we can private any class or method and then no one can accesss it through an object and when no one can access it then no one can update it"
   ]
  },
  {
   "cell_type": "code",
   "execution_count": 45,
   "metadata": {},
   "outputs": [],
   "source": [
    "class StudentLogin():\n",
    "    def __init__(self) -> None:\n",
    "        self.__username : str = \"Admin\"  #private\n",
    "        self.__password : str = \"Admin\"  #private\n",
    "\n",
    "    def __dbconnectivity(self, user: str, password: str):\n",
    "        print(\"DB Connected Successfully!\")\n",
    "        if user == self.__username and password == self.__password:\n",
    "            # print(\"Valid User and Password!\")\n",
    "            return \"Valid User and Password!\"\n",
    "        else:\n",
    "            # print(\"Invalid user!\")\n",
    "            return \"Invalid user!\"\n",
    "        \n",
    "    def updatePassword(self, password2 : str):\n",
    "        self.__password = password2\n",
    "        print(\"Password has been updated!\")\n",
    "\n",
    "    def student_login(self, user:str, pass1:str):\n",
    "        message : str = self.__dbconnectivity(user,pass1)\n",
    "        print(message)\n",
    "\n",
    "    def display_information(self):\n",
    "        print(f\"Hello: My username is {self.__username} and password is {self.__password}\")\n",
    "\n",
    "wania1: StudentLogin = StudentLogin()\n"
   ]
  },
  {
   "cell_type": "code",
   "execution_count": 46,
   "metadata": {},
   "outputs": [
    {
     "data": {
      "text/plain": [
       "'afjalkfja'"
      ]
     },
     "execution_count": 46,
     "metadata": {},
     "output_type": "execute_result"
    }
   ],
   "source": [
    "wania1.__password = \"afjalkfja\" #we try to change the password here \n",
    "wania1.__password\n"
   ]
  },
  {
   "cell_type": "code",
   "execution_count": 47,
   "metadata": {},
   "outputs": [
    {
     "name": "stdout",
     "output_type": "stream",
     "text": [
      "Hello: My username is Admin and password is Admin\n"
     ]
    }
   ],
   "source": [
    "#now we will check whether the password is updated or not because it is private variable\n",
    "wania1.display_information()\n"
   ]
  },
  {
   "cell_type": "code",
   "execution_count": 48,
   "metadata": {},
   "outputs": [
    {
     "name": "stdout",
     "output_type": "stream",
     "text": [
      "DB Connected Successfully!\n",
      "Invalid user!\n"
     ]
    }
   ],
   "source": [
    "wania1.student_login(\"Wania\", \"wania123\")"
   ]
  },
  {
   "cell_type": "code",
   "execution_count": 49,
   "metadata": {},
   "outputs": [
    {
     "name": "stdout",
     "output_type": "stream",
     "text": [
      "Password has been updated!\n"
     ]
    }
   ],
   "source": [
    "wania1.updatePassword(\"1234\")"
   ]
  },
  {
   "cell_type": "code",
   "execution_count": 51,
   "metadata": {},
   "outputs": [
    {
     "name": "stdout",
     "output_type": "stream",
     "text": [
      "Hello: My username is Admin and password is 1234\n"
     ]
    }
   ],
   "source": [
    "wania1.display_information() #here we update a password through method not by accessing attribute directly. In this way everyone pass through our defined protocol\n",
    "#means we make few methods and attribute private and these private method and attributes cannot be accesible directly through object and can only be accessible with certain public methods\n",
    "\n",
    "#private methods or attributes are accessible within a class or child classes but not accessible through an object such attributes and methods are called as private methods"
   ]
  },
  {
   "cell_type": "markdown",
   "metadata": {},
   "source": [
    "## ```__str__```"
   ]
  },
  {
   "cell_type": "code",
   "execution_count": 52,
   "metadata": {},
   "outputs": [
    {
     "name": "stdout",
     "output_type": "stream",
     "text": [
      "<__main__.Teacher object at 0x000001BC125C44D0>\n"
     ]
    }
   ],
   "source": [
    "class Teacher():\n",
    "    def __init__(self, name : str) -> None:\n",
    "        self.name : str = name\n",
    "\n",
    "zia : Teacher = Teacher(\"Zia Khan\")\n",
    "print(zia)\n",
    "\n",
    "#it should display name but instead it is showing this"
   ]
  },
  {
   "cell_type": "code",
   "execution_count": 53,
   "metadata": {},
   "outputs": [
    {
     "name": "stdout",
     "output_type": "stream",
     "text": [
      "Teacher name is Zia Khan\n"
     ]
    }
   ],
   "source": [
    "class Teacher():\n",
    "    def __init__(self, name : str) -> None:\n",
    "        self.name : str = name\n",
    "    def __str__(self) -> str: #make sure to create it for every class to display the right information when u print the object and __str__ called automatically\n",
    "        return f\"Teacher name is {self.name}\"\n",
    "\n",
    "zia : Teacher = Teacher(\"Zia Khan\")\n",
    "print(zia)"
   ]
  },
  {
   "cell_type": "markdown",
   "metadata": {},
   "source": [
    "# Abstract Class\n",
    "- Such class who dont have a direct object in real world as well e.g Living thing (animal) and non-living thing (plants)\n",
    "Animal class you belong to mammals and in mammals you are an object of Male/Female class \n",
    "- Means Male class object is not a direct object it passes through living and non-living then animal then mammals then male object is created so it is not a direct object\n",
    "\n",
    "Animal Class is created for the classification so that general methods and attributes can be together here (e.g eating, sleeping, breathe, move in this class). Which means that method and attributes of this class will be similar and their object is not a direct object are called as Abstract class"
   ]
  },
  {
   "cell_type": "code",
   "execution_count": 57,
   "metadata": {},
   "outputs": [
    {
     "ename": "TypeError",
     "evalue": "Can't instantiate abstract class Animal without an implementation for abstract method '__init__'",
     "output_type": "error",
     "traceback": [
      "\u001b[1;31m---------------------------------------------------------------------------\u001b[0m",
      "\u001b[1;31mTypeError\u001b[0m                                 Traceback (most recent call last)",
      "\u001b[1;32md:\\solopreneur-journey\\Q4\\modern-python\\class15\\class15.ipynb Cell 39\u001b[0m line \u001b[0;36m1\n\u001b[0;32m      <a href='vscode-notebook-cell:/d%3A/solopreneur-journey/Q4/modern-python/class15/class15.ipynb#X60sZmlsZQ%3D%3D?line=5'>6</a>\u001b[0m         \u001b[39msuper\u001b[39m()\u001b[39m.\u001b[39m\u001b[39m__init__\u001b[39m()\n\u001b[0;32m      <a href='vscode-notebook-cell:/d%3A/solopreneur-journey/Q4/modern-python/class15/class15.ipynb#X60sZmlsZQ%3D%3D?line=6'>7</a>\u001b[0m         \u001b[39mself\u001b[39m\u001b[39m.\u001b[39mliving_thing : \u001b[39mbool\u001b[39m \u001b[39m=\u001b[39m \u001b[39mTrue\u001b[39;00m\n\u001b[1;32m---> <a href='vscode-notebook-cell:/d%3A/solopreneur-journey/Q4/modern-python/class15/class15.ipynb#X60sZmlsZQ%3D%3D?line=9'>10</a>\u001b[0m arzak: Animal \u001b[39m=\u001b[39m Animal() \u001b[39m#no error without @abstractmethod overlaod\u001b[39;00m\n\u001b[0;32m     <a href='vscode-notebook-cell:/d%3A/solopreneur-journey/Q4/modern-python/class15/class15.ipynb#X60sZmlsZQ%3D%3D?line=10'>11</a>\u001b[0m \u001b[39m# print(arzak)\u001b[39;00m\n",
      "\u001b[1;31mTypeError\u001b[0m: Can't instantiate abstract class Animal without an implementation for abstract method '__init__'"
     ]
    }
   ],
   "source": [
    "from abc import ABC, abstractmethod #abc = abstract base classes\n",
    "\n",
    "class Animal(ABC): #that's how we make a simple class into an abstract class\n",
    "    @abstractmethod\n",
    "    def __init__(self):\n",
    "        super().__init__()\n",
    "        self.living_thing : bool = True\n",
    "\n",
    "\n",
    "arzak: Animal = Animal() #no error without @abstractmethod overlaod\n",
    "# print(arzak)\n"
   ]
  },
  {
   "cell_type": "markdown",
   "metadata": {},
   "source": [
    "### If we cant make an object of abstract class then why we need it ?\n",
    "the child class will inherit all the common properties of Animal and we will call the child class ( cat ) object"
   ]
  },
  {
   "cell_type": "code",
   "execution_count": 60,
   "metadata": {},
   "outputs": [
    {
     "ename": "TypeError",
     "evalue": "Can't instantiate abstract class Cat without an implementation for abstract method 'eat'",
     "output_type": "error",
     "traceback": [
      "\u001b[1;31m---------------------------------------------------------------------------\u001b[0m",
      "\u001b[1;31mTypeError\u001b[0m                                 Traceback (most recent call last)",
      "\u001b[1;32md:\\solopreneur-journey\\Q4\\modern-python\\class15\\class15.ipynb Cell 41\u001b[0m line \u001b[0;36m1\n\u001b[0;32m     <a href='vscode-notebook-cell:/d%3A/solopreneur-journey/Q4/modern-python/class15/class15.ipynb#X62sZmlsZQ%3D%3D?line=13'>14</a>\u001b[0m     \u001b[39mdef\u001b[39;00m \u001b[39m__init__\u001b[39m(\u001b[39mself\u001b[39m): \u001b[39m#we have to override the init otherwise it wont run\u001b[39;00m\n\u001b[0;32m     <a href='vscode-notebook-cell:/d%3A/solopreneur-journey/Q4/modern-python/class15/class15.ipynb#X62sZmlsZQ%3D%3D?line=14'>15</a>\u001b[0m         \u001b[39msuper\u001b[39m()\u001b[39m.\u001b[39m\u001b[39m__init__\u001b[39m()\n\u001b[1;32m---> <a href='vscode-notebook-cell:/d%3A/solopreneur-journey/Q4/modern-python/class15/class15.ipynb#X62sZmlsZQ%3D%3D?line=17'>18</a>\u001b[0m arzak: Cat \u001b[39m=\u001b[39m Cat()\n\u001b[0;32m     <a href='vscode-notebook-cell:/d%3A/solopreneur-journey/Q4/modern-python/class15/class15.ipynb#X62sZmlsZQ%3D%3D?line=18'>19</a>\u001b[0m \u001b[39mprint\u001b[39m(arzak\u001b[39m.\u001b[39mliving_thing)\n",
      "\u001b[1;31mTypeError\u001b[0m: Can't instantiate abstract class Cat without an implementation for abstract method 'eat'"
     ]
    }
   ],
   "source": [
    "from abc import ABC, abstractmethod #abc = abstract base classes\n",
    "\n",
    "class Animal(ABC): #that's how we make a simple class into an abstract class\n",
    "    @abstractmethod\n",
    "    def __init__(self):\n",
    "        super().__init__()\n",
    "        self.living_thing : bool = True\n",
    "    \n",
    "    @abstractmethod\n",
    "    def eat(self, food:str):\n",
    "        ...                   #we add these 3 dots when we want to create a method signature and dont want it's implementation then for that we use ... dots\n",
    "\n",
    "class Cat(Animal):\n",
    "    def __init__(self): #we have to override the init otherwise it wont run\n",
    "        super().__init__()\n",
    "\n",
    "\n",
    "arzak: Cat = Cat() #error here because we have not implement the eat method in cat\n",
    "print(arzak.living_thing) \n"
   ]
  },
  {
   "cell_type": "code",
   "execution_count": 12,
   "metadata": {},
   "outputs": [
    {
     "name": "stdout",
     "output_type": "stream",
     "text": [
      "True\n",
      "Cat is eating Chips\n"
     ]
    }
   ],
   "source": [
    "from abc import ABC, abstractmethod #abc = abstract base classes\n",
    "\n",
    "class Animal(ABC): #that's how we make a simple class into an abstract class\n",
    "    @abstractmethod\n",
    "    def __init__(self):\n",
    "        super().__init__()\n",
    "        self.living_thing : bool = True\n",
    "    \n",
    "    @abstractmethod\n",
    "    def eat(self, food:str):\n",
    "        ...                   #we add these 3 dots when we want to create a method signature and dont want it's implementation then for that we use ... dots\n",
    "\n",
    "class Cat(Animal):\n",
    "    def __init__(self): #we have to override the init otherwise it wont run\n",
    "        super().__init__()\n",
    "\n",
    "    def eat(self, food:str):\n",
    "        # return super().eat(food)\n",
    "        return f\"Cat is eating {food}\"\n",
    "\n",
    "\n",
    "arzak: Cat = Cat() \n",
    "print(arzak.living_thing) \n",
    "print(arzak.eat(\"Chips\")) "
   ]
  },
  {
   "cell_type": "markdown",
   "metadata": {},
   "source": [
    "## Duck Typing\n",
    "If you have create a class which has method1 and another class also has method1 then we can add 1st class into another class because both classes are common just their name is different \n",
    "There are 2 types:\n",
    "1. Nominal Type:\n",
    "2. Duc Typing: (Typescript and python both give duc typing )\n",
    "\n",
    "https://ioflood.com/blog/duck-typing/"
   ]
  },
  {
   "cell_type": "code",
   "execution_count": 2,
   "metadata": {},
   "outputs": [
    {
     "name": "stdout",
     "output_type": "stream",
     "text": [
      "Quack!\n",
      "I'm Quacking Like a Duck!\n"
     ]
    }
   ],
   "source": [
    "class Duck:\n",
    "    def quack(self):\n",
    "        return 'Quack!'\n",
    "\n",
    "class Person:\n",
    "    def quack(self):\n",
    "        return 'I\\'m Quacking Like a Duck!'\n",
    "\n",
    "def in_the_forest(malard):\n",
    "    print(malard.quack())\n",
    "\n",
    "donald : Duck = Duck()\n",
    "john : Person = Person()\n",
    "in_the_forest(donald)\n",
    "in_the_forest(john)\n",
    "\n",
    "# Output:\n",
    "# 'Quack!'\n",
    "# 'I'm Quacking Like a Duck!'\n"
   ]
  },
  {
   "cell_type": "code",
   "execution_count": 69,
   "metadata": {},
   "outputs": [
    {
     "name": "stdout",
     "output_type": "stream",
     "text": [
      "Quack!\n",
      "I'm Quacking Like a Duck!\n"
     ]
    }
   ],
   "source": [
    "class Duck:\n",
    "    def quack(self) -> str:\n",
    "        return 'Quack!'\n",
    "\n",
    "class Person:\n",
    "    def quack(self) -> str:\n",
    "        return f\"I'm Quacking Like a Duck!\"\n",
    "\n",
    "def in_the_forest(malard:Duck | Person): #1. if we dont define anytype then everyone is allow here 2.if we only write Duck here then only donald is allow here but 3. if we only allow duck or person then only these 2 types will call it \n",
    "    print(malard.quack())\n",
    "\n",
    "donald : Duck = Duck()\n",
    "john : Person = Person()\n",
    "in_the_forest(donald)  #we can pass duck here in the forest class because both forest and duck have common method quack()\n",
    "in_the_forest(john)    #we can pass person here in the forest class because both forest and duck have common things\n",
    "\n",
    "# Output:\n",
    "# 'Quack!'\n",
    "# 'I'm Quacking Like a Duck!'\n"
   ]
  }
 ],
 "metadata": {
  "kernelspec": {
   "display_name": "Python 3",
   "language": "python",
   "name": "python3"
  },
  "language_info": {
   "codemirror_mode": {
    "name": "ipython",
    "version": 3
   },
   "file_extension": ".py",
   "mimetype": "text/x-python",
   "name": "python",
   "nbconvert_exporter": "python",
   "pygments_lexer": "ipython3",
   "version": "3.12.0"
  }
 },
 "nbformat": 4,
 "nbformat_minor": 2
}

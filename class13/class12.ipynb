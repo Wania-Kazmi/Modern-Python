{
 "cells": [
  {
   "cell_type": "markdown",
   "metadata": {},
   "source": [
    "# Object Oriented Programming\n",
    "* Class \n",
    "    * method\n",
    "        * first argument must be additonal variable (self, this, or anything else)\n",
    "    * attribute\n",
    "    * class variable \n",
    "    ```\n",
    "    public class MyClass {\n",
    "    static int classVar = 10;\n",
    "    }\n",
    "    ```\n",
    "    * instance variable\n",
    "    ```\n",
    "    public class MyClass {\n",
    "    int instanceVar = 20;\n",
    "    }\n",
    "    ```\n",
    "    * constructor (we can pass attributes in it but it is optional if you dont need it dont pass it)\n",
    "        * def ```__init__(self, param1, param2)``` (this ```__init__``` is a fixed name for constructor in python)\n",
    "### Note:\n",
    "class variables are shared among all instances of a class, while instance variables are unique to each instance of a class.\n",
    "\n",
    "## Syntax of Class:\n",
    "```\n",
    "class ClassName():\n",
    "    pass\n",
    "```\n",
    "\n",
    "Through class we create an object \n",
    "When the object created then there is our method known as constructor. "
   ]
  },
  {
   "cell_type": "code",
   "execution_count": null,
   "metadata": {},
   "outputs": [],
   "source": [
    "# We are creating 2 object methods and 2 object properties\n",
    "# object method\n",
    "def obj1_name(): pass\n",
    "def obj2_name(): pass\n",
    "\n",
    "#object properties \n",
    "obj1_name : str = \"Wania Kazmi\"\n",
    "obj2_name : str = \"Sir Qasim\"\n"
   ]
  },
  {
   "cell_type": "code",
   "execution_count": 15,
   "metadata": {},
   "outputs": [],
   "source": [
    "class Teacher(): #class name always start with capital letter\n",
    "    # self is used to attach constructor and properties with every object \n",
    "    # self do memory management that this obj has the this method and attributes attached with it\n",
    "    def __init__(self, teacher_id : int, teacher_name : str) -> None: #here we call a constructor\n",
    "        # we are creating attributes here\n",
    "        self.id : int = teacher_id\n",
    "        self.name : str = teacher_name #left side is class attribute and right is assigning value to it - left and right side name could be same or different \n",
    "\n",
    "    def speak(self, word : str) -> None:\n",
    "        print(f\"Hello {self.name} is speaking {word}\")\n",
    "\n",
    "    def teaching(self, subject : str) -> None:\n",
    "        print(f\"{self.name} is teaching {subject}\")"
   ]
  },
  {
   "cell_type": "code",
   "execution_count": 16,
   "metadata": {},
   "outputs": [],
   "source": [
    "# Through teaching class we can make thousands of objects and access class attributes and methods\n",
    "obj1 : Teacher = Teacher(1, \"Sir Zia Khan\") #obj is intialize here and the constructor will call\n",
    "obj2 : Teacher = Teacher (2, \"Sir Qasim\")"
   ]
  },
  {
   "cell_type": "code",
   "execution_count": 17,
   "metadata": {},
   "outputs": [
    {
     "data": {
      "text/plain": [
       "['__class__',\n",
       " '__delattr__',\n",
       " '__dict__',\n",
       " '__dir__',\n",
       " '__doc__',\n",
       " '__eq__',\n",
       " '__format__',\n",
       " '__ge__',\n",
       " '__getattribute__',\n",
       " '__getstate__',\n",
       " '__gt__',\n",
       " '__hash__',\n",
       " '__init__',\n",
       " '__init_subclass__',\n",
       " '__le__',\n",
       " '__lt__',\n",
       " '__module__',\n",
       " '__ne__',\n",
       " '__new__',\n",
       " '__reduce__',\n",
       " '__reduce_ex__',\n",
       " '__repr__',\n",
       " '__setattr__',\n",
       " '__sizeof__',\n",
       " '__str__',\n",
       " '__subclasshook__',\n",
       " '__weakref__',\n",
       " 'id',\n",
       " 'name',\n",
       " 'speak',\n",
       " 'teaching']"
      ]
     },
     "execution_count": 17,
     "metadata": {},
     "output_type": "execute_result"
    }
   ],
   "source": [
    "dir(obj1) # to differentiate methods with attributes - write fn at the start of the attribute to determine it as an attribute"
   ]
  },
  {
   "cell_type": "code",
   "execution_count": 18,
   "metadata": {},
   "outputs": [
    {
     "name": "stdout",
     "output_type": "stream",
     "text": [
      "Sir Zia Khan\n",
      "1\n",
      "Hello Sir Zia Khan is speaking Python\n",
      "None\n"
     ]
    }
   ],
   "source": [
    "print(obj1.name)\n",
    "print(obj1.id)\n",
    "print(obj1.speak(\"Python\"))\n",
    "# print(obj1.teaching(\"CS\"))"
   ]
  },
  {
   "cell_type": "code",
   "execution_count": 20,
   "metadata": {},
   "outputs": [
    {
     "name": "stdout",
     "output_type": "stream",
     "text": [
      "Sir Zia Khan is teaching Deep Learning\n"
     ]
    }
   ],
   "source": [
    "obj1.teaching(\"Deep Learning\")"
   ]
  }
 ],
 "metadata": {
  "kernelspec": {
   "display_name": "Python 3",
   "language": "python",
   "name": "python3"
  },
  "language_info": {
   "codemirror_mode": {
    "name": "ipython",
    "version": 3
   },
   "file_extension": ".py",
   "mimetype": "text/x-python",
   "name": "python",
   "nbconvert_exporter": "python",
   "pygments_lexer": "ipython3",
   "version": "3.12.0"
  }
 },
 "nbformat": 4,
 "nbformat_minor": 2
}

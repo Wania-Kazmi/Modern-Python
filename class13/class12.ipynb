{
 "cells": [
  {
   "cell_type": "markdown",
   "metadata": {},
   "source": [
    "# Object Oriented Programming\n",
    "* Class \n",
    "    * method\n",
    "        * first argument must be additonal variable (self, this, or anything else)\n",
    "    * attribute\n",
    "    * class variable \n",
    "    ```\n",
    "    public class MyClass {\n",
    "    static int classVar = 10;\n",
    "    }\n",
    "    ```\n",
    "    * instance variable\n",
    "    ```\n",
    "    public class MyClass {\n",
    "    int instanceVar = 20;\n",
    "    }\n",
    "    ```\n",
    "    * constructor (we can pass attributes in it but it is optional if you dont need it dont pass it)\n",
    "        * def ```__init__(self, param1, param2)``` (this ```__init__``` is a fixed name for constructor in python)\n",
    "    * class variables\n",
    "        * this value used for all objects\n",
    "        * how to call it? - ```ClassName.class_variable```\n",
    "        * ```\n",
    "            class ClassName():\n",
    "                class_variable : type = Value\n",
    "        ```\n",
    "\n",
    "    \n",
    "### Note:\n",
    "class variables are shared among all instances of a class, while instance variables are unique to each instance of a class.\n",
    "\n",
    "## Syntax of Class:\n",
    "```\n",
    "class ClassName():\n",
    "    pass\n",
    "```\n",
    "\n",
    "Through class we create an object \n",
    "When the object created then there is our method known as constructor. "
   ]
  },
  {
   "cell_type": "code",
   "execution_count": null,
   "metadata": {},
   "outputs": [],
   "source": [
    "# We are creating 2 object methods and 2 object properties\n",
    "# object method\n",
    "def obj1_name(): pass\n",
    "def obj2_name(): pass\n",
    "\n",
    "#object properties \n",
    "obj1_name : str = \"Wania Kazmi\"\n",
    "obj2_name : str = \"Sir Qasim\"\n"
   ]
  },
  {
   "cell_type": "code",
   "execution_count": 15,
   "metadata": {},
   "outputs": [],
   "source": [
    "class Teacher(): #class name always start with capital letter\n",
    "    # self is used to attach constructor and properties with every object \n",
    "    # self do memory management that this obj has the this method and attributes attached with it\n",
    "    def __init__(self, teacher_id : int, teacher_name : str) -> None: #here we call a constructor\n",
    "        # we are creating attributes here\n",
    "        self.id : int = teacher_id\n",
    "        self.name : str = teacher_name #left side is class attribute and right is assigning value to it - left and right side name could be same or different \n",
    "\n",
    "    def speak(self, word : str) -> None:\n",
    "        print(f\"Hello {self.name} is speaking {word}\")\n",
    "\n",
    "    def teaching(self, subject : str) -> None:\n",
    "        print(f\"{self.name} is teaching {subject}\")"
   ]
  },
  {
   "cell_type": "code",
   "execution_count": 16,
   "metadata": {},
   "outputs": [],
   "source": [
    "# Through teaching class we can make thousands of objects and access class attributes and methods\n",
    "obj1 : Teacher = Teacher(1, \"Sir Zia Khan\") #obj is intialize here and the constructor will call\n",
    "#obj1 is an object and teacher class instance\n",
    "obj2 : Teacher = Teacher (2, \"Sir Qasim\")"
   ]
  },
  {
   "cell_type": "code",
   "execution_count": 17,
   "metadata": {},
   "outputs": [
    {
     "data": {
      "text/plain": [
       "['__class__',\n",
       " '__delattr__',\n",
       " '__dict__',\n",
       " '__dir__',\n",
       " '__doc__',\n",
       " '__eq__',\n",
       " '__format__',\n",
       " '__ge__',\n",
       " '__getattribute__',\n",
       " '__getstate__',\n",
       " '__gt__',\n",
       " '__hash__',\n",
       " '__init__',\n",
       " '__init_subclass__',\n",
       " '__le__',\n",
       " '__lt__',\n",
       " '__module__',\n",
       " '__ne__',\n",
       " '__new__',\n",
       " '__reduce__',\n",
       " '__reduce_ex__',\n",
       " '__repr__',\n",
       " '__setattr__',\n",
       " '__sizeof__',\n",
       " '__str__',\n",
       " '__subclasshook__',\n",
       " '__weakref__',\n",
       " 'id',\n",
       " 'name',\n",
       " 'speak',\n",
       " 'teaching']"
      ]
     },
     "execution_count": 17,
     "metadata": {},
     "output_type": "execute_result"
    }
   ],
   "source": [
    "dir(obj1) # to differentiate methods with attributes - write fn at the start of the attribute to determine it as an attribute"
   ]
  },
  {
   "cell_type": "code",
   "execution_count": 18,
   "metadata": {},
   "outputs": [
    {
     "name": "stdout",
     "output_type": "stream",
     "text": [
      "Sir Zia Khan\n",
      "1\n",
      "Hello Sir Zia Khan is speaking Python\n",
      "None\n"
     ]
    }
   ],
   "source": [
    "print(obj1.name)\n",
    "print(obj1.id)\n",
    "print(obj1.speak(\"Python\"))\n",
    "# print(obj1.teaching(\"CS\"))"
   ]
  },
  {
   "cell_type": "code",
   "execution_count": 20,
   "metadata": {},
   "outputs": [
    {
     "name": "stdout",
     "output_type": "stream",
     "text": [
      "Sir Zia Khan is teaching Deep Learning\n"
     ]
    }
   ],
   "source": [
    "obj1.teaching(\"Deep Learning\")"
   ]
  },
  {
   "cell_type": "code",
   "execution_count": 21,
   "metadata": {},
   "outputs": [],
   "source": [
    "class Teacher(): \n",
    "    def __init__(this, teacher_id : int, teacher_name : str) -> None: #we can use anyword other than self but standard is to use self\n",
    "        # we are creating attributes here\n",
    "        this.id : int = teacher_id #self.attribute_name = value\n",
    "        this.name : str = teacher_name  \n",
    "\n",
    "    def speak(this, word : str) -> None:\n",
    "        print(f\"Hello {this.name} is speaking {word}\")\n",
    "\n",
    "    def teaching(this, subject : str) -> None:\n",
    "        print(f\"{this.name} is teaching {subject}\")\n",
    "\n",
    "obj1 : Teacher = Teacher(1, \"Wania\") \n",
    "obj2 : Teacher = Teacher (2, \"Sir Zia\")"
   ]
  },
  {
   "cell_type": "code",
   "execution_count": 27,
   "metadata": {},
   "outputs": [
    {
     "name": "stdout",
     "output_type": "stream",
     "text": [
      "Wania\n",
      "Sir Zia\n",
      "Hello Sir Zia is speaking Wania\n",
      "Wania is teaching Typescript\n"
     ]
    }
   ],
   "source": [
    "print(obj1.name)\n",
    "print(obj2.name)\n",
    "\n",
    "obj2.speak(\"Wania\")\n",
    "obj1.teaching(\"Typescript\")\n"
   ]
  },
  {
   "cell_type": "markdown",
   "metadata": {},
   "source": [
    "## Class Variable\n",
    "### What is class variable and it's benefit?\n",
    "class variable is what that is same for all the class object \n",
    "Class variables are not define in constructor or any variable \n",
    "* class variables\n",
    "    * this value used for all objects\n",
    "    * how to write a class variable: \n",
    "        ``` class ClassName():\n",
    "        class_variable : type = Value\n",
    "        ```\n",
    "    * how to call it? \n",
    "        * 1. using classname \n",
    "         ```ClassName.class_variable```\n",
    "        * 2. using object\n",
    "        ```object_name.class_variable```\n",
    "  "
   ]
  },
  {
   "cell_type": "code",
   "execution_count": 39,
   "metadata": {},
   "outputs": [
    {
     "name": "stdout",
     "output_type": "stream",
     "text": [
      "1 1\n",
      "2 2\n"
     ]
    }
   ],
   "source": [
    "# class is like a blueprint which is like a architech of house before it's create\n",
    "class Teacher(): \n",
    "    counter : int = 0 # class variable 1\n",
    "    help_line : str = \"0239830\" # class variable 2\n",
    "    def __init__(self, teacher_id : int, teacher_name : str) -> None: #we can use anyword other than self but standard is to use self\n",
    "        # we are creating attributes here\n",
    "        self.id : int = teacher_id #self.attribute_name = value\n",
    "        self.name : str = teacher_name \n",
    "        Teacher.counter += 1 \n",
    "\n",
    "    def speak(self, word : str) -> None:\n",
    "        print(f\"Hello {self.name} is speaking {word}\")\n",
    "\n",
    "    def teaching(self, subject : str) -> None:\n",
    "        print(f\"{self.name} is teaching {subject}\")\n",
    "    def details(self) -> None:\n",
    "        information : str = f\"\"\"Teacher name is {self.name} \n",
    "        and our helpline is {Teacher.help_line}\"\"\" #how we use the class variable inside a class - we will call it through className\n",
    "        print(information)\n",
    "\n",
    "obj1 : Teacher = Teacher(1, \"Wania\") \n",
    "print(obj1.counter, Teacher.counter)\n",
    "obj2 : Teacher = Teacher (2, \"Sir Zia\")\n",
    "print(obj2.counter, Teacher.counter)"
   ]
  },
  {
   "cell_type": "code",
   "execution_count": 33,
   "metadata": {},
   "outputs": [
    {
     "name": "stdout",
     "output_type": "stream",
     "text": [
      "0\n",
      "0\n"
     ]
    }
   ],
   "source": [
    "# calling a class variable through object\n",
    "print(obj1.counter)\n",
    "\n",
    "#calling a class variable using class name\n",
    "print(Teacher.counter)"
   ]
  },
  {
   "cell_type": "code",
   "execution_count": 37,
   "metadata": {},
   "outputs": [
    {
     "name": "stdout",
     "output_type": "stream",
     "text": [
      "Teacher name is Wania \n",
      "        and our helpline is 0239830\n"
     ]
    }
   ],
   "source": [
    "obj1.details()"
   ]
  },
  {
   "cell_type": "markdown",
   "metadata": {},
   "source": [
    "# OOP basic concepts list\n",
    "## 1. Encapsulation: \n",
    "The bundling of data and the methods that operate on that data into a single unit (class). It hides the internal state of the object and restricts access to some of its components.\n",
    "\n",
    "## 2. Inheritance: \n",
    "The mechanism by which one class can inherit properties and behavior from another class. It promotes code reusability.\n",
    "\n",
    "## 3. Polymorphism: \n",
    "The ability of a class to take on multiple forms. In OOP, it often refers to the ability of different classes to be used interchangeably through a common interface.\n",
    "\n",
    "## 4. Abstraction: \n",
    "Simplifying complex systems by modeling classes based on the essential features and ignoring the irrelevant details."
   ]
  },
  {
   "cell_type": "markdown",
   "metadata": {},
   "source": [
    "## 1. Inheritance\n",
    "```\n",
    "class ChildClass(ParentClass):\n",
    "    pass\n",
    "```"
   ]
  },
  {
   "cell_type": "code",
   "execution_count": 47,
   "metadata": {},
   "outputs": [
    {
     "name": "stdout",
     "output_type": "stream",
     "text": [
      "Brown\n",
      "Dark Brown\n",
      "Parent can speak: Urdu\n",
      "You are looking at Flowers!\n",
      "Brown\n",
      "Dark Brown\n"
     ]
    }
   ],
   "source": [
    "#Inheritance baisc example\n",
    "class Parent():\n",
    "    def __init__(self) -> None:\n",
    "        self.eye_color : str = \"Brown\"\n",
    "        self.hair_color : str = \"Dark Brown\"\n",
    "    \n",
    "    def speak(self, language : str) -> None:\n",
    "        print(f\"Parent can speak: {language}\")\n",
    "\n",
    "    def watching(self, obj_name : str) -> None:\n",
    "        print(f\"You are looking at {obj_name}!\")\n",
    "\n",
    "class Child(Parent):\n",
    "    pass\n",
    "\n",
    "\n",
    "# Parent Object\n",
    "obj1 : Parent = Parent()\n",
    "print(obj1.eye_color)\n",
    "print(obj1.hair_color)\n",
    "\n",
    "#Child Object\n",
    "obj2 : Child = Child()\n",
    "obj2.speak(\"Urdu\")\n",
    "obj2.watching(\"Flowers\")\n",
    "print(obj2.eye_color)\n",
    "print(obj2.hair_color)"
   ]
  },
  {
   "cell_type": "code",
   "execution_count": 48,
   "metadata": {},
   "outputs": [
    {
     "name": "stdout",
     "output_type": "stream",
     "text": [
      "Brown\n",
      "Dark Brown\n",
      "Parent can speak: Urdu\n",
      "You are looking at Flowers!\n",
      "Brown\n",
      "Dark Brown\n",
      "Child method for teaching: Generative AI\n"
     ]
    }
   ],
   "source": [
    "class Parent():\n",
    "    def __init__(self) -> None:\n",
    "        self.eye_color : str = \"Brown\"\n",
    "        self.hair_color : str = \"Dark Brown\"\n",
    "    \n",
    "    def speak(self, language : str) -> None:\n",
    "        print(f\"Parent can speak: {language}\")\n",
    "\n",
    "    def watching(self, obj_name : str) -> None:\n",
    "        print(f\"You are looking at {obj_name}!\")\n",
    "\n",
    "class Child(Parent):\n",
    "    def teaching(self, subject : str = None) -> None:\n",
    "        print(f\"Child method for teaching: {subject}\")\n",
    "\n",
    "\n",
    "# Parent Object\n",
    "obj1 : Parent = Parent()\n",
    "print(obj1.eye_color)\n",
    "print(obj1.hair_color)\n",
    "#no teaching method here\n",
    "\n",
    "#Child Object\n",
    "obj2 : Child = Child()\n",
    "obj2.speak(\"Urdu\")\n",
    "obj2.watching(\"Flowers\")\n",
    "print(obj2.eye_color)\n",
    "print(obj2.hair_color)\n",
    "obj2.teaching(\"Generative AI\") #call the child's own method"
   ]
  },
  {
   "cell_type": "code",
   "execution_count": 50,
   "metadata": {},
   "outputs": [
    {
     "name": "stdout",
     "output_type": "stream",
     "text": [
      "Arzak Semab\n",
      "Animation Artist\n",
      "Wania Kazmi\n",
      "GenAI Engineer\n"
     ]
    }
   ],
   "source": [
    "class Employee():\n",
    "    def __init__(self, name: str) -> None:\n",
    "        self.name : str = name\n",
    "        self.education : str = \"\"\n",
    "        self.department : str = \"\"\n",
    "\n",
    "class Designer(Employee):\n",
    "    def __init__(self, title : str , name : str) -> None:\n",
    "        super().__init__(name)\n",
    "        self.title : str = title\n",
    "\n",
    "class Developer(Employee):\n",
    "    def __init__(self, title: str, name: str) -> None:\n",
    "        super().__init__(name)\n",
    "        self.title : str = title\n",
    "        self.programmin_skill : list[str] = [\"python\"]\n",
    "\n",
    "designer1 : Designer = Designer(\"Animation Artist\", \"Arzak Semab\")\n",
    "developer1 : Developer = Developer(\"GenAI Engineer\", \"Wania Kazmi\")\n",
    "\n",
    "print(designer1.name)\n",
    "print(designer1.title)\n",
    "print(developer1.name)\n",
    "print(developer1.title)\n",
    "\n"
   ]
  }
 ],
 "metadata": {
  "kernelspec": {
   "display_name": "Python 3",
   "language": "python",
   "name": "python3"
  },
  "language_info": {
   "codemirror_mode": {
    "name": "ipython",
    "version": 3
   },
   "file_extension": ".py",
   "mimetype": "text/x-python",
   "name": "python",
   "nbconvert_exporter": "python",
   "pygments_lexer": "ipython3",
   "version": "3.12.0"
  }
 },
 "nbformat": 4,
 "nbformat_minor": 2
}

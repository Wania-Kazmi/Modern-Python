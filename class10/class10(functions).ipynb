{
 "cells": [
  {
   "cell_type": "markdown",
   "metadata": {},
   "source": [
    "# Functions\n",
    "* Pre-define functions\n",
    "    * provided in language\n",
    "* User-define functions\n",
    "    * custom functions\n",
    "\n",
    "## Similar properties on both type of functions:\n",
    "* Return and None-return functions \n",
    "    * Return\n",
    "        * we can assign this function output to any variable\n",
    "    * None-Return\n",
    "        * it will only run - we can't assign it to any variable\n",
    "\n",
    "## Components\n",
    "* function declaration / function signature\n",
    "    * function name -  it should be unique and should not be of reserved keywords\n",
    "    * Parameters    \n",
    "        * param : type\n",
    "    * return output type\n",
    "* function body\n",
    "    * Any business logic here\n",
    "* function calling\n",
    "    * function_name(arg1, arg2)\n",
    "\n",
    "### Function Syntax\n",
    "```\n",
    "def function_name(param1 : type, param2 : type,...) -> return_type : # declaration\n",
    "    function_body # body\n",
    "\n",
    "function_name(arg1, arg2, ...) # calling\n",
    "```\n",
    "\n",
    "### Lamda Function\n",
    "* one line function\n",
    "* without name function \n",
    "* only use in this line\n",
    "```\n",
    "lambda param1, param2: function_body\n",
    "\n",
    "```"
   ]
  },
  {
   "cell_type": "markdown",
   "metadata": {},
   "source": [
    "## Pre define functions\n",
    "* print\n",
    "* len\n",
    "* id\n",
    "* dir\n",
    "* chr\n",
    "* ord\n",
    "* exec\n"
   ]
  },
  {
   "cell_type": "code",
   "execution_count": 2,
   "metadata": {},
   "outputs": [
    {
     "name": "stdout",
     "output_type": "stream",
     "text": [
      "Aa\n",
      "2\n",
      "['__abs__', '__add__', '__and__', '__bool__', '__ceil__', '__class__', '__delattr__', '__dir__', '__divmod__', '__doc__', '__eq__', '__float__', '__floor__', '__floordiv__', '__format__', '__ge__', '__getattribute__', '__getnewargs__', '__getstate__', '__gt__', '__hash__', '__index__', '__init__', '__init_subclass__', '__int__', '__invert__', '__le__', '__lshift__', '__lt__', '__mod__', '__mul__', '__ne__', '__neg__', '__new__', '__or__', '__pos__', '__pow__', '__radd__', '__rand__', '__rdivmod__', '__reduce__', '__reduce_ex__', '__repr__', '__rfloordiv__', '__rlshift__', '__rmod__', '__rmul__', '__ror__', '__round__', '__rpow__', '__rrshift__', '__rshift__', '__rsub__', '__rtruediv__', '__rxor__', '__setattr__', '__sizeof__', '__str__', '__sub__', '__subclasshook__', '__truediv__', '__trunc__', '__xor__', 'as_integer_ratio', 'bit_count', 'bit_length', 'conjugate', 'denominator', 'from_bytes', 'imag', 'is_integer', 'numerator', 'real', 'to_bytes']\n"
     ]
    }
   ],
   "source": [
    "# Pre-define Function\n",
    "print(\"Aa\")\n",
    "print(len(\"Aa\"))\n",
    "print(dir(int))"
   ]
  },
  {
   "cell_type": "markdown",
   "metadata": {},
   "source": [
    "# Return and None-Return Function"
   ]
  },
  {
   "cell_type": "code",
   "execution_count": 3,
   "metadata": {},
   "outputs": [
    {
     "name": "stdout",
     "output_type": "stream",
     "text": [
      "Pakistan\n"
     ]
    },
    {
     "data": {
      "text/plain": [
       "None"
      ]
     },
     "metadata": {},
     "output_type": "display_data"
    }
   ],
   "source": [
    "# print is a None return function\n",
    "a : str = print(\"Pakistan\") #a = \"Pakistan\" | None\n",
    "display(a)\n"
   ]
  },
  {
   "cell_type": "code",
   "execution_count": 4,
   "metadata": {},
   "outputs": [
    {
     "data": {
      "text/plain": [
       "8"
      ]
     },
     "metadata": {},
     "output_type": "display_data"
    }
   ],
   "source": [
    "# Return Function - here it return a len of Pakistan so it is a return function\n",
    "a : int = len(\"Pakistan\") \n",
    "display(a)"
   ]
  },
  {
   "cell_type": "markdown",
   "metadata": {},
   "source": [
    "## Create a simple function without any argument (default function)"
   ]
  },
  {
   "cell_type": "code",
   "execution_count": 5,
   "metadata": {},
   "outputs": [
    {
     "name": "stdout",
     "output_type": "stream",
     "text": [
      "PIAIC Generative AI\n",
      "Python Crash Course\n"
     ]
    }
   ],
   "source": [
    "# Function that doesnot take any argument from you is called default function\n",
    "def piaic() -> None: #declaration\n",
    "    # function body start\n",
    "    print(\"PIAIC Generative AI\") #statement 1\n",
    "    print(\"Python Crash Course\") #statement 2\n",
    "    # function body end\n",
    "\n",
    "piaic() #calling"
   ]
  },
  {
   "cell_type": "markdown",
   "metadata": {},
   "source": [
    "## Required Parameters"
   ]
  },
  {
   "cell_type": "code",
   "execution_count": 6,
   "metadata": {},
   "outputs": [
    {
     "data": {
      "text/plain": [
       "79"
      ]
     },
     "execution_count": 6,
     "metadata": {},
     "output_type": "execute_result"
    }
   ],
   "source": [
    "def add_two_numbers(num1 : int , num2 : int) -> int:\n",
    "    return num1 + num2\n",
    "\n",
    "add_two_numbers(23,56) "
   ]
  },
  {
   "cell_type": "markdown",
   "metadata": {},
   "source": [
    "## Default Parameters"
   ]
  },
  {
   "cell_type": "code",
   "execution_count": 7,
   "metadata": {},
   "outputs": [
    {
     "name": "stdout",
     "output_type": "stream",
     "text": [
      "23 0\n"
     ]
    },
    {
     "data": {
      "text/plain": [
       "23"
      ]
     },
     "execution_count": 7,
     "metadata": {},
     "output_type": "execute_result"
    }
   ],
   "source": [
    "def add_two_numbers(num1 : int , num2 : int = 0) -> int:\n",
    "    print(num1 , num2)\n",
    "    return num1 + num2\n",
    "\n",
    "add_two_numbers(23) \n",
    "add_two_numbers(23, 54) #this is a positional argument "
   ]
  },
  {
   "cell_type": "markdown",
   "metadata": {},
   "source": [
    "# Call a function through its key"
   ]
  },
  {
   "cell_type": "code",
   "execution_count": 38,
   "metadata": {},
   "outputs": [
    {
     "name": "stdout",
     "output_type": "stream",
     "text": [
      "4 3\n"
     ]
    },
    {
     "data": {
      "text/plain": [
       "7"
      ]
     },
     "execution_count": 38,
     "metadata": {},
     "output_type": "execute_result"
    }
   ],
   "source": [
    "#we can also call a function through its key\n",
    "def add_two_numbers(num1 : int , num2 : int ) -> int:\n",
    "    print(num1 , num2)\n",
    "    return num1 + num2\n",
    "\n",
    "add_two_numbers(3, 4) # positional argument \n",
    "add_two_numbers(num2 = 3,num1 = 4) # passing argument using key - keyword arguments"
   ]
  },
  {
   "cell_type": "markdown",
   "metadata": {},
   "source": [
    "## Lambda Function"
   ]
  },
  {
   "cell_type": "code",
   "execution_count": 9,
   "metadata": {},
   "outputs": [
    {
     "data": {
      "text/plain": [
       "5"
      ]
     },
     "execution_count": 9,
     "metadata": {},
     "output_type": "execute_result"
    }
   ],
   "source": [
    "# when we work on microcontrollers - that time memory is v important \n",
    "# so for that we want, when this code run, only then our code excute and consume memory and then remove the memory after that - that's why we create lambda function\n",
    "\n",
    "a = lambda num1, num2 : num1 + num2\n",
    "a(2,3)"
   ]
  },
  {
   "cell_type": "markdown",
   "metadata": {},
   "source": [
    "### map() with lambda"
   ]
  },
  {
   "cell_type": "code",
   "execution_count": 13,
   "metadata": {},
   "outputs": [
    {
     "name": "stdout",
     "output_type": "stream",
     "text": [
      "[1, 4, 9, 16, 25, 36, 49, 64, 81, 100]\n"
     ]
    }
   ],
   "source": [
    "data : list[int] = [1,2,3,4,5,6,7,8,9,10]\n",
    "data = list(map(lambda x:x**2, data))\n",
    "\n",
    "print(data)"
   ]
  },
  {
   "cell_type": "markdown",
   "metadata": {},
   "source": [
    "## filter() with lambda"
   ]
  },
  {
   "cell_type": "code",
   "execution_count": 14,
   "metadata": {},
   "outputs": [
    {
     "data": {
      "text/plain": [
       "[2, 4, 6, 8, 10]"
      ]
     },
     "execution_count": 14,
     "metadata": {},
     "output_type": "execute_result"
    }
   ],
   "source": [
    "data : list[int] = [1,2,3,4,5,6,7,8,9,10]\n",
    "data = list(filter(lambda x:x%2 == 0, data))\n",
    "data"
   ]
  },
  {
   "cell_type": "code",
   "execution_count": 15,
   "metadata": {},
   "outputs": [
    {
     "name": "stdout",
     "output_type": "stream",
     "text": [
      "30\n"
     ]
    }
   ],
   "source": [
    "# using static typing \n",
    "from typing import Callable\n",
    "\n",
    "# two parameters of int type and also returning int type in callable[[int, int], int]\n",
    "add: Callable[[int, int], int] = lambda x, y: x + y\n",
    "result = add(10, 20)\n",
    "print(result)"
   ]
  },
  {
   "cell_type": "markdown",
   "metadata": {},
   "source": [
    "## Generator Functions\n",
    "In regular function if we ask to generate numbers from 1 to 1 million and then try to filter out the even, odd numbers \n",
    "* 1. Array will be created of value 1 to 1 million \n",
    "* 2. Then loop will run and check each element of an array and check the logic for even or odd values\n",
    "\n",
    "But in generator function \n",
    "* 1. We don't need to create a whole array at once\n",
    "* 2. It generates one number after another when needed not all at once\n",
    "* 3. Generate a value and check a logic for that value if it fullfill the even value condition it will be store otherwise it will be skiped\n",
    "* 4. Iterate on elements one by one\n",
    "* 5. Stop after each iteration\n",
    "* 6. Remember old iteration value (last iterate value)\n",
    "* 7. next iterate \n",
    "        * go forward from last iterative value\n",
    "\n"
   ]
  },
  {
   "cell_type": "code",
   "execution_count": 5,
   "metadata": {},
   "outputs": [
    {
     "name": "stdout",
     "output_type": "stream",
     "text": [
      "<generator object generator_function at 0x000001C36C7CEE30>\n",
      "[1, 2, 3, 4, 5, 6, 7, 8, 9, 10]\n"
     ]
    }
   ],
   "source": [
    "#To create a generator function, you use the yield keyword instead of the return keyword. Here's an example:\n",
    "def generator_function(start:int, end:int ,step:int = 1):\n",
    "    for i in range(start,end+1,step):\n",
    "        yield i #generator function\n",
    "\n",
    "iterator_variable = generator_function(1,10)\n",
    "print(iterator_variable) # if we print like this - it will show that it is generator function - so to iterate the generator function we have to apply list on it\n",
    "print(list(iterator_variable))"
   ]
  },
  {
   "cell_type": "code",
   "execution_count": 8,
   "metadata": {},
   "outputs": [
    {
     "name": "stdout",
     "output_type": "stream",
     "text": [
      "1\n",
      "2\n",
      "3\n",
      "Pakistan\n",
      "4\n"
     ]
    }
   ],
   "source": [
    "a = generator_function(1,10)\n",
    "\n",
    "# to perform iteration one by one - it remember the last iteration\n",
    "print(next(a))\n",
    "print(next(a))\n",
    "print(next(a))\n",
    "print(\"Pakistan\")\n",
    "print(next(a))\n"
   ]
  },
  {
   "cell_type": "code",
   "execution_count": 26,
   "metadata": {},
   "outputs": [],
   "source": [
    "from collections.abc import Iterator\n",
    "MyDictT = dict[str, object] #example\n",
    "def yield_func() -> Iterator[MyDictT]:\n",
    "    a : MyDictT = {}\n",
    "    b : MyDictT = {}\n",
    "    yield a\n",
    "    yield b"
   ]
  },
  {
   "cell_type": "code",
   "execution_count": 29,
   "metadata": {},
   "outputs": [
    {
     "name": "stdout",
     "output_type": "stream",
     "text": [
      "1\n",
      "2\n",
      "<class 'generator'>\n",
      "3\n",
      "4\n",
      "5\n",
      "6\n",
      "7\n",
      "8\n",
      "9\n",
      "10\n"
     ]
    }
   ],
   "source": [
    "from collections.abc import Iterator\n",
    "def generator_function(start:int, end:int ,step:int = 1) -> Iterator[int]:\n",
    "    for i in range(start,end+1,step):\n",
    "        yield i #generator function\n",
    "\n",
    "iterator_variable : Iterator[int]  = generator_function(1,10) # generator is sub type of iterator\n",
    "\n",
    "\n",
    "print(next(iterator_variable))\n",
    "print(next(iterator_variable))\n",
    "print(type(iterator_variable))\n",
    "\n",
    "for i in iterator_variable:\n",
    "    print(i)"
   ]
  },
  {
   "cell_type": "markdown",
   "metadata": {},
   "source": [
    "# Pass unlimited arguments\n"
   ]
  },
  {
   "cell_type": "code",
   "execution_count": 34,
   "metadata": {},
   "outputs": [
    {
     "name": "stdout",
     "output_type": "stream",
     "text": [
      "The given numbers are (1, 2, 3, 4, 5) and type of numbers is <class 'tuple'>\n"
     ]
    },
    {
     "data": {
      "text/plain": [
       "15"
      ]
     },
     "execution_count": 34,
     "metadata": {},
     "output_type": "execute_result"
    }
   ],
   "source": [
    "#what ever we will pass in the arguments will goes into the abc function in data type of tuple\n",
    "# as we are receiving arguments in tuple form so we can apply so many logics on tuple\n",
    "def abc(*nums):\n",
    "    print(f\"The given numbers are {nums} and type of numbers is {type(nums)}\")\n",
    "    total = 0\n",
    "    for i in nums:\n",
    "        total += i\n",
    "\n",
    "    return total\n",
    "\n",
    "abc(1,2,3,4,5)"
   ]
  },
  {
   "cell_type": "code",
   "execution_count": 10,
   "metadata": {},
   "outputs": [
    {
     "name": "stdout",
     "output_type": "stream",
     "text": [
      "Hello Monica\n",
      "Hello Luke\n",
      "Hello Steve\n",
      "Hello John\n",
      "Hello Wania\n"
     ]
    }
   ],
   "source": [
    "from typing import Tuple\n",
    "\n",
    "def greet(*names: Tuple[str,...]) -> None:\n",
    "    \"\"\"\n",
    "    This function greets all persons in the names tuple.\n",
    "    \"\"\"\n",
    "    for name in names:\n",
    "        print(\"Hello\", name)\n",
    "\n",
    "greet(\"Monica\", \"Luke\", \"Steve\", \"John\", \"Wania\")"
   ]
  },
  {
   "cell_type": "code",
   "execution_count": 39,
   "metadata": {},
   "outputs": [
    {
     "name": "stdout",
     "output_type": "stream",
     "text": [
      "{'a': 2, 'b': 4, 'c': 'E', 'd': 21, 'f': True, 'g': 'Pakistan'} <class 'dict'>\n"
     ]
    }
   ],
   "source": [
    "#we can also call a function through its key\n",
    "def xyz(**karags):\n",
    "    print(karags, type(karags))\n",
    "\n",
    "xyz(a=2, b=4, c=\"E\", d=21, f=True, g=\"Pakistan\")"
   ]
  },
  {
   "cell_type": "code",
   "execution_count": 11,
   "metadata": {},
   "outputs": [
    {
     "name": "stdout",
     "output_type": "stream",
     "text": [
      "The values of name is {'name1': 'Monica', 'name2': 'Luke', 'name3': 'Steve', 'name4': 'John'}\n",
      "Hello Monica\n",
      "Hello Luke\n",
      "Hello Steve\n",
      "Hello John\n"
     ]
    }
   ],
   "source": [
    "from typing import Tuple, Dict\n",
    "\n",
    "def greet1(**names: Dict[str, str]) -> None:\n",
    "    # \"\"\"\n",
    "    # This function greets all persons in the names tuple.\n",
    "    # \"\"\"\n",
    "    print(f\"The values of name is {names}\")\n",
    "    for name in names:\n",
    "        print(\"Hello\", names[name])\n",
    "\n",
    "greet1(name1 = \"Monica\", name2 =  \"Luke\", name3 = \"Steve\", name4 = \"John\")"
   ]
  },
  {
   "cell_type": "code",
   "execution_count": 1,
   "metadata": {},
   "outputs": [
    {
     "name": "stdout",
     "output_type": "stream",
     "text": [
      "1 2 ('a', 'b') {'value': 100, 'value2': 200}\n"
     ]
    }
   ],
   "source": [
    "def abc(a,b,*param1, **param2):\n",
    "    print(a,b,param1,param2)\n",
    "     \n",
    "abc(1,2, \"a\",\"b\", value = 100, value2 = 200) #we have positional arguments, then we have unlimited arguments, then we have keywords arguments"
   ]
  },
  {
   "cell_type": "code",
   "execution_count": 8,
   "metadata": {},
   "outputs": [
    {
     "name": "stdout",
     "output_type": "stream",
     "text": [
      "1 2 ('a', 'b') {'value': 100, 'value2': 200}\n"
     ]
    }
   ],
   "source": [
    "from typing import Tuple, Dict\n",
    "def abc(a : int, b : int, *param1 : Tuple[str, ...], **param2 : Dict[str , str]) -> None:\n",
    "    print(a,b,param1,param2)\n",
    "     \n",
    "abc(1,2, \"a\",\"b\", value = 100, value2 = 200)"
   ]
  },
  {
   "cell_type": "markdown",
   "metadata": {},
   "source": [
    "# Decorators\n",
    "* when u attach another function with your function\n"
   ]
  },
  {
   "cell_type": "code",
   "execution_count": 9,
   "metadata": {},
   "outputs": [
    {
     "name": "stdout",
     "output_type": "stream",
     "text": [
      "Something is happening before the function is called.\n",
      "Hello!\n",
      "Something is happening after the function is called.\n"
     ]
    }
   ],
   "source": [
    "from typing import Callable\n",
    "def simple_decorator(func : Callable[[], None]) -> Callable[[], None] :\n",
    "    def wrapper():\n",
    "        print(\"Something is happening before the function is called.\")\n",
    "        func()\n",
    "        print(\"Something is happening after the function is called.\")\n",
    "    return wrapper\n",
    "\n",
    "@simple_decorator\n",
    "def say_hello():\n",
    "    print(\"Hello!\")\n",
    "\n",
    "say_hello()"
   ]
  },
  {
   "cell_type": "code",
   "execution_count": 10,
   "metadata": {},
   "outputs": [
    {
     "name": "stdout",
     "output_type": "stream",
     "text": [
      "Something is happening before the function is called.\n",
      "22\n",
      "Something is happening after the function is called.\n"
     ]
    }
   ],
   "source": [
    "from typing import Callable\n",
    "def simple_decorator(func : Callable[[int], None]) -> Callable[[int], None]:\n",
    "    def wrapper(num1 : int):\n",
    "        print(\"Something is happening before the function is called.\")\n",
    "        func(num1)\n",
    "        print(\"Something is happening after the function is called.\")\n",
    "    return wrapper\n",
    "\n",
    "@simple_decorator\n",
    "def say_hello(num1 : int):\n",
    "    print(num1)\n",
    "\n",
    "say_hello(22)"
   ]
  },
  {
   "cell_type": "markdown",
   "metadata": {},
   "source": [
    "# Recursive Function"
   ]
  },
  {
   "cell_type": "code",
   "execution_count": 11,
   "metadata": {},
   "outputs": [
    {
     "name": "stdout",
     "output_type": "stream",
     "text": [
      "The factorial of 5 is 120\n"
     ]
    }
   ],
   "source": [
    "def factorial(x: int) -> int:\n",
    "    \"\"\"This is a recursive function\n",
    "    to find the factorial of an integer\"\"\"\n",
    "    if x == 1:\n",
    "        return 1\n",
    "    else:\n",
    "        return (x * factorial(x-1))\n",
    "\n",
    "num = 5\n",
    "print(\"The factorial of\", num, \"is\", factorial(num))"
   ]
  }
 ],
 "metadata": {
  "kernelspec": {
   "display_name": "Python 3",
   "language": "python",
   "name": "python3"
  },
  "language_info": {
   "codemirror_mode": {
    "name": "ipython",
    "version": 3
   },
   "file_extension": ".py",
   "mimetype": "text/x-python",
   "name": "python",
   "nbconvert_exporter": "python",
   "pygments_lexer": "ipython3",
   "version": "3.12.0"
  }
 },
 "nbformat": 4,
 "nbformat_minor": 2
}

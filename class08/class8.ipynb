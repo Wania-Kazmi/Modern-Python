{
 "cells": [
  {
   "cell_type": "code",
   "execution_count": 1,
   "id": "67d8625d-209c-4817-a543-57bc1a30c525",
   "metadata": {},
   "outputs": [
    {
     "name": "stdout",
     "output_type": "stream",
     "text": [
      "['clear', 'copy', 'fromkeys', 'get', 'items', 'keys', 'pop', 'popitem', 'setdefault', 'update', 'values']\n"
     ]
    }
   ],
   "source": [
    "import pprint\n",
    "# dictionary\n",
    "Key = [int, str]\n",
    "Value = [int, str, list, tuple, set, dict]\n",
    "data : dict[Key, Value] = {\n",
    "                                \"fname\":\"Syed Ejaz\",\n",
    "                                \"name\":\"Wania Kazmi\",\n",
    "                                \"education\":\"BSSE\"\n",
    "                              }\n",
    "\n",
    "methods: list[str] = [m for m in dir(data) if \"__\" not in m]\n",
    "print(methods)"
   ]
  },
  {
   "cell_type": "markdown",
   "id": "fc35ff6c",
   "metadata": {},
   "source": [
    "# Clear()"
   ]
  },
  {
   "cell_type": "code",
   "execution_count": 2,
   "id": "dbe2643b",
   "metadata": {},
   "outputs": [
    {
     "name": "stdout",
     "output_type": "stream",
     "text": [
      "Before {'fname': 'Syed Ejaz', 'name': 'Wania Kazmi', 'education': 'BSSE'}\n",
      "After {}\n",
      "['clear', 'copy', 'fromkeys', 'get', 'items', 'keys', 'pop', 'popitem', 'setdefault', 'update', 'values']\n"
     ]
    }
   ],
   "source": [
    "# dictionary\n",
    "Key = [int, str]\n",
    "Value = [int, str, list, tuple, set, dict]\n",
    "data : dict[Key, Value] = {\n",
    "                                \"fname\":\"Syed Ejaz\",\n",
    "                                \"name\":\"Wania Kazmi\",\n",
    "                                \"education\":\"BSSE\"\n",
    "                              }\n",
    "print(\"Before\", data)\n",
    "data.clear()\n",
    "print(\"After\",data)\n",
    "\n",
    "methods: list[str] = [m for m in dir(data) if \"__\" not in m]\n",
    "print(methods)"
   ]
  },
  {
   "cell_type": "markdown",
   "id": "0558af32",
   "metadata": {},
   "source": [
    "# del dictionary_name"
   ]
  },
  {
   "cell_type": "code",
   "execution_count": 3,
   "id": "7cb324af",
   "metadata": {},
   "outputs": [
    {
     "name": "stdout",
     "output_type": "stream",
     "text": [
      "Before {'fname': 'Syed Ejaz', 'name': 'Wania Kazmi', 'education': 'BSSE'}\n"
     ]
    },
    {
     "ename": "NameError",
     "evalue": "name 'data' is not defined",
     "output_type": "error",
     "traceback": [
      "\u001b[1;31m---------------------------------------------------------------------------\u001b[0m",
      "\u001b[1;31mNameError\u001b[0m                                 Traceback (most recent call last)",
      "\u001b[1;32md:\\solopreneur-journey\\Q4\\modern-python\\class08\\class8.ipynb Cell 5\u001b[0m line \u001b[0;36m1\n\u001b[0;32m      <a href='vscode-notebook-cell:/d%3A/solopreneur-journey/Q4/modern-python/class08/class8.ipynb#W6sZmlsZQ%3D%3D?line=7'>8</a>\u001b[0m \u001b[39mprint\u001b[39m(\u001b[39m\"\u001b[39m\u001b[39mBefore\u001b[39m\u001b[39m\"\u001b[39m, data)\n\u001b[0;32m      <a href='vscode-notebook-cell:/d%3A/solopreneur-journey/Q4/modern-python/class08/class8.ipynb#W6sZmlsZQ%3D%3D?line=8'>9</a>\u001b[0m \u001b[39mdel\u001b[39;00m data\n\u001b[1;32m---> <a href='vscode-notebook-cell:/d%3A/solopreneur-journey/Q4/modern-python/class08/class8.ipynb#W6sZmlsZQ%3D%3D?line=9'>10</a>\u001b[0m \u001b[39mprint\u001b[39m(\u001b[39m\"\u001b[39m\u001b[39mAfter\u001b[39m\u001b[39m\"\u001b[39m,data)\n",
      "\u001b[1;31mNameError\u001b[0m: name 'data' is not defined"
     ]
    }
   ],
   "source": [
    "Key = [int, str]\n",
    "Value = [int, str, list, tuple, set, dict]\n",
    "data : dict[Key, Value] = {\n",
    "                                \"fname\":\"Syed Ejaz\",\n",
    "                                \"name\":\"Wania Kazmi\",\n",
    "                                \"education\":\"BSSE\"\n",
    "                              }\n",
    "print(\"Before\", data)\n",
    "del data\n",
    "print(\"After\",data)"
   ]
  },
  {
   "cell_type": "markdown",
   "id": "8b99c58c",
   "metadata": {},
   "source": [
    "# pop()"
   ]
  },
  {
   "cell_type": "code",
   "execution_count": 5,
   "id": "ece49d77",
   "metadata": {},
   "outputs": [
    {
     "name": "stdout",
     "output_type": "stream",
     "text": [
      "Before {'fname': 'Syed Ejaz', 'name': 'Wania Kazmi', 'education': 'BSSE'}\n",
      "After {'fname': 'Syed Ejaz', 'name': 'Wania Kazmi'}\n"
     ]
    }
   ],
   "source": [
    "Key = [int, str]\n",
    "Value = [int, str, list, tuple, set, dict]\n",
    "data : dict[Key, Value] = {\n",
    "                                \"fname\":\"Syed Ejaz\",\n",
    "                                \"name\":\"Wania Kazmi\",\n",
    "                                \"education\":\"BSSE\"\n",
    "                              }\n",
    "print(\"Before\", data)\n",
    "data.pop(\"education\")\n",
    "print(\"After\",data)"
   ]
  },
  {
   "cell_type": "markdown",
   "id": "85e1fc70",
   "metadata": {},
   "source": [
    "# popitem()"
   ]
  },
  {
   "cell_type": "code",
   "execution_count": 7,
   "id": "c1f74829",
   "metadata": {},
   "outputs": [
    {
     "name": "stdout",
     "output_type": "stream",
     "text": [
      "Before {'fname': 'Syed Ejaz', 'name': 'Wania Kazmi', 'education': 'BSSE'}\n",
      "After {'fname': 'Syed Ejaz', 'name': 'Wania Kazmi'}\n"
     ]
    }
   ],
   "source": [
    "Key = [int, str]\n",
    "Value = [int, str, list, tuple, set, dict]\n",
    "data : dict[Key, Value] = {\n",
    "                                \"fname\":\"Syed Ejaz\",\n",
    "                                \"name\":\"Wania Kazmi\",\n",
    "                                \"education\":\"BSSE\"\n",
    "                              }\n",
    "print(\"Before\", data)\n",
    "data.popitem()\n",
    "print(\"After\",data)"
   ]
  },
  {
   "cell_type": "markdown",
   "id": "4300fe0a",
   "metadata": {},
   "source": [
    "# get()"
   ]
  },
  {
   "cell_type": "code",
   "execution_count": 9,
   "id": "30ce60b5",
   "metadata": {},
   "outputs": [
    {
     "name": "stdout",
     "output_type": "stream",
     "text": [
      "Before {'fname': 'Syed Ejaz', 'name': 'Wania Kazmi', 'education': 'BSSE'}\n",
      "NA\n"
     ]
    }
   ],
   "source": [
    "Key = [int, str]\n",
    "Value = [int, str, list, tuple, set, dict]\n",
    "data : dict[Key, Value] = {\n",
    "                                \"fname\":\"Syed Ejaz\",\n",
    "                                \"name\":\"Wania Kazmi\",\n",
    "                                \"education\":\"BSSE\"\n",
    "                              }\n",
    "print(\"Before\", data)\n",
    "print(data.get(\"Pakistan\", \"NA\"))\n",
    "# print(\"After\",data)"
   ]
  },
  {
   "cell_type": "markdown",
   "id": "aea8024b",
   "metadata": {},
   "source": [
    "# setdefault()"
   ]
  },
  {
   "cell_type": "code",
   "execution_count": 10,
   "id": "c761ade7",
   "metadata": {},
   "outputs": [
    {
     "name": "stdout",
     "output_type": "stream",
     "text": [
      "Before {'fname': 'Syed Ejaz', 'name': 'Wania Kazmi', 'education': 'BSSE'}\n",
      "After {'fname': 'Syed Ejaz', 'name': 'Wania Kazmi', 'education': 'BSSE', 'Pakistan': None}\n"
     ]
    }
   ],
   "source": [
    "Key = [int, str]\n",
    "Value = [int, str, list, tuple, set, dict]\n",
    "data : dict[Key, Value] = {\n",
    "                                \"fname\":\"Syed Ejaz\",\n",
    "                                \"name\":\"Wania Kazmi\",\n",
    "                                \"education\":\"BSSE\"\n",
    "                              }\n",
    "print(\"Before\", data)\n",
    "# a : str = data.setdefault(\"Pakistan\") # it will just add the key with empty value\n",
    "a : str = data.setdefault(\"Pakistan\",\"Empty Value\") # it will add the key and value \n",
    "print(\"After\",data) "
   ]
  },
  {
   "cell_type": "markdown",
   "id": "f61a45ad",
   "metadata": {},
   "source": [
    "# update()"
   ]
  },
  {
   "cell_type": "code",
   "execution_count": 11,
   "id": "125e4875",
   "metadata": {},
   "outputs": [
    {
     "name": "stdout",
     "output_type": "stream",
     "text": [
      "{'fname': 'Syed Ejaz', 'name': 'wania', 'education': 'BSSE', 'age': 20, 'height': '5 feet 8 inch'}\n"
     ]
    }
   ],
   "source": [
    "Key = [int, str]\n",
    "Value = [int, str, list, tuple, set, dict]\n",
    "data : dict[Key, Value] = {\n",
    "                                \"fname\":\"Syed Ejaz\",\n",
    "                                \"name\":\"Wania Kazmi\",\n",
    "                                \"education\":\"BSSE\"\n",
    "                              }\n",
    "\n",
    "data1 : dict[Key, Value] = {\n",
    "    \"name\": \"wania\",\n",
    "    \"age\": 20,\n",
    "    \"height\": \"5 feet 8 inch\"\n",
    "}\n",
    "\n",
    "data.update(data1)\n",
    "print(data)"
   ]
  },
  {
   "cell_type": "markdown",
   "id": "d5bc3f5d",
   "metadata": {},
   "source": [
    "# What we can do from this dictionary\n",
    "* for all the database we create - in that we use dataframe i.e tabular data"
   ]
  },
  {
   "cell_type": "code",
   "execution_count": 13,
   "id": "60ce3fde",
   "metadata": {},
   "outputs": [
    {
     "data": {
      "text/html": [
       "<div>\n",
       "<style scoped>\n",
       "    .dataframe tbody tr th:only-of-type {\n",
       "        vertical-align: middle;\n",
       "    }\n",
       "\n",
       "    .dataframe tbody tr th {\n",
       "        vertical-align: top;\n",
       "    }\n",
       "\n",
       "    .dataframe thead th {\n",
       "        text-align: right;\n",
       "    }\n",
       "</style>\n",
       "<table border=\"1\" class=\"dataframe\">\n",
       "  <thead>\n",
       "    <tr style=\"text-align: right;\">\n",
       "      <th></th>\n",
       "      <th>rollNo</th>\n",
       "      <th>name</th>\n",
       "      <th>education</th>\n",
       "    </tr>\n",
       "  </thead>\n",
       "  <tbody>\n",
       "    <tr>\n",
       "      <th>0</th>\n",
       "      <td>1</td>\n",
       "      <td>Sir Zia</td>\n",
       "      <td>Master</td>\n",
       "    </tr>\n",
       "    <tr>\n",
       "      <th>1</th>\n",
       "      <td>2</td>\n",
       "      <td>Sir Inam</td>\n",
       "      <td>Master</td>\n",
       "    </tr>\n",
       "    <tr>\n",
       "      <th>2</th>\n",
       "      <td>3</td>\n",
       "      <td>M. Qasim</td>\n",
       "      <td>Master</td>\n",
       "    </tr>\n",
       "  </tbody>\n",
       "</table>\n",
       "</div>"
      ],
      "text/plain": [
       "   rollNo      name education\n",
       "0       1   Sir Zia    Master\n",
       "1       2  Sir Inam    Master\n",
       "2       3  M. Qasim    Master"
      ]
     },
     "execution_count": 13,
     "metadata": {},
     "output_type": "execute_result"
    }
   ],
   "source": [
    "import pandas as pd\n",
    "from typing import Any\n",
    "\n",
    "students_data : dict[str, list[Any]] = {\n",
    "    \"rollNo\": [1,2,3],\n",
    "    \"name\" : [\"Sir Zia\", \"Sir Inam\", \"M. Qasim\"],\n",
    "    \"education\" : [\"Master\",\"Master\",\"Master\"]\n",
    "}\n",
    "\n",
    "df : pd.DataFrame = pd.DataFrame(students_data)\n",
    "# print(df)\n",
    "df"
   ]
  },
  {
   "cell_type": "code",
   "execution_count": 14,
   "id": "66c5e0fa",
   "metadata": {},
   "outputs": [
    {
     "name": "stdout",
     "output_type": "stream",
     "text": [
      "True\n",
      "dict_keys(['wania', 'kazmi'])\n"
     ]
    }
   ],
   "source": [
    "friends_language : dict[Key, Value] = {\n",
    "    \"wania\" : \"python\",\n",
    "    \"kazmi\" : \"Typescript\"\n",
    "}\n",
    "\n",
    "print(\"erin\" not in friends_language.keys())\n",
    "print(friends_language.keys())"
   ]
  },
  {
   "cell_type": "code",
   "execution_count": 15,
   "id": "bf9beb27",
   "metadata": {},
   "outputs": [
    {
     "data": {
      "text/plain": [
       "True"
      ]
     },
     "execution_count": 15,
     "metadata": {},
     "output_type": "execute_result"
    }
   ],
   "source": [
    "# here we can check Wania value in long string which was not possible through == \n",
    "\"Wania\" in \"\"\"My name is Wania and I am working as a faculty member of PIAIC \"\"\""
   ]
  },
  {
   "cell_type": "markdown",
   "id": "c2db1934",
   "metadata": {},
   "source": [
    "# How to convert List into Json:"
   ]
  },
  {
   "cell_type": "code",
   "execution_count": 17,
   "id": "7dfef814",
   "metadata": {},
   "outputs": [
    {
     "name": "stdout",
     "output_type": "stream",
     "text": [
      "[\n",
      "    1,\n",
      "    2,\n",
      "    3,\n",
      "    4,\n",
      "    5\n",
      "]\n"
     ]
    }
   ],
   "source": [
    "import json\n",
    "\n",
    "my_list = [1, 2, 3, 4, 5]\n",
    "\n",
    "# Convert the list to a pretty-printed JSON string with an indentation of 4 spaces\n",
    "json_string = json.dumps(my_list, indent=4)\n",
    "\n",
    "# Print the pretty-printed JSON string\n",
    "print(json_string)\n"
   ]
  }
 ],
 "metadata": {
  "kernelspec": {
   "display_name": "Python 3 (ipykernel)",
   "language": "python",
   "name": "python3"
  },
  "language_info": {
   "codemirror_mode": {
    "name": "ipython",
    "version": 3
   },
   "file_extension": ".py",
   "mimetype": "text/x-python",
   "name": "python",
   "nbconvert_exporter": "python",
   "pygments_lexer": "ipython3",
   "version": "3.12.0"
  }
 },
 "nbformat": 4,
 "nbformat_minor": 5
}

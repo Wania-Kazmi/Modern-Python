{
 "cells": [
  {
   "cell_type": "markdown",
   "metadata": {},
   "source": [
    "# Loop and input from user \n",
    "* while\n",
    "* for \n",
    "* controls\n",
    "    * breaks \n",
    "    * continue\n",
    "    * pass\n",
    "* input with input function \n",
    "* input from console"
   ]
  },
  {
   "cell_type": "markdown",
   "metadata": {},
   "source": [
    "# Loop working on iterative data types\n",
    "* list \n",
    "* tuple\n",
    "* dictionary\n",
    "* string\n",
    "\n",
    "#### set - iteration doesnot perform on this"
   ]
  },
  {
   "cell_type": "markdown",
   "metadata": {},
   "source": [
    "### Iteration on Loop"
   ]
  },
  {
   "cell_type": "code",
   "execution_count": 1,
   "metadata": {},
   "outputs": [
    {
     "name": "stdout",
     "output_type": "stream",
     "text": [
      "[1, 2, 3, 4, 5]\n"
     ]
    }
   ],
   "source": [
    "#                 0 1 2 3 4\n",
    "l1 : list[int] = [1,2,3,4,5]\n",
    "print(l1)"
   ]
  },
  {
   "cell_type": "code",
   "execution_count": 3,
   "metadata": {},
   "outputs": [
    {
     "name": "stdout",
     "output_type": "stream",
     "text": [
      "1\n",
      "2\n",
      "3\n",
      "4\n",
      "5\n"
     ]
    }
   ],
   "source": [
    "l1 : list[int] = [1,2,3,4,5]\n",
    "\n",
    "for i in l1:\n",
    "    print(i)"
   ]
  },
  {
   "cell_type": "markdown",
   "metadata": {},
   "source": [
    "### Iteration on dicitonary"
   ]
  },
  {
   "cell_type": "code",
   "execution_count": 4,
   "metadata": {},
   "outputs": [
    {
     "name": "stdout",
     "output_type": "stream",
     "text": [
      "name\n",
      "fname\n",
      "education\n"
     ]
    }
   ],
   "source": [
    "data1 : dict[str, str] = {\n",
    "    \"name\" : \"wania\",\n",
    "    \"fname\" : \"S. Ejaz\",\n",
    "    \"education\" : \"BSSE \"\n",
    "}\n",
    "\n",
    "for i in data1:\n",
    "    print(i)"
   ]
  },
  {
   "cell_type": "markdown",
   "metadata": {},
   "source": [
    "### Iteration on Tuple"
   ]
  },
  {
   "cell_type": "code",
   "execution_count": 1,
   "metadata": {},
   "outputs": [
    {
     "name": "stdout",
     "output_type": "stream",
     "text": [
      "1\n",
      "2\n",
      "3\n",
      "4\n"
     ]
    }
   ],
   "source": [
    "tupleList : tuple[str] = (1,2,3,4)\n",
    "for i in tupleList:\n",
    "    print(i)"
   ]
  },
  {
   "cell_type": "markdown",
   "metadata": {},
   "source": [
    "### Iteration on string"
   ]
  },
  {
   "cell_type": "markdown",
   "metadata": {},
   "source": [
    "### we can perform iteration on string but string is immutable we cannot update it"
   ]
  },
  {
   "cell_type": "code",
   "execution_count": 2,
   "metadata": {},
   "outputs": [
    {
     "name": "stdout",
     "output_type": "stream",
     "text": [
      "W\n",
      "a\n",
      "n\n",
      "i\n",
      "a\n",
      " \n",
      "K\n",
      "a\n",
      "z\n",
      "m\n",
      "i\n"
     ]
    }
   ],
   "source": [
    "name: str = \"Wania Kazmi\"\n",
    "for i in name:\n",
    "    print(i)"
   ]
  },
  {
   "cell_type": "markdown",
   "metadata": {},
   "source": [
    "### Iteration on set - "
   ]
  },
  {
   "cell_type": "code",
   "execution_count": 9,
   "metadata": {},
   "outputs": [
    {
     "name": "stdout",
     "output_type": "stream",
     "text": [
      "1\n",
      "2\n",
      "3\n",
      "4\n"
     ]
    }
   ],
   "source": [
    "setList : set[int] = {1,2,3,4,4,2,1}\n",
    "for k in setList:\n",
    "    print(k)"
   ]
  },
  {
   "cell_type": "code",
   "execution_count": 12,
   "metadata": {},
   "outputs": [
    {
     "ename": "TypeError",
     "evalue": "'set' object is not subscriptable",
     "output_type": "error",
     "traceback": [
      "\u001b[1;31m---------------------------------------------------------------------------\u001b[0m",
      "\u001b[1;31mTypeError\u001b[0m                                 Traceback (most recent call last)",
      "\u001b[1;32md:\\solopreneur-journey\\Q4\\modern-python\\class09\\class9(loops_input).ipynb Cell 15\u001b[0m line \u001b[0;36m3\n\u001b[0;32m      <a href='vscode-notebook-cell:/d%3A/solopreneur-journey/Q4/modern-python/class09/class9%28loops_input%29.ipynb#X23sZmlsZQ%3D%3D?line=0'>1</a>\u001b[0m li : \u001b[39mset\u001b[39m[\u001b[39mint\u001b[39m] \u001b[39m=\u001b[39m {\u001b[39m1\u001b[39m,\u001b[39m2\u001b[39m,\u001b[39m3\u001b[39m,\u001b[39m4\u001b[39m,\u001b[39m2\u001b[39m,\u001b[39m3\u001b[39m,\u001b[39m6\u001b[39m,\u001b[39m5\u001b[39m,\u001b[39m5\u001b[39m,\u001b[39m1\u001b[39m,\u001b[39m5\u001b[39m,\u001b[39m6\u001b[39m}\n\u001b[0;32m      <a href='vscode-notebook-cell:/d%3A/solopreneur-journey/Q4/modern-python/class09/class9%28loops_input%29.ipynb#X23sZmlsZQ%3D%3D?line=1'>2</a>\u001b[0m \u001b[39mfor\u001b[39;00m k \u001b[39min\u001b[39;00m li:\n\u001b[1;32m----> <a href='vscode-notebook-cell:/d%3A/solopreneur-journey/Q4/modern-python/class09/class9%28loops_input%29.ipynb#X23sZmlsZQ%3D%3D?line=2'>3</a>\u001b[0m     \u001b[39mprint\u001b[39m(\u001b[39mf\u001b[39m\u001b[39m\"\u001b[39m\u001b[39m{\u001b[39;00mk\u001b[39m}\u001b[39;00m\u001b[39m is the key and value is \u001b[39m\u001b[39m{\u001b[39;00mli[k]\u001b[39m}\u001b[39;00m\u001b[39m\"\u001b[39m)\n",
      "\u001b[1;31mTypeError\u001b[0m: 'set' object is not subscriptable"
     ]
    }
   ],
   "source": [
    "li : set[int] = {1,2,3,4,2,3,6,5,5,1,5,6}\n",
    "for k in li:\n",
    "    print(f\"{k} is the key and value is {li[k]}\")"
   ]
  },
  {
   "cell_type": "markdown",
   "metadata": {},
   "source": [
    "# How we can take input from user\n",
    "* input function\n",
    "    * default type = string\n",
    "* sys.argv( for console input in abc.py )\n",
    "    * default type = object\n",
    "\n",
    "we use argv when we want to give input at runtime in console like we usually do - pip install pandas mypy and so it install the dependency at any time \n",
    "This is console input \n",
    "When we run the file with python filename.py - only then it is accessible so that we can create our own packages"
   ]
  },
  {
   "cell_type": "code",
   "execution_count": 13,
   "metadata": {},
   "outputs": [
    {
     "name": "stdout",
     "output_type": "stream",
     "text": [
      "Welcome dear User Mr/Miss wania\n"
     ]
    }
   ],
   "source": [
    "# if we have an input on line no 4 it will take input there only \n",
    "name : str = input(\"What is your name? \\t\")\n",
    "print(f\"Welcome dear User Mr/Miss {name}!\")"
   ]
  },
  {
   "cell_type": "code",
   "execution_count": null,
   "metadata": {},
   "outputs": [],
   "source": []
  }
 ],
 "metadata": {
  "kernelspec": {
   "display_name": "Python 3",
   "language": "python",
   "name": "python3"
  },
  "language_info": {
   "codemirror_mode": {
    "name": "ipython",
    "version": 3
   },
   "file_extension": ".py",
   "mimetype": "text/x-python",
   "name": "python",
   "nbconvert_exporter": "python",
   "pygments_lexer": "ipython3",
   "version": "3.12.0"
  }
 },
 "nbformat": 4,
 "nbformat_minor": 2
}

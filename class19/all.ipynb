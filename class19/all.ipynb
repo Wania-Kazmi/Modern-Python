{
 "cells": [
  {
   "cell_type": "code",
   "execution_count": 3,
   "metadata": {},
   "outputs": [],
   "source": [
    "import pandas as pd\n",
    "import pandera as pa"
   ]
  },
  {
   "cell_type": "code",
   "execution_count": 2,
   "metadata": {},
   "outputs": [
    {
     "name": "stdout",
     "output_type": "stream",
     "text": [
      "0    10\n",
      "1    20\n",
      "2    30\n",
      "3    40\n",
      "4    50\n",
      "dtype: int64\n"
     ]
    }
   ],
   "source": [
    "#Q1\n",
    "series1 = pd.Series([10,20,30,40,50])\n",
    "print(series1)"
   ]
  },
  {
   "cell_type": "code",
   "execution_count": 4,
   "metadata": {},
   "outputs": [
    {
     "name": "stdout",
     "output_type": "stream",
     "text": [
      "21\n"
     ]
    }
   ],
   "source": [
    "#Q2\n",
    "#Define Schema for dataframe\n",
    "schema = pa.DataFrameSchema({\n",
    "    \"A\":pa.Column(pa.Int),\n",
    "    \"B\":pa.Column(pa.Int),\n",
    "})\n",
    "#Creat a panda dataframe\n",
    "data = pd.DataFrame({'A':[1,2,3],\"B\":[4,5,6]})\n",
    "\n",
    "#Validate \n",
    "schema.validate(data)\n",
    "\n",
    "total_sum = data.sum().sum()\n",
    "print(total_sum)"
   ]
  },
  {
   "cell_type": "code",
   "execution_count": 5,
   "metadata": {},
   "outputs": [
    {
     "name": "stdout",
     "output_type": "stream",
     "text": [
      "1\n"
     ]
    }
   ],
   "source": [
    "#Q3\n",
    "class A:\n",
    "    def __init__(self):\n",
    "        self.x:int = 1\n",
    "        self.__y:int = 1\n",
    "    def getY(self) -> int:\n",
    "        return self.__y\n",
    "a = A()\n",
    "print(a._A__y)\n",
    "\n"
   ]
  },
  {
   "cell_type": "code",
   "execution_count": 6,
   "metadata": {},
   "outputs": [
    {
     "name": "stdout",
     "output_type": "stream",
     "text": [
      "100\n"
     ]
    }
   ],
   "source": [
    "#Q4\n",
    "import pandas as pd\n",
    "from pandas import Series\n",
    "series1 = pd.Series([10,20,30,40,50])\n",
    "result = Series.max(series1 * 2)\n",
    "print(result)"
   ]
  },
  {
   "cell_type": "code",
   "execution_count": 9,
   "metadata": {},
   "outputs": [
    {
     "name": "stdout",
     "output_type": "stream",
     "text": [
      "234"
     ]
    }
   ],
   "source": [
    "#Q5\n",
    "from collections.abc import Iterator\n",
    "def gen() -> Iterator[int]:\n",
    "    x:int = 2\n",
    "    while True:\n",
    "        yield x\n",
    "        x += 1\n",
    "y: Iterator[int] = gen()\n",
    "for i in y:\n",
    "    if i >= 5:\n",
    "            break\n",
    "    else:\n",
    "            print(f\"{i}\",end=\"\")\n",
    "\n"
   ]
  },
  {
   "cell_type": "code",
   "execution_count": 10,
   "metadata": {},
   "outputs": [
    {
     "name": "stdout",
     "output_type": "stream",
     "text": [
      "i from A is 60\n"
     ]
    }
   ],
   "source": [
    "#Q6\n",
    "class A:\n",
    "    def __init__(self)->None:\n",
    "        self.setI(20)\n",
    "        print(f\"i from A is {self.i}\")\n",
    "    def setI(self, i)-> None:\n",
    "        self.i = 2 * i\n",
    "\n",
    "class B(A):\n",
    "    def __init__(self)->None:\n",
    "        super().__init__()\n",
    "\n",
    "    def setI(self, i)-> None:\n",
    "        self.i = 3*i\n",
    "\n",
    "b:A = B()"
   ]
  },
  {
   "cell_type": "code",
   "execution_count": null,
   "metadata": {},
   "outputs": [],
   "source": [
    "#Q7\n",
    "Ans 5\n"
   ]
  },
  {
   "cell_type": "code",
   "execution_count": 11,
   "metadata": {},
   "outputs": [
    {
     "name": "stdout",
     "output_type": "stream",
     "text": [
      "37\n"
     ]
    }
   ],
   "source": [
    "#Q8\n",
    "b = 1\n",
    "for a in range(1,10):\n",
    "    b+=a-1\n",
    "print(b)"
   ]
  },
  {
   "cell_type": "code",
   "execution_count": 14,
   "metadata": {},
   "outputs": [
    {
     "data": {
      "text/plain": [
       "a    0\n",
       "b    1\n",
       "c    2\n",
       "d    3\n",
       "dtype: int32"
      ]
     },
     "execution_count": 14,
     "metadata": {},
     "output_type": "execute_result"
    }
   ],
   "source": [
    "#Q9\n",
    "import numpy as np\n",
    "obj = pd.Series(np.arange(4),index = [\"a\",\"b\",\"c\",\"d\"])\n",
    "obj"
   ]
  },
  {
   "cell_type": "code",
   "execution_count": null,
   "metadata": {},
   "outputs": [],
   "source": [
    "#Q10\n",
    "True"
   ]
  },
  {
   "cell_type": "code",
   "execution_count": null,
   "metadata": {},
   "outputs": [],
   "source": [
    "#Q11\n",
    "c"
   ]
  },
  {
   "cell_type": "code",
   "execution_count": null,
   "metadata": {},
   "outputs": [],
   "source": [
    "#Q12\n",
    "Tuple"
   ]
  },
  {
   "cell_type": "code",
   "execution_count": null,
   "metadata": {},
   "outputs": [],
   "source": [
    "#Q13\n",
    "skip"
   ]
  },
  {
   "cell_type": "code",
   "execution_count": null,
   "metadata": {},
   "outputs": [],
   "source": [
    "#Q14\n",
    "2. Inheritance"
   ]
  },
  {
   "cell_type": "code",
   "execution_count": 15,
   "metadata": {},
   "outputs": [
    {
     "name": "stdout",
     "output_type": "stream",
     "text": [
      "Python 3.12\n",
      "Python 3.12\n",
      "Python 3.12\n",
      "Python 3.12\n"
     ]
    }
   ],
   "source": [
    "#Q15\n",
    "for i in range(1,5):\n",
    "    print(f\"Python 3.12\")\n",
    "\n",
    "#ans: 4"
   ]
  },
  {
   "cell_type": "code",
   "execution_count": 16,
   "metadata": {},
   "outputs": [
    {
     "data": {
      "text/plain": [
       "0    5\n",
       "1    7\n",
       "2    9\n",
       "dtype: int64"
      ]
     },
     "metadata": {},
     "output_type": "display_data"
    }
   ],
   "source": [
    "#Q16\n",
    "schema = pa.DataFrameSchema({\n",
    "    \"A\":pa.Column(pa.Int),\n",
    "    \"B\":pa.Column(pa.Int)\n",
    "})\n",
    "\n",
    "#Create panda dataframe\n",
    "data = pd.DataFrame({'A':[1,2,3],'B':[4,5,6]})\n",
    "\n",
    "#Validate the dataframe\n",
    "schema.validate(data)\n",
    "display(data.sum(axis=1))"
   ]
  },
  {
   "cell_type": "code",
   "execution_count": 17,
   "metadata": {},
   "outputs": [
    {
     "name": "stdout",
     "output_type": "stream",
     "text": [
      "012345"
     ]
    }
   ],
   "source": [
    "#Q17\n",
    "x = 0\n",
    "y = 4\n",
    "while x+y < 10:\n",
    "    print(f\"{x}\", end=\"\")\n",
    "    x+=1"
   ]
  },
  {
   "cell_type": "code",
   "execution_count": 18,
   "metadata": {},
   "outputs": [
    {
     "data": {
      "text/plain": [
       "300"
      ]
     },
     "execution_count": 18,
     "metadata": {},
     "output_type": "execute_result"
    }
   ],
   "source": [
    "#Q18\n",
    "series1 = pd.Series([10,20,30,40,50])\n",
    "result = Series.sum(series1 * 2)\n",
    "result"
   ]
  },
  {
   "cell_type": "code",
   "execution_count": null,
   "metadata": {},
   "outputs": [],
   "source": [
    "#Q19\n",
    "# ans : 5.0"
   ]
  },
  {
   "cell_type": "code",
   "execution_count": 21,
   "metadata": {},
   "outputs": [
    {
     "ename": "NameError",
     "evalue": "name 'one' is not defined",
     "output_type": "error",
     "traceback": [
      "\u001b[1;31m---------------------------------------------------------------------------\u001b[0m",
      "\u001b[1;31mNameError\u001b[0m                                 Traceback (most recent call last)",
      "Cell \u001b[1;32mIn[21], line 1\u001b[0m\n\u001b[1;32m----> 1\u001b[0m \u001b[43mone\u001b[49m \u001b[38;5;129;01mis\u001b[39;00m shkipped\n",
      "\u001b[1;31mNameError\u001b[0m: name 'one' is not defined"
     ]
    }
   ],
   "source": [
    "# one is skipped"
   ]
  },
  {
   "cell_type": "code",
   "execution_count": 20,
   "metadata": {},
   "outputs": [],
   "source": [
    "#Q21\n",
    "my_string = \"aeiou\"\n",
    "k = [print(i) for i in my_string if i not in \"aeiou\"]\n",
    "\n",
    "# ans: 1-> print only on executing print(k)"
   ]
  },
  {
   "cell_type": "code",
   "execution_count": null,
   "metadata": {},
   "outputs": [],
   "source": [
    "#Q22\n",
    "# ans 4: df.loc[rows,cols]\n"
   ]
  },
  {
   "cell_type": "code",
   "execution_count": 22,
   "metadata": {},
   "outputs": [
    {
     "name": "stdout",
     "output_type": "stream",
     "text": [
      "123"
     ]
    }
   ],
   "source": [
    "#Q23\n",
    "for i in range(1,5):\n",
    "    print(f\"{i}\",end=\"\")\n",
    "    if i==3:\n",
    "        break"
   ]
  },
  {
   "cell_type": "code",
   "execution_count": 23,
   "metadata": {},
   "outputs": [
    {
     "name": "stdout",
     "output_type": "stream",
     "text": [
      "not false\n"
     ]
    }
   ],
   "source": [
    "#Q24\n",
    "x = 50\n",
    "if x > 10 and x < 15:\n",
    "    print('true')\n",
    "elif x > 15 and x < 25:\n",
    "    print('not true')\n",
    "elif x > 25 and x < 35:\n",
    "    print('false')\n",
    "else:\n",
    "    print('not false')"
   ]
  },
  {
   "cell_type": "code",
   "execution_count": 24,
   "metadata": {},
   "outputs": [
    {
     "ename": "NameError",
     "evalue": "name 'Skipped' is not defined",
     "output_type": "error",
     "traceback": [
      "\u001b[1;31m---------------------------------------------------------------------------\u001b[0m",
      "\u001b[1;31mNameError\u001b[0m                                 Traceback (most recent call last)",
      "Cell \u001b[1;32mIn[24], line 2\u001b[0m\n\u001b[0;32m      1\u001b[0m \u001b[38;5;66;03m#Q25\u001b[39;00m\n\u001b[1;32m----> 2\u001b[0m \u001b[43mSkipped\u001b[49m\n",
      "\u001b[1;31mNameError\u001b[0m: name 'Skipped' is not defined"
     ]
    }
   ],
   "source": [
    "#Q25\n",
    "# Skipped\n",
    "# what is the following functionality for encapsulation?\n",
    "# 1. None of mentioned\n",
    "# 2. Reduce complexity\n",
    "# 3. Parallelism\n",
    "# 4. binds together code and data\n",
    "\n",
    "# Ans: 4"
   ]
  },
  {
   "cell_type": "code",
   "execution_count": null,
   "metadata": {},
   "outputs": [],
   "source": [
    "#Q26\n",
    "# ans 2: reduce complexity"
   ]
  },
  {
   "cell_type": "code",
   "execution_count": 25,
   "metadata": {},
   "outputs": [
    {
     "ename": "AttributeError",
     "evalue": "'MyThing' object has no attribute '__doSomething'",
     "output_type": "error",
     "traceback": [
      "\u001b[1;31m---------------------------------------------------------------------------\u001b[0m",
      "\u001b[1;31mAttributeError\u001b[0m                            Traceback (most recent call last)",
      "Cell \u001b[1;32mIn[25], line 10\u001b[0m\n\u001b[0;32m      7\u001b[0m         \u001b[38;5;28mself\u001b[39m\u001b[38;5;241m.\u001b[39m__doSomething()\n\u001b[0;32m      9\u001b[0m t \u001b[38;5;241m=\u001b[39m MyThing()\n\u001b[1;32m---> 10\u001b[0m \u001b[43mt\u001b[49m\u001b[38;5;241;43m.\u001b[39;49m\u001b[43m__doSomething\u001b[49m()\n\u001b[0;32m     11\u001b[0m t\u001b[38;5;241m.\u001b[39mmyMethod()\n",
      "\u001b[1;31mAttributeError\u001b[0m: 'MyThing' object has no attribute '__doSomething'"
     ]
    }
   ],
   "source": [
    "class Thing:\n",
    "    def __doSomething(self)-> None:\n",
    "        print(\"dosomething in Thing\")\n",
    "\n",
    "class MyThing(Thing):\n",
    "    def myMethod(self):\n",
    "        self.__doSomething()\n",
    "\n",
    "t = MyThing()\n",
    "t.__doSomething()\n",
    "t.myMethod()\n",
    "\n",
    "# Ans: LineD"
   ]
  },
  {
   "cell_type": "code",
   "execution_count": null,
   "metadata": {},
   "outputs": [],
   "source": [
    "#Q28 \n",
    "True"
   ]
  },
  {
   "cell_type": "code",
   "execution_count": 26,
   "metadata": {},
   "outputs": [
    {
     "data": {
      "text/plain": [
       "A     6\n",
       "B    15\n",
       "dtype: int64"
      ]
     },
     "metadata": {},
     "output_type": "display_data"
    }
   ],
   "source": [
    "#Q29\n",
    "schema = pa.DataFrameSchema({\n",
    "    \"A\":pa.Column(pa.Int),\n",
    "    \"B\":pa.Column(pa.Int)\n",
    "})\n",
    "\n",
    "#Create panda dataframe\n",
    "data = pd.DataFrame({'A':[1,2,3],'B':[4,5,6]})\n",
    "\n",
    "#Validate the dataframe\n",
    "schema.validate(data)\n",
    "display(data.sum())"
   ]
  },
  {
   "cell_type": "code",
   "execution_count": 31,
   "metadata": {},
   "outputs": [
    {
     "name": "stdout",
     "output_type": "stream",
     "text": [
      "1 20\n"
     ]
    }
   ],
   "source": [
    "#Q30\n",
    "class ParentClass:\n",
    "    def __init__(self)->None:\n",
    "        self.__x:int = 1\n",
    "        self.y:int = 10\n",
    "    def print(self):\n",
    "        print(self.__x,self.y)\n",
    "\n",
    "class ChildClass(ParentClass):\n",
    "    def __init__(self)->None:\n",
    "        super().__init__()\n",
    "        self.__x = 2\n",
    "        self.y = 20\n",
    "\n",
    "c:ParentClass = ChildClass()\n",
    "c.print()"
   ]
  },
  {
   "cell_type": "code",
   "execution_count": 32,
   "metadata": {},
   "outputs": [
    {
     "name": "stdout",
     "output_type": "stream",
     "text": [
      "Feb\n"
     ]
    }
   ],
   "source": [
    "#Q31\n",
    "x = {1:'Jan',2:'Feb',3:'March',4:'April'}\n",
    "print(x[2])"
   ]
  },
  {
   "cell_type": "code",
   "execution_count": 33,
   "metadata": {},
   "outputs": [
    {
     "name": "stdout",
     "output_type": "stream",
     "text": [
      "[0, 1, 3]\n"
     ]
    }
   ],
   "source": [
    "#Q32\n",
    "a = [-3,-1,0,1,3]\n",
    "print([x for x in a if x >= 0])"
   ]
  },
  {
   "cell_type": "code",
   "execution_count": null,
   "metadata": {},
   "outputs": [],
   "source": [
    "#Q33\n",
    "# Ans:\n",
    "# isna\n",
    "# notna"
   ]
  },
  {
   "cell_type": "code",
   "execution_count": 34,
   "metadata": {},
   "outputs": [
    {
     "name": "stdout",
     "output_type": "stream",
     "text": [
      "1000\n"
     ]
    }
   ],
   "source": [
    "#Q34\n",
    "def call(var1: int, var2:int, var3:int)->int:\n",
    "    print(f\"{var1*var2*var3}\")\n",
    "c = 10\n",
    "a = b = c\n",
    "call(a,b,c)"
   ]
  },
  {
   "cell_type": "code",
   "execution_count": 35,
   "metadata": {},
   "outputs": [
    {
     "name": "stdout",
     "output_type": "stream",
     "text": [
      "A A A\n"
     ]
    }
   ],
   "source": [
    "#Q35\n",
    "class A:\n",
    "    def __str__(self)->str:\n",
    "        return 'A'\n",
    "class B(A):\n",
    "    def __init__(self)->None:\n",
    "        super().__init__()\n",
    "class C(B):\n",
    "    def __init__(self)->None:\n",
    "        super().__init__()\n",
    "\n",
    "def main():\n",
    "    b = B()\n",
    "    a = A()\n",
    "    c = C()\n",
    "    print(a,b,c)\n",
    "main()\n",
    "\n"
   ]
  },
  {
   "cell_type": "code",
   "execution_count": 36,
   "metadata": {},
   "outputs": [
    {
     "name": "stdout",
     "output_type": "stream",
     "text": [
      "100 150 1000\n"
     ]
    }
   ],
   "source": [
    "#Q36\n",
    "class Sample:\n",
    "    x = 100\n",
    "    y = 150\n",
    "class Newspaper(Sample):\n",
    "    x:int = 1000\n",
    "\n",
    "    @staticmethod\n",
    "    def main() -> None:\n",
    "        print(f\"{Sample.x} {Sample.y} {Newspaper.x}\")\n",
    "\n",
    "Newspaper.main()"
   ]
  },
  {
   "cell_type": "code",
   "execution_count": 37,
   "metadata": {},
   "outputs": [
    {
     "name": "stdout",
     "output_type": "stream",
     "text": [
      "false\n"
     ]
    }
   ],
   "source": [
    "#Q37\n",
    "x = 40\n",
    "y = 25\n",
    "if x + y >= 100:\n",
    "    print('true')\n",
    "elif x + y == 50:\n",
    "    print('not true')\n",
    "elif x + y <= 90:\n",
    "    print('false')\n",
    "else:\n",
    "    print('not false')"
   ]
  },
  {
   "cell_type": "code",
   "execution_count": 38,
   "metadata": {},
   "outputs": [
    {
     "name": "stdout",
     "output_type": "stream",
     "text": [
      "True\n"
     ]
    }
   ],
   "source": [
    "#Q38\n",
    "import pandas as pd\n",
    "from pandas import Series, DataFrame\n",
    "series1 = pd.Series([4,7,-5,3],index=[\"d\",\"b\",\"a\",\"c\"])\n",
    "result1 = series1['a']\n",
    "result2 = series1.loc[\"a\"]\n",
    "if(result1==result2):\n",
    "    print(\"True\")\n",
    "else:\n",
    "    print(\"False\")"
   ]
  },
  {
   "cell_type": "code",
   "execution_count": 39,
   "metadata": {},
   "outputs": [
    {
     "name": "stdout",
     "output_type": "stream",
     "text": [
      "x is 50\n"
     ]
    }
   ],
   "source": [
    "#Q39\n",
    "x = 50\n",
    "def func(x) -> None:\n",
    "    x+=2\n",
    "func(x)\n",
    "print(f\"x is {x}\")"
   ]
  },
  {
   "cell_type": "code",
   "execution_count": null,
   "metadata": {},
   "outputs": [],
   "source": []
  }
 ],
 "metadata": {
  "kernelspec": {
   "display_name": "Python 3",
   "language": "python",
   "name": "python3"
  },
  "language_info": {
   "codemirror_mode": {
    "name": "ipython",
    "version": 3
   },
   "file_extension": ".py",
   "mimetype": "text/x-python",
   "name": "python",
   "nbconvert_exporter": "python",
   "pygments_lexer": "ipython3",
   "version": "3.12.0"
  }
 },
 "nbformat": 4,
 "nbformat_minor": 2
}

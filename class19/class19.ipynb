{
 "cells": [
  {
   "cell_type": "markdown",
   "metadata": {},
   "source": [
    "# Stack to do GenerativeAI is OPL\n",
    "OPL = OpenAI + Pinecone + Langchain\n",
    "With the combination of these 3 we can make GenAI application. That's why python static typing was very important"
   ]
  },
  {
   "cell_type": "markdown",
   "metadata": {},
   "source": [
    "# Pandas\n",
    "* filtering\n",
    "* sorting\n",
    "* useful methods\n",
    "* groupby\n",
    "* merge"
   ]
  },
  {
   "cell_type": "code",
   "execution_count": 1,
   "metadata": {},
   "outputs": [
    {
     "data": {
      "text/html": [
       "<div>\n",
       "<style scoped>\n",
       "    .dataframe tbody tr th:only-of-type {\n",
       "        vertical-align: middle;\n",
       "    }\n",
       "\n",
       "    .dataframe tbody tr th {\n",
       "        vertical-align: top;\n",
       "    }\n",
       "\n",
       "    .dataframe thead th {\n",
       "        text-align: right;\n",
       "    }\n",
       "</style>\n",
       "<table border=\"1\" class=\"dataframe\">\n",
       "  <thead>\n",
       "    <tr style=\"text-align: right;\">\n",
       "      <th></th>\n",
       "      <th>roll_no</th>\n",
       "      <th>name</th>\n",
       "      <th>father</th>\n",
       "      <th>course</th>\n",
       "      <th>date_of_admission</th>\n",
       "      <th>fee</th>\n",
       "    </tr>\n",
       "  </thead>\n",
       "  <tbody>\n",
       "    <tr>\n",
       "      <th>0</th>\n",
       "      <td>1</td>\n",
       "      <td>Alice</td>\n",
       "      <td>Bob</td>\n",
       "      <td>Physics</td>\n",
       "      <td>2023-01-10</td>\n",
       "      <td>10000</td>\n",
       "    </tr>\n",
       "    <tr>\n",
       "      <th>1</th>\n",
       "      <td>2</td>\n",
       "      <td>Brian</td>\n",
       "      <td>Steve</td>\n",
       "      <td>Chemistry</td>\n",
       "      <td>2023-02-12</td>\n",
       "      <td>11000</td>\n",
       "    </tr>\n",
       "    <tr>\n",
       "      <th>2</th>\n",
       "      <td>3</td>\n",
       "      <td>Chloe</td>\n",
       "      <td>Tim</td>\n",
       "      <td>Biology</td>\n",
       "      <td>2023-03-14</td>\n",
       "      <td>12000</td>\n",
       "    </tr>\n",
       "    <tr>\n",
       "      <th>3</th>\n",
       "      <td>4</td>\n",
       "      <td>David</td>\n",
       "      <td>Rick</td>\n",
       "      <td>Mathematics</td>\n",
       "      <td>2023-04-10</td>\n",
       "      <td>13000</td>\n",
       "    </tr>\n",
       "    <tr>\n",
       "      <th>4</th>\n",
       "      <td>5</td>\n",
       "      <td>Eva</td>\n",
       "      <td>John</td>\n",
       "      <td>Computer Science</td>\n",
       "      <td>2023-05-16</td>\n",
       "      <td>14000</td>\n",
       "    </tr>\n",
       "    <tr>\n",
       "      <th>5</th>\n",
       "      <td>6</td>\n",
       "      <td>Frank</td>\n",
       "      <td>Tom</td>\n",
       "      <td>Economics</td>\n",
       "      <td>2023-06-21</td>\n",
       "      <td>15000</td>\n",
       "    </tr>\n",
       "    <tr>\n",
       "      <th>6</th>\n",
       "      <td>7</td>\n",
       "      <td>Grace</td>\n",
       "      <td>Harry</td>\n",
       "      <td>History</td>\n",
       "      <td>2023-07-25</td>\n",
       "      <td>16000</td>\n",
       "    </tr>\n",
       "    <tr>\n",
       "      <th>7</th>\n",
       "      <td>8</td>\n",
       "      <td>Henry</td>\n",
       "      <td>Charles</td>\n",
       "      <td>Geography</td>\n",
       "      <td>2023-08-17</td>\n",
       "      <td>17000</td>\n",
       "    </tr>\n",
       "    <tr>\n",
       "      <th>8</th>\n",
       "      <td>9</td>\n",
       "      <td>Isabel</td>\n",
       "      <td>Oliver</td>\n",
       "      <td>English</td>\n",
       "      <td>2023-09-10</td>\n",
       "      <td>18000</td>\n",
       "    </tr>\n",
       "    <tr>\n",
       "      <th>9</th>\n",
       "      <td>10</td>\n",
       "      <td>Jack</td>\n",
       "      <td>Noah</td>\n",
       "      <td>Art</td>\n",
       "      <td>2023-10-05</td>\n",
       "      <td>19000</td>\n",
       "    </tr>\n",
       "  </tbody>\n",
       "</table>\n",
       "</div>"
      ],
      "text/plain": [
       "   roll_no    name   father            course date_of_admission    fee\n",
       "0        1   Alice      Bob           Physics        2023-01-10  10000\n",
       "1        2   Brian    Steve         Chemistry        2023-02-12  11000\n",
       "2        3   Chloe      Tim           Biology        2023-03-14  12000\n",
       "3        4   David     Rick       Mathematics        2023-04-10  13000\n",
       "4        5     Eva     John  Computer Science        2023-05-16  14000\n",
       "5        6   Frank      Tom         Economics        2023-06-21  15000\n",
       "6        7   Grace    Harry           History        2023-07-25  16000\n",
       "7        8   Henry  Charles         Geography        2023-08-17  17000\n",
       "8        9  Isabel   Oliver           English        2023-09-10  18000\n",
       "9       10    Jack     Noah               Art        2023-10-05  19000"
      ]
     },
     "metadata": {},
     "output_type": "display_data"
    },
    {
     "name": "stdout",
     "output_type": "stream",
     "text": [
      "<class 'pandas.core.frame.DataFrame'>\n",
      "RangeIndex: 10 entries, 0 to 9\n",
      "Data columns (total 6 columns):\n",
      " #   Column             Non-Null Count  Dtype         \n",
      "---  ------             --------------  -----         \n",
      " 0   roll_no            10 non-null     int64         \n",
      " 1   name               10 non-null     object        \n",
      " 2   father             10 non-null     object        \n",
      " 3   course             10 non-null     object        \n",
      " 4   date_of_admission  10 non-null     datetime64[ns]\n",
      " 5   fee                10 non-null     int64         \n",
      "dtypes: datetime64[ns](1), int64(2), object(3)\n",
      "memory usage: 612.0+ bytes\n"
     ]
    },
    {
     "data": {
      "text/plain": [
       "None"
      ]
     },
     "metadata": {},
     "output_type": "display_data"
    }
   ],
   "source": [
    "import pandas as pd\n",
    "from datetime import datetime\n",
    "\n",
    "# Define the data as a list of dictionaries with 10 student records\n",
    "students_data = [\n",
    "    {'roll_no': 1, 'name': 'Alice', 'father': 'Bob', 'course': 'Physics', 'date_of_admission': '2023-01-10', 'fee': 10000},\n",
    "    {'roll_no': 2, 'name': 'Brian', 'father': 'Steve', 'course': 'Chemistry', 'date_of_admission': '2023-02-12', 'fee': 11000},\n",
    "    {'roll_no': 3, 'name': 'Chloe', 'father': 'Tim', 'course': 'Biology', 'date_of_admission': '2023-03-14', 'fee': 12000},\n",
    "    {'roll_no': 4, 'name': 'David', 'father': 'Rick', 'course': 'Mathematics', 'date_of_admission': '2023-04-10', 'fee': 13000},\n",
    "    {'roll_no': 5, 'name': 'Eva', 'father': 'John', 'course': 'Computer Science', 'date_of_admission': '2023-05-16', 'fee': 14000},\n",
    "    {'roll_no': 6, 'name': 'Frank', 'father': 'Tom', 'course': 'Economics', 'date_of_admission': '2023-06-21', 'fee': 15000},\n",
    "    {'roll_no': 7, 'name': 'Grace', 'father': 'Harry', 'course': 'History', 'date_of_admission': '2023-07-25', 'fee': 16000},\n",
    "    {'roll_no': 8, 'name': 'Henry', 'father': 'Charles', 'course': 'Geography', 'date_of_admission': '2023-08-17', 'fee': 17000},\n",
    "    {'roll_no': 9, 'name': 'Isabel', 'father': 'Oliver', 'course': 'English', 'date_of_admission': '2023-09-10', 'fee': 18000},\n",
    "    {'roll_no': 10, 'name': 'Jack', 'father': 'Noah', 'course': 'Art', 'date_of_admission': '2023-10-05', 'fee': 19000},\n",
    "]\n",
    "\n",
    "# Create the DataFrame\n",
    "students_df : pd.DataFrame = pd.DataFrame(students_data)\n",
    "\n",
    "# Convert 'date_of_admission' to datetime\n",
    "students_df['date_of_admission'] = pd.to_datetime(students_df['date_of_admission'])\n",
    "\n",
    "# Show the DataFrame\n",
    "display(students_df)\n",
    "\n",
    "# Verify the data types\n",
    "display(students_df.info())"
   ]
  },
  {
   "cell_type": "code",
   "execution_count": 7,
   "metadata": {},
   "outputs": [
    {
     "data": {
      "text/html": [
       "<div>\n",
       "<style scoped>\n",
       "    .dataframe tbody tr th:only-of-type {\n",
       "        vertical-align: middle;\n",
       "    }\n",
       "\n",
       "    .dataframe tbody tr th {\n",
       "        vertical-align: top;\n",
       "    }\n",
       "\n",
       "    .dataframe thead th {\n",
       "        text-align: right;\n",
       "    }\n",
       "</style>\n",
       "<table border=\"1\" class=\"dataframe\">\n",
       "  <thead>\n",
       "    <tr style=\"text-align: right;\">\n",
       "      <th></th>\n",
       "      <th>roll_no</th>\n",
       "      <th>name</th>\n",
       "      <th>father</th>\n",
       "      <th>course</th>\n",
       "      <th>date_of_admission</th>\n",
       "      <th>fee</th>\n",
       "    </tr>\n",
       "  </thead>\n",
       "  <tbody>\n",
       "    <tr>\n",
       "      <th>0</th>\n",
       "      <td>1</td>\n",
       "      <td>Alice</td>\n",
       "      <td>Bob</td>\n",
       "      <td>Physics</td>\n",
       "      <td>2023-01-10</td>\n",
       "      <td>10000</td>\n",
       "    </tr>\n",
       "    <tr>\n",
       "      <th>1</th>\n",
       "      <td>2</td>\n",
       "      <td>Brian</td>\n",
       "      <td>Steve</td>\n",
       "      <td>Chemistry</td>\n",
       "      <td>2023-02-12</td>\n",
       "      <td>11000</td>\n",
       "    </tr>\n",
       "    <tr>\n",
       "      <th>2</th>\n",
       "      <td>3</td>\n",
       "      <td>Chloe</td>\n",
       "      <td>Tim</td>\n",
       "      <td>Biology</td>\n",
       "      <td>2023-03-14</td>\n",
       "      <td>12000</td>\n",
       "    </tr>\n",
       "    <tr>\n",
       "      <th>3</th>\n",
       "      <td>4</td>\n",
       "      <td>David</td>\n",
       "      <td>Rick</td>\n",
       "      <td>Physics</td>\n",
       "      <td>2023-04-10</td>\n",
       "      <td>13000</td>\n",
       "    </tr>\n",
       "    <tr>\n",
       "      <th>4</th>\n",
       "      <td>5</td>\n",
       "      <td>Eva</td>\n",
       "      <td>John</td>\n",
       "      <td>Physics</td>\n",
       "      <td>2023-05-16</td>\n",
       "      <td>14000</td>\n",
       "    </tr>\n",
       "    <tr>\n",
       "      <th>5</th>\n",
       "      <td>6</td>\n",
       "      <td>Frank</td>\n",
       "      <td>Tom</td>\n",
       "      <td>None</td>\n",
       "      <td>2023-06-21</td>\n",
       "      <td>15000</td>\n",
       "    </tr>\n",
       "    <tr>\n",
       "      <th>6</th>\n",
       "      <td>7</td>\n",
       "      <td>Grace</td>\n",
       "      <td>Harry</td>\n",
       "      <td>None</td>\n",
       "      <td>2023-07-25</td>\n",
       "      <td>16000</td>\n",
       "    </tr>\n",
       "    <tr>\n",
       "      <th>7</th>\n",
       "      <td>8</td>\n",
       "      <td>Henry</td>\n",
       "      <td>Charles</td>\n",
       "      <td>Geography</td>\n",
       "      <td>2023-08-17</td>\n",
       "      <td>17000</td>\n",
       "    </tr>\n",
       "    <tr>\n",
       "      <th>8</th>\n",
       "      <td>9</td>\n",
       "      <td>Isabel</td>\n",
       "      <td>Oliver</td>\n",
       "      <td>English</td>\n",
       "      <td>2023-09-10</td>\n",
       "      <td>18000</td>\n",
       "    </tr>\n",
       "    <tr>\n",
       "      <th>9</th>\n",
       "      <td>10</td>\n",
       "      <td>Jack</td>\n",
       "      <td>Noah</td>\n",
       "      <td>Art</td>\n",
       "      <td>2023-10-05</td>\n",
       "      <td>19000</td>\n",
       "    </tr>\n",
       "  </tbody>\n",
       "</table>\n",
       "</div>"
      ],
      "text/plain": [
       "   roll_no    name   father     course date_of_admission    fee\n",
       "0        1   Alice      Bob    Physics        2023-01-10  10000\n",
       "1        2   Brian    Steve  Chemistry        2023-02-12  11000\n",
       "2        3   Chloe      Tim    Biology        2023-03-14  12000\n",
       "3        4   David     Rick    Physics        2023-04-10  13000\n",
       "4        5     Eva     John    Physics        2023-05-16  14000\n",
       "5        6   Frank      Tom       None        2023-06-21  15000\n",
       "6        7   Grace    Harry       None        2023-07-25  16000\n",
       "7        8   Henry  Charles  Geography        2023-08-17  17000\n",
       "8        9  Isabel   Oliver    English        2023-09-10  18000\n",
       "9       10    Jack     Noah        Art        2023-10-05  19000"
      ]
     },
     "metadata": {},
     "output_type": "display_data"
    }
   ],
   "source": [
    "import pandera as pa\n",
    "from pandera.typing import Series\n",
    "from datetime import datetime\n",
    "import pandas as pd\n",
    "\n",
    "# Define the schema using SchemaModel\n",
    "class StudentSchema(pa.SchemaModel):\n",
    "    roll_no: Series[int] = pa.Field(ge=1) #ge = greater then\n",
    "    name: Series[str] = pa.Field(nullable=False)\n",
    "    father: Series[str] = pa.Field(nullable=False)\n",
    "    course: Series[str] = pa.Field(nullable=True)\n",
    "    date_of_admission: Series[datetime] = pa.Field(le=datetime.now())\n",
    "    fee: Series[int] = pa.Field(ge=0)\n",
    "\n",
    "    class Config:\n",
    "        coerce = True  # Automatically coerce types if possible\n",
    "        strict = True  # Ensure all columns are accounted for in the schema\n",
    "\n",
    "# Data for 10 students\n",
    "students_data = [\n",
    "    {'roll_no': 1, 'name': 'Alice', 'father': 'Bob', 'course': 'Physics', 'date_of_admission': '2023-01-10', 'fee': 10000},\n",
    "    {'roll_no': 2, 'name': 'Brian', 'father': 'Steve', 'course': 'Chemistry', 'date_of_admission': '2023-02-12', 'fee': 11000},\n",
    "    {'roll_no': 3, 'name': 'Chloe', 'father': 'Tim', 'course': 'Biology', 'date_of_admission': '2023-03-14', 'fee': 12000},\n",
    "    {'roll_no': 4, 'name': 'David', 'father': 'Rick', 'course': 'Physics', 'date_of_admission': '2023-04-10', 'fee': 13000},\n",
    "    {'roll_no': 5, 'name': 'Eva', 'father': 'John', 'course': 'Physics', 'date_of_admission': '2023-05-16', 'fee': 14000},\n",
    "    {'roll_no': 6, 'name': 'Frank', 'father': 'Tom', 'course': None, 'date_of_admission': '2023-06-21', 'fee': 15000},\n",
    "    {'roll_no': 7, 'name': 'Grace', 'father': 'Harry', 'course': None, 'date_of_admission': '2023-07-25', 'fee': 16000},\n",
    "    {'roll_no': 8, 'name': 'Henry', 'father': 'Charles', 'course': 'Geography', 'date_of_admission': '2023-08-17', 'fee': 17000},\n",
    "    {'roll_no': 9, 'name': 'Isabel', 'father': 'Oliver', 'course': 'English', 'date_of_admission': '2023-09-10', 'fee': 18000},\n",
    "    {'roll_no': 10, 'name': 'Jack', 'father': 'Noah', 'course': 'Art', 'date_of_admission': '2023-10-05', 'fee': 19000},\n",
    "]\n",
    "\n",
    "# Create the DataFrame\n",
    "students_df = pd.DataFrame(students_data)\n",
    "\n",
    "# Convert 'date_of_admission' to datetime\n",
    "students_df['date_of_admission'] = pd.to_datetime(students_df['date_of_admission'])\n",
    "\n",
    "# Validate the DataFrame\n",
    "validated_df = StudentSchema.validate(students_df)\n",
    "display(validated_df)\n",
    "\n",
    "# print(validated_df)"
   ]
  },
  {
   "cell_type": "markdown",
   "metadata": {},
   "source": [
    "## Apply the filter or filter function on dataframe"
   ]
  },
  {
   "cell_type": "code",
   "execution_count": 8,
   "metadata": {},
   "outputs": [
    {
     "data": {
      "text/html": [
       "<div>\n",
       "<style scoped>\n",
       "    .dataframe tbody tr th:only-of-type {\n",
       "        vertical-align: middle;\n",
       "    }\n",
       "\n",
       "    .dataframe tbody tr th {\n",
       "        vertical-align: top;\n",
       "    }\n",
       "\n",
       "    .dataframe thead th {\n",
       "        text-align: right;\n",
       "    }\n",
       "</style>\n",
       "<table border=\"1\" class=\"dataframe\">\n",
       "  <thead>\n",
       "    <tr style=\"text-align: right;\">\n",
       "      <th></th>\n",
       "      <th>roll_no</th>\n",
       "      <th>name</th>\n",
       "      <th>father</th>\n",
       "      <th>course</th>\n",
       "      <th>date_of_admission</th>\n",
       "      <th>fee</th>\n",
       "    </tr>\n",
       "  </thead>\n",
       "  <tbody>\n",
       "    <tr>\n",
       "      <th>0</th>\n",
       "      <td>1</td>\n",
       "      <td>Alice</td>\n",
       "      <td>Bob</td>\n",
       "      <td>Physics</td>\n",
       "      <td>2023-01-10</td>\n",
       "      <td>10000</td>\n",
       "    </tr>\n",
       "    <tr>\n",
       "      <th>1</th>\n",
       "      <td>2</td>\n",
       "      <td>Brian</td>\n",
       "      <td>Steve</td>\n",
       "      <td>Chemistry</td>\n",
       "      <td>2023-02-12</td>\n",
       "      <td>11000</td>\n",
       "    </tr>\n",
       "    <tr>\n",
       "      <th>2</th>\n",
       "      <td>3</td>\n",
       "      <td>Chloe</td>\n",
       "      <td>Tim</td>\n",
       "      <td>Biology</td>\n",
       "      <td>2023-03-14</td>\n",
       "      <td>12000</td>\n",
       "    </tr>\n",
       "    <tr>\n",
       "      <th>3</th>\n",
       "      <td>4</td>\n",
       "      <td>David</td>\n",
       "      <td>Rick</td>\n",
       "      <td>Physics</td>\n",
       "      <td>2023-04-10</td>\n",
       "      <td>13000</td>\n",
       "    </tr>\n",
       "    <tr>\n",
       "      <th>4</th>\n",
       "      <td>5</td>\n",
       "      <td>Eva</td>\n",
       "      <td>John</td>\n",
       "      <td>Physics</td>\n",
       "      <td>2023-05-16</td>\n",
       "      <td>14000</td>\n",
       "    </tr>\n",
       "  </tbody>\n",
       "</table>\n",
       "</div>"
      ],
      "text/plain": [
       "   roll_no   name father     course date_of_admission    fee\n",
       "0        1  Alice    Bob    Physics        2023-01-10  10000\n",
       "1        2  Brian  Steve  Chemistry        2023-02-12  11000\n",
       "2        3  Chloe    Tim    Biology        2023-03-14  12000\n",
       "3        4  David   Rick    Physics        2023-04-10  13000\n",
       "4        5    Eva   John    Physics        2023-05-16  14000"
      ]
     },
     "execution_count": 8,
     "metadata": {},
     "output_type": "execute_result"
    }
   ],
   "source": [
    "students_df.head()"
   ]
  },
  {
   "cell_type": "code",
   "execution_count": 9,
   "metadata": {},
   "outputs": [
    {
     "data": {
      "text/plain": [
       "course\n",
       "Physics      3\n",
       "Chemistry    1\n",
       "Biology      1\n",
       "Geography    1\n",
       "English      1\n",
       "Art          1\n",
       "Name: count, dtype: int64"
      ]
     },
     "execution_count": 9,
     "metadata": {},
     "output_type": "execute_result"
    }
   ],
   "source": [
    "# dataframe.columnName.value_counts() -> applyable to any column to count then numbers \n",
    "#value_counts() -> take out unique value on left side i.e physics, chemistry, biology etc and on right side tell the counts of those unique value\n",
    "students_df.course.value_counts()"
   ]
  },
  {
   "cell_type": "markdown",
   "metadata": {},
   "source": [
    "## We want to count null cells so for that"
   ]
  },
  {
   "cell_type": "code",
   "execution_count": 10,
   "metadata": {},
   "outputs": [
    {
     "data": {
      "text/plain": [
       "course\n",
       "Physics      3\n",
       "None         2\n",
       "Chemistry    1\n",
       "Biology      1\n",
       "Geography    1\n",
       "English      1\n",
       "Art          1\n",
       "Name: count, dtype: int64"
      ]
     },
     "execution_count": 10,
     "metadata": {},
     "output_type": "execute_result"
    }
   ],
   "source": [
    "students_df.course.value_counts(dropna = False) #also count null cells values"
   ]
  },
  {
   "cell_type": "markdown",
   "metadata": {},
   "source": [
    "### Count value on percentage with respect to 1%"
   ]
  },
  {
   "cell_type": "code",
   "execution_count": 13,
   "metadata": {},
   "outputs": [
    {
     "data": {
      "text/plain": [
       "course\n",
       "Physics      0.3\n",
       "None         0.2\n",
       "Chemistry    0.1\n",
       "Biology      0.1\n",
       "Geography    0.1\n",
       "English      0.1\n",
       "Art          0.1\n",
       "Name: proportion, dtype: float64"
      ]
     },
     "metadata": {},
     "output_type": "display_data"
    }
   ],
   "source": [
    "display(students_df.course.value_counts(dropna = False, normalize = True))"
   ]
  },
  {
   "cell_type": "markdown",
   "metadata": {},
   "source": [
    "### Count value on percentage with respect to 100%"
   ]
  },
  {
   "cell_type": "code",
   "execution_count": 14,
   "metadata": {},
   "outputs": [
    {
     "data": {
      "text/plain": [
       "course\n",
       "Physics      30.0\n",
       "None         20.0\n",
       "Chemistry    10.0\n",
       "Biology      10.0\n",
       "Geography    10.0\n",
       "English      10.0\n",
       "Art          10.0\n",
       "Name: proportion, dtype: float64"
      ]
     },
     "metadata": {},
     "output_type": "display_data"
    }
   ],
   "source": [
    "display(students_df.course.value_counts(dropna = False, normalize = True) * 100)"
   ]
  },
  {
   "cell_type": "code",
   "execution_count": 15,
   "metadata": {},
   "outputs": [
    {
     "data": {
      "text/html": [
       "<div>\n",
       "<style scoped>\n",
       "    .dataframe tbody tr th:only-of-type {\n",
       "        vertical-align: middle;\n",
       "    }\n",
       "\n",
       "    .dataframe tbody tr th {\n",
       "        vertical-align: top;\n",
       "    }\n",
       "\n",
       "    .dataframe thead th {\n",
       "        text-align: right;\n",
       "    }\n",
       "</style>\n",
       "<table border=\"1\" class=\"dataframe\">\n",
       "  <thead>\n",
       "    <tr style=\"text-align: right;\">\n",
       "      <th></th>\n",
       "      <th>roll_no</th>\n",
       "      <th>name</th>\n",
       "      <th>father</th>\n",
       "      <th>course</th>\n",
       "      <th>date_of_admission</th>\n",
       "      <th>fee</th>\n",
       "    </tr>\n",
       "  </thead>\n",
       "  <tbody>\n",
       "    <tr>\n",
       "      <th>0</th>\n",
       "      <td>1</td>\n",
       "      <td>Alice</td>\n",
       "      <td>Bob</td>\n",
       "      <td>Physics</td>\n",
       "      <td>2023-01-10</td>\n",
       "      <td>10000</td>\n",
       "    </tr>\n",
       "    <tr>\n",
       "      <th>1</th>\n",
       "      <td>2</td>\n",
       "      <td>Brian</td>\n",
       "      <td>Steve</td>\n",
       "      <td>Chemistry</td>\n",
       "      <td>2023-02-12</td>\n",
       "      <td>11000</td>\n",
       "    </tr>\n",
       "    <tr>\n",
       "      <th>2</th>\n",
       "      <td>3</td>\n",
       "      <td>Chloe</td>\n",
       "      <td>Tim</td>\n",
       "      <td>Biology</td>\n",
       "      <td>2023-03-14</td>\n",
       "      <td>12000</td>\n",
       "    </tr>\n",
       "    <tr>\n",
       "      <th>3</th>\n",
       "      <td>4</td>\n",
       "      <td>David</td>\n",
       "      <td>Rick</td>\n",
       "      <td>Physics</td>\n",
       "      <td>2023-04-10</td>\n",
       "      <td>13000</td>\n",
       "    </tr>\n",
       "    <tr>\n",
       "      <th>4</th>\n",
       "      <td>5</td>\n",
       "      <td>Eva</td>\n",
       "      <td>John</td>\n",
       "      <td>Physics</td>\n",
       "      <td>2023-05-16</td>\n",
       "      <td>14000</td>\n",
       "    </tr>\n",
       "    <tr>\n",
       "      <th>5</th>\n",
       "      <td>6</td>\n",
       "      <td>Frank</td>\n",
       "      <td>Tom</td>\n",
       "      <td>None</td>\n",
       "      <td>2023-06-21</td>\n",
       "      <td>15000</td>\n",
       "    </tr>\n",
       "    <tr>\n",
       "      <th>6</th>\n",
       "      <td>7</td>\n",
       "      <td>Grace</td>\n",
       "      <td>Harry</td>\n",
       "      <td>None</td>\n",
       "      <td>2023-07-25</td>\n",
       "      <td>16000</td>\n",
       "    </tr>\n",
       "    <tr>\n",
       "      <th>7</th>\n",
       "      <td>8</td>\n",
       "      <td>Henry</td>\n",
       "      <td>Charles</td>\n",
       "      <td>Geography</td>\n",
       "      <td>2023-08-17</td>\n",
       "      <td>17000</td>\n",
       "    </tr>\n",
       "    <tr>\n",
       "      <th>8</th>\n",
       "      <td>9</td>\n",
       "      <td>Isabel</td>\n",
       "      <td>Oliver</td>\n",
       "      <td>English</td>\n",
       "      <td>2023-09-10</td>\n",
       "      <td>18000</td>\n",
       "    </tr>\n",
       "    <tr>\n",
       "      <th>9</th>\n",
       "      <td>10</td>\n",
       "      <td>Jack</td>\n",
       "      <td>Noah</td>\n",
       "      <td>Art</td>\n",
       "      <td>2023-10-05</td>\n",
       "      <td>19000</td>\n",
       "    </tr>\n",
       "  </tbody>\n",
       "</table>\n",
       "</div>"
      ],
      "text/plain": [
       "   roll_no    name   father     course date_of_admission    fee\n",
       "0        1   Alice      Bob    Physics        2023-01-10  10000\n",
       "1        2   Brian    Steve  Chemistry        2023-02-12  11000\n",
       "2        3   Chloe      Tim    Biology        2023-03-14  12000\n",
       "3        4   David     Rick    Physics        2023-04-10  13000\n",
       "4        5     Eva     John    Physics        2023-05-16  14000\n",
       "5        6   Frank      Tom       None        2023-06-21  15000\n",
       "6        7   Grace    Harry       None        2023-07-25  16000\n",
       "7        8   Henry  Charles  Geography        2023-08-17  17000\n",
       "8        9  Isabel   Oliver    English        2023-09-10  18000\n",
       "9       10    Jack     Noah        Art        2023-10-05  19000"
      ]
     },
     "execution_count": 15,
     "metadata": {},
     "output_type": "execute_result"
    }
   ],
   "source": [
    "students_df"
   ]
  },
  {
   "cell_type": "code",
   "execution_count": 20,
   "metadata": {},
   "outputs": [
    {
     "data": {
      "text/html": [
       "<div>\n",
       "<style scoped>\n",
       "    .dataframe tbody tr th:only-of-type {\n",
       "        vertical-align: middle;\n",
       "    }\n",
       "\n",
       "    .dataframe tbody tr th {\n",
       "        vertical-align: top;\n",
       "    }\n",
       "\n",
       "    .dataframe thead th {\n",
       "        text-align: right;\n",
       "    }\n",
       "</style>\n",
       "<table border=\"1\" class=\"dataframe\">\n",
       "  <thead>\n",
       "    <tr style=\"text-align: right;\">\n",
       "      <th></th>\n",
       "      <th>date</th>\n",
       "      <th>fee</th>\n",
       "    </tr>\n",
       "  </thead>\n",
       "  <tbody>\n",
       "    <tr>\n",
       "      <th>0</th>\n",
       "      <td>2023-01-01</td>\n",
       "      <td>4525</td>\n",
       "    </tr>\n",
       "    <tr>\n",
       "      <th>1</th>\n",
       "      <td>2023-01-01</td>\n",
       "      <td>1867</td>\n",
       "    </tr>\n",
       "    <tr>\n",
       "      <th>2</th>\n",
       "      <td>2023-01-01</td>\n",
       "      <td>2299</td>\n",
       "    </tr>\n",
       "    <tr>\n",
       "      <th>3</th>\n",
       "      <td>2023-01-01</td>\n",
       "      <td>3005</td>\n",
       "    </tr>\n",
       "    <tr>\n",
       "      <th>4</th>\n",
       "      <td>2023-01-03</td>\n",
       "      <td>638</td>\n",
       "    </tr>\n",
       "    <tr>\n",
       "      <th>...</th>\n",
       "      <td>...</td>\n",
       "      <td>...</td>\n",
       "    </tr>\n",
       "    <tr>\n",
       "      <th>995</th>\n",
       "      <td>2023-12-01</td>\n",
       "      <td>3340</td>\n",
       "    </tr>\n",
       "    <tr>\n",
       "      <th>996</th>\n",
       "      <td>2023-12-01</td>\n",
       "      <td>4117</td>\n",
       "    </tr>\n",
       "    <tr>\n",
       "      <th>997</th>\n",
       "      <td>2023-12-02</td>\n",
       "      <td>2334</td>\n",
       "    </tr>\n",
       "    <tr>\n",
       "      <th>998</th>\n",
       "      <td>2023-12-02</td>\n",
       "      <td>1782</td>\n",
       "    </tr>\n",
       "    <tr>\n",
       "      <th>999</th>\n",
       "      <td>2023-12-02</td>\n",
       "      <td>2114</td>\n",
       "    </tr>\n",
       "  </tbody>\n",
       "</table>\n",
       "<p>1000 rows × 2 columns</p>\n",
       "</div>"
      ],
      "text/plain": [
       "          date   fee\n",
       "0   2023-01-01  4525\n",
       "1   2023-01-01  1867\n",
       "2   2023-01-01  2299\n",
       "3   2023-01-01  3005\n",
       "4   2023-01-03   638\n",
       "..         ...   ...\n",
       "995 2023-12-01  3340\n",
       "996 2023-12-01  4117\n",
       "997 2023-12-02  2334\n",
       "998 2023-12-02  1782\n",
       "999 2023-12-02  2114\n",
       "\n",
       "[1000 rows x 2 columns]"
      ]
     },
     "metadata": {},
     "output_type": "display_data"
    }
   ],
   "source": [
    "import pandas as pd\n",
    "import numpy as np\n",
    "from datetime import datetime, timedelta\n",
    "\n",
    "# Set a seed for reproducibility\n",
    "np.random.seed(0)\n",
    "\n",
    "# Define the number of transactions\n",
    "num_transactions = 1000\n",
    "\n",
    "# Generate random dates within the current year\n",
    "current_year = datetime.now().year\n",
    "start_date = datetime(current_year, 1, 1)\n",
    "end_date = datetime.now()\n",
    "\n",
    "# Generate a list of random dates within the year\n",
    "random_dates = [start_date + timedelta(days=np.random.randint(0, (end_date - start_date).days))\n",
    "                for _ in range(num_transactions)]\n",
    "\n",
    "# Generate a list of random fee amounts\n",
    "random_fees = np.random.randint(low=1, high=5000, size=num_transactions)\n",
    "\n",
    "# Create the DataFrame\n",
    "fee_transactions = pd.DataFrame({\n",
    "    'date': random_dates,\n",
    "    'fee': random_fees\n",
    "})\n",
    "\n",
    "# Sort by date for readability\n",
    "fee_transactions.sort_values('date', inplace=True)\n",
    "\n",
    "# Reset index after sorting\n",
    "fee_transactions.reset_index(drop=True, inplace=True)\n",
    "\n",
    "display(fee_transactions)"
   ]
  },
  {
   "cell_type": "code",
   "execution_count": 22,
   "metadata": {},
   "outputs": [
    {
     "data": {
      "text/html": [
       "<div>\n",
       "<style scoped>\n",
       "    .dataframe tbody tr th:only-of-type {\n",
       "        vertical-align: middle;\n",
       "    }\n",
       "\n",
       "    .dataframe tbody tr th {\n",
       "        vertical-align: top;\n",
       "    }\n",
       "\n",
       "    .dataframe thead th {\n",
       "        text-align: right;\n",
       "    }\n",
       "</style>\n",
       "<table border=\"1\" class=\"dataframe\">\n",
       "  <thead>\n",
       "    <tr style=\"text-align: right;\">\n",
       "      <th></th>\n",
       "      <th>date</th>\n",
       "      <th>fee</th>\n",
       "    </tr>\n",
       "  </thead>\n",
       "  <tbody>\n",
       "    <tr>\n",
       "      <th>0</th>\n",
       "      <td>2023-01-01</td>\n",
       "      <td>4525</td>\n",
       "    </tr>\n",
       "    <tr>\n",
       "      <th>1</th>\n",
       "      <td>2023-01-01</td>\n",
       "      <td>1867</td>\n",
       "    </tr>\n",
       "    <tr>\n",
       "      <th>2</th>\n",
       "      <td>2023-01-01</td>\n",
       "      <td>2299</td>\n",
       "    </tr>\n",
       "    <tr>\n",
       "      <th>3</th>\n",
       "      <td>2023-01-01</td>\n",
       "      <td>3005</td>\n",
       "    </tr>\n",
       "    <tr>\n",
       "      <th>4</th>\n",
       "      <td>2023-01-03</td>\n",
       "      <td>638</td>\n",
       "    </tr>\n",
       "  </tbody>\n",
       "</table>\n",
       "</div>"
      ],
      "text/plain": [
       "        date   fee\n",
       "0 2023-01-01  4525\n",
       "1 2023-01-01  1867\n",
       "2 2023-01-01  2299\n",
       "3 2023-01-01  3005\n",
       "4 2023-01-03   638"
      ]
     },
     "execution_count": 22,
     "metadata": {},
     "output_type": "execute_result"
    }
   ],
   "source": [
    "fee_transactions.head()"
   ]
  },
  {
   "cell_type": "markdown",
   "metadata": {},
   "source": [
    "### Divide the Fee into categories of 1-500, 500-1000, 1000-3000, 3000-4000, 4000-5000"
   ]
  },
  {
   "cell_type": "code",
   "execution_count": 21,
   "metadata": {},
   "outputs": [
    {
     "data": {
      "text/plain": [
       "0      (4000, 5000]\n",
       "1      (1000, 3000]\n",
       "2      (1000, 3000]\n",
       "3      (3000, 4000]\n",
       "4       (500, 1000]\n",
       "           ...     \n",
       "995    (3000, 4000]\n",
       "996    (4000, 5000]\n",
       "997    (1000, 3000]\n",
       "998    (1000, 3000]\n",
       "999    (1000, 3000]\n",
       "Name: fee, Length: 1000, dtype: category\n",
       "Categories (5, interval[int64, right]): [(1, 500] < (500, 1000] < (1000, 3000] < (3000, 4000] < (4000, 5000]]"
      ]
     },
     "execution_count": 21,
     "metadata": {},
     "output_type": "execute_result"
    }
   ],
   "source": [
    "pd.cut(fee_transactions.fee, [1,500,1000,3000,4000,5000])"
   ]
  },
  {
   "cell_type": "markdown",
   "metadata": {},
   "source": [
    "### Now we want to figure out count of every category"
   ]
  },
  {
   "cell_type": "code",
   "execution_count": 23,
   "metadata": {},
   "outputs": [
    {
     "data": {
      "text/plain": [
       "fee\n",
       "(1000, 3000]    422\n",
       "(3000, 4000]    199\n",
       "(4000, 5000]    197\n",
       "(1, 500]        108\n",
       "(500, 1000]      74\n",
       "Name: count, dtype: int64"
      ]
     },
     "execution_count": 23,
     "metadata": {},
     "output_type": "execute_result"
    }
   ],
   "source": [
    "pd.cut(fee_transactions.fee, [1,500,1000,3000,4000,5000]).value_counts()"
   ]
  },
  {
   "cell_type": "code",
   "execution_count": 24,
   "metadata": {},
   "outputs": [
    {
     "data": {
      "text/plain": [
       "fee\n",
       "(1000, 3000]    42.2\n",
       "(3000, 4000]    19.9\n",
       "(4000, 5000]    19.7\n",
       "(1, 500]        10.8\n",
       "(500, 1000]      7.4\n",
       "Name: proportion, dtype: float64"
      ]
     },
     "execution_count": 24,
     "metadata": {},
     "output_type": "execute_result"
    }
   ],
   "source": [
    "pd.cut(fee_transactions.fee, [1,500,1000,3000,4000,5000]).value_counts(normalize=True) * 100 #checking with percentage"
   ]
  },
  {
   "cell_type": "code",
   "execution_count": 25,
   "metadata": {},
   "outputs": [
    {
     "data": {
      "text/plain": [
       "0      (4461.7, 4998.0]\n",
       "1      (1560.3, 2432.0]\n",
       "2      (1560.3, 2432.0]\n",
       "3      (2432.0, 3552.4]\n",
       "4      (13.999, 1560.3]\n",
       "             ...       \n",
       "995    (2432.0, 3552.4]\n",
       "996    (3552.4, 4461.7]\n",
       "997    (1560.3, 2432.0]\n",
       "998    (1560.3, 2432.0]\n",
       "999    (1560.3, 2432.0]\n",
       "Name: fee, Length: 1000, dtype: category\n",
       "Categories (5, interval[float64, right]): [(13.999, 1560.3] < (1560.3, 2432.0] < (2432.0, 3552.4] < (3552.4, 4461.7] < (4461.7, 4998.0]]"
      ]
     },
     "execution_count": 25,
     "metadata": {},
     "output_type": "execute_result"
    }
   ],
   "source": [
    "pd.qcut(fee_transactions.fee, [0,0.3,0.5,0.7,0.9,1]) #bringing values on base of these percentages"
   ]
  },
  {
   "cell_type": "code",
   "execution_count": 26,
   "metadata": {},
   "outputs": [
    {
     "data": {
      "text/plain": [
       "fee\n",
       "(13.999, 1560.3]    30.0\n",
       "(1560.3, 2432.0]    20.0\n",
       "(2432.0, 3552.4]    20.0\n",
       "(3552.4, 4461.7]    20.0\n",
       "(4461.7, 4998.0]    10.0\n",
       "Name: proportion, dtype: float64"
      ]
     },
     "execution_count": 26,
     "metadata": {},
     "output_type": "execute_result"
    }
   ],
   "source": [
    "pd.qcut(fee_transactions.fee, [0,0.3,0.5,0.7,0.9,1]).value_counts(normalize=True) * 100"
   ]
  },
  {
   "cell_type": "code",
   "execution_count": 27,
   "metadata": {},
   "outputs": [
    {
     "data": {
      "text/html": [
       "<div>\n",
       "<style scoped>\n",
       "    .dataframe tbody tr th:only-of-type {\n",
       "        vertical-align: middle;\n",
       "    }\n",
       "\n",
       "    .dataframe tbody tr th {\n",
       "        vertical-align: top;\n",
       "    }\n",
       "\n",
       "    .dataframe thead th {\n",
       "        text-align: right;\n",
       "    }\n",
       "</style>\n",
       "<table border=\"1\" class=\"dataframe\">\n",
       "  <thead>\n",
       "    <tr style=\"text-align: right;\">\n",
       "      <th></th>\n",
       "      <th>roll_no</th>\n",
       "      <th>name</th>\n",
       "      <th>father</th>\n",
       "      <th>course</th>\n",
       "      <th>date_of_admission</th>\n",
       "      <th>fee</th>\n",
       "    </tr>\n",
       "  </thead>\n",
       "  <tbody>\n",
       "    <tr>\n",
       "      <th>0</th>\n",
       "      <td>1</td>\n",
       "      <td>Alice</td>\n",
       "      <td>Bob</td>\n",
       "      <td>Physics</td>\n",
       "      <td>2023-01-10</td>\n",
       "      <td>10000</td>\n",
       "    </tr>\n",
       "    <tr>\n",
       "      <th>1</th>\n",
       "      <td>2</td>\n",
       "      <td>Brian</td>\n",
       "      <td>Steve</td>\n",
       "      <td>Chemistry</td>\n",
       "      <td>2023-02-12</td>\n",
       "      <td>11000</td>\n",
       "    </tr>\n",
       "    <tr>\n",
       "      <th>2</th>\n",
       "      <td>3</td>\n",
       "      <td>Chloe</td>\n",
       "      <td>Tim</td>\n",
       "      <td>Biology</td>\n",
       "      <td>2023-03-14</td>\n",
       "      <td>12000</td>\n",
       "    </tr>\n",
       "    <tr>\n",
       "      <th>3</th>\n",
       "      <td>4</td>\n",
       "      <td>David</td>\n",
       "      <td>Rick</td>\n",
       "      <td>Physics</td>\n",
       "      <td>2023-04-10</td>\n",
       "      <td>13000</td>\n",
       "    </tr>\n",
       "    <tr>\n",
       "      <th>4</th>\n",
       "      <td>5</td>\n",
       "      <td>Eva</td>\n",
       "      <td>John</td>\n",
       "      <td>Physics</td>\n",
       "      <td>2023-05-16</td>\n",
       "      <td>14000</td>\n",
       "    </tr>\n",
       "  </tbody>\n",
       "</table>\n",
       "</div>"
      ],
      "text/plain": [
       "   roll_no   name father     course date_of_admission    fee\n",
       "0        1  Alice    Bob    Physics        2023-01-10  10000\n",
       "1        2  Brian  Steve  Chemistry        2023-02-12  11000\n",
       "2        3  Chloe    Tim    Biology        2023-03-14  12000\n",
       "3        4  David   Rick    Physics        2023-04-10  13000\n",
       "4        5    Eva   John    Physics        2023-05-16  14000"
      ]
     },
     "execution_count": 27,
     "metadata": {},
     "output_type": "execute_result"
    }
   ],
   "source": [
    "students_df.head()"
   ]
  },
  {
   "cell_type": "markdown",
   "metadata": {},
   "source": [
    "## Filter on columns\n",
    "* we can add & , | , ~ these sign between conditions\n",
    "Syntax:\n",
    "```\n",
    "dataframe[(dataframe.columnName == \"value\")]\n",
    "                    condition 1                             condition 2\n",
    "dataframe[(dataframe.columnName1 == \"value1\") & (dataframe.columnName2 == \"value2\")]\n",
    "```\n",
    "\n",
    "* filter will apply on:\n",
    "    * string column\n",
    "    * numeric column\n",
    "    * datetime column\n"
   ]
  },
  {
   "cell_type": "code",
   "execution_count": 35,
   "metadata": {},
   "outputs": [
    {
     "data": {
      "text/html": [
       "<div>\n",
       "<style scoped>\n",
       "    .dataframe tbody tr th:only-of-type {\n",
       "        vertical-align: middle;\n",
       "    }\n",
       "\n",
       "    .dataframe tbody tr th {\n",
       "        vertical-align: top;\n",
       "    }\n",
       "\n",
       "    .dataframe thead th {\n",
       "        text-align: right;\n",
       "    }\n",
       "</style>\n",
       "<table border=\"1\" class=\"dataframe\">\n",
       "  <thead>\n",
       "    <tr style=\"text-align: right;\">\n",
       "      <th></th>\n",
       "      <th>roll_no</th>\n",
       "      <th>name</th>\n",
       "      <th>father</th>\n",
       "      <th>course</th>\n",
       "      <th>date_of_admission</th>\n",
       "      <th>fee</th>\n",
       "    </tr>\n",
       "  </thead>\n",
       "  <tbody>\n",
       "    <tr>\n",
       "      <th>0</th>\n",
       "      <td>1</td>\n",
       "      <td>Alice</td>\n",
       "      <td>Bob</td>\n",
       "      <td>Physics</td>\n",
       "      <td>2023-01-10</td>\n",
       "      <td>10000</td>\n",
       "    </tr>\n",
       "    <tr>\n",
       "      <th>1</th>\n",
       "      <td>2</td>\n",
       "      <td>Brian</td>\n",
       "      <td>Steve</td>\n",
       "      <td>Chemistry</td>\n",
       "      <td>2023-02-12</td>\n",
       "      <td>11000</td>\n",
       "    </tr>\n",
       "    <tr>\n",
       "      <th>2</th>\n",
       "      <td>3</td>\n",
       "      <td>Chloe</td>\n",
       "      <td>Tim</td>\n",
       "      <td>Biology</td>\n",
       "      <td>2023-03-14</td>\n",
       "      <td>12000</td>\n",
       "    </tr>\n",
       "    <tr>\n",
       "      <th>3</th>\n",
       "      <td>4</td>\n",
       "      <td>David</td>\n",
       "      <td>Rick</td>\n",
       "      <td>physics</td>\n",
       "      <td>2023-04-10</td>\n",
       "      <td>13000</td>\n",
       "    </tr>\n",
       "    <tr>\n",
       "      <th>4</th>\n",
       "      <td>5</td>\n",
       "      <td>Eva</td>\n",
       "      <td>John</td>\n",
       "      <td>Physics</td>\n",
       "      <td>2023-05-16</td>\n",
       "      <td>14000</td>\n",
       "    </tr>\n",
       "    <tr>\n",
       "      <th>5</th>\n",
       "      <td>6</td>\n",
       "      <td>Frank</td>\n",
       "      <td>Tom</td>\n",
       "      <td>Economics</td>\n",
       "      <td>2023-06-21</td>\n",
       "      <td>15000</td>\n",
       "    </tr>\n",
       "    <tr>\n",
       "      <th>6</th>\n",
       "      <td>7</td>\n",
       "      <td>Grace</td>\n",
       "      <td>Harry</td>\n",
       "      <td>History</td>\n",
       "      <td>2023-07-25</td>\n",
       "      <td>16000</td>\n",
       "    </tr>\n",
       "    <tr>\n",
       "      <th>7</th>\n",
       "      <td>8</td>\n",
       "      <td>Henry</td>\n",
       "      <td>Charles</td>\n",
       "      <td>Geography</td>\n",
       "      <td>2023-08-17</td>\n",
       "      <td>17000</td>\n",
       "    </tr>\n",
       "    <tr>\n",
       "      <th>8</th>\n",
       "      <td>9</td>\n",
       "      <td>Isabel</td>\n",
       "      <td>Oliver</td>\n",
       "      <td>English</td>\n",
       "      <td>2023-09-10</td>\n",
       "      <td>18000</td>\n",
       "    </tr>\n",
       "    <tr>\n",
       "      <th>9</th>\n",
       "      <td>10</td>\n",
       "      <td>Jack</td>\n",
       "      <td>Noah</td>\n",
       "      <td>Art</td>\n",
       "      <td>2023-10-05</td>\n",
       "      <td>19000</td>\n",
       "    </tr>\n",
       "  </tbody>\n",
       "</table>\n",
       "</div>"
      ],
      "text/plain": [
       "   roll_no    name   father     course date_of_admission    fee\n",
       "0        1   Alice      Bob    Physics        2023-01-10  10000\n",
       "1        2   Brian    Steve  Chemistry        2023-02-12  11000\n",
       "2        3   Chloe      Tim    Biology        2023-03-14  12000\n",
       "3        4   David     Rick    physics        2023-04-10  13000\n",
       "4        5     Eva     John    Physics        2023-05-16  14000\n",
       "5        6   Frank      Tom  Economics        2023-06-21  15000\n",
       "6        7   Grace    Harry    History        2023-07-25  16000\n",
       "7        8   Henry  Charles  Geography        2023-08-17  17000\n",
       "8        9  Isabel   Oliver    English        2023-09-10  18000\n",
       "9       10    Jack     Noah        Art        2023-10-05  19000"
      ]
     },
     "metadata": {},
     "output_type": "display_data"
    },
    {
     "name": "stdout",
     "output_type": "stream",
     "text": [
      "<class 'pandas.core.frame.DataFrame'>\n",
      "RangeIndex: 10 entries, 0 to 9\n",
      "Data columns (total 6 columns):\n",
      " #   Column             Non-Null Count  Dtype         \n",
      "---  ------             --------------  -----         \n",
      " 0   roll_no            10 non-null     int64         \n",
      " 1   name               10 non-null     object        \n",
      " 2   father             10 non-null     object        \n",
      " 3   course             10 non-null     object        \n",
      " 4   date_of_admission  10 non-null     datetime64[ns]\n",
      " 5   fee                10 non-null     int64         \n",
      "dtypes: datetime64[ns](1), int64(2), object(3)\n",
      "memory usage: 612.0+ bytes\n"
     ]
    },
    {
     "data": {
      "text/plain": [
       "None"
      ]
     },
     "metadata": {},
     "output_type": "display_data"
    }
   ],
   "source": [
    "import pandas as pd\n",
    "from datetime import datetime\n",
    "\n",
    "# Define the data as a list of dictionaries with 10 student records\n",
    "students_data = [\n",
    "    {'roll_no': 1, 'name': 'Alice', 'father': 'Bob', 'course': 'Physics', 'date_of_admission': '2023-01-10', 'fee': 10000},\n",
    "    {'roll_no': 2, 'name': 'Brian', 'father': 'Steve', 'course': 'Chemistry', 'date_of_admission': '2023-02-12', 'fee': 11000},\n",
    "    {'roll_no': 3, 'name': 'Chloe', 'father': 'Tim', 'course': 'Biology', 'date_of_admission': '2023-03-14', 'fee': 12000},\n",
    "    {'roll_no': 4, 'name': 'David', 'father': 'Rick', 'course': 'physics', 'date_of_admission': '2023-04-10', 'fee': 13000},\n",
    "    {'roll_no': 5, 'name': 'Eva', 'father': 'John', 'course': 'Physics', 'date_of_admission': '2023-05-16', 'fee': 14000},\n",
    "    {'roll_no': 6, 'name': 'Frank', 'father': 'Tom', 'course': 'Economics', 'date_of_admission': '2023-06-21', 'fee': 15000},\n",
    "    {'roll_no': 7, 'name': 'Grace', 'father': 'Harry', 'course': 'History', 'date_of_admission': '2023-07-25', 'fee': 16000},\n",
    "    {'roll_no': 8, 'name': 'Henry', 'father': 'Charles', 'course': 'Geography', 'date_of_admission': '2023-08-17', 'fee': 17000},\n",
    "    {'roll_no': 9, 'name': 'Isabel', 'father': 'Oliver', 'course': 'English', 'date_of_admission': '2023-09-10', 'fee': 18000},\n",
    "    {'roll_no': 10, 'name': 'Jack', 'father': 'Noah', 'course': 'Art', 'date_of_admission': '2023-10-05', 'fee': 19000},\n",
    "]\n",
    "\n",
    "# Create the DataFrame\n",
    "students_df : pd.DataFrame = pd.DataFrame(students_data)\n",
    "\n",
    "# Convert 'date_of_admission' to datetime\n",
    "students_df['date_of_admission'] = pd.to_datetime(students_df['date_of_admission'])\n",
    "\n",
    "# Show the DataFrame\n",
    "display(students_df)\n",
    "\n",
    "# Verify the data types\n",
    "display(students_df.info())"
   ]
  },
  {
   "cell_type": "code",
   "execution_count": 36,
   "metadata": {},
   "outputs": [
    {
     "data": {
      "text/html": [
       "<div>\n",
       "<style scoped>\n",
       "    .dataframe tbody tr th:only-of-type {\n",
       "        vertical-align: middle;\n",
       "    }\n",
       "\n",
       "    .dataframe tbody tr th {\n",
       "        vertical-align: top;\n",
       "    }\n",
       "\n",
       "    .dataframe thead th {\n",
       "        text-align: right;\n",
       "    }\n",
       "</style>\n",
       "<table border=\"1\" class=\"dataframe\">\n",
       "  <thead>\n",
       "    <tr style=\"text-align: right;\">\n",
       "      <th></th>\n",
       "      <th>roll_no</th>\n",
       "      <th>name</th>\n",
       "      <th>father</th>\n",
       "      <th>course</th>\n",
       "      <th>date_of_admission</th>\n",
       "      <th>fee</th>\n",
       "    </tr>\n",
       "  </thead>\n",
       "  <tbody>\n",
       "    <tr>\n",
       "      <th>0</th>\n",
       "      <td>1</td>\n",
       "      <td>Alice</td>\n",
       "      <td>Bob</td>\n",
       "      <td>Physics</td>\n",
       "      <td>2023-01-10</td>\n",
       "      <td>10000</td>\n",
       "    </tr>\n",
       "    <tr>\n",
       "      <th>1</th>\n",
       "      <td>2</td>\n",
       "      <td>Brian</td>\n",
       "      <td>Steve</td>\n",
       "      <td>Chemistry</td>\n",
       "      <td>2023-02-12</td>\n",
       "      <td>11000</td>\n",
       "    </tr>\n",
       "    <tr>\n",
       "      <th>2</th>\n",
       "      <td>3</td>\n",
       "      <td>Chloe</td>\n",
       "      <td>Tim</td>\n",
       "      <td>Biology</td>\n",
       "      <td>2023-03-14</td>\n",
       "      <td>12000</td>\n",
       "    </tr>\n",
       "    <tr>\n",
       "      <th>3</th>\n",
       "      <td>4</td>\n",
       "      <td>David</td>\n",
       "      <td>Rick</td>\n",
       "      <td>physics</td>\n",
       "      <td>2023-04-10</td>\n",
       "      <td>13000</td>\n",
       "    </tr>\n",
       "    <tr>\n",
       "      <th>4</th>\n",
       "      <td>5</td>\n",
       "      <td>Eva</td>\n",
       "      <td>John</td>\n",
       "      <td>Physics</td>\n",
       "      <td>2023-05-16</td>\n",
       "      <td>14000</td>\n",
       "    </tr>\n",
       "    <tr>\n",
       "      <th>5</th>\n",
       "      <td>6</td>\n",
       "      <td>Frank</td>\n",
       "      <td>Tom</td>\n",
       "      <td>Economics</td>\n",
       "      <td>2023-06-21</td>\n",
       "      <td>15000</td>\n",
       "    </tr>\n",
       "    <tr>\n",
       "      <th>6</th>\n",
       "      <td>7</td>\n",
       "      <td>Grace</td>\n",
       "      <td>Harry</td>\n",
       "      <td>History</td>\n",
       "      <td>2023-07-25</td>\n",
       "      <td>16000</td>\n",
       "    </tr>\n",
       "    <tr>\n",
       "      <th>7</th>\n",
       "      <td>8</td>\n",
       "      <td>Henry</td>\n",
       "      <td>Charles</td>\n",
       "      <td>Geography</td>\n",
       "      <td>2023-08-17</td>\n",
       "      <td>17000</td>\n",
       "    </tr>\n",
       "    <tr>\n",
       "      <th>8</th>\n",
       "      <td>9</td>\n",
       "      <td>Isabel</td>\n",
       "      <td>Oliver</td>\n",
       "      <td>English</td>\n",
       "      <td>2023-09-10</td>\n",
       "      <td>18000</td>\n",
       "    </tr>\n",
       "    <tr>\n",
       "      <th>9</th>\n",
       "      <td>10</td>\n",
       "      <td>Jack</td>\n",
       "      <td>Noah</td>\n",
       "      <td>Art</td>\n",
       "      <td>2023-10-05</td>\n",
       "      <td>19000</td>\n",
       "    </tr>\n",
       "  </tbody>\n",
       "</table>\n",
       "</div>"
      ],
      "text/plain": [
       "   roll_no    name   father     course date_of_admission    fee\n",
       "0        1   Alice      Bob    Physics        2023-01-10  10000\n",
       "1        2   Brian    Steve  Chemistry        2023-02-12  11000\n",
       "2        3   Chloe      Tim    Biology        2023-03-14  12000\n",
       "3        4   David     Rick    physics        2023-04-10  13000\n",
       "4        5     Eva     John    Physics        2023-05-16  14000\n",
       "5        6   Frank      Tom  Economics        2023-06-21  15000\n",
       "6        7   Grace    Harry    History        2023-07-25  16000\n",
       "7        8   Henry  Charles  Geography        2023-08-17  17000\n",
       "8        9  Isabel   Oliver    English        2023-09-10  18000\n",
       "9       10    Jack     Noah        Art        2023-10-05  19000"
      ]
     },
     "execution_count": 36,
     "metadata": {},
     "output_type": "execute_result"
    }
   ],
   "source": [
    "students_df.head(10000)"
   ]
  },
  {
   "cell_type": "markdown",
   "metadata": {},
   "source": [
    "### we want students of only physics course"
   ]
  },
  {
   "cell_type": "code",
   "execution_count": 37,
   "metadata": {},
   "outputs": [
    {
     "data": {
      "text/plain": [
       "0      Physics\n",
       "1    Chemistry\n",
       "2      Biology\n",
       "3      physics\n",
       "4      Physics\n",
       "5    Economics\n",
       "6      History\n",
       "7    Geography\n",
       "8      English\n",
       "9          Art\n",
       "Name: course, dtype: object"
      ]
     },
     "execution_count": 37,
     "metadata": {},
     "output_type": "execute_result"
    }
   ],
   "source": [
    "students_df['course']"
   ]
  },
  {
   "cell_type": "code",
   "execution_count": 38,
   "metadata": {},
   "outputs": [
    {
     "data": {
      "text/plain": [
       "0     True\n",
       "1    False\n",
       "2    False\n",
       "3    False\n",
       "4     True\n",
       "5    False\n",
       "6    False\n",
       "7    False\n",
       "8    False\n",
       "9    False\n",
       "Name: course, dtype: bool"
      ]
     },
     "execution_count": 38,
     "metadata": {},
     "output_type": "execute_result"
    }
   ],
   "source": [
    "students_df['course'] == 'Physics'"
   ]
  },
  {
   "cell_type": "code",
   "execution_count": 39,
   "metadata": {},
   "outputs": [
    {
     "data": {
      "text/html": [
       "<div>\n",
       "<style scoped>\n",
       "    .dataframe tbody tr th:only-of-type {\n",
       "        vertical-align: middle;\n",
       "    }\n",
       "\n",
       "    .dataframe tbody tr th {\n",
       "        vertical-align: top;\n",
       "    }\n",
       "\n",
       "    .dataframe thead th {\n",
       "        text-align: right;\n",
       "    }\n",
       "</style>\n",
       "<table border=\"1\" class=\"dataframe\">\n",
       "  <thead>\n",
       "    <tr style=\"text-align: right;\">\n",
       "      <th></th>\n",
       "      <th>roll_no</th>\n",
       "      <th>name</th>\n",
       "      <th>father</th>\n",
       "      <th>course</th>\n",
       "      <th>date_of_admission</th>\n",
       "      <th>fee</th>\n",
       "    </tr>\n",
       "  </thead>\n",
       "  <tbody>\n",
       "    <tr>\n",
       "      <th>0</th>\n",
       "      <td>1</td>\n",
       "      <td>Alice</td>\n",
       "      <td>Bob</td>\n",
       "      <td>Physics</td>\n",
       "      <td>2023-01-10</td>\n",
       "      <td>10000</td>\n",
       "    </tr>\n",
       "    <tr>\n",
       "      <th>4</th>\n",
       "      <td>5</td>\n",
       "      <td>Eva</td>\n",
       "      <td>John</td>\n",
       "      <td>Physics</td>\n",
       "      <td>2023-05-16</td>\n",
       "      <td>14000</td>\n",
       "    </tr>\n",
       "  </tbody>\n",
       "</table>\n",
       "</div>"
      ],
      "text/plain": [
       "   roll_no   name father   course date_of_admission    fee\n",
       "0        1  Alice    Bob  Physics        2023-01-10  10000\n",
       "4        5    Eva   John  Physics        2023-05-16  14000"
      ]
     },
     "execution_count": 39,
     "metadata": {},
     "output_type": "execute_result"
    }
   ],
   "source": [
    "#Boolean slicing\n",
    "students_df[students_df['course'] == 'Physics']"
   ]
  },
  {
   "cell_type": "code",
   "execution_count": 41,
   "metadata": {},
   "outputs": [
    {
     "data": {
      "text/plain": [
       "0      physics\n",
       "1    chemistry\n",
       "2      biology\n",
       "3      physics\n",
       "4      physics\n",
       "5    economics\n",
       "6      history\n",
       "7    geography\n",
       "8      english\n",
       "9          art\n",
       "Name: course, dtype: object"
      ]
     },
     "execution_count": 41,
     "metadata": {},
     "output_type": "execute_result"
    }
   ],
   "source": [
    "students_df['course'].str.lower() #convert all columns name to lower case"
   ]
  },
  {
   "cell_type": "code",
   "execution_count": 42,
   "metadata": {},
   "outputs": [
    {
     "data": {
      "text/plain": [
       "0     True\n",
       "1    False\n",
       "2    False\n",
       "3     True\n",
       "4     True\n",
       "5    False\n",
       "6    False\n",
       "7    False\n",
       "8    False\n",
       "9    False\n",
       "Name: course, dtype: bool"
      ]
     },
     "execution_count": 42,
     "metadata": {},
     "output_type": "execute_result"
    }
   ],
   "source": [
    "students_df['course'].str.lower() == \"physics\""
   ]
  },
  {
   "cell_type": "code",
   "execution_count": 43,
   "metadata": {},
   "outputs": [
    {
     "data": {
      "text/html": [
       "<div>\n",
       "<style scoped>\n",
       "    .dataframe tbody tr th:only-of-type {\n",
       "        vertical-align: middle;\n",
       "    }\n",
       "\n",
       "    .dataframe tbody tr th {\n",
       "        vertical-align: top;\n",
       "    }\n",
       "\n",
       "    .dataframe thead th {\n",
       "        text-align: right;\n",
       "    }\n",
       "</style>\n",
       "<table border=\"1\" class=\"dataframe\">\n",
       "  <thead>\n",
       "    <tr style=\"text-align: right;\">\n",
       "      <th></th>\n",
       "      <th>roll_no</th>\n",
       "      <th>name</th>\n",
       "      <th>father</th>\n",
       "      <th>course</th>\n",
       "      <th>date_of_admission</th>\n",
       "      <th>fee</th>\n",
       "    </tr>\n",
       "  </thead>\n",
       "  <tbody>\n",
       "    <tr>\n",
       "      <th>0</th>\n",
       "      <td>1</td>\n",
       "      <td>Alice</td>\n",
       "      <td>Bob</td>\n",
       "      <td>Physics</td>\n",
       "      <td>2023-01-10</td>\n",
       "      <td>10000</td>\n",
       "    </tr>\n",
       "    <tr>\n",
       "      <th>3</th>\n",
       "      <td>4</td>\n",
       "      <td>David</td>\n",
       "      <td>Rick</td>\n",
       "      <td>physics</td>\n",
       "      <td>2023-04-10</td>\n",
       "      <td>13000</td>\n",
       "    </tr>\n",
       "    <tr>\n",
       "      <th>4</th>\n",
       "      <td>5</td>\n",
       "      <td>Eva</td>\n",
       "      <td>John</td>\n",
       "      <td>Physics</td>\n",
       "      <td>2023-05-16</td>\n",
       "      <td>14000</td>\n",
       "    </tr>\n",
       "  </tbody>\n",
       "</table>\n",
       "</div>"
      ],
      "text/plain": [
       "   roll_no   name father   course date_of_admission    fee\n",
       "0        1  Alice    Bob  Physics        2023-01-10  10000\n",
       "3        4  David   Rick  physics        2023-04-10  13000\n",
       "4        5    Eva   John  Physics        2023-05-16  14000"
      ]
     },
     "execution_count": 43,
     "metadata": {},
     "output_type": "execute_result"
    }
   ],
   "source": [
    "students_df[students_df['course'].str.lower() == \"physics\"]"
   ]
  },
  {
   "cell_type": "markdown",
   "metadata": {},
   "source": [
    "### Content search - like get those values whoes end with cs"
   ]
  },
  {
   "cell_type": "code",
   "execution_count": 47,
   "metadata": {},
   "outputs": [
    {
     "data": {
      "text/plain": [
       "0     True\n",
       "1    False\n",
       "2    False\n",
       "3     True\n",
       "4     True\n",
       "5     True\n",
       "6    False\n",
       "7    False\n",
       "8    False\n",
       "9    False\n",
       "Name: course, dtype: bool"
      ]
     },
     "execution_count": 47,
     "metadata": {},
     "output_type": "execute_result"
    }
   ],
   "source": [
    "students_df['course'].str.lower().str.contains('cs')"
   ]
  },
  {
   "cell_type": "code",
   "execution_count": 48,
   "metadata": {},
   "outputs": [
    {
     "data": {
      "text/html": [
       "<div>\n",
       "<style scoped>\n",
       "    .dataframe tbody tr th:only-of-type {\n",
       "        vertical-align: middle;\n",
       "    }\n",
       "\n",
       "    .dataframe tbody tr th {\n",
       "        vertical-align: top;\n",
       "    }\n",
       "\n",
       "    .dataframe thead th {\n",
       "        text-align: right;\n",
       "    }\n",
       "</style>\n",
       "<table border=\"1\" class=\"dataframe\">\n",
       "  <thead>\n",
       "    <tr style=\"text-align: right;\">\n",
       "      <th></th>\n",
       "      <th>roll_no</th>\n",
       "      <th>name</th>\n",
       "      <th>father</th>\n",
       "      <th>course</th>\n",
       "      <th>date_of_admission</th>\n",
       "      <th>fee</th>\n",
       "    </tr>\n",
       "  </thead>\n",
       "  <tbody>\n",
       "    <tr>\n",
       "      <th>0</th>\n",
       "      <td>1</td>\n",
       "      <td>Alice</td>\n",
       "      <td>Bob</td>\n",
       "      <td>Physics</td>\n",
       "      <td>2023-01-10</td>\n",
       "      <td>10000</td>\n",
       "    </tr>\n",
       "    <tr>\n",
       "      <th>3</th>\n",
       "      <td>4</td>\n",
       "      <td>David</td>\n",
       "      <td>Rick</td>\n",
       "      <td>physics</td>\n",
       "      <td>2023-04-10</td>\n",
       "      <td>13000</td>\n",
       "    </tr>\n",
       "    <tr>\n",
       "      <th>4</th>\n",
       "      <td>5</td>\n",
       "      <td>Eva</td>\n",
       "      <td>John</td>\n",
       "      <td>Physics</td>\n",
       "      <td>2023-05-16</td>\n",
       "      <td>14000</td>\n",
       "    </tr>\n",
       "    <tr>\n",
       "      <th>5</th>\n",
       "      <td>6</td>\n",
       "      <td>Frank</td>\n",
       "      <td>Tom</td>\n",
       "      <td>Economics</td>\n",
       "      <td>2023-06-21</td>\n",
       "      <td>15000</td>\n",
       "    </tr>\n",
       "  </tbody>\n",
       "</table>\n",
       "</div>"
      ],
      "text/plain": [
       "   roll_no   name father     course date_of_admission    fee\n",
       "0        1  Alice    Bob    Physics        2023-01-10  10000\n",
       "3        4  David   Rick    physics        2023-04-10  13000\n",
       "4        5    Eva   John    Physics        2023-05-16  14000\n",
       "5        6  Frank    Tom  Economics        2023-06-21  15000"
      ]
     },
     "execution_count": 48,
     "metadata": {},
     "output_type": "execute_result"
    }
   ],
   "source": [
    "students_df[students_df['course'].str.lower().str.contains('cs')]"
   ]
  },
  {
   "cell_type": "markdown",
   "metadata": {},
   "source": [
    "### Multiple filteration"
   ]
  },
  {
   "cell_type": "code",
   "execution_count": 49,
   "metadata": {},
   "outputs": [
    {
     "data": {
      "text/html": [
       "<div>\n",
       "<style scoped>\n",
       "    .dataframe tbody tr th:only-of-type {\n",
       "        vertical-align: middle;\n",
       "    }\n",
       "\n",
       "    .dataframe tbody tr th {\n",
       "        vertical-align: top;\n",
       "    }\n",
       "\n",
       "    .dataframe thead th {\n",
       "        text-align: right;\n",
       "    }\n",
       "</style>\n",
       "<table border=\"1\" class=\"dataframe\">\n",
       "  <thead>\n",
       "    <tr style=\"text-align: right;\">\n",
       "      <th></th>\n",
       "      <th>roll_no</th>\n",
       "      <th>name</th>\n",
       "      <th>father</th>\n",
       "      <th>course</th>\n",
       "      <th>date_of_admission</th>\n",
       "      <th>fee</th>\n",
       "    </tr>\n",
       "  </thead>\n",
       "  <tbody>\n",
       "    <tr>\n",
       "      <th>4</th>\n",
       "      <td>5</td>\n",
       "      <td>Eva</td>\n",
       "      <td>John</td>\n",
       "      <td>Physics</td>\n",
       "      <td>2023-05-16</td>\n",
       "      <td>14000</td>\n",
       "    </tr>\n",
       "    <tr>\n",
       "      <th>5</th>\n",
       "      <td>6</td>\n",
       "      <td>Frank</td>\n",
       "      <td>Tom</td>\n",
       "      <td>Economics</td>\n",
       "      <td>2023-06-21</td>\n",
       "      <td>15000</td>\n",
       "    </tr>\n",
       "  </tbody>\n",
       "</table>\n",
       "</div>"
      ],
      "text/plain": [
       "   roll_no   name father     course date_of_admission    fee\n",
       "4        5    Eva   John    Physics        2023-05-16  14000\n",
       "5        6  Frank    Tom  Economics        2023-06-21  15000"
      ]
     },
     "execution_count": 49,
     "metadata": {},
     "output_type": "execute_result"
    }
   ],
   "source": [
    "students_df[(students_df['course'].str.lower().str.contains('cs')) & (students_df['fee'] >= 14000)]"
   ]
  },
  {
   "cell_type": "code",
   "execution_count": 53,
   "metadata": {},
   "outputs": [
    {
     "data": {
      "text/plain": [
       "0     True\n",
       "1    False\n",
       "2    False\n",
       "3     True\n",
       "4     True\n",
       "5     True\n",
       "6    False\n",
       "7    False\n",
       "8    False\n",
       "9    False\n",
       "Name: course, dtype: bool"
      ]
     },
     "metadata": {},
     "output_type": "display_data"
    },
    {
     "data": {
      "text/plain": [
       "0    False\n",
       "1     True\n",
       "2    False\n",
       "3    False\n",
       "4    False\n",
       "5    False\n",
       "6     True\n",
       "7     True\n",
       "8    False\n",
       "9     True\n",
       "Name: course, dtype: bool"
      ]
     },
     "metadata": {},
     "output_type": "display_data"
    },
    {
     "data": {
      "text/plain": [
       "0    False\n",
       "1    False\n",
       "2    False\n",
       "3    False\n",
       "4    False\n",
       "5    False\n",
       "6    False\n",
       "7    False\n",
       "8    False\n",
       "9    False\n",
       "Name: course, dtype: bool"
      ]
     },
     "execution_count": 53,
     "metadata": {},
     "output_type": "execute_result"
    }
   ],
   "source": [
    "display(students_df['course'].str.lower().str.contains('cs'))\n",
    "display(students_df['course'].str.lower().str.contains('r'))\n",
    "\n",
    "(students_df['course'].str.lower().str.contains('cs')) & (students_df['course'].str.lower().str.contains('r')) #not mendatory to add brackets here"
   ]
  },
  {
   "cell_type": "code",
   "execution_count": 54,
   "metadata": {},
   "outputs": [
    {
     "data": {
      "text/plain": [
       "0     True\n",
       "1     True\n",
       "2    False\n",
       "3     True\n",
       "4     True\n",
       "5     True\n",
       "6     True\n",
       "7     True\n",
       "8    False\n",
       "9     True\n",
       "Name: course, dtype: bool"
      ]
     },
     "execution_count": 54,
     "metadata": {},
     "output_type": "execute_result"
    }
   ],
   "source": [
    "students_df['course'].str.lower().str.contains('cs') | students_df['course'].str.lower().str.contains('r')"
   ]
  },
  {
   "cell_type": "code",
   "execution_count": 55,
   "metadata": {},
   "outputs": [
    {
     "data": {
      "text/html": [
       "<div>\n",
       "<style scoped>\n",
       "    .dataframe tbody tr th:only-of-type {\n",
       "        vertical-align: middle;\n",
       "    }\n",
       "\n",
       "    .dataframe tbody tr th {\n",
       "        vertical-align: top;\n",
       "    }\n",
       "\n",
       "    .dataframe thead th {\n",
       "        text-align: right;\n",
       "    }\n",
       "</style>\n",
       "<table border=\"1\" class=\"dataframe\">\n",
       "  <thead>\n",
       "    <tr style=\"text-align: right;\">\n",
       "      <th></th>\n",
       "      <th>roll_no</th>\n",
       "      <th>name</th>\n",
       "      <th>father</th>\n",
       "      <th>course</th>\n",
       "      <th>date_of_admission</th>\n",
       "      <th>fee</th>\n",
       "    </tr>\n",
       "  </thead>\n",
       "  <tbody>\n",
       "    <tr>\n",
       "      <th>0</th>\n",
       "      <td>1</td>\n",
       "      <td>Alice</td>\n",
       "      <td>Bob</td>\n",
       "      <td>Physics</td>\n",
       "      <td>2023-01-10</td>\n",
       "      <td>10000</td>\n",
       "    </tr>\n",
       "    <tr>\n",
       "      <th>1</th>\n",
       "      <td>2</td>\n",
       "      <td>Brian</td>\n",
       "      <td>Steve</td>\n",
       "      <td>Chemistry</td>\n",
       "      <td>2023-02-12</td>\n",
       "      <td>11000</td>\n",
       "    </tr>\n",
       "    <tr>\n",
       "      <th>3</th>\n",
       "      <td>4</td>\n",
       "      <td>David</td>\n",
       "      <td>Rick</td>\n",
       "      <td>physics</td>\n",
       "      <td>2023-04-10</td>\n",
       "      <td>13000</td>\n",
       "    </tr>\n",
       "    <tr>\n",
       "      <th>4</th>\n",
       "      <td>5</td>\n",
       "      <td>Eva</td>\n",
       "      <td>John</td>\n",
       "      <td>Physics</td>\n",
       "      <td>2023-05-16</td>\n",
       "      <td>14000</td>\n",
       "    </tr>\n",
       "    <tr>\n",
       "      <th>5</th>\n",
       "      <td>6</td>\n",
       "      <td>Frank</td>\n",
       "      <td>Tom</td>\n",
       "      <td>Economics</td>\n",
       "      <td>2023-06-21</td>\n",
       "      <td>15000</td>\n",
       "    </tr>\n",
       "    <tr>\n",
       "      <th>6</th>\n",
       "      <td>7</td>\n",
       "      <td>Grace</td>\n",
       "      <td>Harry</td>\n",
       "      <td>History</td>\n",
       "      <td>2023-07-25</td>\n",
       "      <td>16000</td>\n",
       "    </tr>\n",
       "    <tr>\n",
       "      <th>7</th>\n",
       "      <td>8</td>\n",
       "      <td>Henry</td>\n",
       "      <td>Charles</td>\n",
       "      <td>Geography</td>\n",
       "      <td>2023-08-17</td>\n",
       "      <td>17000</td>\n",
       "    </tr>\n",
       "    <tr>\n",
       "      <th>9</th>\n",
       "      <td>10</td>\n",
       "      <td>Jack</td>\n",
       "      <td>Noah</td>\n",
       "      <td>Art</td>\n",
       "      <td>2023-10-05</td>\n",
       "      <td>19000</td>\n",
       "    </tr>\n",
       "  </tbody>\n",
       "</table>\n",
       "</div>"
      ],
      "text/plain": [
       "   roll_no   name   father     course date_of_admission    fee\n",
       "0        1  Alice      Bob    Physics        2023-01-10  10000\n",
       "1        2  Brian    Steve  Chemistry        2023-02-12  11000\n",
       "3        4  David     Rick    physics        2023-04-10  13000\n",
       "4        5    Eva     John    Physics        2023-05-16  14000\n",
       "5        6  Frank      Tom  Economics        2023-06-21  15000\n",
       "6        7  Grace    Harry    History        2023-07-25  16000\n",
       "7        8  Henry  Charles  Geography        2023-08-17  17000\n",
       "9       10   Jack     Noah        Art        2023-10-05  19000"
      ]
     },
     "execution_count": 55,
     "metadata": {},
     "output_type": "execute_result"
    }
   ],
   "source": [
    "students_df[students_df['course'].str.lower().str.contains('cs') | students_df['course'].str.lower().str.contains('r')]"
   ]
  },
  {
   "cell_type": "code",
   "execution_count": 56,
   "metadata": {},
   "outputs": [
    {
     "data": {
      "text/html": [
       "<div>\n",
       "<style scoped>\n",
       "    .dataframe tbody tr th:only-of-type {\n",
       "        vertical-align: middle;\n",
       "    }\n",
       "\n",
       "    .dataframe tbody tr th {\n",
       "        vertical-align: top;\n",
       "    }\n",
       "\n",
       "    .dataframe thead th {\n",
       "        text-align: right;\n",
       "    }\n",
       "</style>\n",
       "<table border=\"1\" class=\"dataframe\">\n",
       "  <thead>\n",
       "    <tr style=\"text-align: right;\">\n",
       "      <th></th>\n",
       "      <th>roll_no</th>\n",
       "      <th>name</th>\n",
       "      <th>father</th>\n",
       "      <th>course</th>\n",
       "      <th>date_of_admission</th>\n",
       "      <th>fee</th>\n",
       "    </tr>\n",
       "  </thead>\n",
       "  <tbody>\n",
       "    <tr>\n",
       "      <th>0</th>\n",
       "      <td>1</td>\n",
       "      <td>Alice</td>\n",
       "      <td>Bob</td>\n",
       "      <td>Physics</td>\n",
       "      <td>2023-01-10</td>\n",
       "      <td>10000</td>\n",
       "    </tr>\n",
       "    <tr>\n",
       "      <th>1</th>\n",
       "      <td>2</td>\n",
       "      <td>Brian</td>\n",
       "      <td>Steve</td>\n",
       "      <td>Chemistry</td>\n",
       "      <td>2023-02-12</td>\n",
       "      <td>11000</td>\n",
       "    </tr>\n",
       "    <tr>\n",
       "      <th>2</th>\n",
       "      <td>3</td>\n",
       "      <td>Chloe</td>\n",
       "      <td>Tim</td>\n",
       "      <td>Biology</td>\n",
       "      <td>2023-03-14</td>\n",
       "      <td>12000</td>\n",
       "    </tr>\n",
       "    <tr>\n",
       "      <th>3</th>\n",
       "      <td>4</td>\n",
       "      <td>David</td>\n",
       "      <td>Rick</td>\n",
       "      <td>physics</td>\n",
       "      <td>2023-04-10</td>\n",
       "      <td>13000</td>\n",
       "    </tr>\n",
       "    <tr>\n",
       "      <th>4</th>\n",
       "      <td>5</td>\n",
       "      <td>Eva</td>\n",
       "      <td>John</td>\n",
       "      <td>Physics</td>\n",
       "      <td>2023-05-16</td>\n",
       "      <td>14000</td>\n",
       "    </tr>\n",
       "    <tr>\n",
       "      <th>5</th>\n",
       "      <td>6</td>\n",
       "      <td>Frank</td>\n",
       "      <td>Tom</td>\n",
       "      <td>Economics</td>\n",
       "      <td>2023-06-21</td>\n",
       "      <td>15000</td>\n",
       "    </tr>\n",
       "    <tr>\n",
       "      <th>6</th>\n",
       "      <td>7</td>\n",
       "      <td>Grace</td>\n",
       "      <td>Harry</td>\n",
       "      <td>History</td>\n",
       "      <td>2023-07-25</td>\n",
       "      <td>16000</td>\n",
       "    </tr>\n",
       "    <tr>\n",
       "      <th>7</th>\n",
       "      <td>8</td>\n",
       "      <td>Henry</td>\n",
       "      <td>Charles</td>\n",
       "      <td>Geography</td>\n",
       "      <td>2023-08-17</td>\n",
       "      <td>17000</td>\n",
       "    </tr>\n",
       "    <tr>\n",
       "      <th>8</th>\n",
       "      <td>9</td>\n",
       "      <td>Isabel</td>\n",
       "      <td>Oliver</td>\n",
       "      <td>English</td>\n",
       "      <td>2023-09-10</td>\n",
       "      <td>18000</td>\n",
       "    </tr>\n",
       "    <tr>\n",
       "      <th>9</th>\n",
       "      <td>10</td>\n",
       "      <td>Jack</td>\n",
       "      <td>Noah</td>\n",
       "      <td>Art</td>\n",
       "      <td>2023-10-05</td>\n",
       "      <td>19000</td>\n",
       "    </tr>\n",
       "  </tbody>\n",
       "</table>\n",
       "</div>"
      ],
      "text/plain": [
       "   roll_no    name   father     course date_of_admission    fee\n",
       "0        1   Alice      Bob    Physics        2023-01-10  10000\n",
       "1        2   Brian    Steve  Chemistry        2023-02-12  11000\n",
       "2        3   Chloe      Tim    Biology        2023-03-14  12000\n",
       "3        4   David     Rick    physics        2023-04-10  13000\n",
       "4        5     Eva     John    Physics        2023-05-16  14000\n",
       "5        6   Frank      Tom  Economics        2023-06-21  15000\n",
       "6        7   Grace    Harry    History        2023-07-25  16000\n",
       "7        8   Henry  Charles  Geography        2023-08-17  17000\n",
       "8        9  Isabel   Oliver    English        2023-09-10  18000\n",
       "9       10    Jack     Noah        Art        2023-10-05  19000"
      ]
     },
     "metadata": {},
     "output_type": "display_data"
    },
    {
     "name": "stdout",
     "output_type": "stream",
     "text": [
      "<class 'pandas.core.frame.DataFrame'>\n",
      "RangeIndex: 10 entries, 0 to 9\n",
      "Data columns (total 6 columns):\n",
      " #   Column             Non-Null Count  Dtype         \n",
      "---  ------             --------------  -----         \n",
      " 0   roll_no            10 non-null     int64         \n",
      " 1   name               10 non-null     object        \n",
      " 2   father             10 non-null     object        \n",
      " 3   course             10 non-null     object        \n",
      " 4   date_of_admission  10 non-null     datetime64[ns]\n",
      " 5   fee                10 non-null     int64         \n",
      "dtypes: datetime64[ns](1), int64(2), object(3)\n",
      "memory usage: 612.0+ bytes\n"
     ]
    },
    {
     "data": {
      "text/plain": [
       "None"
      ]
     },
     "metadata": {},
     "output_type": "display_data"
    }
   ],
   "source": [
    "import pandas as pd\n",
    "from datetime import datetime\n",
    "\n",
    "# Define the data as a list of dictionaries with 10 student records\n",
    "students_data = [\n",
    "    {'roll_no': 1, 'name': 'Alice', 'father': 'Bob', 'course': 'Physics', 'date_of_admission': '2023-01-10', 'fee': 10000},\n",
    "    {'roll_no': 2, 'name': 'Brian', 'father': 'Steve', 'course': 'Chemistry', 'date_of_admission': '2023-02-12', 'fee': 11000},\n",
    "    {'roll_no': 3, 'name': 'Chloe', 'father': 'Tim', 'course': 'Biology', 'date_of_admission': '2023-03-14', 'fee': 12000},\n",
    "    {'roll_no': 4, 'name': 'David', 'father': 'Rick', 'course': 'physics', 'date_of_admission': '2023-04-10', 'fee': 13000},\n",
    "    {'roll_no': 5, 'name': 'Eva', 'father': 'John', 'course': 'Physics', 'date_of_admission': '2023-05-16', 'fee': 14000},\n",
    "    {'roll_no': 6, 'name': 'Frank', 'father': 'Tom', 'course': 'Economics', 'date_of_admission': '2023-06-21', 'fee': 15000},\n",
    "    {'roll_no': 7, 'name': 'Grace', 'father': 'Harry', 'course': 'History', 'date_of_admission': '2023-07-25', 'fee': 16000},\n",
    "    {'roll_no': 8, 'name': 'Henry', 'father': 'Charles', 'course': 'Geography', 'date_of_admission': '2023-08-17', 'fee': 17000},\n",
    "    {'roll_no': 9, 'name': 'Isabel', 'father': 'Oliver', 'course': 'English', 'date_of_admission': '2023-09-10', 'fee': 18000},\n",
    "    {'roll_no': 10, 'name': 'Jack', 'father': 'Noah', 'course': 'Art', 'date_of_admission': '2023-10-05', 'fee': 19000},\n",
    "]\n",
    "\n",
    "# Create the DataFrame\n",
    "students_df : pd.DataFrame = pd.DataFrame(students_data)\n",
    "\n",
    "# Convert 'date_of_admission' to datetime\n",
    "students_df['date_of_admission'] = pd.to_datetime(students_df['date_of_admission'])\n",
    "\n",
    "# Show the DataFrame\n",
    "display(students_df)\n",
    "\n",
    "# Verify the data types\n",
    "display(students_df.info())"
   ]
  },
  {
   "cell_type": "markdown",
   "metadata": {},
   "source": [
    "## Apply filter on date column\n",
    "* dataframe.column.dt.datetimefunctions\n",
    "* Important functions of dateTime: used for groub-by\n",
    "    * dt.strftime - convert object into fstring object\n",
    "    * dt.strptime - return value in datetime - convert object into dateobject (p for post) \n",
    "\n",
    "In pandas, when you have a datetime column in a DataFrame, you can format the date and time information using the strftime method which allows for flexible formatting by specifying format codes. Each code represents a different element of the date and time. Below are some of the commonly used format codes that you can use with strftime:\n",
    "\n",
    "    * %a - Abbreviated weekday name.\n",
    "    * %A - Full weekday name.\n",
    "    * %w - Weekday as a decimal number, where 0 is Sunday and 6 is Saturday.\n",
    "    * %d - Day of the month as a zero-padded decimal number.\n",
    "    * %b - Abbreviated month name.\n",
    "    * %B - Full month name.\n",
    "    * %m - Month as a zero-padded decimal number.\n",
    "    * %y - Year without century as a zero-padded decimal number.\n",
    "    * %Y - Year with century as a decimal number.\n",
    "    * %H - Hour (24-hour clock) as a zero-padded decimal number.\n",
    "    * %I - Hour (12-hour clock) as a zero-padded decimal number.\n",
    "    * %p - Locale’s equivalent of either AM or PM.\n",
    "    * %M - Minute as a zero-padded decimal number.\n",
    "    * %S - Second as a zero-padded decimal number.\n",
    "    * %f - Microsecond as a decimal number, zero-padded on the left.\n",
    "    * %z - UTC offset in the form ±HHMM[SS[.ffffff]] (empty string if the object is naive).\n",
    "    * %Z - Time zone name (empty string if the object is naive).\n",
    "    * %j - Day of the year as a zero-padded decimal number.\n",
    "    * %U - Week number of the year (Sunday as the first day of the week) as a zero-padded decimal number.\n",
    "    * %W - Week number of the year (Monday as the first day of the week) as a zero-padded decimal number.\n",
    "    * %c - Locale’s appropriate date and time representation.\n",
    "    * %x - Locale’s appropriate date representation.\n",
    "    * %X - Locale’s appropriate time representation.\n",
    "    * %G - ISO 8601 year with century representing the year that contains the greater part of the ISO week (%V).\n",
    "    * %u - ISO 8601 weekday as a decimal number where 1 is Monday.\n",
    "    * %V - ISO 8601 week number as a decimal number with Monday as the first day of the week.\n",
    "    \n",
    "Here's a small example of how to use strftime with a pandas DataFrame:\n",
    "\n",
    "```\n",
    "import pandas as pd\n",
    "\n",
    "# Create a sample DataFrame with datetime column\n",
    "df = pd.DataFrame({\n",
    "    'datetime': pd.date_range(start='2023-01-01', periods=3, freq='D')\n",
    "})\n",
    "\n",
    "# Format the 'datetime' column as a string with a specific format\n",
    "df['formatted_date'] = df['datetime'].dt.strftime('%Y-%m-%d %H:%M:%S')\n",
    "\n",
    "print(df)\n",
    "```\n",
    "The 'formatted_date' column will contain strings representing the dates in the format specified by the strftime method. You can combine any of the symbols above to create the date format string as per your requirements."
   ]
  },
  {
   "cell_type": "markdown",
   "metadata": {},
   "source": [
    "#### To check datetime functions"
   ]
  },
  {
   "cell_type": "code",
   "execution_count": 63,
   "metadata": {},
   "outputs": [
    {
     "data": {
      "text/plain": [
       "['ceil',\n",
       " 'date',\n",
       " 'day',\n",
       " 'dayofweek',\n",
       " 'dayofyear',\n",
       " 'daysinmonth',\n",
       " 'floor',\n",
       " 'freq',\n",
       " 'hour',\n",
       " 'isocalendar',\n",
       " 'microsecond',\n",
       " 'minute',\n",
       " 'month',\n",
       " 'nanosecond',\n",
       " 'normalize',\n",
       " 'quarter',\n",
       " 'round',\n",
       " 'second',\n",
       " 'strftime',\n",
       " 'time',\n",
       " 'timetz',\n",
       " 'tz',\n",
       " 'unit',\n",
       " 'weekday',\n",
       " 'year']"
      ]
     },
     "execution_count": 63,
     "metadata": {},
     "output_type": "execute_result"
    }
   ],
   "source": [
    "[i for i in dir(students_df['date_of_admission'].dt) if \"_\" not in i]"
   ]
  },
  {
   "cell_type": "code",
   "execution_count": 66,
   "metadata": {},
   "outputs": [
    {
     "data": {
      "text/plain": [
       "0   2023-01-10\n",
       "1   2023-02-12\n",
       "2   2023-03-14\n",
       "3   2023-04-10\n",
       "4   2023-05-16\n",
       "5   2023-06-21\n",
       "6   2023-07-25\n",
       "7   2023-08-17\n",
       "8   2023-09-10\n",
       "9   2023-10-05\n",
       "Name: date_of_admission, dtype: datetime64[ns]"
      ]
     },
     "execution_count": 66,
     "metadata": {},
     "output_type": "execute_result"
    }
   ],
   "source": [
    "students_df['date_of_admission']"
   ]
  },
  {
   "cell_type": "code",
   "execution_count": 64,
   "metadata": {},
   "outputs": [
    {
     "data": {
      "text/plain": [
       "0     10\n",
       "1     43\n",
       "2     73\n",
       "3    100\n",
       "4    136\n",
       "5    172\n",
       "6    206\n",
       "7    229\n",
       "8    253\n",
       "9    278\n",
       "Name: date_of_admission, dtype: int32"
      ]
     },
     "execution_count": 64,
     "metadata": {},
     "output_type": "execute_result"
    }
   ],
   "source": [
    "students_df['date_of_admission'].dt.day_of_year"
   ]
  },
  {
   "cell_type": "code",
   "execution_count": 65,
   "metadata": {},
   "outputs": [
    {
     "data": {
      "text/plain": [
       "0    2023\n",
       "1    2023\n",
       "2    2023\n",
       "3    2023\n",
       "4    2023\n",
       "5    2023\n",
       "6    2023\n",
       "7    2023\n",
       "8    2023\n",
       "9    2023\n",
       "Name: date_of_admission, dtype: int32"
      ]
     },
     "execution_count": 65,
     "metadata": {},
     "output_type": "execute_result"
    }
   ],
   "source": [
    "students_df['date_of_admission'].dt.year"
   ]
  },
  {
   "cell_type": "code",
   "execution_count": 67,
   "metadata": {},
   "outputs": [
    {
     "data": {
      "text/plain": [
       "0     1\n",
       "1     2\n",
       "2     3\n",
       "3     4\n",
       "4     5\n",
       "5     6\n",
       "6     7\n",
       "7     8\n",
       "8     9\n",
       "9    10\n",
       "Name: date_of_admission, dtype: int32"
      ]
     },
     "execution_count": 67,
     "metadata": {},
     "output_type": "execute_result"
    }
   ],
   "source": [
    "students_df['date_of_admission'].dt.month"
   ]
  },
  {
   "cell_type": "code",
   "execution_count": 69,
   "metadata": {},
   "outputs": [
    {
     "data": {
      "text/plain": [
       "0    10\n",
       "1    12\n",
       "2    14\n",
       "3    10\n",
       "4    16\n",
       "5    21\n",
       "6    25\n",
       "7    17\n",
       "8    10\n",
       "9     5\n",
       "Name: date_of_admission, dtype: int32"
      ]
     },
     "execution_count": 69,
     "metadata": {},
     "output_type": "execute_result"
    }
   ],
   "source": [
    "students_df['date_of_admission'].dt.day"
   ]
  },
  {
   "cell_type": "code",
   "execution_count": 81,
   "metadata": {},
   "outputs": [
    {
     "data": {
      "text/plain": [
       "0   2023-01-10 00:00:00+05:30\n",
       "1   2023-02-12 00:00:00+05:30\n",
       "2   2023-03-14 00:00:00+05:30\n",
       "3   2023-04-10 00:00:00+05:30\n",
       "4   2023-05-16 00:00:00+05:30\n",
       "5   2023-06-21 00:00:00+05:30\n",
       "6   2023-07-25 00:00:00+05:30\n",
       "7   2023-08-17 00:00:00+05:30\n",
       "8   2023-09-10 00:00:00+05:30\n",
       "9   2023-10-05 00:00:00+05:30\n",
       "Name: date_of_admission, dtype: datetime64[ns, Asia/Kolkata]"
      ]
     },
     "execution_count": 81,
     "metadata": {},
     "output_type": "execute_result"
    }
   ],
   "source": [
    "students_df['date_of_admission'].dt.date\n",
    "students_df['date_of_admission'].dt.hour\n",
    "students_df['date_of_admission'].dt.minute\n",
    "students_df['date_of_admission'].dt.second\n",
    "students_df['date_of_admission'].dt.microsecond\n",
    "students_df['date_of_admission'].dt.tz\n",
    "students_df['date_of_admission'].dt.tz_localize\n",
    "students_df['date_of_admission'].dt.tz_convert\n",
    "students_df['date_of_admission'].dt.tz_localize('Asia/Kolkata')\n",
    "\n"
   ]
  },
  {
   "cell_type": "code",
   "execution_count": 83,
   "metadata": {},
   "outputs": [
    {
     "data": {
      "text/plain": [
       "datetime.datetime(2023, 12, 5, 17, 0, 7, 64495)"
      ]
     },
     "execution_count": 83,
     "metadata": {},
     "output_type": "execute_result"
    }
   ],
   "source": [
    "from datetime import datetime\n",
    "\n",
    "date : datetime = datetime.now()\n",
    "date"
   ]
  },
  {
   "cell_type": "code",
   "execution_count": 85,
   "metadata": {},
   "outputs": [
    {
     "data": {
      "text/plain": [
       "0   2023-12-05 17:00:07.064495\n",
       "dtype: datetime64[ns]"
      ]
     },
     "execution_count": 85,
     "metadata": {},
     "output_type": "execute_result"
    }
   ],
   "source": [
    "s1 : pd.Series = pd.Series([date])\n",
    "s1"
   ]
  },
  {
   "cell_type": "code",
   "execution_count": 92,
   "metadata": {},
   "outputs": [
    {
     "data": {
      "text/plain": [
       "0    2023/12 05 05 Dec December\n",
       "dtype: object"
      ]
     },
     "execution_count": 92,
     "metadata": {},
     "output_type": "execute_result"
    }
   ],
   "source": [
    "s1.dt.strftime(\"%Y/%m %d %I %b %B\") #the answer is in text form - strftime() convert datetime64[ns] to text format"
   ]
  },
  {
   "cell_type": "code",
   "execution_count": 86,
   "metadata": {},
   "outputs": [
    {
     "data": {
      "text/html": [
       "<div>\n",
       "<style scoped>\n",
       "    .dataframe tbody tr th:only-of-type {\n",
       "        vertical-align: middle;\n",
       "    }\n",
       "\n",
       "    .dataframe tbody tr th {\n",
       "        vertical-align: top;\n",
       "    }\n",
       "\n",
       "    .dataframe thead th {\n",
       "        text-align: right;\n",
       "    }\n",
       "</style>\n",
       "<table border=\"1\" class=\"dataframe\">\n",
       "  <thead>\n",
       "    <tr style=\"text-align: right;\">\n",
       "      <th></th>\n",
       "      <th>0</th>\n",
       "    </tr>\n",
       "  </thead>\n",
       "  <tbody>\n",
       "    <tr>\n",
       "      <th>0</th>\n",
       "      <td>2023-12-05 17:00:07.064495</td>\n",
       "    </tr>\n",
       "  </tbody>\n",
       "</table>\n",
       "</div>"
      ],
      "text/plain": [
       "                           0\n",
       "0 2023-12-05 17:00:07.064495"
      ]
     },
     "execution_count": 86,
     "metadata": {},
     "output_type": "execute_result"
    }
   ],
   "source": [
    "date : pd.DataFrame = pd.DataFrame(s1)"
   ]
  },
  {
   "cell_type": "code",
   "execution_count": 93,
   "metadata": {},
   "outputs": [
    {
     "data": {
      "text/plain": [
       "0    01 Nov 2023\n",
       "1    01 Nov 2024\n",
       "2    01 Jan 2023\n",
       "dtype: object"
      ]
     },
     "execution_count": 93,
     "metadata": {},
     "output_type": "execute_result"
    }
   ],
   "source": [
    "s2 = pd.Series(['01 Nov 2023', '01 Nov 2024', '01 Jan 2023']) #here the output is in string type so...\n",
    "s2"
   ]
  },
  {
   "cell_type": "code",
   "execution_count": 94,
   "metadata": {},
   "outputs": [
    {
     "data": {
      "text/plain": [
       "0   2023-11-01\n",
       "1   2024-11-01\n",
       "2   2023-01-01\n",
       "dtype: datetime64[ns]"
      ]
     },
     "execution_count": 94,
     "metadata": {},
     "output_type": "execute_result"
    }
   ],
   "source": [
    "# if you have data in string format and you want to convert it - so for that we will use strptime()\n",
    "# so to apply the strptime() function it has to be in datetime so we are converting s2 in datetime from string\n",
    "\n",
    "s2.apply(lambda x: datetime.strptime(x, \"%d %b %Y\")) #conversion here is string to datetime"
   ]
  },
  {
   "cell_type": "markdown",
   "metadata": {},
   "source": [
    "# Group by\n",
    "* dataframe.groupby(['column1','column2'])\n",
    "* dataframe.groupby(['column1','column2'])[['col1','col2']].aggregate([min,max])\n",
    "* dataframe.groupby(['column1','column2'])[['col1','col2']].apply(function())\n"
   ]
  },
  {
   "cell_type": "code",
   "execution_count": 95,
   "metadata": {},
   "outputs": [
    {
     "data": {
      "text/html": [
       "<div>\n",
       "<style scoped>\n",
       "    .dataframe tbody tr th:only-of-type {\n",
       "        vertical-align: middle;\n",
       "    }\n",
       "\n",
       "    .dataframe tbody tr th {\n",
       "        vertical-align: top;\n",
       "    }\n",
       "\n",
       "    .dataframe thead th {\n",
       "        text-align: right;\n",
       "    }\n",
       "</style>\n",
       "<table border=\"1\" class=\"dataframe\">\n",
       "  <thead>\n",
       "    <tr style=\"text-align: right;\">\n",
       "      <th></th>\n",
       "      <th>roll_no</th>\n",
       "      <th>name</th>\n",
       "      <th>father</th>\n",
       "      <th>course</th>\n",
       "      <th>date_of_admission</th>\n",
       "      <th>fee</th>\n",
       "    </tr>\n",
       "  </thead>\n",
       "  <tbody>\n",
       "    <tr>\n",
       "      <th>0</th>\n",
       "      <td>1</td>\n",
       "      <td>Alice</td>\n",
       "      <td>Bob</td>\n",
       "      <td>Physics</td>\n",
       "      <td>2023-01-10</td>\n",
       "      <td>10000</td>\n",
       "    </tr>\n",
       "    <tr>\n",
       "      <th>1</th>\n",
       "      <td>2</td>\n",
       "      <td>Brian</td>\n",
       "      <td>Steve</td>\n",
       "      <td>Chemistry</td>\n",
       "      <td>2023-02-12</td>\n",
       "      <td>11000</td>\n",
       "    </tr>\n",
       "    <tr>\n",
       "      <th>2</th>\n",
       "      <td>3</td>\n",
       "      <td>Chloe</td>\n",
       "      <td>Tim</td>\n",
       "      <td>Biology</td>\n",
       "      <td>2023-03-14</td>\n",
       "      <td>12000</td>\n",
       "    </tr>\n",
       "    <tr>\n",
       "      <th>3</th>\n",
       "      <td>4</td>\n",
       "      <td>David</td>\n",
       "      <td>Rick</td>\n",
       "      <td>physics</td>\n",
       "      <td>2023-04-10</td>\n",
       "      <td>13000</td>\n",
       "    </tr>\n",
       "    <tr>\n",
       "      <th>4</th>\n",
       "      <td>5</td>\n",
       "      <td>Eva</td>\n",
       "      <td>John</td>\n",
       "      <td>Physics</td>\n",
       "      <td>2023-05-16</td>\n",
       "      <td>14000</td>\n",
       "    </tr>\n",
       "    <tr>\n",
       "      <th>5</th>\n",
       "      <td>6</td>\n",
       "      <td>Frank</td>\n",
       "      <td>Tom</td>\n",
       "      <td>Economics</td>\n",
       "      <td>2023-06-21</td>\n",
       "      <td>15000</td>\n",
       "    </tr>\n",
       "    <tr>\n",
       "      <th>6</th>\n",
       "      <td>7</td>\n",
       "      <td>Grace</td>\n",
       "      <td>Harry</td>\n",
       "      <td>History</td>\n",
       "      <td>2023-07-25</td>\n",
       "      <td>16000</td>\n",
       "    </tr>\n",
       "    <tr>\n",
       "      <th>7</th>\n",
       "      <td>8</td>\n",
       "      <td>Henry</td>\n",
       "      <td>Charles</td>\n",
       "      <td>Geography</td>\n",
       "      <td>2023-08-17</td>\n",
       "      <td>17000</td>\n",
       "    </tr>\n",
       "    <tr>\n",
       "      <th>8</th>\n",
       "      <td>9</td>\n",
       "      <td>Isabel</td>\n",
       "      <td>Oliver</td>\n",
       "      <td>English</td>\n",
       "      <td>2023-09-10</td>\n",
       "      <td>18000</td>\n",
       "    </tr>\n",
       "    <tr>\n",
       "      <th>9</th>\n",
       "      <td>10</td>\n",
       "      <td>Jack</td>\n",
       "      <td>Noah</td>\n",
       "      <td>Art</td>\n",
       "      <td>2023-10-05</td>\n",
       "      <td>19000</td>\n",
       "    </tr>\n",
       "  </tbody>\n",
       "</table>\n",
       "</div>"
      ],
      "text/plain": [
       "   roll_no    name   father     course date_of_admission    fee\n",
       "0        1   Alice      Bob    Physics        2023-01-10  10000\n",
       "1        2   Brian    Steve  Chemistry        2023-02-12  11000\n",
       "2        3   Chloe      Tim    Biology        2023-03-14  12000\n",
       "3        4   David     Rick    physics        2023-04-10  13000\n",
       "4        5     Eva     John    Physics        2023-05-16  14000\n",
       "5        6   Frank      Tom  Economics        2023-06-21  15000\n",
       "6        7   Grace    Harry    History        2023-07-25  16000\n",
       "7        8   Henry  Charles  Geography        2023-08-17  17000\n",
       "8        9  Isabel   Oliver    English        2023-09-10  18000\n",
       "9       10    Jack     Noah        Art        2023-10-05  19000"
      ]
     },
     "execution_count": 95,
     "metadata": {},
     "output_type": "execute_result"
    }
   ],
   "source": [
    "students_df"
   ]
  },
  {
   "cell_type": "code",
   "execution_count": 96,
   "metadata": {},
   "outputs": [
    {
     "data": {
      "text/plain": [
       "<pandas.core.groupby.generic.DataFrameGroupBy object at 0x000002BA9F35F800>"
      ]
     },
     "execution_count": 96,
     "metadata": {},
     "output_type": "execute_result"
    }
   ],
   "source": [
    "students_df.groupby(['course']) #it is genertor function that's why it doesnot show result"
   ]
  },
  {
   "cell_type": "code",
   "execution_count": 97,
   "metadata": {},
   "outputs": [
    {
     "data": {
      "text/plain": [
       "[(('Art',),\n",
       "     roll_no  name father course date_of_admission    fee\n",
       "  9       10  Jack   Noah    Art        2023-10-05  19000),\n",
       " (('Biology',),\n",
       "     roll_no   name father   course date_of_admission    fee\n",
       "  2        3  Chloe    Tim  Biology        2023-03-14  12000),\n",
       " (('Chemistry',),\n",
       "     roll_no   name father     course date_of_admission    fee\n",
       "  1        2  Brian  Steve  Chemistry        2023-02-12  11000),\n",
       " (('Economics',),\n",
       "     roll_no   name father     course date_of_admission    fee\n",
       "  5        6  Frank    Tom  Economics        2023-06-21  15000),\n",
       " (('English',),\n",
       "     roll_no    name  father   course date_of_admission    fee\n",
       "  8        9  Isabel  Oliver  English        2023-09-10  18000),\n",
       " (('Geography',),\n",
       "     roll_no   name   father     course date_of_admission    fee\n",
       "  7        8  Henry  Charles  Geography        2023-08-17  17000),\n",
       " (('History',),\n",
       "     roll_no   name father   course date_of_admission    fee\n",
       "  6        7  Grace  Harry  History        2023-07-25  16000),\n",
       " (('Physics',),\n",
       "     roll_no   name father   course date_of_admission    fee\n",
       "  0        1  Alice    Bob  Physics        2023-01-10  10000\n",
       "  4        5    Eva   John  Physics        2023-05-16  14000),\n",
       " (('physics',),\n",
       "     roll_no   name father   course date_of_admission    fee\n",
       "  3        4  David   Rick  physics        2023-04-10  13000)]"
      ]
     },
     "execution_count": 97,
     "metadata": {},
     "output_type": "execute_result"
    }
   ],
   "source": [
    "list(students_df.groupby(['course']))"
   ]
  },
  {
   "cell_type": "code",
   "execution_count": 98,
   "metadata": {},
   "outputs": [
    {
     "data": {
      "text/plain": [
       "(('Art',),\n",
       "    roll_no  name father course date_of_admission    fee\n",
       " 9       10  Jack   Noah    Art        2023-10-05  19000)"
      ]
     },
     "execution_count": 98,
     "metadata": {},
     "output_type": "execute_result"
    }
   ],
   "source": [
    "list(students_df.groupby(['course']))[0]"
   ]
  },
  {
   "cell_type": "code",
   "execution_count": 99,
   "metadata": {},
   "outputs": [
    {
     "data": {
      "text/plain": [
       "('Art',)"
      ]
     },
     "execution_count": 99,
     "metadata": {},
     "output_type": "execute_result"
    }
   ],
   "source": [
    "list(students_df.groupby(['course']))[0][0]"
   ]
  },
  {
   "cell_type": "code",
   "execution_count": 100,
   "metadata": {},
   "outputs": [
    {
     "data": {
      "text/html": [
       "<div>\n",
       "<style scoped>\n",
       "    .dataframe tbody tr th:only-of-type {\n",
       "        vertical-align: middle;\n",
       "    }\n",
       "\n",
       "    .dataframe tbody tr th {\n",
       "        vertical-align: top;\n",
       "    }\n",
       "\n",
       "    .dataframe thead th {\n",
       "        text-align: right;\n",
       "    }\n",
       "</style>\n",
       "<table border=\"1\" class=\"dataframe\">\n",
       "  <thead>\n",
       "    <tr style=\"text-align: right;\">\n",
       "      <th></th>\n",
       "      <th>roll_no</th>\n",
       "      <th>name</th>\n",
       "      <th>father</th>\n",
       "      <th>course</th>\n",
       "      <th>date_of_admission</th>\n",
       "      <th>fee</th>\n",
       "    </tr>\n",
       "  </thead>\n",
       "  <tbody>\n",
       "    <tr>\n",
       "      <th>9</th>\n",
       "      <td>10</td>\n",
       "      <td>Jack</td>\n",
       "      <td>Noah</td>\n",
       "      <td>Art</td>\n",
       "      <td>2023-10-05</td>\n",
       "      <td>19000</td>\n",
       "    </tr>\n",
       "  </tbody>\n",
       "</table>\n",
       "</div>"
      ],
      "text/plain": [
       "   roll_no  name father course date_of_admission    fee\n",
       "9       10  Jack   Noah    Art        2023-10-05  19000"
      ]
     },
     "execution_count": 100,
     "metadata": {},
     "output_type": "execute_result"
    }
   ],
   "source": [
    "list(students_df.groupby(['course']))[0][1]"
   ]
  },
  {
   "cell_type": "code",
   "execution_count": 101,
   "metadata": {},
   "outputs": [
    {
     "data": {
      "text/plain": [
       "('Art',)"
      ]
     },
     "metadata": {},
     "output_type": "display_data"
    },
    {
     "data": {
      "text/html": [
       "<div>\n",
       "<style scoped>\n",
       "    .dataframe tbody tr th:only-of-type {\n",
       "        vertical-align: middle;\n",
       "    }\n",
       "\n",
       "    .dataframe tbody tr th {\n",
       "        vertical-align: top;\n",
       "    }\n",
       "\n",
       "    .dataframe thead th {\n",
       "        text-align: right;\n",
       "    }\n",
       "</style>\n",
       "<table border=\"1\" class=\"dataframe\">\n",
       "  <thead>\n",
       "    <tr style=\"text-align: right;\">\n",
       "      <th></th>\n",
       "      <th>roll_no</th>\n",
       "      <th>name</th>\n",
       "      <th>father</th>\n",
       "      <th>course</th>\n",
       "      <th>date_of_admission</th>\n",
       "      <th>fee</th>\n",
       "    </tr>\n",
       "  </thead>\n",
       "  <tbody>\n",
       "    <tr>\n",
       "      <th>9</th>\n",
       "      <td>10</td>\n",
       "      <td>Jack</td>\n",
       "      <td>Noah</td>\n",
       "      <td>Art</td>\n",
       "      <td>2023-10-05</td>\n",
       "      <td>19000</td>\n",
       "    </tr>\n",
       "  </tbody>\n",
       "</table>\n",
       "</div>"
      ],
      "text/plain": [
       "   roll_no  name father course date_of_admission    fee\n",
       "9       10  Jack   Noah    Art        2023-10-05  19000"
      ]
     },
     "metadata": {},
     "output_type": "display_data"
    },
    {
     "name": "stdout",
     "output_type": "stream",
     "text": [
      "===========================\n"
     ]
    },
    {
     "data": {
      "text/plain": [
       "('Biology',)"
      ]
     },
     "metadata": {},
     "output_type": "display_data"
    },
    {
     "data": {
      "text/html": [
       "<div>\n",
       "<style scoped>\n",
       "    .dataframe tbody tr th:only-of-type {\n",
       "        vertical-align: middle;\n",
       "    }\n",
       "\n",
       "    .dataframe tbody tr th {\n",
       "        vertical-align: top;\n",
       "    }\n",
       "\n",
       "    .dataframe thead th {\n",
       "        text-align: right;\n",
       "    }\n",
       "</style>\n",
       "<table border=\"1\" class=\"dataframe\">\n",
       "  <thead>\n",
       "    <tr style=\"text-align: right;\">\n",
       "      <th></th>\n",
       "      <th>roll_no</th>\n",
       "      <th>name</th>\n",
       "      <th>father</th>\n",
       "      <th>course</th>\n",
       "      <th>date_of_admission</th>\n",
       "      <th>fee</th>\n",
       "    </tr>\n",
       "  </thead>\n",
       "  <tbody>\n",
       "    <tr>\n",
       "      <th>2</th>\n",
       "      <td>3</td>\n",
       "      <td>Chloe</td>\n",
       "      <td>Tim</td>\n",
       "      <td>Biology</td>\n",
       "      <td>2023-03-14</td>\n",
       "      <td>12000</td>\n",
       "    </tr>\n",
       "  </tbody>\n",
       "</table>\n",
       "</div>"
      ],
      "text/plain": [
       "   roll_no   name father   course date_of_admission    fee\n",
       "2        3  Chloe    Tim  Biology        2023-03-14  12000"
      ]
     },
     "metadata": {},
     "output_type": "display_data"
    },
    {
     "name": "stdout",
     "output_type": "stream",
     "text": [
      "===========================\n"
     ]
    },
    {
     "data": {
      "text/plain": [
       "('Chemistry',)"
      ]
     },
     "metadata": {},
     "output_type": "display_data"
    },
    {
     "data": {
      "text/html": [
       "<div>\n",
       "<style scoped>\n",
       "    .dataframe tbody tr th:only-of-type {\n",
       "        vertical-align: middle;\n",
       "    }\n",
       "\n",
       "    .dataframe tbody tr th {\n",
       "        vertical-align: top;\n",
       "    }\n",
       "\n",
       "    .dataframe thead th {\n",
       "        text-align: right;\n",
       "    }\n",
       "</style>\n",
       "<table border=\"1\" class=\"dataframe\">\n",
       "  <thead>\n",
       "    <tr style=\"text-align: right;\">\n",
       "      <th></th>\n",
       "      <th>roll_no</th>\n",
       "      <th>name</th>\n",
       "      <th>father</th>\n",
       "      <th>course</th>\n",
       "      <th>date_of_admission</th>\n",
       "      <th>fee</th>\n",
       "    </tr>\n",
       "  </thead>\n",
       "  <tbody>\n",
       "    <tr>\n",
       "      <th>1</th>\n",
       "      <td>2</td>\n",
       "      <td>Brian</td>\n",
       "      <td>Steve</td>\n",
       "      <td>Chemistry</td>\n",
       "      <td>2023-02-12</td>\n",
       "      <td>11000</td>\n",
       "    </tr>\n",
       "  </tbody>\n",
       "</table>\n",
       "</div>"
      ],
      "text/plain": [
       "   roll_no   name father     course date_of_admission    fee\n",
       "1        2  Brian  Steve  Chemistry        2023-02-12  11000"
      ]
     },
     "metadata": {},
     "output_type": "display_data"
    },
    {
     "name": "stdout",
     "output_type": "stream",
     "text": [
      "===========================\n"
     ]
    },
    {
     "data": {
      "text/plain": [
       "('Economics',)"
      ]
     },
     "metadata": {},
     "output_type": "display_data"
    },
    {
     "data": {
      "text/html": [
       "<div>\n",
       "<style scoped>\n",
       "    .dataframe tbody tr th:only-of-type {\n",
       "        vertical-align: middle;\n",
       "    }\n",
       "\n",
       "    .dataframe tbody tr th {\n",
       "        vertical-align: top;\n",
       "    }\n",
       "\n",
       "    .dataframe thead th {\n",
       "        text-align: right;\n",
       "    }\n",
       "</style>\n",
       "<table border=\"1\" class=\"dataframe\">\n",
       "  <thead>\n",
       "    <tr style=\"text-align: right;\">\n",
       "      <th></th>\n",
       "      <th>roll_no</th>\n",
       "      <th>name</th>\n",
       "      <th>father</th>\n",
       "      <th>course</th>\n",
       "      <th>date_of_admission</th>\n",
       "      <th>fee</th>\n",
       "    </tr>\n",
       "  </thead>\n",
       "  <tbody>\n",
       "    <tr>\n",
       "      <th>5</th>\n",
       "      <td>6</td>\n",
       "      <td>Frank</td>\n",
       "      <td>Tom</td>\n",
       "      <td>Economics</td>\n",
       "      <td>2023-06-21</td>\n",
       "      <td>15000</td>\n",
       "    </tr>\n",
       "  </tbody>\n",
       "</table>\n",
       "</div>"
      ],
      "text/plain": [
       "   roll_no   name father     course date_of_admission    fee\n",
       "5        6  Frank    Tom  Economics        2023-06-21  15000"
      ]
     },
     "metadata": {},
     "output_type": "display_data"
    },
    {
     "name": "stdout",
     "output_type": "stream",
     "text": [
      "===========================\n"
     ]
    },
    {
     "data": {
      "text/plain": [
       "('English',)"
      ]
     },
     "metadata": {},
     "output_type": "display_data"
    },
    {
     "data": {
      "text/html": [
       "<div>\n",
       "<style scoped>\n",
       "    .dataframe tbody tr th:only-of-type {\n",
       "        vertical-align: middle;\n",
       "    }\n",
       "\n",
       "    .dataframe tbody tr th {\n",
       "        vertical-align: top;\n",
       "    }\n",
       "\n",
       "    .dataframe thead th {\n",
       "        text-align: right;\n",
       "    }\n",
       "</style>\n",
       "<table border=\"1\" class=\"dataframe\">\n",
       "  <thead>\n",
       "    <tr style=\"text-align: right;\">\n",
       "      <th></th>\n",
       "      <th>roll_no</th>\n",
       "      <th>name</th>\n",
       "      <th>father</th>\n",
       "      <th>course</th>\n",
       "      <th>date_of_admission</th>\n",
       "      <th>fee</th>\n",
       "    </tr>\n",
       "  </thead>\n",
       "  <tbody>\n",
       "    <tr>\n",
       "      <th>8</th>\n",
       "      <td>9</td>\n",
       "      <td>Isabel</td>\n",
       "      <td>Oliver</td>\n",
       "      <td>English</td>\n",
       "      <td>2023-09-10</td>\n",
       "      <td>18000</td>\n",
       "    </tr>\n",
       "  </tbody>\n",
       "</table>\n",
       "</div>"
      ],
      "text/plain": [
       "   roll_no    name  father   course date_of_admission    fee\n",
       "8        9  Isabel  Oliver  English        2023-09-10  18000"
      ]
     },
     "metadata": {},
     "output_type": "display_data"
    },
    {
     "name": "stdout",
     "output_type": "stream",
     "text": [
      "===========================\n"
     ]
    },
    {
     "data": {
      "text/plain": [
       "('Geography',)"
      ]
     },
     "metadata": {},
     "output_type": "display_data"
    },
    {
     "data": {
      "text/html": [
       "<div>\n",
       "<style scoped>\n",
       "    .dataframe tbody tr th:only-of-type {\n",
       "        vertical-align: middle;\n",
       "    }\n",
       "\n",
       "    .dataframe tbody tr th {\n",
       "        vertical-align: top;\n",
       "    }\n",
       "\n",
       "    .dataframe thead th {\n",
       "        text-align: right;\n",
       "    }\n",
       "</style>\n",
       "<table border=\"1\" class=\"dataframe\">\n",
       "  <thead>\n",
       "    <tr style=\"text-align: right;\">\n",
       "      <th></th>\n",
       "      <th>roll_no</th>\n",
       "      <th>name</th>\n",
       "      <th>father</th>\n",
       "      <th>course</th>\n",
       "      <th>date_of_admission</th>\n",
       "      <th>fee</th>\n",
       "    </tr>\n",
       "  </thead>\n",
       "  <tbody>\n",
       "    <tr>\n",
       "      <th>7</th>\n",
       "      <td>8</td>\n",
       "      <td>Henry</td>\n",
       "      <td>Charles</td>\n",
       "      <td>Geography</td>\n",
       "      <td>2023-08-17</td>\n",
       "      <td>17000</td>\n",
       "    </tr>\n",
       "  </tbody>\n",
       "</table>\n",
       "</div>"
      ],
      "text/plain": [
       "   roll_no   name   father     course date_of_admission    fee\n",
       "7        8  Henry  Charles  Geography        2023-08-17  17000"
      ]
     },
     "metadata": {},
     "output_type": "display_data"
    },
    {
     "name": "stdout",
     "output_type": "stream",
     "text": [
      "===========================\n"
     ]
    },
    {
     "data": {
      "text/plain": [
       "('History',)"
      ]
     },
     "metadata": {},
     "output_type": "display_data"
    },
    {
     "data": {
      "text/html": [
       "<div>\n",
       "<style scoped>\n",
       "    .dataframe tbody tr th:only-of-type {\n",
       "        vertical-align: middle;\n",
       "    }\n",
       "\n",
       "    .dataframe tbody tr th {\n",
       "        vertical-align: top;\n",
       "    }\n",
       "\n",
       "    .dataframe thead th {\n",
       "        text-align: right;\n",
       "    }\n",
       "</style>\n",
       "<table border=\"1\" class=\"dataframe\">\n",
       "  <thead>\n",
       "    <tr style=\"text-align: right;\">\n",
       "      <th></th>\n",
       "      <th>roll_no</th>\n",
       "      <th>name</th>\n",
       "      <th>father</th>\n",
       "      <th>course</th>\n",
       "      <th>date_of_admission</th>\n",
       "      <th>fee</th>\n",
       "    </tr>\n",
       "  </thead>\n",
       "  <tbody>\n",
       "    <tr>\n",
       "      <th>6</th>\n",
       "      <td>7</td>\n",
       "      <td>Grace</td>\n",
       "      <td>Harry</td>\n",
       "      <td>History</td>\n",
       "      <td>2023-07-25</td>\n",
       "      <td>16000</td>\n",
       "    </tr>\n",
       "  </tbody>\n",
       "</table>\n",
       "</div>"
      ],
      "text/plain": [
       "   roll_no   name father   course date_of_admission    fee\n",
       "6        7  Grace  Harry  History        2023-07-25  16000"
      ]
     },
     "metadata": {},
     "output_type": "display_data"
    },
    {
     "name": "stdout",
     "output_type": "stream",
     "text": [
      "===========================\n"
     ]
    },
    {
     "data": {
      "text/plain": [
       "('Physics',)"
      ]
     },
     "metadata": {},
     "output_type": "display_data"
    },
    {
     "data": {
      "text/html": [
       "<div>\n",
       "<style scoped>\n",
       "    .dataframe tbody tr th:only-of-type {\n",
       "        vertical-align: middle;\n",
       "    }\n",
       "\n",
       "    .dataframe tbody tr th {\n",
       "        vertical-align: top;\n",
       "    }\n",
       "\n",
       "    .dataframe thead th {\n",
       "        text-align: right;\n",
       "    }\n",
       "</style>\n",
       "<table border=\"1\" class=\"dataframe\">\n",
       "  <thead>\n",
       "    <tr style=\"text-align: right;\">\n",
       "      <th></th>\n",
       "      <th>roll_no</th>\n",
       "      <th>name</th>\n",
       "      <th>father</th>\n",
       "      <th>course</th>\n",
       "      <th>date_of_admission</th>\n",
       "      <th>fee</th>\n",
       "    </tr>\n",
       "  </thead>\n",
       "  <tbody>\n",
       "    <tr>\n",
       "      <th>0</th>\n",
       "      <td>1</td>\n",
       "      <td>Alice</td>\n",
       "      <td>Bob</td>\n",
       "      <td>Physics</td>\n",
       "      <td>2023-01-10</td>\n",
       "      <td>10000</td>\n",
       "    </tr>\n",
       "    <tr>\n",
       "      <th>4</th>\n",
       "      <td>5</td>\n",
       "      <td>Eva</td>\n",
       "      <td>John</td>\n",
       "      <td>Physics</td>\n",
       "      <td>2023-05-16</td>\n",
       "      <td>14000</td>\n",
       "    </tr>\n",
       "  </tbody>\n",
       "</table>\n",
       "</div>"
      ],
      "text/plain": [
       "   roll_no   name father   course date_of_admission    fee\n",
       "0        1  Alice    Bob  Physics        2023-01-10  10000\n",
       "4        5    Eva   John  Physics        2023-05-16  14000"
      ]
     },
     "metadata": {},
     "output_type": "display_data"
    },
    {
     "name": "stdout",
     "output_type": "stream",
     "text": [
      "===========================\n"
     ]
    },
    {
     "data": {
      "text/plain": [
       "('physics',)"
      ]
     },
     "metadata": {},
     "output_type": "display_data"
    },
    {
     "data": {
      "text/html": [
       "<div>\n",
       "<style scoped>\n",
       "    .dataframe tbody tr th:only-of-type {\n",
       "        vertical-align: middle;\n",
       "    }\n",
       "\n",
       "    .dataframe tbody tr th {\n",
       "        vertical-align: top;\n",
       "    }\n",
       "\n",
       "    .dataframe thead th {\n",
       "        text-align: right;\n",
       "    }\n",
       "</style>\n",
       "<table border=\"1\" class=\"dataframe\">\n",
       "  <thead>\n",
       "    <tr style=\"text-align: right;\">\n",
       "      <th></th>\n",
       "      <th>roll_no</th>\n",
       "      <th>name</th>\n",
       "      <th>father</th>\n",
       "      <th>course</th>\n",
       "      <th>date_of_admission</th>\n",
       "      <th>fee</th>\n",
       "    </tr>\n",
       "  </thead>\n",
       "  <tbody>\n",
       "    <tr>\n",
       "      <th>3</th>\n",
       "      <td>4</td>\n",
       "      <td>David</td>\n",
       "      <td>Rick</td>\n",
       "      <td>physics</td>\n",
       "      <td>2023-04-10</td>\n",
       "      <td>13000</td>\n",
       "    </tr>\n",
       "  </tbody>\n",
       "</table>\n",
       "</div>"
      ],
      "text/plain": [
       "   roll_no   name father   course date_of_admission    fee\n",
       "3        4  David   Rick  physics        2023-04-10  13000"
      ]
     },
     "metadata": {},
     "output_type": "display_data"
    },
    {
     "name": "stdout",
     "output_type": "stream",
     "text": [
      "===========================\n"
     ]
    }
   ],
   "source": [
    "for group in list(students_df.groupby(['course'])):\n",
    "    display(group[0])\n",
    "    display(group[1])\n",
    "    print(\"===========================\")"
   ]
  },
  {
   "cell_type": "markdown",
   "metadata": {},
   "source": [
    "## Group by with year in \n",
    "This work as a groupby\n",
    "```\n",
    "students_df.groupby([students_df['date_of_admission'].dt.strftime(\"%B\")])\n",
    "```"
   ]
  },
  {
   "cell_type": "code",
   "execution_count": 102,
   "metadata": {},
   "outputs": [
    {
     "data": {
      "text/plain": [
       "('April',)"
      ]
     },
     "metadata": {},
     "output_type": "display_data"
    },
    {
     "data": {
      "text/html": [
       "<div>\n",
       "<style scoped>\n",
       "    .dataframe tbody tr th:only-of-type {\n",
       "        vertical-align: middle;\n",
       "    }\n",
       "\n",
       "    .dataframe tbody tr th {\n",
       "        vertical-align: top;\n",
       "    }\n",
       "\n",
       "    .dataframe thead th {\n",
       "        text-align: right;\n",
       "    }\n",
       "</style>\n",
       "<table border=\"1\" class=\"dataframe\">\n",
       "  <thead>\n",
       "    <tr style=\"text-align: right;\">\n",
       "      <th></th>\n",
       "      <th>roll_no</th>\n",
       "      <th>name</th>\n",
       "      <th>father</th>\n",
       "      <th>course</th>\n",
       "      <th>date_of_admission</th>\n",
       "      <th>fee</th>\n",
       "    </tr>\n",
       "  </thead>\n",
       "  <tbody>\n",
       "    <tr>\n",
       "      <th>3</th>\n",
       "      <td>4</td>\n",
       "      <td>David</td>\n",
       "      <td>Rick</td>\n",
       "      <td>physics</td>\n",
       "      <td>2023-04-10</td>\n",
       "      <td>13000</td>\n",
       "    </tr>\n",
       "  </tbody>\n",
       "</table>\n",
       "</div>"
      ],
      "text/plain": [
       "   roll_no   name father   course date_of_admission    fee\n",
       "3        4  David   Rick  physics        2023-04-10  13000"
      ]
     },
     "metadata": {},
     "output_type": "display_data"
    },
    {
     "name": "stdout",
     "output_type": "stream",
     "text": [
      "=========================\n"
     ]
    },
    {
     "data": {
      "text/plain": [
       "('August',)"
      ]
     },
     "metadata": {},
     "output_type": "display_data"
    },
    {
     "data": {
      "text/html": [
       "<div>\n",
       "<style scoped>\n",
       "    .dataframe tbody tr th:only-of-type {\n",
       "        vertical-align: middle;\n",
       "    }\n",
       "\n",
       "    .dataframe tbody tr th {\n",
       "        vertical-align: top;\n",
       "    }\n",
       "\n",
       "    .dataframe thead th {\n",
       "        text-align: right;\n",
       "    }\n",
       "</style>\n",
       "<table border=\"1\" class=\"dataframe\">\n",
       "  <thead>\n",
       "    <tr style=\"text-align: right;\">\n",
       "      <th></th>\n",
       "      <th>roll_no</th>\n",
       "      <th>name</th>\n",
       "      <th>father</th>\n",
       "      <th>course</th>\n",
       "      <th>date_of_admission</th>\n",
       "      <th>fee</th>\n",
       "    </tr>\n",
       "  </thead>\n",
       "  <tbody>\n",
       "    <tr>\n",
       "      <th>7</th>\n",
       "      <td>8</td>\n",
       "      <td>Henry</td>\n",
       "      <td>Charles</td>\n",
       "      <td>Geography</td>\n",
       "      <td>2023-08-17</td>\n",
       "      <td>17000</td>\n",
       "    </tr>\n",
       "  </tbody>\n",
       "</table>\n",
       "</div>"
      ],
      "text/plain": [
       "   roll_no   name   father     course date_of_admission    fee\n",
       "7        8  Henry  Charles  Geography        2023-08-17  17000"
      ]
     },
     "metadata": {},
     "output_type": "display_data"
    },
    {
     "name": "stdout",
     "output_type": "stream",
     "text": [
      "=========================\n"
     ]
    },
    {
     "data": {
      "text/plain": [
       "('February',)"
      ]
     },
     "metadata": {},
     "output_type": "display_data"
    },
    {
     "data": {
      "text/html": [
       "<div>\n",
       "<style scoped>\n",
       "    .dataframe tbody tr th:only-of-type {\n",
       "        vertical-align: middle;\n",
       "    }\n",
       "\n",
       "    .dataframe tbody tr th {\n",
       "        vertical-align: top;\n",
       "    }\n",
       "\n",
       "    .dataframe thead th {\n",
       "        text-align: right;\n",
       "    }\n",
       "</style>\n",
       "<table border=\"1\" class=\"dataframe\">\n",
       "  <thead>\n",
       "    <tr style=\"text-align: right;\">\n",
       "      <th></th>\n",
       "      <th>roll_no</th>\n",
       "      <th>name</th>\n",
       "      <th>father</th>\n",
       "      <th>course</th>\n",
       "      <th>date_of_admission</th>\n",
       "      <th>fee</th>\n",
       "    </tr>\n",
       "  </thead>\n",
       "  <tbody>\n",
       "    <tr>\n",
       "      <th>1</th>\n",
       "      <td>2</td>\n",
       "      <td>Brian</td>\n",
       "      <td>Steve</td>\n",
       "      <td>Chemistry</td>\n",
       "      <td>2023-02-12</td>\n",
       "      <td>11000</td>\n",
       "    </tr>\n",
       "  </tbody>\n",
       "</table>\n",
       "</div>"
      ],
      "text/plain": [
       "   roll_no   name father     course date_of_admission    fee\n",
       "1        2  Brian  Steve  Chemistry        2023-02-12  11000"
      ]
     },
     "metadata": {},
     "output_type": "display_data"
    },
    {
     "name": "stdout",
     "output_type": "stream",
     "text": [
      "=========================\n"
     ]
    },
    {
     "data": {
      "text/plain": [
       "('January',)"
      ]
     },
     "metadata": {},
     "output_type": "display_data"
    },
    {
     "data": {
      "text/html": [
       "<div>\n",
       "<style scoped>\n",
       "    .dataframe tbody tr th:only-of-type {\n",
       "        vertical-align: middle;\n",
       "    }\n",
       "\n",
       "    .dataframe tbody tr th {\n",
       "        vertical-align: top;\n",
       "    }\n",
       "\n",
       "    .dataframe thead th {\n",
       "        text-align: right;\n",
       "    }\n",
       "</style>\n",
       "<table border=\"1\" class=\"dataframe\">\n",
       "  <thead>\n",
       "    <tr style=\"text-align: right;\">\n",
       "      <th></th>\n",
       "      <th>roll_no</th>\n",
       "      <th>name</th>\n",
       "      <th>father</th>\n",
       "      <th>course</th>\n",
       "      <th>date_of_admission</th>\n",
       "      <th>fee</th>\n",
       "    </tr>\n",
       "  </thead>\n",
       "  <tbody>\n",
       "    <tr>\n",
       "      <th>0</th>\n",
       "      <td>1</td>\n",
       "      <td>Alice</td>\n",
       "      <td>Bob</td>\n",
       "      <td>Physics</td>\n",
       "      <td>2023-01-10</td>\n",
       "      <td>10000</td>\n",
       "    </tr>\n",
       "  </tbody>\n",
       "</table>\n",
       "</div>"
      ],
      "text/plain": [
       "   roll_no   name father   course date_of_admission    fee\n",
       "0        1  Alice    Bob  Physics        2023-01-10  10000"
      ]
     },
     "metadata": {},
     "output_type": "display_data"
    },
    {
     "name": "stdout",
     "output_type": "stream",
     "text": [
      "=========================\n"
     ]
    },
    {
     "data": {
      "text/plain": [
       "('July',)"
      ]
     },
     "metadata": {},
     "output_type": "display_data"
    },
    {
     "data": {
      "text/html": [
       "<div>\n",
       "<style scoped>\n",
       "    .dataframe tbody tr th:only-of-type {\n",
       "        vertical-align: middle;\n",
       "    }\n",
       "\n",
       "    .dataframe tbody tr th {\n",
       "        vertical-align: top;\n",
       "    }\n",
       "\n",
       "    .dataframe thead th {\n",
       "        text-align: right;\n",
       "    }\n",
       "</style>\n",
       "<table border=\"1\" class=\"dataframe\">\n",
       "  <thead>\n",
       "    <tr style=\"text-align: right;\">\n",
       "      <th></th>\n",
       "      <th>roll_no</th>\n",
       "      <th>name</th>\n",
       "      <th>father</th>\n",
       "      <th>course</th>\n",
       "      <th>date_of_admission</th>\n",
       "      <th>fee</th>\n",
       "    </tr>\n",
       "  </thead>\n",
       "  <tbody>\n",
       "    <tr>\n",
       "      <th>6</th>\n",
       "      <td>7</td>\n",
       "      <td>Grace</td>\n",
       "      <td>Harry</td>\n",
       "      <td>History</td>\n",
       "      <td>2023-07-25</td>\n",
       "      <td>16000</td>\n",
       "    </tr>\n",
       "  </tbody>\n",
       "</table>\n",
       "</div>"
      ],
      "text/plain": [
       "   roll_no   name father   course date_of_admission    fee\n",
       "6        7  Grace  Harry  History        2023-07-25  16000"
      ]
     },
     "metadata": {},
     "output_type": "display_data"
    },
    {
     "name": "stdout",
     "output_type": "stream",
     "text": [
      "=========================\n"
     ]
    },
    {
     "data": {
      "text/plain": [
       "('June',)"
      ]
     },
     "metadata": {},
     "output_type": "display_data"
    },
    {
     "data": {
      "text/html": [
       "<div>\n",
       "<style scoped>\n",
       "    .dataframe tbody tr th:only-of-type {\n",
       "        vertical-align: middle;\n",
       "    }\n",
       "\n",
       "    .dataframe tbody tr th {\n",
       "        vertical-align: top;\n",
       "    }\n",
       "\n",
       "    .dataframe thead th {\n",
       "        text-align: right;\n",
       "    }\n",
       "</style>\n",
       "<table border=\"1\" class=\"dataframe\">\n",
       "  <thead>\n",
       "    <tr style=\"text-align: right;\">\n",
       "      <th></th>\n",
       "      <th>roll_no</th>\n",
       "      <th>name</th>\n",
       "      <th>father</th>\n",
       "      <th>course</th>\n",
       "      <th>date_of_admission</th>\n",
       "      <th>fee</th>\n",
       "    </tr>\n",
       "  </thead>\n",
       "  <tbody>\n",
       "    <tr>\n",
       "      <th>5</th>\n",
       "      <td>6</td>\n",
       "      <td>Frank</td>\n",
       "      <td>Tom</td>\n",
       "      <td>Economics</td>\n",
       "      <td>2023-06-21</td>\n",
       "      <td>15000</td>\n",
       "    </tr>\n",
       "  </tbody>\n",
       "</table>\n",
       "</div>"
      ],
      "text/plain": [
       "   roll_no   name father     course date_of_admission    fee\n",
       "5        6  Frank    Tom  Economics        2023-06-21  15000"
      ]
     },
     "metadata": {},
     "output_type": "display_data"
    },
    {
     "name": "stdout",
     "output_type": "stream",
     "text": [
      "=========================\n"
     ]
    },
    {
     "data": {
      "text/plain": [
       "('March',)"
      ]
     },
     "metadata": {},
     "output_type": "display_data"
    },
    {
     "data": {
      "text/html": [
       "<div>\n",
       "<style scoped>\n",
       "    .dataframe tbody tr th:only-of-type {\n",
       "        vertical-align: middle;\n",
       "    }\n",
       "\n",
       "    .dataframe tbody tr th {\n",
       "        vertical-align: top;\n",
       "    }\n",
       "\n",
       "    .dataframe thead th {\n",
       "        text-align: right;\n",
       "    }\n",
       "</style>\n",
       "<table border=\"1\" class=\"dataframe\">\n",
       "  <thead>\n",
       "    <tr style=\"text-align: right;\">\n",
       "      <th></th>\n",
       "      <th>roll_no</th>\n",
       "      <th>name</th>\n",
       "      <th>father</th>\n",
       "      <th>course</th>\n",
       "      <th>date_of_admission</th>\n",
       "      <th>fee</th>\n",
       "    </tr>\n",
       "  </thead>\n",
       "  <tbody>\n",
       "    <tr>\n",
       "      <th>2</th>\n",
       "      <td>3</td>\n",
       "      <td>Chloe</td>\n",
       "      <td>Tim</td>\n",
       "      <td>Biology</td>\n",
       "      <td>2023-03-14</td>\n",
       "      <td>12000</td>\n",
       "    </tr>\n",
       "  </tbody>\n",
       "</table>\n",
       "</div>"
      ],
      "text/plain": [
       "   roll_no   name father   course date_of_admission    fee\n",
       "2        3  Chloe    Tim  Biology        2023-03-14  12000"
      ]
     },
     "metadata": {},
     "output_type": "display_data"
    },
    {
     "name": "stdout",
     "output_type": "stream",
     "text": [
      "=========================\n"
     ]
    },
    {
     "data": {
      "text/plain": [
       "('May',)"
      ]
     },
     "metadata": {},
     "output_type": "display_data"
    },
    {
     "data": {
      "text/html": [
       "<div>\n",
       "<style scoped>\n",
       "    .dataframe tbody tr th:only-of-type {\n",
       "        vertical-align: middle;\n",
       "    }\n",
       "\n",
       "    .dataframe tbody tr th {\n",
       "        vertical-align: top;\n",
       "    }\n",
       "\n",
       "    .dataframe thead th {\n",
       "        text-align: right;\n",
       "    }\n",
       "</style>\n",
       "<table border=\"1\" class=\"dataframe\">\n",
       "  <thead>\n",
       "    <tr style=\"text-align: right;\">\n",
       "      <th></th>\n",
       "      <th>roll_no</th>\n",
       "      <th>name</th>\n",
       "      <th>father</th>\n",
       "      <th>course</th>\n",
       "      <th>date_of_admission</th>\n",
       "      <th>fee</th>\n",
       "    </tr>\n",
       "  </thead>\n",
       "  <tbody>\n",
       "    <tr>\n",
       "      <th>4</th>\n",
       "      <td>5</td>\n",
       "      <td>Eva</td>\n",
       "      <td>John</td>\n",
       "      <td>Physics</td>\n",
       "      <td>2023-05-16</td>\n",
       "      <td>14000</td>\n",
       "    </tr>\n",
       "  </tbody>\n",
       "</table>\n",
       "</div>"
      ],
      "text/plain": [
       "   roll_no name father   course date_of_admission    fee\n",
       "4        5  Eva   John  Physics        2023-05-16  14000"
      ]
     },
     "metadata": {},
     "output_type": "display_data"
    },
    {
     "name": "stdout",
     "output_type": "stream",
     "text": [
      "=========================\n"
     ]
    },
    {
     "data": {
      "text/plain": [
       "('October',)"
      ]
     },
     "metadata": {},
     "output_type": "display_data"
    },
    {
     "data": {
      "text/html": [
       "<div>\n",
       "<style scoped>\n",
       "    .dataframe tbody tr th:only-of-type {\n",
       "        vertical-align: middle;\n",
       "    }\n",
       "\n",
       "    .dataframe tbody tr th {\n",
       "        vertical-align: top;\n",
       "    }\n",
       "\n",
       "    .dataframe thead th {\n",
       "        text-align: right;\n",
       "    }\n",
       "</style>\n",
       "<table border=\"1\" class=\"dataframe\">\n",
       "  <thead>\n",
       "    <tr style=\"text-align: right;\">\n",
       "      <th></th>\n",
       "      <th>roll_no</th>\n",
       "      <th>name</th>\n",
       "      <th>father</th>\n",
       "      <th>course</th>\n",
       "      <th>date_of_admission</th>\n",
       "      <th>fee</th>\n",
       "    </tr>\n",
       "  </thead>\n",
       "  <tbody>\n",
       "    <tr>\n",
       "      <th>9</th>\n",
       "      <td>10</td>\n",
       "      <td>Jack</td>\n",
       "      <td>Noah</td>\n",
       "      <td>Art</td>\n",
       "      <td>2023-10-05</td>\n",
       "      <td>19000</td>\n",
       "    </tr>\n",
       "  </tbody>\n",
       "</table>\n",
       "</div>"
      ],
      "text/plain": [
       "   roll_no  name father course date_of_admission    fee\n",
       "9       10  Jack   Noah    Art        2023-10-05  19000"
      ]
     },
     "metadata": {},
     "output_type": "display_data"
    },
    {
     "name": "stdout",
     "output_type": "stream",
     "text": [
      "=========================\n"
     ]
    },
    {
     "data": {
      "text/plain": [
       "('September',)"
      ]
     },
     "metadata": {},
     "output_type": "display_data"
    },
    {
     "data": {
      "text/html": [
       "<div>\n",
       "<style scoped>\n",
       "    .dataframe tbody tr th:only-of-type {\n",
       "        vertical-align: middle;\n",
       "    }\n",
       "\n",
       "    .dataframe tbody tr th {\n",
       "        vertical-align: top;\n",
       "    }\n",
       "\n",
       "    .dataframe thead th {\n",
       "        text-align: right;\n",
       "    }\n",
       "</style>\n",
       "<table border=\"1\" class=\"dataframe\">\n",
       "  <thead>\n",
       "    <tr style=\"text-align: right;\">\n",
       "      <th></th>\n",
       "      <th>roll_no</th>\n",
       "      <th>name</th>\n",
       "      <th>father</th>\n",
       "      <th>course</th>\n",
       "      <th>date_of_admission</th>\n",
       "      <th>fee</th>\n",
       "    </tr>\n",
       "  </thead>\n",
       "  <tbody>\n",
       "    <tr>\n",
       "      <th>8</th>\n",
       "      <td>9</td>\n",
       "      <td>Isabel</td>\n",
       "      <td>Oliver</td>\n",
       "      <td>English</td>\n",
       "      <td>2023-09-10</td>\n",
       "      <td>18000</td>\n",
       "    </tr>\n",
       "  </tbody>\n",
       "</table>\n",
       "</div>"
      ],
      "text/plain": [
       "   roll_no    name  father   course date_of_admission    fee\n",
       "8        9  Isabel  Oliver  English        2023-09-10  18000"
      ]
     },
     "metadata": {},
     "output_type": "display_data"
    },
    {
     "name": "stdout",
     "output_type": "stream",
     "text": [
      "=========================\n"
     ]
    }
   ],
   "source": [
    "#groupby with year\n",
    "for group in list(students_df.groupby([students_df['date_of_admission'].dt.strftime(\"%B\")])):\n",
    "    display(group[0])\n",
    "    display(group[1])\n",
    "    print(\"=========================\")"
   ]
  },
  {
   "cell_type": "code",
   "execution_count": null,
   "metadata": {},
   "outputs": [],
   "source": [
    "# now we can take count, highest fee collection, how many collection they have\n"
   ]
  },
  {
   "cell_type": "code",
   "execution_count": 103,
   "metadata": {},
   "outputs": [
    {
     "data": {
      "text/plain": [
       "<pandas.core.groupby.generic.DataFrameGroupBy object at 0x000002BAA02FE180>"
      ]
     },
     "execution_count": 103,
     "metadata": {},
     "output_type": "execute_result"
    }
   ],
   "source": [
    "# groupby on 2 level \n",
    "# groupby on month as well as course\n",
    "students_df.groupby([students_df['date_of_admission'].dt.strftime(\"%B\"), students_df['course']])"
   ]
  },
  {
   "cell_type": "markdown",
   "metadata": {},
   "source": [
    "### Multi groupby"
   ]
  },
  {
   "cell_type": "code",
   "execution_count": 104,
   "metadata": {},
   "outputs": [
    {
     "data": {
      "text/plain": [
       "('April', 'physics')"
      ]
     },
     "metadata": {},
     "output_type": "display_data"
    },
    {
     "data": {
      "text/html": [
       "<div>\n",
       "<style scoped>\n",
       "    .dataframe tbody tr th:only-of-type {\n",
       "        vertical-align: middle;\n",
       "    }\n",
       "\n",
       "    .dataframe tbody tr th {\n",
       "        vertical-align: top;\n",
       "    }\n",
       "\n",
       "    .dataframe thead th {\n",
       "        text-align: right;\n",
       "    }\n",
       "</style>\n",
       "<table border=\"1\" class=\"dataframe\">\n",
       "  <thead>\n",
       "    <tr style=\"text-align: right;\">\n",
       "      <th></th>\n",
       "      <th>roll_no</th>\n",
       "      <th>name</th>\n",
       "      <th>father</th>\n",
       "      <th>course</th>\n",
       "      <th>date_of_admission</th>\n",
       "      <th>fee</th>\n",
       "    </tr>\n",
       "  </thead>\n",
       "  <tbody>\n",
       "    <tr>\n",
       "      <th>3</th>\n",
       "      <td>4</td>\n",
       "      <td>David</td>\n",
       "      <td>Rick</td>\n",
       "      <td>physics</td>\n",
       "      <td>2023-04-10</td>\n",
       "      <td>13000</td>\n",
       "    </tr>\n",
       "  </tbody>\n",
       "</table>\n",
       "</div>"
      ],
      "text/plain": [
       "   roll_no   name father   course date_of_admission    fee\n",
       "3        4  David   Rick  physics        2023-04-10  13000"
      ]
     },
     "metadata": {},
     "output_type": "display_data"
    },
    {
     "name": "stdout",
     "output_type": "stream",
     "text": [
      "=========================\n"
     ]
    },
    {
     "data": {
      "text/plain": [
       "('August', 'Geography')"
      ]
     },
     "metadata": {},
     "output_type": "display_data"
    },
    {
     "data": {
      "text/html": [
       "<div>\n",
       "<style scoped>\n",
       "    .dataframe tbody tr th:only-of-type {\n",
       "        vertical-align: middle;\n",
       "    }\n",
       "\n",
       "    .dataframe tbody tr th {\n",
       "        vertical-align: top;\n",
       "    }\n",
       "\n",
       "    .dataframe thead th {\n",
       "        text-align: right;\n",
       "    }\n",
       "</style>\n",
       "<table border=\"1\" class=\"dataframe\">\n",
       "  <thead>\n",
       "    <tr style=\"text-align: right;\">\n",
       "      <th></th>\n",
       "      <th>roll_no</th>\n",
       "      <th>name</th>\n",
       "      <th>father</th>\n",
       "      <th>course</th>\n",
       "      <th>date_of_admission</th>\n",
       "      <th>fee</th>\n",
       "    </tr>\n",
       "  </thead>\n",
       "  <tbody>\n",
       "    <tr>\n",
       "      <th>7</th>\n",
       "      <td>8</td>\n",
       "      <td>Henry</td>\n",
       "      <td>Charles</td>\n",
       "      <td>Geography</td>\n",
       "      <td>2023-08-17</td>\n",
       "      <td>17000</td>\n",
       "    </tr>\n",
       "  </tbody>\n",
       "</table>\n",
       "</div>"
      ],
      "text/plain": [
       "   roll_no   name   father     course date_of_admission    fee\n",
       "7        8  Henry  Charles  Geography        2023-08-17  17000"
      ]
     },
     "metadata": {},
     "output_type": "display_data"
    },
    {
     "name": "stdout",
     "output_type": "stream",
     "text": [
      "=========================\n"
     ]
    },
    {
     "data": {
      "text/plain": [
       "('February', 'Chemistry')"
      ]
     },
     "metadata": {},
     "output_type": "display_data"
    },
    {
     "data": {
      "text/html": [
       "<div>\n",
       "<style scoped>\n",
       "    .dataframe tbody tr th:only-of-type {\n",
       "        vertical-align: middle;\n",
       "    }\n",
       "\n",
       "    .dataframe tbody tr th {\n",
       "        vertical-align: top;\n",
       "    }\n",
       "\n",
       "    .dataframe thead th {\n",
       "        text-align: right;\n",
       "    }\n",
       "</style>\n",
       "<table border=\"1\" class=\"dataframe\">\n",
       "  <thead>\n",
       "    <tr style=\"text-align: right;\">\n",
       "      <th></th>\n",
       "      <th>roll_no</th>\n",
       "      <th>name</th>\n",
       "      <th>father</th>\n",
       "      <th>course</th>\n",
       "      <th>date_of_admission</th>\n",
       "      <th>fee</th>\n",
       "    </tr>\n",
       "  </thead>\n",
       "  <tbody>\n",
       "    <tr>\n",
       "      <th>1</th>\n",
       "      <td>2</td>\n",
       "      <td>Brian</td>\n",
       "      <td>Steve</td>\n",
       "      <td>Chemistry</td>\n",
       "      <td>2023-02-12</td>\n",
       "      <td>11000</td>\n",
       "    </tr>\n",
       "  </tbody>\n",
       "</table>\n",
       "</div>"
      ],
      "text/plain": [
       "   roll_no   name father     course date_of_admission    fee\n",
       "1        2  Brian  Steve  Chemistry        2023-02-12  11000"
      ]
     },
     "metadata": {},
     "output_type": "display_data"
    },
    {
     "name": "stdout",
     "output_type": "stream",
     "text": [
      "=========================\n"
     ]
    },
    {
     "data": {
      "text/plain": [
       "('January', 'Physics')"
      ]
     },
     "metadata": {},
     "output_type": "display_data"
    },
    {
     "data": {
      "text/html": [
       "<div>\n",
       "<style scoped>\n",
       "    .dataframe tbody tr th:only-of-type {\n",
       "        vertical-align: middle;\n",
       "    }\n",
       "\n",
       "    .dataframe tbody tr th {\n",
       "        vertical-align: top;\n",
       "    }\n",
       "\n",
       "    .dataframe thead th {\n",
       "        text-align: right;\n",
       "    }\n",
       "</style>\n",
       "<table border=\"1\" class=\"dataframe\">\n",
       "  <thead>\n",
       "    <tr style=\"text-align: right;\">\n",
       "      <th></th>\n",
       "      <th>roll_no</th>\n",
       "      <th>name</th>\n",
       "      <th>father</th>\n",
       "      <th>course</th>\n",
       "      <th>date_of_admission</th>\n",
       "      <th>fee</th>\n",
       "    </tr>\n",
       "  </thead>\n",
       "  <tbody>\n",
       "    <tr>\n",
       "      <th>0</th>\n",
       "      <td>1</td>\n",
       "      <td>Alice</td>\n",
       "      <td>Bob</td>\n",
       "      <td>Physics</td>\n",
       "      <td>2023-01-10</td>\n",
       "      <td>10000</td>\n",
       "    </tr>\n",
       "  </tbody>\n",
       "</table>\n",
       "</div>"
      ],
      "text/plain": [
       "   roll_no   name father   course date_of_admission    fee\n",
       "0        1  Alice    Bob  Physics        2023-01-10  10000"
      ]
     },
     "metadata": {},
     "output_type": "display_data"
    },
    {
     "name": "stdout",
     "output_type": "stream",
     "text": [
      "=========================\n"
     ]
    },
    {
     "data": {
      "text/plain": [
       "('July', 'History')"
      ]
     },
     "metadata": {},
     "output_type": "display_data"
    },
    {
     "data": {
      "text/html": [
       "<div>\n",
       "<style scoped>\n",
       "    .dataframe tbody tr th:only-of-type {\n",
       "        vertical-align: middle;\n",
       "    }\n",
       "\n",
       "    .dataframe tbody tr th {\n",
       "        vertical-align: top;\n",
       "    }\n",
       "\n",
       "    .dataframe thead th {\n",
       "        text-align: right;\n",
       "    }\n",
       "</style>\n",
       "<table border=\"1\" class=\"dataframe\">\n",
       "  <thead>\n",
       "    <tr style=\"text-align: right;\">\n",
       "      <th></th>\n",
       "      <th>roll_no</th>\n",
       "      <th>name</th>\n",
       "      <th>father</th>\n",
       "      <th>course</th>\n",
       "      <th>date_of_admission</th>\n",
       "      <th>fee</th>\n",
       "    </tr>\n",
       "  </thead>\n",
       "  <tbody>\n",
       "    <tr>\n",
       "      <th>6</th>\n",
       "      <td>7</td>\n",
       "      <td>Grace</td>\n",
       "      <td>Harry</td>\n",
       "      <td>History</td>\n",
       "      <td>2023-07-25</td>\n",
       "      <td>16000</td>\n",
       "    </tr>\n",
       "  </tbody>\n",
       "</table>\n",
       "</div>"
      ],
      "text/plain": [
       "   roll_no   name father   course date_of_admission    fee\n",
       "6        7  Grace  Harry  History        2023-07-25  16000"
      ]
     },
     "metadata": {},
     "output_type": "display_data"
    },
    {
     "name": "stdout",
     "output_type": "stream",
     "text": [
      "=========================\n"
     ]
    },
    {
     "data": {
      "text/plain": [
       "('June', 'Economics')"
      ]
     },
     "metadata": {},
     "output_type": "display_data"
    },
    {
     "data": {
      "text/html": [
       "<div>\n",
       "<style scoped>\n",
       "    .dataframe tbody tr th:only-of-type {\n",
       "        vertical-align: middle;\n",
       "    }\n",
       "\n",
       "    .dataframe tbody tr th {\n",
       "        vertical-align: top;\n",
       "    }\n",
       "\n",
       "    .dataframe thead th {\n",
       "        text-align: right;\n",
       "    }\n",
       "</style>\n",
       "<table border=\"1\" class=\"dataframe\">\n",
       "  <thead>\n",
       "    <tr style=\"text-align: right;\">\n",
       "      <th></th>\n",
       "      <th>roll_no</th>\n",
       "      <th>name</th>\n",
       "      <th>father</th>\n",
       "      <th>course</th>\n",
       "      <th>date_of_admission</th>\n",
       "      <th>fee</th>\n",
       "    </tr>\n",
       "  </thead>\n",
       "  <tbody>\n",
       "    <tr>\n",
       "      <th>5</th>\n",
       "      <td>6</td>\n",
       "      <td>Frank</td>\n",
       "      <td>Tom</td>\n",
       "      <td>Economics</td>\n",
       "      <td>2023-06-21</td>\n",
       "      <td>15000</td>\n",
       "    </tr>\n",
       "  </tbody>\n",
       "</table>\n",
       "</div>"
      ],
      "text/plain": [
       "   roll_no   name father     course date_of_admission    fee\n",
       "5        6  Frank    Tom  Economics        2023-06-21  15000"
      ]
     },
     "metadata": {},
     "output_type": "display_data"
    },
    {
     "name": "stdout",
     "output_type": "stream",
     "text": [
      "=========================\n"
     ]
    },
    {
     "data": {
      "text/plain": [
       "('March', 'Biology')"
      ]
     },
     "metadata": {},
     "output_type": "display_data"
    },
    {
     "data": {
      "text/html": [
       "<div>\n",
       "<style scoped>\n",
       "    .dataframe tbody tr th:only-of-type {\n",
       "        vertical-align: middle;\n",
       "    }\n",
       "\n",
       "    .dataframe tbody tr th {\n",
       "        vertical-align: top;\n",
       "    }\n",
       "\n",
       "    .dataframe thead th {\n",
       "        text-align: right;\n",
       "    }\n",
       "</style>\n",
       "<table border=\"1\" class=\"dataframe\">\n",
       "  <thead>\n",
       "    <tr style=\"text-align: right;\">\n",
       "      <th></th>\n",
       "      <th>roll_no</th>\n",
       "      <th>name</th>\n",
       "      <th>father</th>\n",
       "      <th>course</th>\n",
       "      <th>date_of_admission</th>\n",
       "      <th>fee</th>\n",
       "    </tr>\n",
       "  </thead>\n",
       "  <tbody>\n",
       "    <tr>\n",
       "      <th>2</th>\n",
       "      <td>3</td>\n",
       "      <td>Chloe</td>\n",
       "      <td>Tim</td>\n",
       "      <td>Biology</td>\n",
       "      <td>2023-03-14</td>\n",
       "      <td>12000</td>\n",
       "    </tr>\n",
       "  </tbody>\n",
       "</table>\n",
       "</div>"
      ],
      "text/plain": [
       "   roll_no   name father   course date_of_admission    fee\n",
       "2        3  Chloe    Tim  Biology        2023-03-14  12000"
      ]
     },
     "metadata": {},
     "output_type": "display_data"
    },
    {
     "name": "stdout",
     "output_type": "stream",
     "text": [
      "=========================\n"
     ]
    },
    {
     "data": {
      "text/plain": [
       "('May', 'Physics')"
      ]
     },
     "metadata": {},
     "output_type": "display_data"
    },
    {
     "data": {
      "text/html": [
       "<div>\n",
       "<style scoped>\n",
       "    .dataframe tbody tr th:only-of-type {\n",
       "        vertical-align: middle;\n",
       "    }\n",
       "\n",
       "    .dataframe tbody tr th {\n",
       "        vertical-align: top;\n",
       "    }\n",
       "\n",
       "    .dataframe thead th {\n",
       "        text-align: right;\n",
       "    }\n",
       "</style>\n",
       "<table border=\"1\" class=\"dataframe\">\n",
       "  <thead>\n",
       "    <tr style=\"text-align: right;\">\n",
       "      <th></th>\n",
       "      <th>roll_no</th>\n",
       "      <th>name</th>\n",
       "      <th>father</th>\n",
       "      <th>course</th>\n",
       "      <th>date_of_admission</th>\n",
       "      <th>fee</th>\n",
       "    </tr>\n",
       "  </thead>\n",
       "  <tbody>\n",
       "    <tr>\n",
       "      <th>4</th>\n",
       "      <td>5</td>\n",
       "      <td>Eva</td>\n",
       "      <td>John</td>\n",
       "      <td>Physics</td>\n",
       "      <td>2023-05-16</td>\n",
       "      <td>14000</td>\n",
       "    </tr>\n",
       "  </tbody>\n",
       "</table>\n",
       "</div>"
      ],
      "text/plain": [
       "   roll_no name father   course date_of_admission    fee\n",
       "4        5  Eva   John  Physics        2023-05-16  14000"
      ]
     },
     "metadata": {},
     "output_type": "display_data"
    },
    {
     "name": "stdout",
     "output_type": "stream",
     "text": [
      "=========================\n"
     ]
    },
    {
     "data": {
      "text/plain": [
       "('October', 'Art')"
      ]
     },
     "metadata": {},
     "output_type": "display_data"
    },
    {
     "data": {
      "text/html": [
       "<div>\n",
       "<style scoped>\n",
       "    .dataframe tbody tr th:only-of-type {\n",
       "        vertical-align: middle;\n",
       "    }\n",
       "\n",
       "    .dataframe tbody tr th {\n",
       "        vertical-align: top;\n",
       "    }\n",
       "\n",
       "    .dataframe thead th {\n",
       "        text-align: right;\n",
       "    }\n",
       "</style>\n",
       "<table border=\"1\" class=\"dataframe\">\n",
       "  <thead>\n",
       "    <tr style=\"text-align: right;\">\n",
       "      <th></th>\n",
       "      <th>roll_no</th>\n",
       "      <th>name</th>\n",
       "      <th>father</th>\n",
       "      <th>course</th>\n",
       "      <th>date_of_admission</th>\n",
       "      <th>fee</th>\n",
       "    </tr>\n",
       "  </thead>\n",
       "  <tbody>\n",
       "    <tr>\n",
       "      <th>9</th>\n",
       "      <td>10</td>\n",
       "      <td>Jack</td>\n",
       "      <td>Noah</td>\n",
       "      <td>Art</td>\n",
       "      <td>2023-10-05</td>\n",
       "      <td>19000</td>\n",
       "    </tr>\n",
       "  </tbody>\n",
       "</table>\n",
       "</div>"
      ],
      "text/plain": [
       "   roll_no  name father course date_of_admission    fee\n",
       "9       10  Jack   Noah    Art        2023-10-05  19000"
      ]
     },
     "metadata": {},
     "output_type": "display_data"
    },
    {
     "name": "stdout",
     "output_type": "stream",
     "text": [
      "=========================\n"
     ]
    },
    {
     "data": {
      "text/plain": [
       "('September', 'English')"
      ]
     },
     "metadata": {},
     "output_type": "display_data"
    },
    {
     "data": {
      "text/html": [
       "<div>\n",
       "<style scoped>\n",
       "    .dataframe tbody tr th:only-of-type {\n",
       "        vertical-align: middle;\n",
       "    }\n",
       "\n",
       "    .dataframe tbody tr th {\n",
       "        vertical-align: top;\n",
       "    }\n",
       "\n",
       "    .dataframe thead th {\n",
       "        text-align: right;\n",
       "    }\n",
       "</style>\n",
       "<table border=\"1\" class=\"dataframe\">\n",
       "  <thead>\n",
       "    <tr style=\"text-align: right;\">\n",
       "      <th></th>\n",
       "      <th>roll_no</th>\n",
       "      <th>name</th>\n",
       "      <th>father</th>\n",
       "      <th>course</th>\n",
       "      <th>date_of_admission</th>\n",
       "      <th>fee</th>\n",
       "    </tr>\n",
       "  </thead>\n",
       "  <tbody>\n",
       "    <tr>\n",
       "      <th>8</th>\n",
       "      <td>9</td>\n",
       "      <td>Isabel</td>\n",
       "      <td>Oliver</td>\n",
       "      <td>English</td>\n",
       "      <td>2023-09-10</td>\n",
       "      <td>18000</td>\n",
       "    </tr>\n",
       "  </tbody>\n",
       "</table>\n",
       "</div>"
      ],
      "text/plain": [
       "   roll_no    name  father   course date_of_admission    fee\n",
       "8        9  Isabel  Oliver  English        2023-09-10  18000"
      ]
     },
     "metadata": {},
     "output_type": "display_data"
    },
    {
     "name": "stdout",
     "output_type": "stream",
     "text": [
      "=========================\n"
     ]
    }
   ],
   "source": [
    "#groupby with month and course  \n",
    "for group in list(students_df.groupby([students_df['date_of_admission'].dt.strftime(\"%B\"), students_df['course']])):\n",
    "    display(group[0])\n",
    "    display(group[1])\n",
    "    print(\"=========================\")"
   ]
  },
  {
   "cell_type": "code",
   "execution_count": 105,
   "metadata": {},
   "outputs": [
    {
     "data": {
      "text/html": [
       "<div>\n",
       "<style scoped>\n",
       "    .dataframe tbody tr th:only-of-type {\n",
       "        vertical-align: middle;\n",
       "    }\n",
       "\n",
       "    .dataframe tbody tr th {\n",
       "        vertical-align: top;\n",
       "    }\n",
       "\n",
       "    .dataframe thead th {\n",
       "        text-align: right;\n",
       "    }\n",
       "</style>\n",
       "<table border=\"1\" class=\"dataframe\">\n",
       "  <thead>\n",
       "    <tr style=\"text-align: right;\">\n",
       "      <th></th>\n",
       "      <th>roll_no</th>\n",
       "      <th>name</th>\n",
       "      <th>father</th>\n",
       "      <th>date_of_admission</th>\n",
       "      <th>fee</th>\n",
       "    </tr>\n",
       "    <tr>\n",
       "      <th>course</th>\n",
       "      <th></th>\n",
       "      <th></th>\n",
       "      <th></th>\n",
       "      <th></th>\n",
       "      <th></th>\n",
       "    </tr>\n",
       "  </thead>\n",
       "  <tbody>\n",
       "    <tr>\n",
       "      <th>Art</th>\n",
       "      <td>1</td>\n",
       "      <td>1</td>\n",
       "      <td>1</td>\n",
       "      <td>1</td>\n",
       "      <td>1</td>\n",
       "    </tr>\n",
       "    <tr>\n",
       "      <th>Biology</th>\n",
       "      <td>1</td>\n",
       "      <td>1</td>\n",
       "      <td>1</td>\n",
       "      <td>1</td>\n",
       "      <td>1</td>\n",
       "    </tr>\n",
       "    <tr>\n",
       "      <th>Chemistry</th>\n",
       "      <td>1</td>\n",
       "      <td>1</td>\n",
       "      <td>1</td>\n",
       "      <td>1</td>\n",
       "      <td>1</td>\n",
       "    </tr>\n",
       "    <tr>\n",
       "      <th>Economics</th>\n",
       "      <td>1</td>\n",
       "      <td>1</td>\n",
       "      <td>1</td>\n",
       "      <td>1</td>\n",
       "      <td>1</td>\n",
       "    </tr>\n",
       "    <tr>\n",
       "      <th>English</th>\n",
       "      <td>1</td>\n",
       "      <td>1</td>\n",
       "      <td>1</td>\n",
       "      <td>1</td>\n",
       "      <td>1</td>\n",
       "    </tr>\n",
       "    <tr>\n",
       "      <th>Geography</th>\n",
       "      <td>1</td>\n",
       "      <td>1</td>\n",
       "      <td>1</td>\n",
       "      <td>1</td>\n",
       "      <td>1</td>\n",
       "    </tr>\n",
       "    <tr>\n",
       "      <th>History</th>\n",
       "      <td>1</td>\n",
       "      <td>1</td>\n",
       "      <td>1</td>\n",
       "      <td>1</td>\n",
       "      <td>1</td>\n",
       "    </tr>\n",
       "    <tr>\n",
       "      <th>Physics</th>\n",
       "      <td>2</td>\n",
       "      <td>2</td>\n",
       "      <td>2</td>\n",
       "      <td>2</td>\n",
       "      <td>2</td>\n",
       "    </tr>\n",
       "    <tr>\n",
       "      <th>physics</th>\n",
       "      <td>1</td>\n",
       "      <td>1</td>\n",
       "      <td>1</td>\n",
       "      <td>1</td>\n",
       "      <td>1</td>\n",
       "    </tr>\n",
       "  </tbody>\n",
       "</table>\n",
       "</div>"
      ],
      "text/plain": [
       "           roll_no  name  father  date_of_admission  fee\n",
       "course                                                  \n",
       "Art              1     1       1                  1    1\n",
       "Biology          1     1       1                  1    1\n",
       "Chemistry        1     1       1                  1    1\n",
       "Economics        1     1       1                  1    1\n",
       "English          1     1       1                  1    1\n",
       "Geography        1     1       1                  1    1\n",
       "History          1     1       1                  1    1\n",
       "Physics          2     2       2                  2    2\n",
       "physics          1     1       1                  1    1"
      ]
     },
     "execution_count": 105,
     "metadata": {},
     "output_type": "execute_result"
    }
   ],
   "source": [
    "students_df.groupby(['course']).aggregate('count') #get the count of every column but it dosesnot apply on every column"
   ]
  },
  {
   "cell_type": "code",
   "execution_count": 106,
   "metadata": {},
   "outputs": [
    {
     "data": {
      "text/html": [
       "<div>\n",
       "<style scoped>\n",
       "    .dataframe tbody tr th:only-of-type {\n",
       "        vertical-align: middle;\n",
       "    }\n",
       "\n",
       "    .dataframe tbody tr th {\n",
       "        vertical-align: top;\n",
       "    }\n",
       "\n",
       "    .dataframe thead th {\n",
       "        text-align: right;\n",
       "    }\n",
       "</style>\n",
       "<table border=\"1\" class=\"dataframe\">\n",
       "  <thead>\n",
       "    <tr style=\"text-align: right;\">\n",
       "      <th></th>\n",
       "      <th>roll_no</th>\n",
       "      <th>name</th>\n",
       "      <th>father</th>\n",
       "      <th>date_of_admission</th>\n",
       "      <th>fee</th>\n",
       "    </tr>\n",
       "    <tr>\n",
       "      <th>course</th>\n",
       "      <th></th>\n",
       "      <th></th>\n",
       "      <th></th>\n",
       "      <th></th>\n",
       "      <th></th>\n",
       "    </tr>\n",
       "  </thead>\n",
       "  <tbody>\n",
       "    <tr>\n",
       "      <th>Art</th>\n",
       "      <td>1</td>\n",
       "      <td>1</td>\n",
       "      <td>1</td>\n",
       "      <td>1</td>\n",
       "      <td>1</td>\n",
       "    </tr>\n",
       "    <tr>\n",
       "      <th>Biology</th>\n",
       "      <td>1</td>\n",
       "      <td>1</td>\n",
       "      <td>1</td>\n",
       "      <td>1</td>\n",
       "      <td>1</td>\n",
       "    </tr>\n",
       "    <tr>\n",
       "      <th>Chemistry</th>\n",
       "      <td>1</td>\n",
       "      <td>1</td>\n",
       "      <td>1</td>\n",
       "      <td>1</td>\n",
       "      <td>1</td>\n",
       "    </tr>\n",
       "    <tr>\n",
       "      <th>Economics</th>\n",
       "      <td>1</td>\n",
       "      <td>1</td>\n",
       "      <td>1</td>\n",
       "      <td>1</td>\n",
       "      <td>1</td>\n",
       "    </tr>\n",
       "    <tr>\n",
       "      <th>English</th>\n",
       "      <td>1</td>\n",
       "      <td>1</td>\n",
       "      <td>1</td>\n",
       "      <td>1</td>\n",
       "      <td>1</td>\n",
       "    </tr>\n",
       "    <tr>\n",
       "      <th>Geography</th>\n",
       "      <td>1</td>\n",
       "      <td>1</td>\n",
       "      <td>1</td>\n",
       "      <td>1</td>\n",
       "      <td>1</td>\n",
       "    </tr>\n",
       "    <tr>\n",
       "      <th>History</th>\n",
       "      <td>1</td>\n",
       "      <td>1</td>\n",
       "      <td>1</td>\n",
       "      <td>1</td>\n",
       "      <td>1</td>\n",
       "    </tr>\n",
       "    <tr>\n",
       "      <th>Physics</th>\n",
       "      <td>2</td>\n",
       "      <td>2</td>\n",
       "      <td>2</td>\n",
       "      <td>2</td>\n",
       "      <td>2</td>\n",
       "    </tr>\n",
       "    <tr>\n",
       "      <th>physics</th>\n",
       "      <td>1</td>\n",
       "      <td>1</td>\n",
       "      <td>1</td>\n",
       "      <td>1</td>\n",
       "      <td>1</td>\n",
       "    </tr>\n",
       "  </tbody>\n",
       "</table>\n",
       "</div>"
      ],
      "text/plain": [
       "           roll_no  name  father  date_of_admission  fee\n",
       "course                                                  \n",
       "Art              1     1       1                  1    1\n",
       "Biology          1     1       1                  1    1\n",
       "Chemistry        1     1       1                  1    1\n",
       "Economics        1     1       1                  1    1\n",
       "English          1     1       1                  1    1\n",
       "Geography        1     1       1                  1    1\n",
       "History          1     1       1                  1    1\n",
       "Physics          2     2       2                  2    2\n",
       "physics          1     1       1                  1    1"
      ]
     },
     "execution_count": 106,
     "metadata": {},
     "output_type": "execute_result"
    }
   ],
   "source": [
    "students_df.groupby(students_df['course']).aggregate('count') #get the count of every column but it dosesnot apply on every column so for that solution is given next cell block "
   ]
  },
  {
   "cell_type": "code",
   "execution_count": 109,
   "metadata": {},
   "outputs": [
    {
     "data": {
      "text/plain": [
       "course\n",
       "Art          1\n",
       "Biology      1\n",
       "Chemistry    1\n",
       "Economics    1\n",
       "English      1\n",
       "Geography    1\n",
       "History      1\n",
       "Physics      2\n",
       "physics      1\n",
       "Name: fee, dtype: int64"
      ]
     },
     "metadata": {},
     "output_type": "display_data"
    }
   ],
   "source": [
    "display(students_df.groupby(students_df['course'])['fee'].aggregate('count'))  # here we define a column on which the "
   ]
  },
  {
   "cell_type": "code",
   "execution_count": 110,
   "metadata": {},
   "outputs": [
    {
     "data": {
      "text/html": [
       "<div>\n",
       "<style scoped>\n",
       "    .dataframe tbody tr th:only-of-type {\n",
       "        vertical-align: middle;\n",
       "    }\n",
       "\n",
       "    .dataframe tbody tr th {\n",
       "        vertical-align: top;\n",
       "    }\n",
       "\n",
       "    .dataframe thead th {\n",
       "        text-align: right;\n",
       "    }\n",
       "</style>\n",
       "<table border=\"1\" class=\"dataframe\">\n",
       "  <thead>\n",
       "    <tr style=\"text-align: right;\">\n",
       "      <th></th>\n",
       "      <th>len</th>\n",
       "    </tr>\n",
       "    <tr>\n",
       "      <th>course</th>\n",
       "      <th></th>\n",
       "    </tr>\n",
       "  </thead>\n",
       "  <tbody>\n",
       "    <tr>\n",
       "      <th>Art</th>\n",
       "      <td>1</td>\n",
       "    </tr>\n",
       "    <tr>\n",
       "      <th>Biology</th>\n",
       "      <td>1</td>\n",
       "    </tr>\n",
       "    <tr>\n",
       "      <th>Chemistry</th>\n",
       "      <td>1</td>\n",
       "    </tr>\n",
       "    <tr>\n",
       "      <th>Economics</th>\n",
       "      <td>1</td>\n",
       "    </tr>\n",
       "    <tr>\n",
       "      <th>English</th>\n",
       "      <td>1</td>\n",
       "    </tr>\n",
       "    <tr>\n",
       "      <th>Geography</th>\n",
       "      <td>1</td>\n",
       "    </tr>\n",
       "    <tr>\n",
       "      <th>History</th>\n",
       "      <td>1</td>\n",
       "    </tr>\n",
       "    <tr>\n",
       "      <th>Physics</th>\n",
       "      <td>2</td>\n",
       "    </tr>\n",
       "    <tr>\n",
       "      <th>physics</th>\n",
       "      <td>1</td>\n",
       "    </tr>\n",
       "  </tbody>\n",
       "</table>\n",
       "</div>"
      ],
      "text/plain": [
       "           len\n",
       "course        \n",
       "Art          1\n",
       "Biology      1\n",
       "Chemistry    1\n",
       "Economics    1\n",
       "English      1\n",
       "Geography    1\n",
       "History      1\n",
       "Physics      2\n",
       "physics      1"
      ]
     },
     "execution_count": 110,
     "metadata": {},
     "output_type": "execute_result"
    }
   ],
   "source": [
    "students_df.groupby(students_df['course'])['fee'].agg([len])"
   ]
  },
  {
   "cell_type": "code",
   "execution_count": 111,
   "metadata": {},
   "outputs": [
    {
     "name": "stderr",
     "output_type": "stream",
     "text": [
      "C:\\Users\\wania\\AppData\\Local\\Temp\\ipykernel_24136\\4279835314.py:1: FutureWarning: The provided callable <built-in function min> is currently using SeriesGroupBy.min. In a future version of pandas, the provided callable will be used directly. To keep current behavior pass the string \"min\" instead.\n",
      "  students_df.groupby(students_df['course'])['fee'].agg([len, min, max])\n",
      "C:\\Users\\wania\\AppData\\Local\\Temp\\ipykernel_24136\\4279835314.py:1: FutureWarning: The provided callable <built-in function max> is currently using SeriesGroupBy.max. In a future version of pandas, the provided callable will be used directly. To keep current behavior pass the string \"max\" instead.\n",
      "  students_df.groupby(students_df['course'])['fee'].agg([len, min, max])\n"
     ]
    },
    {
     "data": {
      "text/html": [
       "<div>\n",
       "<style scoped>\n",
       "    .dataframe tbody tr th:only-of-type {\n",
       "        vertical-align: middle;\n",
       "    }\n",
       "\n",
       "    .dataframe tbody tr th {\n",
       "        vertical-align: top;\n",
       "    }\n",
       "\n",
       "    .dataframe thead th {\n",
       "        text-align: right;\n",
       "    }\n",
       "</style>\n",
       "<table border=\"1\" class=\"dataframe\">\n",
       "  <thead>\n",
       "    <tr style=\"text-align: right;\">\n",
       "      <th></th>\n",
       "      <th>len</th>\n",
       "      <th>min</th>\n",
       "      <th>max</th>\n",
       "    </tr>\n",
       "    <tr>\n",
       "      <th>course</th>\n",
       "      <th></th>\n",
       "      <th></th>\n",
       "      <th></th>\n",
       "    </tr>\n",
       "  </thead>\n",
       "  <tbody>\n",
       "    <tr>\n",
       "      <th>Art</th>\n",
       "      <td>1</td>\n",
       "      <td>19000</td>\n",
       "      <td>19000</td>\n",
       "    </tr>\n",
       "    <tr>\n",
       "      <th>Biology</th>\n",
       "      <td>1</td>\n",
       "      <td>12000</td>\n",
       "      <td>12000</td>\n",
       "    </tr>\n",
       "    <tr>\n",
       "      <th>Chemistry</th>\n",
       "      <td>1</td>\n",
       "      <td>11000</td>\n",
       "      <td>11000</td>\n",
       "    </tr>\n",
       "    <tr>\n",
       "      <th>Economics</th>\n",
       "      <td>1</td>\n",
       "      <td>15000</td>\n",
       "      <td>15000</td>\n",
       "    </tr>\n",
       "    <tr>\n",
       "      <th>English</th>\n",
       "      <td>1</td>\n",
       "      <td>18000</td>\n",
       "      <td>18000</td>\n",
       "    </tr>\n",
       "    <tr>\n",
       "      <th>Geography</th>\n",
       "      <td>1</td>\n",
       "      <td>17000</td>\n",
       "      <td>17000</td>\n",
       "    </tr>\n",
       "    <tr>\n",
       "      <th>History</th>\n",
       "      <td>1</td>\n",
       "      <td>16000</td>\n",
       "      <td>16000</td>\n",
       "    </tr>\n",
       "    <tr>\n",
       "      <th>Physics</th>\n",
       "      <td>2</td>\n",
       "      <td>10000</td>\n",
       "      <td>14000</td>\n",
       "    </tr>\n",
       "    <tr>\n",
       "      <th>physics</th>\n",
       "      <td>1</td>\n",
       "      <td>13000</td>\n",
       "      <td>13000</td>\n",
       "    </tr>\n",
       "  </tbody>\n",
       "</table>\n",
       "</div>"
      ],
      "text/plain": [
       "           len    min    max\n",
       "course                      \n",
       "Art          1  19000  19000\n",
       "Biology      1  12000  12000\n",
       "Chemistry    1  11000  11000\n",
       "Economics    1  15000  15000\n",
       "English      1  18000  18000\n",
       "Geography    1  17000  17000\n",
       "History      1  16000  16000\n",
       "Physics      2  10000  14000\n",
       "physics      1  13000  13000"
      ]
     },
     "execution_count": 111,
     "metadata": {},
     "output_type": "execute_result"
    }
   ],
   "source": [
    "students_df.groupby(students_df['course'])['fee'].agg([len, min, max])"
   ]
  },
  {
   "cell_type": "code",
   "execution_count": 112,
   "metadata": {},
   "outputs": [
    {
     "name": "stderr",
     "output_type": "stream",
     "text": [
      "C:\\Users\\wania\\AppData\\Local\\Temp\\ipykernel_24136\\22640142.py:1: FutureWarning: The provided callable <built-in function min> is currently using SeriesGroupBy.min. In a future version of pandas, the provided callable will be used directly. To keep current behavior pass the string \"min\" instead.\n",
      "  students_df.groupby([students_df['course'], students_df['date_of_admission'].dt.strftime(\"%B\")])['fee'].agg([len, min, max])\n",
      "C:\\Users\\wania\\AppData\\Local\\Temp\\ipykernel_24136\\22640142.py:1: FutureWarning: The provided callable <built-in function max> is currently using SeriesGroupBy.max. In a future version of pandas, the provided callable will be used directly. To keep current behavior pass the string \"max\" instead.\n",
      "  students_df.groupby([students_df['course'], students_df['date_of_admission'].dt.strftime(\"%B\")])['fee'].agg([len, min, max])\n"
     ]
    },
    {
     "data": {
      "text/html": [
       "<div>\n",
       "<style scoped>\n",
       "    .dataframe tbody tr th:only-of-type {\n",
       "        vertical-align: middle;\n",
       "    }\n",
       "\n",
       "    .dataframe tbody tr th {\n",
       "        vertical-align: top;\n",
       "    }\n",
       "\n",
       "    .dataframe thead th {\n",
       "        text-align: right;\n",
       "    }\n",
       "</style>\n",
       "<table border=\"1\" class=\"dataframe\">\n",
       "  <thead>\n",
       "    <tr style=\"text-align: right;\">\n",
       "      <th></th>\n",
       "      <th></th>\n",
       "      <th>len</th>\n",
       "      <th>min</th>\n",
       "      <th>max</th>\n",
       "    </tr>\n",
       "    <tr>\n",
       "      <th>course</th>\n",
       "      <th>date_of_admission</th>\n",
       "      <th></th>\n",
       "      <th></th>\n",
       "      <th></th>\n",
       "    </tr>\n",
       "  </thead>\n",
       "  <tbody>\n",
       "    <tr>\n",
       "      <th>Art</th>\n",
       "      <th>October</th>\n",
       "      <td>1</td>\n",
       "      <td>19000</td>\n",
       "      <td>19000</td>\n",
       "    </tr>\n",
       "    <tr>\n",
       "      <th>Biology</th>\n",
       "      <th>March</th>\n",
       "      <td>1</td>\n",
       "      <td>12000</td>\n",
       "      <td>12000</td>\n",
       "    </tr>\n",
       "    <tr>\n",
       "      <th>Chemistry</th>\n",
       "      <th>February</th>\n",
       "      <td>1</td>\n",
       "      <td>11000</td>\n",
       "      <td>11000</td>\n",
       "    </tr>\n",
       "    <tr>\n",
       "      <th>Economics</th>\n",
       "      <th>June</th>\n",
       "      <td>1</td>\n",
       "      <td>15000</td>\n",
       "      <td>15000</td>\n",
       "    </tr>\n",
       "    <tr>\n",
       "      <th>English</th>\n",
       "      <th>September</th>\n",
       "      <td>1</td>\n",
       "      <td>18000</td>\n",
       "      <td>18000</td>\n",
       "    </tr>\n",
       "    <tr>\n",
       "      <th>Geography</th>\n",
       "      <th>August</th>\n",
       "      <td>1</td>\n",
       "      <td>17000</td>\n",
       "      <td>17000</td>\n",
       "    </tr>\n",
       "    <tr>\n",
       "      <th>History</th>\n",
       "      <th>July</th>\n",
       "      <td>1</td>\n",
       "      <td>16000</td>\n",
       "      <td>16000</td>\n",
       "    </tr>\n",
       "    <tr>\n",
       "      <th rowspan=\"2\" valign=\"top\">Physics</th>\n",
       "      <th>January</th>\n",
       "      <td>1</td>\n",
       "      <td>10000</td>\n",
       "      <td>10000</td>\n",
       "    </tr>\n",
       "    <tr>\n",
       "      <th>May</th>\n",
       "      <td>1</td>\n",
       "      <td>14000</td>\n",
       "      <td>14000</td>\n",
       "    </tr>\n",
       "    <tr>\n",
       "      <th>physics</th>\n",
       "      <th>April</th>\n",
       "      <td>1</td>\n",
       "      <td>13000</td>\n",
       "      <td>13000</td>\n",
       "    </tr>\n",
       "  </tbody>\n",
       "</table>\n",
       "</div>"
      ],
      "text/plain": [
       "                             len    min    max\n",
       "course    date_of_admission                   \n",
       "Art       October              1  19000  19000\n",
       "Biology   March                1  12000  12000\n",
       "Chemistry February             1  11000  11000\n",
       "Economics June                 1  15000  15000\n",
       "English   September            1  18000  18000\n",
       "Geography August               1  17000  17000\n",
       "History   July                 1  16000  16000\n",
       "Physics   January              1  10000  10000\n",
       "          May                  1  14000  14000\n",
       "physics   April                1  13000  13000"
      ]
     },
     "execution_count": 112,
     "metadata": {},
     "output_type": "execute_result"
    }
   ],
   "source": [
    "students_df.groupby([students_df['course'], students_df['date_of_admission'].dt.strftime(\"%B\")])['fee'].agg([len, min, max])"
   ]
  },
  {
   "cell_type": "markdown",
   "metadata": {},
   "source": [
    "### Custom groupby"
   ]
  },
  {
   "cell_type": "code",
   "execution_count": 113,
   "metadata": {},
   "outputs": [
    {
     "data": {
      "text/html": [
       "<div>\n",
       "<style scoped>\n",
       "    .dataframe tbody tr th:only-of-type {\n",
       "        vertical-align: middle;\n",
       "    }\n",
       "\n",
       "    .dataframe tbody tr th {\n",
       "        vertical-align: top;\n",
       "    }\n",
       "\n",
       "    .dataframe thead th {\n",
       "        text-align: right;\n",
       "    }\n",
       "</style>\n",
       "<table border=\"1\" class=\"dataframe\">\n",
       "  <thead>\n",
       "    <tr style=\"text-align: right;\">\n",
       "      <th></th>\n",
       "      <th></th>\n",
       "      <th>roll_no</th>\n",
       "      <th>name</th>\n",
       "      <th>father</th>\n",
       "      <th>course</th>\n",
       "      <th>date_of_admission</th>\n",
       "      <th>fee</th>\n",
       "    </tr>\n",
       "    <tr>\n",
       "      <th>course</th>\n",
       "      <th></th>\n",
       "      <th></th>\n",
       "      <th></th>\n",
       "      <th></th>\n",
       "      <th></th>\n",
       "      <th></th>\n",
       "      <th></th>\n",
       "    </tr>\n",
       "  </thead>\n",
       "  <tbody>\n",
       "    <tr>\n",
       "      <th>Art</th>\n",
       "      <th>9</th>\n",
       "      <td>10</td>\n",
       "      <td>Jack</td>\n",
       "      <td>Noah</td>\n",
       "      <td>Art</td>\n",
       "      <td>2023-10-05</td>\n",
       "      <td>19000</td>\n",
       "    </tr>\n",
       "    <tr>\n",
       "      <th>Biology</th>\n",
       "      <th>2</th>\n",
       "      <td>3</td>\n",
       "      <td>Chloe</td>\n",
       "      <td>Tim</td>\n",
       "      <td>Biology</td>\n",
       "      <td>2023-03-14</td>\n",
       "      <td>12000</td>\n",
       "    </tr>\n",
       "    <tr>\n",
       "      <th>Chemistry</th>\n",
       "      <th>1</th>\n",
       "      <td>2</td>\n",
       "      <td>Brian</td>\n",
       "      <td>Steve</td>\n",
       "      <td>Chemistry</td>\n",
       "      <td>2023-02-12</td>\n",
       "      <td>11000</td>\n",
       "    </tr>\n",
       "    <tr>\n",
       "      <th>Economics</th>\n",
       "      <th>5</th>\n",
       "      <td>6</td>\n",
       "      <td>Frank</td>\n",
       "      <td>Tom</td>\n",
       "      <td>Economics</td>\n",
       "      <td>2023-06-21</td>\n",
       "      <td>15000</td>\n",
       "    </tr>\n",
       "    <tr>\n",
       "      <th>English</th>\n",
       "      <th>8</th>\n",
       "      <td>9</td>\n",
       "      <td>Isabel</td>\n",
       "      <td>Oliver</td>\n",
       "      <td>English</td>\n",
       "      <td>2023-09-10</td>\n",
       "      <td>18000</td>\n",
       "    </tr>\n",
       "    <tr>\n",
       "      <th>Geography</th>\n",
       "      <th>7</th>\n",
       "      <td>8</td>\n",
       "      <td>Henry</td>\n",
       "      <td>Charles</td>\n",
       "      <td>Geography</td>\n",
       "      <td>2023-08-17</td>\n",
       "      <td>17000</td>\n",
       "    </tr>\n",
       "    <tr>\n",
       "      <th>History</th>\n",
       "      <th>6</th>\n",
       "      <td>7</td>\n",
       "      <td>Grace</td>\n",
       "      <td>Harry</td>\n",
       "      <td>History</td>\n",
       "      <td>2023-07-25</td>\n",
       "      <td>16000</td>\n",
       "    </tr>\n",
       "    <tr>\n",
       "      <th rowspan=\"2\" valign=\"top\">Physics</th>\n",
       "      <th>0</th>\n",
       "      <td>1</td>\n",
       "      <td>Alice</td>\n",
       "      <td>Bob</td>\n",
       "      <td>Physics</td>\n",
       "      <td>2023-01-10</td>\n",
       "      <td>10000</td>\n",
       "    </tr>\n",
       "    <tr>\n",
       "      <th>4</th>\n",
       "      <td>5</td>\n",
       "      <td>Eva</td>\n",
       "      <td>John</td>\n",
       "      <td>Physics</td>\n",
       "      <td>2023-05-16</td>\n",
       "      <td>14000</td>\n",
       "    </tr>\n",
       "    <tr>\n",
       "      <th>physics</th>\n",
       "      <th>3</th>\n",
       "      <td>4</td>\n",
       "      <td>David</td>\n",
       "      <td>Rick</td>\n",
       "      <td>physics</td>\n",
       "      <td>2023-04-10</td>\n",
       "      <td>13000</td>\n",
       "    </tr>\n",
       "  </tbody>\n",
       "</table>\n",
       "</div>"
      ],
      "text/plain": [
       "             roll_no    name   father     course date_of_admission    fee\n",
       "course                                                                   \n",
       "Art       9       10    Jack     Noah        Art        2023-10-05  19000\n",
       "Biology   2        3   Chloe      Tim    Biology        2023-03-14  12000\n",
       "Chemistry 1        2   Brian    Steve  Chemistry        2023-02-12  11000\n",
       "Economics 5        6   Frank      Tom  Economics        2023-06-21  15000\n",
       "English   8        9  Isabel   Oliver    English        2023-09-10  18000\n",
       "Geography 7        8   Henry  Charles  Geography        2023-08-17  17000\n",
       "History   6        7   Grace    Harry    History        2023-07-25  16000\n",
       "Physics   0        1   Alice      Bob    Physics        2023-01-10  10000\n",
       "          4        5     Eva     John    Physics        2023-05-16  14000\n",
       "physics   3        4   David     Rick    physics        2023-04-10  13000"
      ]
     },
     "execution_count": 113,
     "metadata": {},
     "output_type": "execute_result"
    }
   ],
   "source": [
    "students_df.groupby(['course']).apply(lambda x: x)"
   ]
  },
  {
   "cell_type": "code",
   "execution_count": 116,
   "metadata": {},
   "outputs": [
    {
     "data": {
      "text/html": [
       "<div>\n",
       "<style scoped>\n",
       "    .dataframe tbody tr th:only-of-type {\n",
       "        vertical-align: middle;\n",
       "    }\n",
       "\n",
       "    .dataframe tbody tr th {\n",
       "        vertical-align: top;\n",
       "    }\n",
       "\n",
       "    .dataframe thead th {\n",
       "        text-align: right;\n",
       "    }\n",
       "</style>\n",
       "<table border=\"1\" class=\"dataframe\">\n",
       "  <thead>\n",
       "    <tr style=\"text-align: right;\">\n",
       "      <th></th>\n",
       "      <th></th>\n",
       "      <th>roll_no</th>\n",
       "      <th>name</th>\n",
       "      <th>father</th>\n",
       "      <th>course</th>\n",
       "      <th>date_of_admission</th>\n",
       "      <th>fee</th>\n",
       "    </tr>\n",
       "    <tr>\n",
       "      <th>course</th>\n",
       "      <th></th>\n",
       "      <th></th>\n",
       "      <th></th>\n",
       "      <th></th>\n",
       "      <th></th>\n",
       "      <th></th>\n",
       "      <th></th>\n",
       "    </tr>\n",
       "  </thead>\n",
       "  <tbody>\n",
       "    <tr>\n",
       "      <th>Art</th>\n",
       "      <th>9</th>\n",
       "      <td>10</td>\n",
       "      <td>Jack</td>\n",
       "      <td>Noah</td>\n",
       "      <td>Art</td>\n",
       "      <td>2023-10-05</td>\n",
       "      <td>19000</td>\n",
       "    </tr>\n",
       "    <tr>\n",
       "      <th>Biology</th>\n",
       "      <th>2</th>\n",
       "      <td>3</td>\n",
       "      <td>Chloe</td>\n",
       "      <td>Tim</td>\n",
       "      <td>Biology</td>\n",
       "      <td>2023-03-14</td>\n",
       "      <td>12000</td>\n",
       "    </tr>\n",
       "    <tr>\n",
       "      <th>Chemistry</th>\n",
       "      <th>1</th>\n",
       "      <td>2</td>\n",
       "      <td>Brian</td>\n",
       "      <td>Steve</td>\n",
       "      <td>Chemistry</td>\n",
       "      <td>2023-02-12</td>\n",
       "      <td>11000</td>\n",
       "    </tr>\n",
       "    <tr>\n",
       "      <th>Economics</th>\n",
       "      <th>5</th>\n",
       "      <td>6</td>\n",
       "      <td>Frank</td>\n",
       "      <td>Tom</td>\n",
       "      <td>Economics</td>\n",
       "      <td>2023-06-21</td>\n",
       "      <td>15000</td>\n",
       "    </tr>\n",
       "    <tr>\n",
       "      <th>English</th>\n",
       "      <th>8</th>\n",
       "      <td>9</td>\n",
       "      <td>Isabel</td>\n",
       "      <td>Oliver</td>\n",
       "      <td>English</td>\n",
       "      <td>2023-09-10</td>\n",
       "      <td>18000</td>\n",
       "    </tr>\n",
       "    <tr>\n",
       "      <th>Geography</th>\n",
       "      <th>7</th>\n",
       "      <td>8</td>\n",
       "      <td>Henry</td>\n",
       "      <td>Charles</td>\n",
       "      <td>Geography</td>\n",
       "      <td>2023-08-17</td>\n",
       "      <td>17000</td>\n",
       "    </tr>\n",
       "    <tr>\n",
       "      <th>History</th>\n",
       "      <th>6</th>\n",
       "      <td>7</td>\n",
       "      <td>Grace</td>\n",
       "      <td>Harry</td>\n",
       "      <td>History</td>\n",
       "      <td>2023-07-25</td>\n",
       "      <td>16000</td>\n",
       "    </tr>\n",
       "    <tr>\n",
       "      <th>Physics</th>\n",
       "      <th>0</th>\n",
       "      <td>1</td>\n",
       "      <td>Alice</td>\n",
       "      <td>Bob</td>\n",
       "      <td>Physics</td>\n",
       "      <td>2023-01-10</td>\n",
       "      <td>10000</td>\n",
       "    </tr>\n",
       "    <tr>\n",
       "      <th>physics</th>\n",
       "      <th>3</th>\n",
       "      <td>4</td>\n",
       "      <td>David</td>\n",
       "      <td>Rick</td>\n",
       "      <td>physics</td>\n",
       "      <td>2023-04-10</td>\n",
       "      <td>13000</td>\n",
       "    </tr>\n",
       "  </tbody>\n",
       "</table>\n",
       "</div>"
      ],
      "text/plain": [
       "             roll_no    name   father     course date_of_admission    fee\n",
       "course                                                                   \n",
       "Art       9       10    Jack     Noah        Art        2023-10-05  19000\n",
       "Biology   2        3   Chloe      Tim    Biology        2023-03-14  12000\n",
       "Chemistry 1        2   Brian    Steve  Chemistry        2023-02-12  11000\n",
       "Economics 5        6   Frank      Tom  Economics        2023-06-21  15000\n",
       "English   8        9  Isabel   Oliver    English        2023-09-10  18000\n",
       "Geography 7        8   Henry  Charles  Geography        2023-08-17  17000\n",
       "History   6        7   Grace    Harry    History        2023-07-25  16000\n",
       "Physics   0        1   Alice      Bob    Physics        2023-01-10  10000\n",
       "physics   3        4   David     Rick    physics        2023-04-10  13000"
      ]
     },
     "execution_count": 116,
     "metadata": {},
     "output_type": "execute_result"
    }
   ],
   "source": [
    "students_df.groupby(['course']).apply(lambda x: x.head(1)) #will take 1 sample of all course i.e Physics has 2 in above example but now has 1"
   ]
  },
  {
   "cell_type": "markdown",
   "metadata": {},
   "source": [
    "### Data Visualization"
   ]
  },
  {
   "cell_type": "code",
   "execution_count": 118,
   "metadata": {},
   "outputs": [
    {
     "data": {
      "text/plain": [
       "course\n",
       "Physics      2\n",
       "Chemistry    1\n",
       "Biology      1\n",
       "physics      1\n",
       "Economics    1\n",
       "History      1\n",
       "Geography    1\n",
       "English      1\n",
       "Art          1\n",
       "Name: count, dtype: int64"
      ]
     },
     "execution_count": 118,
     "metadata": {},
     "output_type": "execute_result"
    }
   ],
   "source": [
    "students_df['course'].value_counts() #this example and below example - both are same just a different way to write"
   ]
  },
  {
   "cell_type": "code",
   "execution_count": 117,
   "metadata": {},
   "outputs": [
    {
     "data": {
      "text/plain": [
       "course\n",
       "Physics      2\n",
       "Chemistry    1\n",
       "Biology      1\n",
       "physics      1\n",
       "Economics    1\n",
       "History      1\n",
       "Geography    1\n",
       "English      1\n",
       "Art          1\n",
       "Name: count, dtype: int64"
      ]
     },
     "execution_count": 117,
     "metadata": {},
     "output_type": "execute_result"
    }
   ],
   "source": [
    "students_df.course.value_counts()"
   ]
  },
  {
   "cell_type": "code",
   "execution_count": 119,
   "metadata": {},
   "outputs": [
    {
     "data": {
      "text/plain": [
       "<Axes: xlabel='course'>"
      ]
     },
     "execution_count": 119,
     "metadata": {},
     "output_type": "execute_result"
    },
    {
     "data": {
      "image/png": "[encoded data removed]",
      "text/plain": [
       "<Figure size 640x480 with 1 Axes>"
      ]
     },
     "metadata": {},
     "output_type": "display_data"
    }
   ],
   "source": [
    "students_df.course.value_counts().plot()"
   ]
  },
  {
   "cell_type": "code",
   "execution_count": 120,
   "metadata": {},
   "outputs": [
    {
     "data": {
      "text/plain": [
       "<Axes: xlabel='course'>"
      ]
     },
     "execution_count": 120,
     "metadata": {},
     "output_type": "execute_result"
    },
    {
     "data": {
      "image/png": "[encoded data removed]",
      "text/plain": [
       "<Figure size 640x480 with 1 Axes>"
      ]
     },
     "metadata": {},
     "output_type": "display_data"
    }
   ],
   "source": [
    "students_df.course.value_counts().plot(kind = 'bar')"
   ]
  },
  {
   "cell_type": "code",
   "execution_count": 125,
   "metadata": {},
   "outputs": [
    {
     "data": {
      "text/plain": [
       "<Axes: ylabel='proportion'>"
      ]
     },
     "execution_count": 125,
     "metadata": {},
     "output_type": "execute_result"
    },
    {
     "data": {
      "image/png": "[encoded data removed]",
      "text/plain": [
       "<Figure size 640x480 with 1 Axes>"
      ]
     },
     "metadata": {},
     "output_type": "display_data"
    }
   ],
   "source": [
    "students_df.course.value_counts(normalize=True).plot(kind = 'pie')"
   ]
  },
  {
   "cell_type": "code",
   "execution_count": 127,
   "metadata": {},
   "outputs": [
    {
     "name": "stderr",
     "output_type": "stream",
     "text": [
      "C:\\Users\\wania\\AppData\\Local\\Temp\\ipykernel_24136\\2649267850.py:1: FutureWarning: The provided callable <built-in function min> is currently using SeriesGroupBy.min. In a future version of pandas, the provided callable will be used directly. To keep current behavior pass the string \"min\" instead.\n",
      "  students_df.groupby(['course'])[['fee']].aggregate([min,max, np.mean]).plot(kind=\"bar\")\n",
      "C:\\Users\\wania\\AppData\\Local\\Temp\\ipykernel_24136\\2649267850.py:1: FutureWarning: The provided callable <built-in function max> is currently using SeriesGroupBy.max. In a future version of pandas, the provided callable will be used directly. To keep current behavior pass the string \"max\" instead.\n",
      "  students_df.groupby(['course'])[['fee']].aggregate([min,max, np.mean]).plot(kind=\"bar\")\n",
      "C:\\Users\\wania\\AppData\\Local\\Temp\\ipykernel_24136\\2649267850.py:1: FutureWarning: The provided callable <function mean at 0x000002BA9CA9E340> is currently using SeriesGroupBy.mean. In a future version of pandas, the provided callable will be used directly. To keep current behavior pass the string \"mean\" instead.\n",
      "  students_df.groupby(['course'])[['fee']].aggregate([min,max, np.mean]).plot(kind=\"bar\")\n"
     ]
    },
    {
     "data": {
      "text/plain": [
       "<Axes: xlabel='course'>"
      ]
     },
     "execution_count": 127,
     "metadata": {},
     "output_type": "execute_result"
    },
    {
     "data": {
      "image/png": "[encoded data removed]",
      "text/plain": [
       "<Figure size 640x480 with 1 Axes>"
      ]
     },
     "metadata": {},
     "output_type": "display_data"
    }
   ],
   "source": [
    "students_df.groupby(['course'])[['fee']].aggregate([min,max, np.mean]).plot(kind=\"bar\")"
   ]
  },
  {
   "cell_type": "markdown",
   "metadata": {},
   "source": [
    "# Data Wraggling\n",
    "Data wragling is joining the data - \n",
    "We dont have a data in single database \n",
    "Let's suppose you're working in bank, for atm transaction we have seperate table, for online trasaction we have seperate table, customer information is in seperate table , credit card trasaction is on seperate table. All these tables must have relation with one another. So to connect all the tables is known as \"Data wraggling\"\n",
    "* .merge\n",
    "* .join\n",
    "* pd.concat([df1, df2])\n",
    "\n",
    "# Joining\n",
    "* left join\n",
    "* right join\n",
    "* inner join\n",
    "* outer join\n",
    "* cross join\n",
    "\n",
    "https://www.w3schools.com/sql/sql_join.asp"
   ]
  },
  {
   "cell_type": "code",
   "execution_count": 128,
   "metadata": {},
   "outputs": [],
   "source": [
    "import pandas as pd\n",
    "from typing import Dict, Union, List, Iterator\n",
    "\n",
    "from collections.abc import Iterator\n",
    "\n",
    "# Sample data for the 'students' DataFrame\n",
    "students_data : Dict[str,List[Union[str,int]]] = {\n",
    "    'student_id': [1, 2, 3, 4, 5],\n",
    "    'name': ['Alice', 'Bob', 'Charlie', 'David', 'Eva'],\n",
    "    'teacher_id': [101, 102, 103, 101, 102]\n",
    "}\n",
    "students : pd.DataFrame = pd.DataFrame(students_data)\n",
    "\n",
    "# Sample data for the 'teachers' DataFrame\n",
    "teachers_data : Dict[str,List[Union[str,int]]] ={\n",
    "    'teacher_id': [101, 102, 103],\n",
    "    'course_name':['Physics', 'Chem','Maths'],\n",
    "    'teacher_name': ['Mr. Smith', 'Ms. Johnson', 'Dr. Lee']\n",
    "}\n",
    "teachers = pd.DataFrame(teachers_data)\n",
    "\n",
    "# Sample data for the 'student_fees' DataFrame\n",
    "student_fees_data : Dict[str,List[Union[str,int]]] = {\n",
    "    'student_id': [1, 2, 3, 4, 5],\n",
    "    'fee_paid': [1500, 1500, 1500, 1500, 1500]\n",
    "}\n",
    "student_fees = pd.DataFrame(student_fees_data)"
   ]
  },
  {
   "cell_type": "code",
   "execution_count": 129,
   "metadata": {},
   "outputs": [
    {
     "data": {
      "text/html": [
       "<div>\n",
       "<style scoped>\n",
       "    .dataframe tbody tr th:only-of-type {\n",
       "        vertical-align: middle;\n",
       "    }\n",
       "\n",
       "    .dataframe tbody tr th {\n",
       "        vertical-align: top;\n",
       "    }\n",
       "\n",
       "    .dataframe thead th {\n",
       "        text-align: right;\n",
       "    }\n",
       "</style>\n",
       "<table border=\"1\" class=\"dataframe\">\n",
       "  <thead>\n",
       "    <tr style=\"text-align: right;\">\n",
       "      <th></th>\n",
       "      <th>student_id</th>\n",
       "      <th>name</th>\n",
       "      <th>teacher_id</th>\n",
       "    </tr>\n",
       "  </thead>\n",
       "  <tbody>\n",
       "    <tr>\n",
       "      <th>0</th>\n",
       "      <td>1</td>\n",
       "      <td>Alice</td>\n",
       "      <td>101</td>\n",
       "    </tr>\n",
       "    <tr>\n",
       "      <th>1</th>\n",
       "      <td>2</td>\n",
       "      <td>Bob</td>\n",
       "      <td>102</td>\n",
       "    </tr>\n",
       "    <tr>\n",
       "      <th>2</th>\n",
       "      <td>3</td>\n",
       "      <td>Charlie</td>\n",
       "      <td>103</td>\n",
       "    </tr>\n",
       "    <tr>\n",
       "      <th>3</th>\n",
       "      <td>4</td>\n",
       "      <td>David</td>\n",
       "      <td>101</td>\n",
       "    </tr>\n",
       "    <tr>\n",
       "      <th>4</th>\n",
       "      <td>5</td>\n",
       "      <td>Eva</td>\n",
       "      <td>102</td>\n",
       "    </tr>\n",
       "  </tbody>\n",
       "</table>\n",
       "</div>"
      ],
      "text/plain": [
       "   student_id     name  teacher_id\n",
       "0           1    Alice         101\n",
       "1           2      Bob         102\n",
       "2           3  Charlie         103\n",
       "3           4    David         101\n",
       "4           5      Eva         102"
      ]
     },
     "execution_count": 129,
     "metadata": {},
     "output_type": "execute_result"
    }
   ],
   "source": [
    "students"
   ]
  },
  {
   "cell_type": "code",
   "execution_count": 130,
   "metadata": {},
   "outputs": [
    {
     "data": {
      "text/html": [
       "<div>\n",
       "<style scoped>\n",
       "    .dataframe tbody tr th:only-of-type {\n",
       "        vertical-align: middle;\n",
       "    }\n",
       "\n",
       "    .dataframe tbody tr th {\n",
       "        vertical-align: top;\n",
       "    }\n",
       "\n",
       "    .dataframe thead th {\n",
       "        text-align: right;\n",
       "    }\n",
       "</style>\n",
       "<table border=\"1\" class=\"dataframe\">\n",
       "  <thead>\n",
       "    <tr style=\"text-align: right;\">\n",
       "      <th></th>\n",
       "      <th>teacher_id</th>\n",
       "      <th>course_name</th>\n",
       "      <th>teacher_name</th>\n",
       "    </tr>\n",
       "  </thead>\n",
       "  <tbody>\n",
       "    <tr>\n",
       "      <th>0</th>\n",
       "      <td>101</td>\n",
       "      <td>Physics</td>\n",
       "      <td>Mr. Smith</td>\n",
       "    </tr>\n",
       "    <tr>\n",
       "      <th>1</th>\n",
       "      <td>102</td>\n",
       "      <td>Chem</td>\n",
       "      <td>Ms. Johnson</td>\n",
       "    </tr>\n",
       "    <tr>\n",
       "      <th>2</th>\n",
       "      <td>103</td>\n",
       "      <td>Maths</td>\n",
       "      <td>Dr. Lee</td>\n",
       "    </tr>\n",
       "  </tbody>\n",
       "</table>\n",
       "</div>"
      ],
      "text/plain": [
       "   teacher_id course_name teacher_name\n",
       "0         101     Physics    Mr. Smith\n",
       "1         102        Chem  Ms. Johnson\n",
       "2         103       Maths      Dr. Lee"
      ]
     },
     "execution_count": 130,
     "metadata": {},
     "output_type": "execute_result"
    }
   ],
   "source": [
    "teachers"
   ]
  },
  {
   "cell_type": "code",
   "execution_count": 131,
   "metadata": {},
   "outputs": [
    {
     "data": {
      "text/html": [
       "<div>\n",
       "<style scoped>\n",
       "    .dataframe tbody tr th:only-of-type {\n",
       "        vertical-align: middle;\n",
       "    }\n",
       "\n",
       "    .dataframe tbody tr th {\n",
       "        vertical-align: top;\n",
       "    }\n",
       "\n",
       "    .dataframe thead th {\n",
       "        text-align: right;\n",
       "    }\n",
       "</style>\n",
       "<table border=\"1\" class=\"dataframe\">\n",
       "  <thead>\n",
       "    <tr style=\"text-align: right;\">\n",
       "      <th></th>\n",
       "      <th>student_id</th>\n",
       "      <th>fee_paid</th>\n",
       "    </tr>\n",
       "  </thead>\n",
       "  <tbody>\n",
       "    <tr>\n",
       "      <th>0</th>\n",
       "      <td>1</td>\n",
       "      <td>1500</td>\n",
       "    </tr>\n",
       "    <tr>\n",
       "      <th>1</th>\n",
       "      <td>2</td>\n",
       "      <td>1500</td>\n",
       "    </tr>\n",
       "    <tr>\n",
       "      <th>2</th>\n",
       "      <td>3</td>\n",
       "      <td>1500</td>\n",
       "    </tr>\n",
       "    <tr>\n",
       "      <th>3</th>\n",
       "      <td>4</td>\n",
       "      <td>1500</td>\n",
       "    </tr>\n",
       "    <tr>\n",
       "      <th>4</th>\n",
       "      <td>5</td>\n",
       "      <td>1500</td>\n",
       "    </tr>\n",
       "  </tbody>\n",
       "</table>\n",
       "</div>"
      ],
      "text/plain": [
       "   student_id  fee_paid\n",
       "0           1      1500\n",
       "1           2      1500\n",
       "2           3      1500\n",
       "3           4      1500\n",
       "4           5      1500"
      ]
     },
     "execution_count": 131,
     "metadata": {},
     "output_type": "execute_result"
    }
   ],
   "source": [
    "student_fees\n"
   ]
  },
  {
   "cell_type": "code",
   "execution_count": null,
   "metadata": {},
   "outputs": [],
   "source": []
  }
 ],
 "metadata": {
  "kernelspec": {
   "display_name": "Python 3",
   "language": "python",
   "name": "python3"
  },
  "language_info": {
   "codemirror_mode": {
    "name": "ipython",
    "version": 3
   },
   "file_extension": ".py",
   "mimetype": "text/x-python",
   "name": "python",
   "nbconvert_exporter": "python",
   "pygments_lexer": "ipython3",
   "version": "3.12.0"
  }
 },
 "nbformat": 4,
 "nbformat_minor": 2
}

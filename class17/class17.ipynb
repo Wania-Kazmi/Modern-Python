{
 "cells": [
  {
   "cell_type": "markdown",
   "metadata": {},
   "source": [
    "# Pandas\n",
    "pandas are used for tabular and semi-structured data\n",
    "Semi-structured = data in json form, xml -> these are easily convertable to structured data specially when they have pattern and we can easily handle it with the help of pandas"
   ]
  },
  {
   "cell_type": "markdown",
   "metadata": {},
   "source": [
    "https://pandera.readthedocs.io/en/stable/index.html"
   ]
  },
  {
   "cell_type": "code",
   "execution_count": 2,
   "metadata": {},
   "outputs": [
    {
     "name": "stdout",
     "output_type": "stream",
     "text": [
      "Collecting pandera\n",
      "  Obtaining dependency information for pandera from https://files.pythonhosted.org/packages/04/f8/e00c7a27b5a7c13bc51baa8f75f4c55d8fa2549ff96402699ac56b864d6d/pandera-0.17.2-py3-none-any.whl.metadata\n",
      "  Downloading pandera-0.17.2-py3-none-any.whl.metadata (15 kB)\n",
      "Collecting multimethod (from pandera)\n",
      "  Obtaining dependency information for multimethod from https://files.pythonhosted.org/packages/7f/bd/750245e47e7f307d9f94d4fa84727f4ed9956005dfa671d58be1d531a0f6/multimethod-1.10-py3-none-any.whl.metadata\n",
      "  Downloading multimethod-1.10-py3-none-any.whl.metadata (8.2 kB)\n",
      "Requirement already satisfied: numpy>=1.19.0 in c:\\users\\wania\\appdata\\local\\programs\\python\\python312\\lib\\site-packages (from pandera) (1.26.1)\n",
      "Requirement already satisfied: packaging>=20.0 in c:\\users\\wania\\appdata\\roaming\\python\\python312\\site-packages (from pandera) (23.2)\n",
      "Requirement already satisfied: pandas>=1.2.0 in c:\\users\\wania\\appdata\\local\\programs\\python\\python312\\lib\\site-packages (from pandera) (2.1.1)\n",
      "Collecting pydantic (from pandera)\n",
      "  Obtaining dependency information for pydantic from https://files.pythonhosted.org/packages/0a/2b/64066de1c4cf3d4ed623beeb3bbf3f8d0cc26661f1e7d180ec5eb66b75a5/pydantic-2.5.2-py3-none-any.whl.metadata\n",
      "  Downloading pydantic-2.5.2-py3-none-any.whl.metadata (65 kB)\n",
      "     ---------------------------------------- 0.0/65.2 kB ? eta -:--:--\n",
      "     ------ --------------------------------- 10.2/65.2 kB ? eta -:--:--\n",
      "     ----------------------- -------------- 41.0/65.2 kB 487.6 kB/s eta 0:00:01\n",
      "     -------------------------------------- 65.2/65.2 kB 584.8 kB/s eta 0:00:00\n",
      "Collecting typeguard>=3.0.2 (from pandera)\n",
      "  Obtaining dependency information for typeguard>=3.0.2 from https://files.pythonhosted.org/packages/18/01/5fc45558268ced46d86292763477996a3cdd505567cd590a688e8cdc386e/typeguard-4.1.5-py3-none-any.whl.metadata\n",
      "  Downloading typeguard-4.1.5-py3-none-any.whl.metadata (3.7 kB)\n",
      "Collecting typing-inspect>=0.6.0 (from pandera)\n",
      "  Obtaining dependency information for typing-inspect>=0.6.0 from https://files.pythonhosted.org/packages/65/f3/107a22063bf27bdccf2024833d3445f4eea42b2e598abfbd46f6a63b6cb0/typing_inspect-0.9.0-py3-none-any.whl.metadata\n",
      "  Using cached typing_inspect-0.9.0-py3-none-any.whl.metadata (1.5 kB)\n",
      "Collecting wrapt (from pandera)\n",
      "  Obtaining dependency information for wrapt from https://files.pythonhosted.org/packages/5c/cc/8297f9658506b224aa4bd71906447dea6bb0ba629861a758c28f67428b91/wrapt-1.16.0-cp312-cp312-win_amd64.whl.metadata\n",
      "  Downloading wrapt-1.16.0-cp312-cp312-win_amd64.whl.metadata (6.8 kB)\n",
      "Requirement already satisfied: python-dateutil>=2.8.2 in c:\\users\\wania\\appdata\\roaming\\python\\python312\\site-packages (from pandas>=1.2.0->pandera) (2.8.2)\n",
      "Requirement already satisfied: pytz>=2020.1 in c:\\users\\wania\\appdata\\local\\programs\\python\\python312\\lib\\site-packages (from pandas>=1.2.0->pandera) (2023.3.post1)\n",
      "Requirement already satisfied: tzdata>=2022.1 in c:\\users\\wania\\appdata\\local\\programs\\python\\python312\\lib\\site-packages (from pandas>=1.2.0->pandera) (2023.3)\n",
      "Collecting mypy-extensions>=0.3.0 (from typing-inspect>=0.6.0->pandera)\n",
      "  Using cached mypy_extensions-1.0.0-py3-none-any.whl (4.7 kB)\n",
      "Collecting typing-extensions>=3.7.4 (from typing-inspect>=0.6.0->pandera)\n",
      "  Obtaining dependency information for typing-extensions>=3.7.4 from https://files.pythonhosted.org/packages/24/21/7d397a4b7934ff4028987914ac1044d3b7d52712f30e2ac7a2ae5bc86dd0/typing_extensions-4.8.0-py3-none-any.whl.metadata\n",
      "  Using cached typing_extensions-4.8.0-py3-none-any.whl.metadata (3.0 kB)\n",
      "Collecting annotated-types>=0.4.0 (from pydantic->pandera)\n",
      "  Obtaining dependency information for annotated-types>=0.4.0 from https://files.pythonhosted.org/packages/28/78/d31230046e58c207284c6b2c4e8d96e6d3cb4e52354721b944d3e1ee4aa5/annotated_types-0.6.0-py3-none-any.whl.metadata\n",
      "  Using cached annotated_types-0.6.0-py3-none-any.whl.metadata (12 kB)\n",
      "Collecting pydantic-core==2.14.5 (from pydantic->pandera)\n",
      "  Obtaining dependency information for pydantic-core==2.14.5 from https://files.pythonhosted.org/packages/60/5a/3161e1a1c138407cd2037b12ecdbe29f4890ccda1c0a0be69438c7d0065d/pydantic_core-2.14.5-cp312-none-win_amd64.whl.metadata\n",
      "  Downloading pydantic_core-2.14.5-cp312-none-win_amd64.whl.metadata (6.6 kB)\n",
      "Requirement already satisfied: six>=1.5 in c:\\users\\wania\\appdata\\roaming\\python\\python312\\site-packages (from python-dateutil>=2.8.2->pandas>=1.2.0->pandera) (1.16.0)\n",
      "Downloading pandera-0.17.2-py3-none-any.whl (203 kB)\n",
      "   ---------------------------------------- 0.0/203.4 kB ? eta -:--:--\n",
      "   ------ --------------------------------- 30.7/203.4 kB 1.3 MB/s eta 0:00:01\n",
      "   ------------ --------------------------- 61.4/203.4 kB 1.1 MB/s eta 0:00:01\n",
      "   ------------ --------------------------- 61.4/203.4 kB 1.1 MB/s eta 0:00:01\n",
      "   --------------- ----------------------- 81.9/203.4 kB 416.7 kB/s eta 0:00:01\n",
      "   ---------------------------------------- 203.4/203.4 kB 1.0 MB/s eta 0:00:00\n",
      "Downloading typeguard-4.1.5-py3-none-any.whl (34 kB)\n",
      "Using cached typing_inspect-0.9.0-py3-none-any.whl (8.8 kB)\n",
      "Downloading multimethod-1.10-py3-none-any.whl (9.9 kB)\n",
      "Downloading pydantic-2.5.2-py3-none-any.whl (381 kB)\n",
      "   ---------------------------------------- 0.0/381.9 kB ? eta -:--:--\n",
      "   ---------------------------------------- 0.0/381.9 kB ? eta -:--:--\n",
      "   ------- -------------------------------- 71.7/381.9 kB 1.9 MB/s eta 0:00:01\n",
      "   ----------- ---------------------------- 112.6/381.9 kB 1.6 MB/s eta 0:00:01\n",
      "   ----------- ---------------------------- 112.6/381.9 kB 1.6 MB/s eta 0:00:01\n",
      "   ----------- ---------------------------- 112.6/381.9 kB 1.6 MB/s eta 0:00:01\n",
      "   -------------------- ----------------- 204.8/381.9 kB 778.2 kB/s eta 0:00:01\n",
      "   --------------------------------- ------ 317.4/381.9 kB 1.1 MB/s eta 0:00:01\n",
      "   -------------------------------------- - 368.6/381.9 kB 1.1 MB/s eta 0:00:01\n",
      "   -------------------------------------- - 368.6/381.9 kB 1.1 MB/s eta 0:00:01\n",
      "   -------------------------------------- - 368.6/381.9 kB 1.1 MB/s eta 0:00:01\n",
      "   -------------------------------------- - 368.6/381.9 kB 1.1 MB/s eta 0:00:01\n",
      "   -------------------------------------- - 368.6/381.9 kB 1.1 MB/s eta 0:00:01\n",
      "   -------------------------------------- - 368.6/381.9 kB 1.1 MB/s eta 0:00:01\n",
      "   -------------------------------------- - 368.6/381.9 kB 1.1 MB/s eta 0:00:01\n",
      "   -------------------------------------- - 368.6/381.9 kB 1.1 MB/s eta 0:00:01\n",
      "   -------------------------------------- - 368.6/381.9 kB 1.1 MB/s eta 0:00:01\n",
      "   -------------------------------------- - 368.6/381.9 kB 1.1 MB/s eta 0:00:01\n",
      "   -------------------------------------- - 368.6/381.9 kB 1.1 MB/s eta 0:00:01\n",
      "   -------------------------------------- - 368.6/381.9 kB 1.1 MB/s eta 0:00:01\n",
      "   -------------------------------------- - 368.6/381.9 kB 1.1 MB/s eta 0:00:01\n",
      "   -------------------------------------- - 368.6/381.9 kB 1.1 MB/s eta 0:00:01\n",
      "   -------------------------------------- - 368.6/381.9 kB 1.1 MB/s eta 0:00:01\n",
      "   -------------------------------------- - 368.6/381.9 kB 1.1 MB/s eta 0:00:01\n",
      "   -------------------------------------- - 368.6/381.9 kB 1.1 MB/s eta 0:00:01\n",
      "   -------------------------------------  378.9/381.9 kB 323.1 kB/s eta 0:00:01\n",
      "   -------------------------------------- 381.9/381.9 kB 325.7 kB/s eta 0:00:00\n",
      "Downloading pydantic_core-2.14.5-cp312-none-win_amd64.whl (1.9 MB)\n",
      "   ---------------------------------------- 0.0/1.9 MB ? eta -:--:--\n",
      "   ---------------------------------------- 0.0/1.9 MB ? eta -:--:--\n",
      "   ---------------------------------------- 0.0/1.9 MB ? eta -:--:--\n",
      "   ---------------------------------------- 0.0/1.9 MB ? eta -:--:--\n",
      "    --------------------------------------- 0.0/1.9 MB 326.8 kB/s eta 0:00:06\n",
      "   - -------------------------------------- 0.1/1.9 MB 409.6 kB/s eta 0:00:05\n",
      "   -- ------------------------------------- 0.1/1.9 MB 492.8 kB/s eta 0:00:04\n",
      "   --- ------------------------------------ 0.1/1.9 MB 607.9 kB/s eta 0:00:03\n",
      "   --- ------------------------------------ 0.2/1.9 MB 619.5 kB/s eta 0:00:03\n",
      "   ---- ----------------------------------- 0.2/1.9 MB 689.2 kB/s eta 0:00:03\n",
      "   ----- ---------------------------------- 0.3/1.9 MB 713.1 kB/s eta 0:00:03\n",
      "   ------ --------------------------------- 0.3/1.9 MB 756.6 kB/s eta 0:00:03\n",
      "   ------- -------------------------------- 0.4/1.9 MB 791.2 kB/s eta 0:00:02\n",
      "   -------- ------------------------------- 0.4/1.9 MB 793.8 kB/s eta 0:00:02\n",
      "   --------- ------------------------------ 0.5/1.9 MB 805.0 kB/s eta 0:00:02\n",
      "   ---------- ----------------------------- 0.5/1.9 MB 827.5 kB/s eta 0:00:02\n",
      "   ----------- ---------------------------- 0.6/1.9 MB 846.7 kB/s eta 0:00:02\n",
      "   ------------ --------------------------- 0.6/1.9 MB 849.6 kB/s eta 0:00:02\n",
      "   ------------- -------------------------- 0.6/1.9 MB 865.0 kB/s eta 0:00:02\n",
      "   -------------- ------------------------- 0.7/1.9 MB 852.2 kB/s eta 0:00:02\n",
      "   --------------- ------------------------ 0.7/1.9 MB 865.7 kB/s eta 0:00:02\n",
      "   ---------------- ----------------------- 0.8/1.9 MB 877.7 kB/s eta 0:00:02\n",
      "   ----------------- ---------------------- 0.8/1.9 MB 888.5 kB/s eta 0:00:02\n",
      "   ------------------ --------------------- 0.9/1.9 MB 898.2 kB/s eta 0:00:02\n",
      "   ------------------- -------------------- 0.9/1.9 MB 886.9 kB/s eta 0:00:02\n",
      "   ------------------- -------------------- 0.9/1.9 MB 884.0 kB/s eta 0:00:02\n",
      "   ------------------- -------------------- 0.9/1.9 MB 884.0 kB/s eta 0:00:02\n",
      "   ---------------------- ----------------- 1.0/1.9 MB 894.7 kB/s eta 0:00:01\n",
      "   ----------------------- ---------------- 1.1/1.9 MB 902.3 kB/s eta 0:00:01\n",
      "   ------------------------ --------------- 1.1/1.9 MB 909.3 kB/s eta 0:00:01\n",
      "   ------------------------- -------------- 1.2/1.9 MB 900.0 kB/s eta 0:00:01\n",
      "   ------------------------- -------------- 1.2/1.9 MB 902.2 kB/s eta 0:00:01\n",
      "   --------------------------- ------------ 1.3/1.9 MB 912.8 kB/s eta 0:00:01\n",
      "   --------------------------- ------------ 1.3/1.9 MB 914.5 kB/s eta 0:00:01\n",
      "   ----------------------------- ---------- 1.4/1.9 MB 920.1 kB/s eta 0:00:01\n",
      "   ----------------------------- ---------- 1.4/1.9 MB 909.6 kB/s eta 0:00:01\n",
      "   ------------------------------- -------- 1.5/1.9 MB 915.0 kB/s eta 0:00:01\n",
      "   ------------------------------- -------- 1.5/1.9 MB 916.4 kB/s eta 0:00:01\n",
      "   -------------------------------- ------- 1.5/1.9 MB 921.4 kB/s eta 0:00:01\n",
      "   --------------------------------- ------ 1.6/1.9 MB 926.0 kB/s eta 0:00:01\n",
      "   ---------------------------------- ----- 1.6/1.9 MB 930.4 kB/s eta 0:00:01\n",
      "   ----------------------------------- ---- 1.7/1.9 MB 928.8 kB/s eta 0:00:01\n",
      "   ------------------------------------ --- 1.7/1.9 MB 929.9 kB/s eta 0:00:01\n",
      "   ------------------------------------- -- 1.8/1.9 MB 926.0 kB/s eta 0:00:01\n",
      "   -------------------------------------- - 1.8/1.9 MB 930.4 kB/s eta 0:00:01\n",
      "   ---------------------------------------  1.9/1.9 MB 934.2 kB/s eta 0:00:01\n",
      "   ---------------------------------------- 1.9/1.9 MB 932.3 kB/s eta 0:00:00\n",
      "Downloading wrapt-1.16.0-cp312-cp312-win_amd64.whl (37 kB)\n",
      "Using cached annotated_types-0.6.0-py3-none-any.whl (12 kB)\n",
      "Using cached typing_extensions-4.8.0-py3-none-any.whl (31 kB)\n",
      "Installing collected packages: wrapt, typing-extensions, typeguard, mypy-extensions, multimethod, annotated-types, typing-inspect, pydantic-core, pydantic, pandera\n",
      "Successfully installed annotated-types-0.6.0 multimethod-1.10 mypy-extensions-1.0.0 pandera-0.17.2 pydantic-2.5.2 pydantic-core-2.14.5 typeguard-4.1.5 typing-extensions-4.8.0 typing-inspect-0.9.0 wrapt-1.16.0\n",
      "Note: you may need to restart the kernel to use updated packages.\n"
     ]
    },
    {
     "name": "stderr",
     "output_type": "stream",
     "text": [
      "\n",
      "[notice] A new release of pip is available: 23.2.1 -> 23.3.1\n",
      "[notice] To update, run: python.exe -m pip install --upgrade pip\n"
     ]
    }
   ],
   "source": [
    "%pip install pandera "
   ]
  },
  {
   "cell_type": "code",
   "execution_count": null,
   "metadata": {},
   "outputs": [],
   "source": [
    "import pandas as pd\n",
    "import pandera as pa"
   ]
  },
  {
   "cell_type": "markdown",
   "metadata": {},
   "source": [
    "# DataFrame\n",
    "- In excel sheet - we call it sheet but in pandas we call it DataFrame\n",
    "- DataFrame depends on series\n",
    "\n",
    "## What are series?\n",
    "- In normal excel we call it column and in panda we call it series  \n",
    "- Series could be horizontal and vertical - horizontal series = rows and vertical series = column\n",
    "- Column name are called as column index and Row name are called as row index\n",
    "- Every cell has data and it's particular address \n",
    "- Data can be access into different ways - with column and row name 2B ( 2 is row name and B is column name)"
   ]
  },
  {
   "cell_type": "markdown",
   "metadata": {},
   "source": [
    "# Pandas Core Components\n",
    "* Series types\n",
    "* DataFrame types"
   ]
  },
  {
   "cell_type": "code",
   "execution_count": 5,
   "metadata": {},
   "outputs": [
    {
     "data": {
      "text/plain": [
       "0    1\n",
       "1    2\n",
       "2    3\n",
       "3    4\n",
       "4    5\n",
       "dtype: int64"
      ]
     },
     "execution_count": 5,
     "metadata": {},
     "output_type": "execute_result"
    }
   ],
   "source": [
    "# we can use list for creating series\n",
    "s1: pd.Series = pd.Series([1,2,3,4,5])\n",
    "s1"
   ]
  },
  {
   "cell_type": "code",
   "execution_count": 6,
   "metadata": {},
   "outputs": [
    {
     "ename": "TypeError",
     "evalue": "'set' type is unordered",
     "output_type": "error",
     "traceback": [
      "\u001b[1;31m---------------------------------------------------------------------------\u001b[0m",
      "\u001b[1;31mTypeError\u001b[0m                                 Traceback (most recent call last)",
      "\u001b[1;32md:\\solopreneur-journey\\Q4\\modern-python\\class17\\class17.ipynb Cell 7\u001b[0m line \u001b[0;36m2\n\u001b[0;32m      <a href='vscode-notebook-cell:/d%3A/solopreneur-journey/Q4/modern-python/class17/class17.ipynb#X15sZmlsZQ%3D%3D?line=0'>1</a>\u001b[0m \u001b[39m# we can use set for creating series\u001b[39;00m\n\u001b[1;32m----> <a href='vscode-notebook-cell:/d%3A/solopreneur-journey/Q4/modern-python/class17/class17.ipynb#X15sZmlsZQ%3D%3D?line=1'>2</a>\u001b[0m s1: pd\u001b[39m.\u001b[39mSeries \u001b[39m=\u001b[39m pd\u001b[39m.\u001b[39;49mSeries({\u001b[39m1\u001b[39;49m,\u001b[39m2\u001b[39;49m,\u001b[39m3\u001b[39;49m,\u001b[39m4\u001b[39;49m,\u001b[39m5\u001b[39;49m})\n\u001b[0;32m      <a href='vscode-notebook-cell:/d%3A/solopreneur-journey/Q4/modern-python/class17/class17.ipynb#X15sZmlsZQ%3D%3D?line=2'>3</a>\u001b[0m s1\n",
      "File \u001b[1;32mc:\\Users\\wania\\AppData\\Local\\Programs\\Python\\Python312\\Lib\\site-packages\\pandas\\core\\series.py:512\u001b[0m, in \u001b[0;36mSeries.__init__\u001b[1;34m(self, data, index, dtype, name, copy, fastpath)\u001b[0m\n\u001b[0;32m    510\u001b[0m         data \u001b[39m=\u001b[39m data\u001b[39m.\u001b[39mcopy()\n\u001b[0;32m    511\u001b[0m \u001b[39melse\u001b[39;00m:\n\u001b[1;32m--> 512\u001b[0m     data \u001b[39m=\u001b[39m sanitize_array(data, index, dtype, copy)\n\u001b[0;32m    514\u001b[0m     manager \u001b[39m=\u001b[39m get_option(\u001b[39m\"\u001b[39m\u001b[39mmode.data_manager\u001b[39m\u001b[39m\"\u001b[39m)\n\u001b[0;32m    515\u001b[0m     \u001b[39mif\u001b[39;00m manager \u001b[39m==\u001b[39m \u001b[39m\"\u001b[39m\u001b[39mblock\u001b[39m\u001b[39m\"\u001b[39m:\n",
      "File \u001b[1;32mc:\\Users\\wania\\AppData\\Local\\Programs\\Python\\Python312\\Lib\\site-packages\\pandas\\core\\construction.py:619\u001b[0m, in \u001b[0;36msanitize_array\u001b[1;34m(data, index, dtype, copy, allow_2d)\u001b[0m\n\u001b[0;32m    610\u001b[0m     \u001b[39mreturn\u001b[39;00m sanitize_array(\n\u001b[0;32m    611\u001b[0m         data,\n\u001b[0;32m    612\u001b[0m         index\u001b[39m=\u001b[39mindex,\n\u001b[1;32m   (...)\u001b[0m\n\u001b[0;32m    615\u001b[0m         allow_2d\u001b[39m=\u001b[39mallow_2d,\n\u001b[0;32m    616\u001b[0m     )\n\u001b[0;32m    618\u001b[0m \u001b[39melse\u001b[39;00m:\n\u001b[1;32m--> 619\u001b[0m     _sanitize_non_ordered(data)\n\u001b[0;32m    620\u001b[0m     \u001b[39m# materialize e.g. generators, convert e.g. tuples, abc.ValueView\u001b[39;00m\n\u001b[0;32m    621\u001b[0m     data \u001b[39m=\u001b[39m \u001b[39mlist\u001b[39m(data)\n",
      "File \u001b[1;32mc:\\Users\\wania\\AppData\\Local\\Programs\\Python\\Python312\\Lib\\site-packages\\pandas\\core\\construction.py:670\u001b[0m, in \u001b[0;36m_sanitize_non_ordered\u001b[1;34m(data)\u001b[0m\n\u001b[0;32m    666\u001b[0m \u001b[39m\u001b[39m\u001b[39m\"\"\"\u001b[39;00m\n\u001b[0;32m    667\u001b[0m \u001b[39mRaise only for unordered sets, e.g., not for dict_keys\u001b[39;00m\n\u001b[0;32m    668\u001b[0m \u001b[39m\"\"\"\u001b[39;00m\n\u001b[0;32m    669\u001b[0m \u001b[39mif\u001b[39;00m \u001b[39misinstance\u001b[39m(data, (\u001b[39mset\u001b[39m, \u001b[39mfrozenset\u001b[39m)):\n\u001b[1;32m--> 670\u001b[0m     \u001b[39mraise\u001b[39;00m \u001b[39mTypeError\u001b[39;00m(\u001b[39mf\u001b[39m\u001b[39m\"\u001b[39m\u001b[39m'\u001b[39m\u001b[39m{\u001b[39;00m\u001b[39mtype\u001b[39m(data)\u001b[39m.\u001b[39m\u001b[39m__name__\u001b[39m\u001b[39m}\u001b[39;00m\u001b[39m'\u001b[39m\u001b[39m type is unordered\u001b[39m\u001b[39m\"\u001b[39m)\n",
      "\u001b[1;31mTypeError\u001b[0m: 'set' type is unordered"
     ]
    }
   ],
   "source": [
    "# we cannot use set for creating series\n",
    "s1: pd.Series = pd.Series({1,2,3,4,5})\n",
    "s1"
   ]
  },
  {
   "cell_type": "code",
   "execution_count": 7,
   "metadata": {},
   "outputs": [
    {
     "data": {
      "text/plain": [
       "0    1\n",
       "1    2\n",
       "2    3\n",
       "3    4\n",
       "4    5\n",
       "dtype: int64"
      ]
     },
     "execution_count": 7,
     "metadata": {},
     "output_type": "execute_result"
    }
   ],
   "source": [
    "# we can use Tuple for creating series\n",
    "s1: pd.Series = pd.Series((1,2,3,4,5))\n",
    "s1 #on left side there are index that start from 0 and on right side there is and datatype is also visible  but in simple list we cant see that"
   ]
  },
  {
   "cell_type": "code",
   "execution_count": 8,
   "metadata": {},
   "outputs": [
    {
     "data": {
      "text/plain": [
       "[1, 2, 3, 4, 5]"
      ]
     },
     "execution_count": 8,
     "metadata": {},
     "output_type": "execute_result"
    }
   ],
   "source": [
    "li : list = [1,2,3,4,5]\n",
    "li"
   ]
  },
  {
   "cell_type": "code",
   "execution_count": 10,
   "metadata": {},
   "outputs": [
    {
     "data": {
      "text/plain": [
       "a    10\n",
       "b    20\n",
       "c    30\n",
       "dtype: int64"
      ]
     },
     "execution_count": 10,
     "metadata": {},
     "output_type": "execute_result"
    }
   ],
   "source": [
    "# we can use Dictionary for creating series\n",
    "s1: pd.Series = pd.Series({\"a\":10, \"b\":20, \"c\":30})\n",
    "s1 # on left side there is indexing which is replaced from numerical value to 0,1,2 to a,b,c and on right side there is value"
   ]
  },
  {
   "cell_type": "code",
   "execution_count": 11,
   "metadata": {},
   "outputs": [
    {
     "data": {
      "text/plain": [
       "a    1\n",
       "b    2\n",
       "c    3\n",
       "d    4\n",
       "e    5\n",
       "dtype: int64"
      ]
     },
     "execution_count": 11,
     "metadata": {},
     "output_type": "execute_result"
    }
   ],
   "source": [
    "values : list[int] = [1,2,3,4,5]\n",
    "index1 : list[str] = ['a','b','c','d','e']\n",
    "\n",
    "s1: pd.Series = pd.Series(values, index = index1)\n",
    "s1"
   ]
  },
  {
   "cell_type": "markdown",
   "metadata": {},
   "source": [
    "### Group by\n",
    "we can also create a multiple index to group-by our data"
   ]
  },
  {
   "cell_type": "code",
   "execution_count": 16,
   "metadata": {},
   "outputs": [
    {
     "data": {
      "text/plain": [
       "a1  a    1\n",
       "    b    2\n",
       "    c    3\n",
       "b   d    4\n",
       "b1  e    5\n",
       "dtype: int64"
      ]
     },
     "execution_count": 16,
     "metadata": {},
     "output_type": "execute_result"
    }
   ],
   "source": [
    "#we define multi index here\n",
    "values : list[int] = [1,2,3,4,5]\n",
    "index1 : list[list[str]] = [['a1','a1','a1','b','b1'],\n",
    "                      ['a','b','c','d','e']]\n",
    "\n",
    "s1: pd.Series = pd.Series(values, index = index1)\n",
    "s1"
   ]
  },
  {
   "cell_type": "markdown",
   "metadata": {},
   "source": [
    "### change the type name"
   ]
  },
  {
   "cell_type": "code",
   "execution_count": 17,
   "metadata": {},
   "outputs": [
    {
     "data": {
      "text/plain": [
       "a1  a    1\n",
       "    b    2\n",
       "    c    3\n",
       "b   d    4\n",
       "b1  e    5\n",
       "Name: Student_data, dtype: int64"
      ]
     },
     "execution_count": 17,
     "metadata": {},
     "output_type": "execute_result"
    }
   ],
   "source": [
    "#we define multi index here\n",
    "values : list[int] = [1,2,3,4,5]\n",
    "index1 : list[list[str]] = [['a1','a1','a1','b','b1'],\n",
    "                      ['a','b','c','d','e']]\n",
    "\n",
    "s1: pd.Series = pd.Series(values, \n",
    "                          index = index1, \n",
    "                          name = \"Student_data\")\n",
    "s1"
   ]
  }
 ],
 "metadata": {
  "kernelspec": {
   "display_name": "Python 3",
   "language": "python",
   "name": "python3"
  },
  "language_info": {
   "codemirror_mode": {
    "name": "ipython",
    "version": 3
   },
   "file_extension": ".py",
   "mimetype": "text/x-python",
   "name": "python",
   "nbconvert_exporter": "python",
   "pygments_lexer": "ipython3",
   "version": "3.12.0"
  }
 },
 "nbformat": 4,
 "nbformat_minor": 2
}

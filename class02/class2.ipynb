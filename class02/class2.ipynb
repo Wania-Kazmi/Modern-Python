{
 "cells": [
  {
   "cell_type": "markdown",
   "metadata": {},
   "source": [
    "## String in Python"
   ]
  },
  {
   "cell_type": "code",
   "execution_count": 8,
   "metadata": {},
   "outputs": [
    {
     "name": "stdout",
     "output_type": "stream",
     "text": [
      "type of name is:  <class 'str'>\n",
      "name is: wania\n"
     ]
    }
   ],
   "source": [
    "# boundries \n",
    "# 'string text', \"string text\", '''string text''', \"\"\" string text \"\"\"\n",
    "# `this back tick doesnot work here`\n",
    " \n",
    "name : str = \"\"\"wania\"\"\"\n",
    "print(\"type of name is: \", type(name))\n",
    "print(\"name is:\", name)"
   ]
  },
  {
   "cell_type": "markdown",
   "metadata": {},
   "source": [
    "## why we need triple quotation marks in string"
   ]
  },
  {
   "cell_type": "code",
   "execution_count": 11,
   "metadata": {},
   "outputs": [
    {
     "name": "stdout",
     "output_type": "stream",
     "text": [
      "string quotation is:  PIAIC student card \n",
      " father's name\n"
     ]
    }
   ],
   "source": [
    "string_quotation : str = 'PIAIC student card \\n father\\'s name'\n",
    "print(\"string quotation is: \",string_quotation)"
   ]
  },
  {
   "cell_type": "markdown",
   "metadata": {},
   "source": [
    "## concatination in string"
   ]
  },
  {
   "cell_type": "code",
   "execution_count": 12,
   "metadata": {},
   "outputs": [
    {
     "name": "stdout",
     "output_type": "stream",
     "text": [
      "waniakazmi\n"
     ]
    }
   ],
   "source": [
    "#does work with string \n",
    "a = \"wania\"\n",
    "b = \"kazmi\"\n",
    "\n",
    "print(a + b)"
   ]
  },
  {
   "cell_type": "markdown",
   "metadata": {},
   "source": [
    "## typecasting"
   ]
  },
  {
   "cell_type": "code",
   "execution_count": 15,
   "metadata": {},
   "outputs": [
    {
     "name": "stdout",
     "output_type": "stream",
     "text": [
      "wania12\n"
     ]
    }
   ],
   "source": [
    "# doesnot work with int - both type should be of same datatype\n",
    "a1 = \"wania\"\n",
    "# b = 12 - conver it into string for concatination\n",
    "#b = \"12\"\n",
    "# or do typcasting of b\n",
    "b = str(12)\n",
    "print(a + b)\n"
   ]
  },
  {
   "cell_type": "markdown",
   "metadata": {},
   "source": [
    "# \"\\\\\" for line continue"
   ]
  },
  {
   "cell_type": "code",
   "execution_count": 27,
   "metadata": {},
   "outputs": [
    {
     "name": "stdout",
     "output_type": "stream",
     "text": [
      "17\n",
      "17\n"
     ]
    }
   ],
   "source": [
    "print( 7 + 8 + 2)\n",
    "#used for line contineuation - used when your print line is long\n",
    "print (7 + \\\n",
    "        8 + \\\n",
    "        2)"
   ]
  },
  {
   "cell_type": "markdown",
   "metadata": {},
   "source": [
    "## Define multiline string, \"\"\" \"\"\", ''' '''"
   ]
  },
  {
   "cell_type": "code",
   "execution_count": 31,
   "metadata": {},
   "outputs": [
    {
     "name": "stdout",
     "output_type": "stream",
     "text": [
      " \n",
      "PIAIC Student Card\n",
      "Student name: ...\n",
      "Father's name: ...\n",
      "Education: ...\n",
      "Age: ...\n",
      "\n"
     ]
    }
   ],
   "source": [
    "# when your print line is large we use \"\"\" \"\"\", ''' '''\n",
    "fname : str = \"Wania\"\n",
    "lname : str = \"Kazmi\"\n",
    "father_name : str = \"Ejaz Hussain\"\n",
    "education : str = \"Bachelors in Computer Science\"\n",
    "age : int = 25\n",
    "\n",
    "card : str = \"\"\" \n",
    "PIAIC Student Card\n",
    "Student name: ...\n",
    "Father's name: ...\n",
    "Education: ...\n",
    "Age: ...\n",
    "\"\"\"\n",
    "print(card)"
   ]
  },
  {
   "cell_type": "markdown",
   "metadata": {},
   "source": [
    "## f-string"
   ]
  },
  {
   "cell_type": "code",
   "execution_count": 36,
   "metadata": {},
   "outputs": [
    {
     "name": "stdout",
     "output_type": "stream",
     "text": [
      " \n",
      "PIAIC Student Card\n",
      "Student name: WaniaKazmi\n",
      "Father's name: Ejaz Hussain\n",
      "Education: Bachelors in Computer Science\n",
      "Age: 25 \n",
      "\n",
      "\n",
      "PIAIC Student Card\n",
      "Student name: WaniaKazmi\n",
      "Father's name: Ejaz Hussain\n",
      "Education: Bachelors in Computer Science\n",
      "Age: 25 \n",
      "\n",
      "Total = 13\n",
      "\n"
     ]
    }
   ],
   "source": [
    "fname : str = \"Wania\"\n",
    "lname : str = \"Kazmi\"\n",
    "father_name : str = \"Ejaz Hussain\"\n",
    "education : str = \"Bachelors in Computer Science\"\n",
    "age : int = 25\n",
    "\n",
    "# notice that here we dont need to typecast age into string for concatination which is benefit of f-string\n",
    "\n",
    "card : str = f\"\"\" \n",
    "PIAIC Student Card\n",
    "Student name: {fname + lname}\n",
    "Father's name: {father_name}\n",
    "Education: {education}\n",
    "Age: {age} \n",
    "\"\"\"\n",
    "print(card)\n",
    "\n",
    "#or it could be this way - back ticks doesnot work here\n",
    "\n",
    "card1 : str = f'''\n",
    "PIAIC Student Card\n",
    "Student name: {fname + lname}\n",
    "Father's name: {father_name}\n",
    "Education: {education}\n",
    "Age: {age} \n",
    "'''\n",
    "\n",
    "# print(card1)\n",
    "\n",
    "# you can also add expressions inside the f-string like \n",
    "card2 : str = f'''\n",
    "PIAIC Student Card\n",
    "Student name: {fname + lname}\n",
    "Father's name: {father_name}\n",
    "Education: {education}\n",
    "Age: {age} \n",
    "\n",
    "Total = {2 + 3 + 8}\n",
    "'''\n",
    "print(card2)"
   ]
  },
  {
   "cell_type": "markdown",
   "metadata": {},
   "source": [
    "## In Django or flask when we place variable in HTML document we do formating with the help of f-string & Jinja style"
   ]
  },
  {
   "cell_type": "markdown",
   "metadata": {},
   "source": [
    "* f-string\n",
    "* Jinja Style "
   ]
  },
  {
   "cell_type": "code",
   "execution_count": 37,
   "metadata": {},
   "outputs": [
    {
     "name": "stdout",
     "output_type": "stream",
     "text": [
      "f string value can be supported like this: wania\n",
      "\n",
      "Student name in Jinja style: {{name}}\n",
      "\n"
     ]
    }
   ],
   "source": [
    "#f-string\n",
    "value1 : str = f\"\"\"f string value can be supported like this: {name}\"\"\"\n",
    "print(value1)\n",
    "\n",
    "#Jinja style\n",
    "value2 : str = f\"\"\"\n",
    "Student name in Jinja style: {{name}}\n",
    "\"\"\"\n",
    "print(value2)"
   ]
  },
  {
   "cell_type": "code",
   "execution_count": 41,
   "metadata": {},
   "outputs": [
    {
     "name": "stdout",
     "output_type": "stream",
     "text": [
      "\n",
      "PIAIC Student Card\n",
      "Student name: Wania Kazmi\n",
      "Father's name: Ejaz Hussain\n",
      "Education: Bachelors in Computer Science\n",
      "Age: 25 \n",
      "\n",
      "\n"
     ]
    }
   ],
   "source": [
    "#we can also write it something like that - not very recommended\n",
    "card : str = f'''\n",
    "PIAIC Student Card\n",
    "Student name: %s\n",
    "Father's name: %s\n",
    "Education: %s\n",
    "Age: %d \n",
    "\n",
    "''' % (fname +\" \"+lname, father_name, education, age)\n",
    "print(card)"
   ]
  },
  {
   "cell_type": "markdown",
   "metadata": {},
   "source": [
    "## string methods\n"
   ]
  },
  {
   "cell_type": "code",
   "execution_count": 45,
   "metadata": {},
   "outputs": [
    {
     "data": {
      "text/plain": [
       "['capitalize',\n",
       " 'casefold',\n",
       " 'center',\n",
       " 'count',\n",
       " 'encode',\n",
       " 'endswith',\n",
       " 'expandtabs',\n",
       " 'find',\n",
       " 'format',\n",
       " 'format_map',\n",
       " 'index',\n",
       " 'isalnum',\n",
       " 'isalpha',\n",
       " 'isascii',\n",
       " 'isdecimal',\n",
       " 'isdigit',\n",
       " 'isidentifier',\n",
       " 'islower',\n",
       " 'isnumeric',\n",
       " 'isprintable',\n",
       " 'isspace',\n",
       " 'istitle',\n",
       " 'isupper',\n",
       " 'join',\n",
       " 'ljust',\n",
       " 'lower',\n",
       " 'lstrip',\n",
       " 'maketrans',\n",
       " 'partition',\n",
       " 'removeprefix',\n",
       " 'removesuffix',\n",
       " 'replace',\n",
       " 'rfind',\n",
       " 'rindex',\n",
       " 'rjust',\n",
       " 'rpartition',\n",
       " 'rsplit',\n",
       " 'rstrip',\n",
       " 'split',\n",
       " 'splitlines',\n",
       " 'startswith',\n",
       " 'strip',\n",
       " 'swapcase',\n",
       " 'title',\n",
       " 'translate',\n",
       " 'upper',\n",
       " 'zfill']"
      ]
     },
     "execution_count": 45,
     "metadata": {},
     "output_type": "execute_result"
    }
   ],
   "source": [
    "dir(str)\n",
    "[i for i in dir(str) if \"__\" not in i]\n"
   ]
  },
  {
   "cell_type": "code",
   "execution_count": 59,
   "metadata": {},
   "outputs": [
    {
     "name": "stdout",
     "output_type": "stream",
     "text": [
      "Wania kazmi\n",
      "wania kazmi\n",
      "\n",
      "PIAIC Student Card\n",
      "Student name: Wania\n",
      "Father's name: Ejaz Hussain\n",
      "Education: Bachelors in Computer Science\n",
      "Age: 25\n",
      "\n",
      "\n",
      "\n",
      "PIAIC Student Card\n",
      "Student name: Wania Kazmi\n",
      "Father's name: Ejaz Hussain\n",
      "Education: Bachelors in Computer Science\n",
      "Age: 25\n",
      "\n",
      "\n"
     ]
    }
   ],
   "source": [
    "name1 : str = \"WaNiA kAZmI\"\n",
    "print(name1.capitalize())\n",
    "print(name1.casefold())\n",
    "# print(name1.center(0))\n",
    "a = 3\n",
    "b = 6\n",
    "\n",
    "#                   0 index          1 index     0,1  - this format method is part of f string\n",
    "\"Pakistan value a = {} and value b = {} \".format(a,b)\n",
    "\n",
    "# we can specify indexes and then can change their order\n",
    "\n",
    "card : str = '''\n",
    "PIAIC Student Card\n",
    "Student name: {1}\n",
    "Father's name: {0}\n",
    "Education: {3}\n",
    "Age: {2}\n",
    "\n",
    "'''.format(father_name, fname, age, education)\n",
    "#             0          1      2     3\n",
    "print(card)\n",
    "\n",
    "card1 : str = '''\n",
    "PIAIC Student Card\n",
    "Student name: {a}\n",
    "Father's name: {b}\n",
    "Education: {c}\n",
    "Age: {d}\n",
    "\n",
    "'''.format(b = father_name, a = fname +\" \"+ lname, d = age, c = education)\n",
    "#             0          1      2     3\n",
    "print(card1)\n"
   ]
  },
  {
   "cell_type": "code",
   "execution_count": 65,
   "metadata": {},
   "outputs": [
    {
     "name": "stdout",
     "output_type": "stream",
     "text": [
      "My name is Wania\n",
      "Sum result is: 9\n"
     ]
    }
   ],
   "source": [
    "#here we can run student code and check their result output\n",
    "\n",
    "student_code : str = \"\"\"\n",
    "print(\"My name is Wania\")\n",
    "a : int = 3\n",
    "b : int = 6\n",
    "sum : int = a + b\n",
    "print(\"Sum result is:\",sum)\n",
    "\"\"\" \n",
    "exec(student_code)"
   ]
  },
  {
   "cell_type": "markdown",
   "metadata": {},
   "source": [
    "# Explore string methods and attributes\n",
    "\n",
    "## pre-define global functions we have used\n",
    "* print\n",
    "* type\n",
    "* id \n",
    "* dir\n",
    "* len()"
   ]
  },
  {
   "cell_type": "code",
   "execution_count": 67,
   "metadata": {},
   "outputs": [
    {
     "name": "stdout",
     "output_type": "stream",
     "text": [
      "['capitalize', 'casefold', 'center', 'count', 'encode', 'endswith', 'expandtabs', 'find', 'format', 'format_map', 'index', 'isalnum', 'isalpha', 'isascii', 'isdecimal', 'isdigit', 'isidentifier', 'islower', 'isnumeric', 'isprintable', 'isspace', 'istitle', 'isupper', 'join', 'ljust', 'lower', 'lstrip', 'maketrans', 'partition', 'removeprefix', 'removesuffix', 'replace', 'rfind', 'rindex', 'rjust', 'rpartition', 'rsplit', 'rstrip', 'split', 'splitlines', 'startswith', 'strip', 'swapcase', 'title', 'translate', 'upper', 'zfill']\n",
      "47\n"
     ]
    }
   ],
   "source": [
    "a : list[str] = [i for i in dir(str) if \"__\" not in i]\n",
    "print(a)\n",
    "print(len(a))"
   ]
  },
  {
   "cell_type": "code",
   "execution_count": 75,
   "metadata": {},
   "outputs": [
    {
     "data": {
      "text/plain": [
       "'     Wania       Kazmi     '"
      ]
     },
     "metadata": {},
     "output_type": "display_data"
    },
    {
     "data": {
      "text/plain": [
       "'Wania       Kazmi     '"
      ]
     },
     "metadata": {},
     "output_type": "display_data"
    },
    {
     "data": {
      "text/plain": [
       "'     Wania       Kazmi'"
      ]
     },
     "metadata": {},
     "output_type": "display_data"
    },
    {
     "data": {
      "text/plain": [
       "'Wania       Kazmi'"
      ]
     },
     "metadata": {},
     "output_type": "display_data"
    }
   ],
   "source": [
    "name : str = \"     Wania       Kazmi     \"\n",
    "# print(name)\n",
    "# remove all spaces from left side\n",
    "# print(name.lstrip())\n",
    "\n",
    "# display function is better than print\n",
    "display(name)\n",
    "display(name.lstrip())\n",
    "display(name.rstrip())\n",
    "display(name.strip())\n",
    "\n",
    "# to remove the middle spaces we use regix"
   ]
  },
  {
   "cell_type": "code",
   "execution_count": 77,
   "metadata": {},
   "outputs": [
    {
     "name": "stdout",
     "output_type": "stream",
     "text": [
      "      Wania      Kazmi     \n"
     ]
    },
    {
     "data": {
      "text/plain": [
       "' Wania Kazmi '"
      ]
     },
     "metadata": {},
     "output_type": "display_data"
    },
    {
     "data": {
      "text/plain": [
       "'Wania Kazmi'"
      ]
     },
     "metadata": {},
     "output_type": "display_data"
    }
   ],
   "source": [
    "#to remove all the extra spaces: we will import re (regular expression)\n",
    "import re \n",
    "name : str = \"      Wania      Kazmi     \"\n",
    "print(name)\n",
    "\n",
    "#re.substitute include 3 things as a parameter - pattern, replacement, variable you want to change\n",
    "name1 : str = re.sub(' {2,100}',' ',name)\n",
    "display(name1)\n",
    "display(name1.strip())\n"
   ]
  }
 ],
 "metadata": {
  "kernelspec": {
   "display_name": "Python 3",
   "language": "python",
   "name": "python3"
  },
  "language_info": {
   "codemirror_mode": {
    "name": "ipython",
    "version": 3
   },
   "file_extension": ".py",
   "mimetype": "text/x-python",
   "name": "python",
   "nbconvert_exporter": "python",
   "pygments_lexer": "ipython3",
   "version": "3.12.0"
  }
 },
 "nbformat": 4,
 "nbformat_minor": 2
}

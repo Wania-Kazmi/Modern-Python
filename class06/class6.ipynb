{
 "cells": [
  {
   "cell_type": "markdown",
   "id": "99815d26-3c64-4c5c-b8d7-b0b15b9df0de",
   "metadata": {},
   "source": [
    "# if-else-elif\n",
    "```\n",
    "if logic:\n",
    "    True block\n",
    "else:\n",
    "    False block\n",
    "```\n",
    "## Comprehensive if-else style:\n",
    "```\n",
    "True block if logic else False block\n",
    "```\n",
    "## Possible combination of if-else and elif\n",
    "* if\n",
    "* if-else\n",
    "* if-elif-else"
   ]
  },
  {
   "cell_type": "code",
   "execution_count": 1,
   "id": "7d6c657e-b3ad-479f-9dec-8100a76f2e7c",
   "metadata": {},
   "outputs": [
    {
     "name": "stdout",
     "output_type": "stream",
     "text": [
      "Pakistan zindabad\n"
     ]
    }
   ],
   "source": [
    "if True:\n",
    "    print(\"Pakistan zindabad\")\n",
    "else:\n",
    "    print(\"Hello world\")"
   ]
  },
  {
   "cell_type": "code",
   "execution_count": 2,
   "id": "2c293287-b553-410c-8ecd-112455c8ee41",
   "metadata": {},
   "outputs": [
    {
     "name": "stdout",
     "output_type": "stream",
     "text": [
      "Hello world\n"
     ]
    }
   ],
   "source": [
    "if False:\n",
    "    print(\"Pakistan zindabad\")\n",
    "else:\n",
    "    print(\"Hello world\")"
   ]
  },
  {
   "cell_type": "code",
   "execution_count": 3,
   "id": "bc6bc700-ada2-4b43-9bc3-f57f62e5ac91",
   "metadata": {},
   "outputs": [
    {
     "name": "stdout",
     "output_type": "stream",
     "text": [
      "Hello world\n"
     ]
    }
   ],
   "source": [
    "#      true_block           condition         false_block\n",
    "print(\"Pakistan zindabad\") if False else  print(\"Hello world\")"
   ]
  },
  {
   "cell_type": "code",
   "execution_count": 4,
   "id": "dae68fee-f569-447a-9bec-9cc5b622d5d2",
   "metadata": {},
   "outputs": [
    {
     "name": "stdout",
     "output_type": "stream",
     "text": [
      "Pakistan zindabad\n"
     ]
    }
   ],
   "source": [
    "#      true_block           condition         false_block\n",
    "print(\"Pakistan zindabad\") if True else  print(\"Hello world\")"
   ]
  },
  {
   "cell_type": "markdown",
   "id": "62f5e4fa-3cb1-4bdb-995d-77f78befd203",
   "metadata": {},
   "source": [
    "# Comparison Operator\n",
    "* `==`\n",
    "* `>=`\n",
    "* `<=`\n",
    "* `!=`\n",
    "# Logical Operator\n",
    "* `and`\n",
    "* `or`\n",
    "* `not`"
   ]
  },
  {
   "cell_type": "code",
   "execution_count": 7,
   "id": "6caab91a-ab82-4dcc-bb5f-eb7b2e57d592",
   "metadata": {},
   "outputs": [
    {
     "name": "stdout",
     "output_type": "stream",
     "text": [
      "Logic 3\n"
     ]
    }
   ],
   "source": [
    "#chain run only one block\n",
    "if False:\n",
    "    print(\"Logic 1\")\n",
    "elif False:\n",
    "    print(\"Logic 2\")\n",
    "elif True:\n",
    "    print(\"Logic 3\")\n",
    "elif False:\n",
    "    print(\"Logic 4\")\n",
    "else:\n",
    "    print(\"Logic 5\")"
   ]
  },
  {
   "cell_type": "code",
   "execution_count": 1,
   "metadata": {},
   "outputs": [
    {
     "name": "stdout",
     "output_type": "stream",
     "text": [
      "elif logic2\n",
      "final else block\n",
      "Pakistan\n"
     ]
    }
   ],
   "source": [
    "# chain1 run only one block \n",
    "if False:\n",
    "    print(\"True_block\")\n",
    "elif False:\n",
    "    print(\"elif logic1\")\n",
    "elif True:\n",
    "    print(\"elif logic2\")\n",
    "elif True:\n",
    "    print(\"elif logic3\")\n",
    "else:\n",
    "    print(\"final else block\")\n",
    "\n",
    "# chain2 run only one block \n",
    "if False:\n",
    "    print(\"True_block\")\n",
    "elif False:\n",
    "    print(\"elif logic1\")\n",
    "elif False:\n",
    "    print(\"elif logic2\")\n",
    "elif False:\n",
    "    print(\"elif logic3\")\n",
    "else:\n",
    "    print(\"final else block\")\n",
    "\n",
    "print(\"Pakistan\")"
   ]
  },
  {
   "cell_type": "code",
   "execution_count": 13,
   "id": "665b8671-86fb-49b5-946b-d4bfce0112e1",
   "metadata": {},
   "outputs": [
    {
     "name": "stdout",
     "output_type": "stream",
     "text": [
      "Enter your percentage 99\n"
     ]
    },
    {
     "name": "stdout",
     "output_type": "stream",
     "text": [
      "Your percentage is 99 and your grade is: A+\n"
     ]
    }
   ],
   "source": [
    "#we have different methods to write multiple data type options\n",
    "from typing import Union, Optional\n",
    "\n",
    "per: Union[int, float] = int(input(\"Enter your percentage\"))\n",
    "per: int | float = int(input(\"Enter your percentage\"))\n",
    "grade: Optional[str] = None\n",
    "\n",
    "if per >= 90:\n",
    "    grade = \"A+\"\n",
    "elif per >= 85:\n",
    "    grade = \"A\"\n",
    "elif per >= 80:\n",
    "    grade = \"B+\"\n",
    "elif per >= 75:\n",
    "    grade = \"B\"\n",
    "elif per >= 70:\n",
    "    grade = \"C+\"\n",
    "elif per >= 65:\n",
    "    grade = \"C\"\n",
    "elif per >= 60:\n",
    "    grade = \"D\"\n",
    "else:\n",
    "    grade = \"Fail\"\n",
    "    \n",
    "print(f\"Your percentage is {per} and your grade is: {grade}\")"
   ]
  },
  {
   "cell_type": "code",
   "execution_count": 4,
   "metadata": {},
   "outputs": [
    {
     "name": "stdout",
     "output_type": "stream",
     "text": [
      "['wania', 'arzak', 'roma']\n"
     ]
    }
   ],
   "source": [
    "g = [\"arzak\",\"wania\",\"arzak\",\"roma\"]\n",
    "g.remove(\"arzak\")\n",
    "print(g)"
   ]
  },
  {
   "cell_type": "code",
   "execution_count": 14,
   "id": "df3dd9af-a2fa-42fb-bf9c-029e495b1a3a",
   "metadata": {},
   "outputs": [
    {
     "name": "stdout",
     "output_type": "stream",
     "text": [
      "['A', 'B+', 'A+', 'Fail', 'C']\n"
     ]
    }
   ],
   "source": [
    "from typing import Union \n",
    "\n",
    "# alias\n",
    "PerType = Union[float, int]\n",
    "\n",
    "percentages: list[PerType] = [88, 82.3, 90, 54, 65.72]\n",
    "\n",
    "grades: list[str] = []\n",
    "\n",
    "for student_percentage in percentages: \n",
    "    if student_percentage >= 90:\n",
    "        grade = \"A+\"\n",
    "        grades.append(grade)\n",
    "    elif student_percentage >= 85:\n",
    "        grade = \"A\"\n",
    "        grades.append(grade)\n",
    "    elif student_percentage >= 80:\n",
    "        grade = \"B+\"\n",
    "        grades.append(grade)\n",
    "    elif student_percentage >= 75:\n",
    "        grade = \"B\"\n",
    "        grades.append(grade)\n",
    "    elif student_percentage >= 70:\n",
    "        grade = \"C+\"\n",
    "        grades.append(grade)\n",
    "    elif student_percentage >= 65:\n",
    "        grade = \"C\"\n",
    "        grades.append(grade)\n",
    "    elif student_percentage >= 60:\n",
    "        grade = \"D\"\n",
    "        grades.append(grade)\n",
    "    else:\n",
    "        grade = \"Fail\"\n",
    "        grades.append(grade)\n",
    "print(grades)\n",
    "\n"
   ]
  },
  {
   "cell_type": "markdown",
   "id": "8a0cbdcf-209c-4102-a427-162dc196be3c",
   "metadata": {},
   "source": [
    "# Now zipping the above result using zip() method\n",
    "\n"
   ]
  },
  {
   "cell_type": "code",
   "execution_count": 18,
   "id": "65a9a0fb-9a23-429e-84af-3d9581992084",
   "metadata": {},
   "outputs": [
    {
     "name": "stdout",
     "output_type": "stream",
     "text": [
      "[(88, 'A'), (82.3, 'B+'), (90, 'A+'), (54, 'Fail'), (65.72, 'C')]\n",
      "[(88, 'A', 0), (82.3, 'B+', 1), (90, 'A+', 2), (54, 'Fail', 3), (65.72, 'C', 4)]\n"
     ]
    }
   ],
   "source": [
    "\n",
    "#zipping\n",
    "\n",
    "print(list(zip(percentages, grades)))\n",
    "print(list(zip(percentages, grades, list(range(len(percentages))))))"
   ]
  },
  {
   "cell_type": "code",
   "execution_count": 22,
   "id": "7ccd47e9-b90d-4b91-8025-c8c7d54b546e",
   "metadata": {},
   "outputs": [
    {
     "name": "stdout",
     "output_type": "stream",
     "text": [
      "[0, 1, 2, 3, 4]\n"
     ]
    }
   ],
   "source": [
    "range(len(percentages))\n",
    "roll_no = list(range(len(percentages)))\n",
    "print(roll_no)"
   ]
  },
  {
   "cell_type": "code",
   "execution_count": 23,
   "id": "1aac88bc-bbfe-4f4f-921b-14d3f2509e9a",
   "metadata": {},
   "outputs": [
    {
     "data": {
      "text/plain": [
       "[(0, 88, 'A'),\n",
       " (1, 82.3, 'B+'),\n",
       " (2, 90, 'A+'),\n",
       " (3, 54, 'Fail'),\n",
       " (4, 65.72, 'C')]"
      ]
     },
     "execution_count": 23,
     "metadata": {},
     "output_type": "execute_result"
    }
   ],
   "source": [
    "# zipping everything\n",
    "database = list(zip(roll_no, percentages, grades))"
   ]
  },
  {
   "cell_type": "code",
   "execution_count": 25,
   "id": "38c1d0c3-38ea-4549-9c38-563b148ef2ed",
   "metadata": {},
   "outputs": [
    {
     "data": {
      "text/plain": [
       "[(0, 88, 'A'),\n",
       " (1, 82.3, 'B+'),\n",
       " (2, 90, 'A+'),\n",
       " (3, 54, 'Fail'),\n",
       " (4, 65.72, 'C')]"
      ]
     },
     "metadata": {},
     "output_type": "display_data"
    },
    {
     "data": {
      "text/plain": [
       "[(3, 54, 'Fail'),\n",
       " (4, 65.72, 'C'),\n",
       " (1, 82.3, 'B+'),\n",
       " (0, 88, 'A'),\n",
       " (2, 90, 'A+')]"
      ]
     },
     "execution_count": 25,
     "metadata": {},
     "output_type": "execute_result"
    }
   ],
   "source": [
    "# we wanted to sort the above result on the base of 2nd column that is percentage:\n",
    "database = list(zip(roll_no, percentages, grades))\n",
    "display(database)\n",
    "sorted(database, key=lambda x:x[1])"
   ]
  },
  {
   "cell_type": "code",
   "execution_count": 27,
   "id": "ba99f61b-4cb8-4bd4-bdb6-0eacff08d124",
   "metadata": {},
   "outputs": [
    {
     "data": {
      "text/plain": [
       "[(2, 90, 'A+'),\n",
       " (0, 88, 'A'),\n",
       " (1, 82.3, 'B+'),\n",
       " (4, 65.72, 'C'),\n",
       " (3, 54, 'Fail')]"
      ]
     },
     "execution_count": 27,
     "metadata": {},
     "output_type": "execute_result"
    }
   ],
   "source": [
    "#reverse the sorting order\n",
    "database = list(zip(roll_no, percentages, grades))\n",
    "# display(database)\n",
    "sorted(database, key=lambda x:x[1], reverse=True)"
   ]
  },
  {
   "cell_type": "code",
   "execution_count": 29,
   "id": "8bfc6d0d-d622-4eb5-b4dc-caf8a6f803d3",
   "metadata": {},
   "outputs": [
    {
     "name": "stdout",
     "output_type": "stream",
     "text": [
      "car is Audi\n",
      "car is BMW\n",
      "car is Subaru\n",
      "car is Toyota\n"
     ]
    }
   ],
   "source": [
    "cars: list[str] = [\"audi\", \"bmw\", \"subaru\",\"toyota\"]\n",
    "for car in cars:\n",
    "    if car == \"bmw\":\n",
    "        print(f\"car is {car.upper()}\")\n",
    "    else:\n",
    "        print(f\"car is {car.title()}\")"
   ]
  },
  {
   "cell_type": "markdown",
   "id": "f3798107-925d-47ed-8e25-4014cd49f686",
   "metadata": {},
   "source": [
    "# The above code through comprehensive style\n"
   ]
  },
  {
   "cell_type": "code",
   "execution_count": 30,
   "id": "ca0051b4-1f8a-429e-8f10-3cdd2423b370",
   "metadata": {},
   "outputs": [
    {
     "data": {
      "text/plain": [
       "['Audi', 'BMW', 'Subaru', 'Toyota']"
      ]
     },
     "execution_count": 30,
     "metadata": {},
     "output_type": "execute_result"
    }
   ],
   "source": [
    "cars: list[str] = [\"audi\", \"bmw\", \"subaru\",\"toyota\"]\n",
    "\n",
    "[car.upper() if car == \"bmw\" else car.title() for car in cars]"
   ]
  },
  {
   "cell_type": "markdown",
   "id": "791583eb-a899-4846-8856-d5ab197bd5d5",
   "metadata": {},
   "source": [
    "# If you want to take multiple inputs from user then:\n"
   ]
  },
  {
   "cell_type": "code",
   "execution_count": 31,
   "id": "6e1c9da9-e222-47ce-9864-fef4ba3373bf",
   "metadata": {},
   "outputs": [
    {
     "name": "stdout",
     "output_type": "stream",
     "text": [
      "enter value through comma seperated pizza, fries, burger\n"
     ]
    },
    {
     "name": "stdout",
     "output_type": "stream",
     "text": [
      "['pizza', ' fries', ' burger']\n"
     ]
    }
   ],
   "source": [
    "input_user = input(\"enter value through comma seperated\").split(\",\")\n",
    "print(input_user)\n"
   ]
  }
 ],
 "metadata": {
  "kernelspec": {
   "display_name": "Python 3 (ipykernel)",
   "language": "python",
   "name": "python3"
  },
  "language_info": {
   "codemirror_mode": {
    "name": "ipython",
    "version": 3
   },
   "file_extension": ".py",
   "mimetype": "text/x-python",
   "name": "python",
   "nbconvert_exporter": "python",
   "pygments_lexer": "ipython3",
   "version": "3.12.0"
  }
 },
 "nbformat": 4,
 "nbformat_minor": 5
}

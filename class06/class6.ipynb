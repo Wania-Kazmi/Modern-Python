{
 "cells": [
  {
   "cell_type": "markdown",
   "id": "99815d26-3c64-4c5c-b8d7-b0b15b9df0de",
   "metadata": {},
   "source": [
    "# if-else-elif\n",
    "```\n",
    "if logic:\n",
    "    True block\n",
    "else:\n",
    "    False block\n",
    "```\n",
    "## Comprehensive if-else style:\n",
    "```\n",
    "True block if logic else False block\n",
    "```\n",
    "## Possible combination of if-else and elif\n",
    "* if\n",
    "* if-else\n",
    "* if-elif-else"
   ]
  },
  {
   "cell_type": "code",
   "execution_count": 1,
   "id": "7d6c657e-b3ad-479f-9dec-8100a76f2e7c",
   "metadata": {},
   "outputs": [
    {
     "name": "stdout",
     "output_type": "stream",
     "text": [
      "Pakistan zindabad\n"
     ]
    }
   ],
   "source": [
    "if True:\n",
    "    print(\"Pakistan zindabad\")\n",
    "else:\n",
    "    print(\"Hello world\")"
   ]
  },
  {
   "cell_type": "code",
   "execution_count": 2,
   "id": "2c293287-b553-410c-8ecd-112455c8ee41",
   "metadata": {},
   "outputs": [
    {
     "name": "stdout",
     "output_type": "stream",
     "text": [
      "Hello world\n"
     ]
    }
   ],
   "source": [
    "if False:\n",
    "    print(\"Pakistan zindabad\")\n",
    "else:\n",
    "    print(\"Hello world\")"
   ]
  },
  {
   "cell_type": "code",
   "execution_count": 3,
   "id": "bc6bc700-ada2-4b43-9bc3-f57f62e5ac91",
   "metadata": {},
   "outputs": [
    {
     "name": "stdout",
     "output_type": "stream",
     "text": [
      "Hello world\n"
     ]
    }
   ],
   "source": [
    "#      true_block           condition         false_block\n",
    "print(\"Pakistan zindabad\") if False else  print(\"Hello world\")"
   ]
  },
  {
   "cell_type": "code",
   "execution_count": 4,
   "id": "dae68fee-f569-447a-9bec-9cc5b622d5d2",
   "metadata": {},
   "outputs": [
    {
     "name": "stdout",
     "output_type": "stream",
     "text": [
      "Pakistan zindabad\n"
     ]
    }
   ],
   "source": [
    "#      true_block           condition         false_block\n",
    "print(\"Pakistan zindabad\") if True else  print(\"Hello world\")"
   ]
  },
  {
   "cell_type": "markdown",
   "id": "62f5e4fa-3cb1-4bdb-995d-77f78befd203",
   "metadata": {},
   "source": [
    "# Comparison Operator\n",
    "* `==`\n",
    "* `>=`\n",
    "* `<=`\n",
    "* `!=`\n",
    "# Logical Operator\n",
    "* `and`\n",
    "* `or`\n",
    "* `not`"
   ]
  },
  {
   "cell_type": "code",
   "execution_count": 7,
   "id": "6caab91a-ab82-4dcc-bb5f-eb7b2e57d592",
   "metadata": {},
   "outputs": [
    {
     "name": "stdout",
     "output_type": "stream",
     "text": [
      "Logic 3\n"
     ]
    }
   ],
   "source": [
    "#chain run only one block\n",
    "if False:\n",
    "    print(\"Logic 1\")\n",
    "elif False:\n",
    "    print(\"Logic 2\")\n",
    "elif True:\n",
    "    print(\"Logic 3\")\n",
    "elif False:\n",
    "    print(\"Logic 4\")\n",
    "else:\n",
    "    print(\"Logic 5\")"
   ]
  },
  {
   "cell_type": "code",
   "execution_count": null,
   "id": "665b8671-86fb-49b5-946b-d4bfce0112e1",
   "metadata": {},
   "outputs": [],
   "source": []
  }
 ],
 "metadata": {
  "kernelspec": {
   "display_name": "Python 3 (ipykernel)",
   "language": "python",
   "name": "python3"
  },
  "language_info": {
   "codemirror_mode": {
    "name": "ipython",
    "version": 3
   },
   "file_extension": ".py",
   "mimetype": "text/x-python",
   "name": "python",
   "nbconvert_exporter": "python",
   "pygments_lexer": "ipython3",
   "version": "3.12.0"
  }
 },
 "nbformat": 4,
 "nbformat_minor": 5
}

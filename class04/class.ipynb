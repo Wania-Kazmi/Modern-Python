{
 "cells": [
  {
   "cell_type": "markdown",
   "metadata": {},
   "source": [
    "# Lists and it's Methods"
   ]
  },
  {
   "cell_type": "code",
   "execution_count": 3,
   "metadata": {},
   "outputs": [
    {
     "name": "stdout",
     "output_type": "stream",
     "text": [
      "Nobody\n"
     ]
    }
   ],
   "source": [
    "name1 : str = \"Wania\"\n",
    "name2 : str = \"Kazmi\"\n",
    "name3 : str = \"Nobody\"\n",
    "\n",
    "print(name3)\n"
   ]
  },
  {
   "cell_type": "markdown",
   "metadata": {},
   "source": [
    "# List Benefits\n",
    "* Dynamic Length\n",
    "* Hetrogenous data types (Multiple types)\n",
    "* index\n",
    "    * positive 0 to n - 1\n",
    "    * negative -1 to length\n",
    "* Slicing\n",
    "    * variable `names[start:end:step]`\n",
    "    * Start : int = include\n",
    "    * End : int = exclude (n-1)\n",
    "    * Step : int = sequence\n",
    "    "
   ]
  },
  {
   "cell_type": "code",
   "execution_count": 4,
   "metadata": {},
   "outputs": [
    {
     "name": "stdout",
     "output_type": "stream",
     "text": [
      "Wania\n",
      "Nobody\n"
     ]
    }
   ],
   "source": [
    "#indexing   0       1       2  -> these are called elements and could be of any data type\n",
    "names = [\"Wania\",\"Kazmi\",\"Nobody\"]\n",
    "#         -3       -2      -1\n",
    "# to get the last index - 1. we can do length-1   2. we can do names[-1]\n",
    "print(names[0])\n",
    "print(names[-1])\n",
    "\n"
   ]
  },
  {
   "cell_type": "code",
   "execution_count": 3,
   "metadata": {},
   "outputs": [
    {
     "name": "stdout",
     "output_type": "stream",
     "text": [
      "['Wania', 'Kazmi', 22]\n",
      "22\n",
      "<class 'list'>\n",
      "<class 'str'>\n"
     ]
    }
   ],
   "source": [
    "\n",
    "from typing import Any\n",
    "\n",
    "#                       0        1      2\n",
    "names : list[Any] = [\"Wania\", \"Kazmi\", 22]\n",
    "#                     -3         -2     -1\n",
    "print(names)\n",
    "print(names[-1])\n",
    "\n",
    "print(type(names))\n",
    "print(type(names[-2]))\n"
   ]
  },
  {
   "cell_type": "code",
   "execution_count": 5,
   "metadata": {},
   "outputs": [
    {
     "name": "stdout",
     "output_type": "stream",
     "text": [
      "['A', 'B', 'C', 'D', 'E', 'F', 'G', 'H', 'I', 'J', 'K', 'L', 'M', 'N', 'O', 'P', 'Q', 'R', 'S', 'T', 'U', 'V', 'W', 'X', 'Y', 'Z']\n"
     ]
    }
   ],
   "source": [
    "characters : list[str] = list(\"ABCDEFGHIJKLMNOPQRSTUVWXYZ\")\n",
    "print(characters)\n",
    "\n"
   ]
  },
  {
   "cell_type": "code",
   "execution_count": 10,
   "metadata": {},
   "outputs": [
    {
     "name": "stdout",
     "output_type": "stream",
     "text": [
      "['A', 'C', 'E']\n",
      "['A', 'C', 'E']\n",
      "['B', 'C', 'D', 'E', 'F', 'G', 'H', 'I', 'J', 'K', 'L', 'M', 'N', 'O', 'P', 'Q', 'R', 'S', 'T', 'U', 'V', 'W', 'X', 'Y', 'Z']\n",
      "['B', 'C', 'D']\n",
      "['Z', 'Y', 'X', 'W', 'V', 'U', 'T', 'S', 'R', 'Q', 'P', 'O', 'N', 'M', 'L', 'K', 'J', 'I', 'H', 'G', 'F', 'E', 'D', 'C', 'B', 'A']\n"
     ]
    }
   ],
   "source": [
    "#                          0    1                                                                                                                       25\n",
    "characters : list[str] = ['A', 'B', 'C', 'D', 'E', 'F', 'G', 'H', 'I', 'J', 'K', 'L', 'M', 'N', 'O', 'P', 'Q', 'R', 'S', 'T', 'U', 'V', 'W', 'X', 'Y', 'Z']\n",
    "#                          -26                                                                                                                          -1\n",
    "\n",
    "#default slicing goes left to right by default\n",
    "print(characters[0:6:2])\n",
    "print(characters[:6:2]) # we skip start value - it will take 0 index by default\n",
    "print(characters[1:]) # we skip end value - it will take upto end index by default\n",
    "print(characters[1: 4]) # we skip sequence value - it will skip no value by default\n",
    "print(characters[::-1]) # in this it will start moving in reverse order\n",
    "\n",
    "\n"
   ]
  }
 ],
 "metadata": {
  "kernelspec": {
   "display_name": "Python 3",
   "language": "python",
   "name": "python3"
  },
  "language_info": {
   "codemirror_mode": {
    "name": "ipython",
    "version": 3
   },
   "file_extension": ".py",
   "mimetype": "text/x-python",
   "name": "python",
   "nbconvert_exporter": "python",
   "pygments_lexer": "ipython3",
   "version": "3.12.0"
  }
 },
 "nbformat": 4,
 "nbformat_minor": 2
}

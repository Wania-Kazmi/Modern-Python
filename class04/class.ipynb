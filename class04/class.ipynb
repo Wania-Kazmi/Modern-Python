{
 "cells": [
  {
   "cell_type": "markdown",
   "metadata": {},
   "source": [
    "# Lists and it's Methods"
   ]
  },
  {
   "cell_type": "code",
   "execution_count": 42,
   "metadata": {},
   "outputs": [
    {
     "name": "stdout",
     "output_type": "stream",
     "text": [
      "Nobody\n"
     ]
    }
   ],
   "source": [
    "name1 : str = \"Wania\"\n",
    "name2 : str = \"Kazmi\"\n",
    "name3 : str = \"Nobody\"\n",
    "\n",
    "print(name3)\n"
   ]
  },
  {
   "cell_type": "markdown",
   "metadata": {},
   "source": [
    "# List Benefits\n",
    "* Dynamic Length\n",
    "* Hetrogenous data types (Multiple types)\n",
    "* index\n",
    "    * positive 0 to n - 1\n",
    "    * negative -1 to length\n",
    "* Slicing\n",
    "    * variable `names[start:end:step]`\n",
    "    * Start : int = include\n",
    "    * End : int = exclude (n-1)\n",
    "    * Step : int = sequence\n",
    "    "
   ]
  },
  {
   "cell_type": "code",
   "execution_count": 43,
   "metadata": {},
   "outputs": [
    {
     "name": "stdout",
     "output_type": "stream",
     "text": [
      "Wania\n",
      "Nobody\n"
     ]
    }
   ],
   "source": [
    "#indexing   0       1       2  -> these are called elements and could be of any data type\n",
    "names = [\"Wania\",\"Kazmi\",\"Nobody\"]\n",
    "#         -3       -2      -1\n",
    "# to get the last index - 1. we can do length-1   2. we can do names[-1]\n",
    "print(names[0])\n",
    "print(names[-1])\n",
    "\n"
   ]
  },
  {
   "cell_type": "code",
   "execution_count": 44,
   "metadata": {},
   "outputs": [
    {
     "name": "stdout",
     "output_type": "stream",
     "text": [
      "['Wania', 'Kazmi', 22]\n",
      "22\n",
      "<class 'list'>\n",
      "<class 'str'>\n"
     ]
    }
   ],
   "source": [
    "\n",
    "from typing import Any\n",
    "\n",
    "#                       0        1      2\n",
    "names : list[Any] = [\"Wania\", \"Kazmi\", 22]\n",
    "#                     -3         -2     -1\n",
    "print(names)\n",
    "print(names[-1])\n",
    "\n",
    "print(type(names))\n",
    "print(type(names[-2]))\n"
   ]
  },
  {
   "cell_type": "code",
   "execution_count": 1,
   "metadata": {},
   "outputs": [
    {
     "name": "stdout",
     "output_type": "stream",
     "text": [
      "['A', 'B', 'C', 'D', 'E', 'F', 'G', 'H', 'I', 'J', 'K', 'L', 'M', 'N', 'O', 'P', 'Q', 'R', 'S', 'T', 'U', 'V', 'W', 'X', 'Y', 'Z']\n"
     ]
    }
   ],
   "source": [
    "characters : list[str] = list(\"ABCDEFGHIJKLMNOPQRSTUVWXYZ\") #convert the string into list - it's expilicity typcasting string into list\n",
    "print(characters)\n",
    "\n"
   ]
  },
  {
   "cell_type": "code",
   "execution_count": 14,
   "metadata": {},
   "outputs": [
    {
     "name": "stdout",
     "output_type": "stream",
     "text": [
      "['A', 'B']\n",
      "['A', 'B']\n",
      "['A', 'B']\n",
      "['A', 'B']\n",
      "['A', 'B']\n"
     ]
    }
   ],
   "source": [
    "#                          0    1    2                                                                                                                 25\n",
    "characters : list[str] = ['A', 'B', 'C', 'D', 'E', 'F', 'G', 'H', 'I', 'J', 'K', 'L', 'M', 'N', 'O', 'P', 'Q', 'R', 'S', 'T', 'U', 'V', 'W', 'X', 'Y', 'X']\n",
    "#                         -26   -25  -24                                                                                                                         -1\n",
    "\n",
    "# defualt slicing go from left to right\n",
    "print(characters[0:2]) # 0= include : index 2-1 = 1\n",
    "print(characters[:2]) # not pass any number = all\n",
    "print(characters[-26:-24])# 0= include : index -24-1 = -25\n",
    "print(characters[0:2:1]) # 0= include : index 2-1 = 1\n",
    "print(characters[0:2:]) # 0= include : index 2-1 = 1"
   ]
  },
  {
   "cell_type": "code",
   "execution_count": 16,
   "metadata": {},
   "outputs": [
    {
     "name": "stdout",
     "output_type": "stream",
     "text": [
      "['A', 'B', 'C', 'D', 'E', 'F', 'G', 'H', 'I', 'J', 'K', 'L', 'M', 'N', 'O', 'P', 'Q', 'R', 'S', 'T', 'U', 'V', 'W', 'X', 'Y', 'Z']\n"
     ]
    }
   ],
   "source": [
    "characters : list[str] = ['A', 'B', 'C', 'D', 'E', 'F', 'G', 'H', 'I', 'J', 'K', 'L', 'M', 'N', 'O', 'P', 'Q', 'R', 'S', 'T', 'U', 'V', 'W', 'X', 'Y', 'Z']\n",
    "\n",
    "print(characters[::])"
   ]
  },
  {
   "cell_type": "code",
   "execution_count": 17,
   "metadata": {},
   "outputs": [
    {
     "name": "stdout",
     "output_type": "stream",
     "text": [
      "['B', 'C', 'D', 'E']\n"
     ]
    }
   ],
   "source": [
    "#                          0    1    2    3    4   5     6    7\n",
    "characters : list[str] = ['A', 'B', 'C', 'D', 'E', 'F', 'G', 'H']\n",
    "#                         -8    -7   -6  -5    -4   -3   -2   -1\n",
    "\n",
    "print(characters[1:-3]) # 'B', 'C', 'D', 'E'"
   ]
  },
  {
   "cell_type": "code",
   "execution_count": 46,
   "metadata": {},
   "outputs": [
    {
     "name": "stdout",
     "output_type": "stream",
     "text": [
      "['A', 'C', 'E']\n",
      "['A', 'C', 'E']\n",
      "['B', 'C', 'D', 'E', 'F', 'G', 'H', 'I', 'J', 'K', 'L', 'M', 'N', 'O', 'P', 'Q', 'R', 'S', 'T', 'U', 'V', 'W', 'X', 'Y', 'Z']\n",
      "['B', 'C', 'D']\n",
      "['Z', 'Y', 'X', 'W', 'V', 'U', 'T', 'S', 'R', 'Q', 'P', 'O', 'N', 'M', 'L', 'K', 'J', 'I', 'H', 'G', 'F', 'E', 'D', 'C', 'B', 'A']\n",
      "[]\n",
      "['Y', 'X', 'W']\n"
     ]
    }
   ],
   "source": [
    "#                          0    1    2    3    4    5    6                                                                                              25\n",
    "characters : list[str] = ['A', 'B', 'C', 'D', 'E', 'F', 'G', 'H', 'I', 'J', 'K', 'L', 'M', 'N', 'O', 'P', 'Q', 'R', 'S', 'T', 'U', 'V', 'W', 'X', 'Y', 'Z']\n",
    "#                          -26                                                                                                                          -1\n",
    "\n",
    "#default slicing goes left to right by default\n",
    "print(characters[0:6:2])\n",
    "print(characters[:6:2]) # we skip start value - it will take 0 index by default\n",
    "print(characters[1:]) # we skip end value - it will take upto end index by default\n",
    "print(characters[1: 4]) # we skip sequence value - it will skip no value by default\n",
    "print(characters[::-1]) # in this it will start moving in reverse order\n",
    "print(characters[-2:-5]) #empty because here we didnot tell it that go in reverse order = here it is still going left to right\n",
    "print(characters[-2:-5:-1]) # now it will generate result\n",
    "\n",
    "\n"
   ]
  },
  {
   "cell_type": "code",
   "execution_count": null,
   "metadata": {},
   "outputs": [],
   "source": []
  },
  {
   "cell_type": "markdown",
   "metadata": {},
   "source": [
    "# List Methods\n",
    "* mutable list\n",
    "* immutable list"
   ]
  },
  {
   "cell_type": "code",
   "execution_count": 47,
   "metadata": {},
   "outputs": [
    {
     "name": "stdout",
     "output_type": "stream",
     "text": [
      "['wania', 'roma', 'arzak']\n",
      "<class 'list'>\n",
      "['wania kazmi', 'roma', 'arzak']\n"
     ]
    }
   ],
   "source": [
    "#                      0        1        2\n",
    "names : list[Any] = [\"wania\",\"roma\",\"arzak\"]\n",
    "#                     -3       -2        -1\n",
    "\n",
    "print(names)\n",
    "print(type(names))\n",
    "\n",
    "names[0] = \"wania kazmi\"  #mutable = editable\n",
    "print(names)\n",
    "\n"
   ]
  },
  {
   "cell_type": "markdown",
   "metadata": {},
   "source": [
    "## Deleting an index in list"
   ]
  },
  {
   "cell_type": "code",
   "execution_count": 48,
   "metadata": {},
   "outputs": [
    {
     "name": "stdout",
     "output_type": "stream",
     "text": [
      "['wania', 'roma', 'arzak', 'zarnab']\n",
      "['wania', 'roma', 'zarnab']\n"
     ]
    }
   ],
   "source": [
    "names : list[Any] = [\"wania\",\"roma\",\"arzak\",\"zarnab\"]\n",
    "\n",
    "print(names)\n",
    "\n",
    "#deleting an index\n",
    "del names[2]\n",
    "print(names)\n",
    "\n",
    "\n",
    "#but here is problem whatever we delete - after deleting it doesnot store anywhere - means it dosnot return anything"
   ]
  },
  {
   "cell_type": "markdown",
   "metadata": {},
   "source": [
    "### Function that doesnot return anything"
   ]
  },
  {
   "cell_type": "code",
   "execution_count": 49,
   "metadata": {},
   "outputs": [
    {
     "name": "stdout",
     "output_type": "stream",
     "text": [
      "Pakistan\n",
      "None\n"
     ]
    }
   ],
   "source": [
    "a:str = print(\"Pakistan\") # print is a non-return function so when we print or display a it gives us None\n",
    "print(a)"
   ]
  },
  {
   "cell_type": "markdown",
   "metadata": {},
   "source": [
    "### Function that return some value"
   ]
  },
  {
   "cell_type": "code",
   "execution_count": 50,
   "metadata": {},
   "outputs": [
    {
     "data": {
      "text/plain": [
       "1979261820928"
      ]
     },
     "metadata": {},
     "output_type": "display_data"
    }
   ],
   "source": [
    "a : int = id(names) #return funciton\n",
    "display(a)"
   ]
  },
  {
   "cell_type": "markdown",
   "metadata": {},
   "source": [
    "### if we want to remove the elements from the list and move inside to another list for that we use list methods using dir(list)"
   ]
  },
  {
   "cell_type": "code",
   "execution_count": 52,
   "metadata": {},
   "outputs": [
    {
     "data": {
      "text/plain": [
       "['append',\n",
       " 'clear',\n",
       " 'copy',\n",
       " 'count',\n",
       " 'extend',\n",
       " 'index',\n",
       " 'insert',\n",
       " 'pop',\n",
       " 'remove',\n",
       " 'reverse',\n",
       " 'sort']"
      ]
     },
     "execution_count": 52,
     "metadata": {},
     "output_type": "execute_result"
    }
   ],
   "source": [
    "#these are all the list methods\n",
    "[i for i in dir(list) if \"__\" not in i]"
   ]
  },
  {
   "cell_type": "markdown",
   "metadata": {},
   "source": [
    "## How we can take Help in python about anything\n",
    "# Help\n",
    "* help(object) - there can be anything object,function etc\n",
    "* object?\n",
    "* object??\n",
    "* ?object\n",
    "* ??object\n"
   ]
  },
  {
   "cell_type": "code",
   "execution_count": 19,
   "metadata": {},
   "outputs": [
    {
     "name": "stdout",
     "output_type": "stream",
     "text": [
      "Help on built-in function print in module builtins:\n",
      "\n",
      "print(*args, sep=' ', end='\\n', file=None, flush=False)\n",
      "    Prints the values to a stream, or to sys.stdout by default.\n",
      "\n",
      "    sep\n",
      "      string inserted between values, default a space.\n",
      "    end\n",
      "      string appended after the last value, default a newline.\n",
      "    file\n",
      "      a file-like object (stream); defaults to the current sys.stdout.\n",
      "    flush\n",
      "      whether to forcibly flush the stream.\n",
      "\n"
     ]
    },
    {
     "name": "stdout",
     "output_type": "stream",
     "text": [
      "\u001b[1;31mInit signature:\u001b[0m \u001b[0mlist\u001b[0m\u001b[1;33m(\u001b[0m\u001b[0miterable\u001b[0m\u001b[1;33m=\u001b[0m\u001b[1;33m(\u001b[0m\u001b[1;33m)\u001b[0m\u001b[1;33m,\u001b[0m \u001b[1;33m/\u001b[0m\u001b[1;33m)\u001b[0m\u001b[1;33m\u001b[0m\u001b[1;33m\u001b[0m\u001b[0m\n",
      "\u001b[1;31mDocstring:\u001b[0m     \n",
      "Built-in mutable sequence.\n",
      "\n",
      "If no argument is given, the constructor creates a new empty list.\n",
      "The argument must be an iterable if specified.\n",
      "\u001b[1;31mType:\u001b[0m           type\n",
      "\u001b[1;31mSubclasses:\u001b[0m     _List, _HashedSeq, StackSummary, _Threads, ConvertingList, DeferredConfigList, _ymd, _Accumulator, SList, _ImmutableLineList, ..."
     ]
    }
   ],
   "source": [
    "help(print)\n",
    "??list"
   ]
  },
  {
   "cell_type": "code",
   "execution_count": 7,
   "metadata": {},
   "outputs": [
    {
     "name": "stdout",
     "output_type": "stream",
     "text": [
      "['append', 'clear', 'copy', 'count', 'extend', 'index', 'insert', 'pop', 'remove', 'reverse', 'sort']\n",
      "After applying delete method:  ['wania', 'roma', 'arzak', 20, True, 333]\n",
      "333\n",
      "After applying pop method:  ['wania', 'roma', 'arzak', 20, True]\n",
      "pop(0) remove the element and return:  wania\n",
      "After applying pop(0) method:  ['roma', 'arzak', 20, True]\n"
     ]
    }
   ],
   "source": [
    "from typing import Any\n",
    "names : list[Any] = [\"wania\",\"roma\",\"arzak\",\"zarnab\", 20, True, 333] \n",
    "print([i for i in dir(list) if \"__\" not in i])\n",
    "#now we know the methods of list through it we can use these method\n",
    "\n",
    "del names[3]#we cannot put this into any variable because it get delete and del method donot return anything but what if we need a value\n",
    "print(\"After applying delete method: \",names)\n",
    "\n",
    "# so for that we will use pop function\n",
    "a : str | bool | int = names.pop() #pop return a value\n",
    "print(a)\n",
    "print(\"After applying pop method: \",names)\n",
    "\n",
    "#we can also add a particular index in the pop\n",
    "b : str | bool | int = names.pop(0)\n",
    "print(\"pop(0) remove the element and return: \",b)\n",
    "print(\"After applying pop(0) method: \",names)"
   ]
  },
  {
   "cell_type": "markdown",
   "metadata": {},
   "source": [
    "### how we insert the value in the list"
   ]
  },
  {
   "cell_type": "code",
   "execution_count": 71,
   "metadata": {},
   "outputs": [
    {
     "name": "stdout",
     "output_type": "stream",
     "text": [
      "['Wania', 'Roma', 'Zarnab']\n"
     ]
    }
   ],
   "source": [
    "# append method - add methods in the last\n",
    "names : list[Any] = []\n",
    "names.append(\"Wania\")\n",
    "names.append(\"Roma\")\n",
    "names.append(\"Zarnab\")\n",
    "\n",
    "print(names)"
   ]
  },
  {
   "cell_type": "markdown",
   "metadata": {},
   "source": [
    "### what if we want to add at particular index in the list?"
   ]
  },
  {
   "cell_type": "code",
   "execution_count": 8,
   "metadata": {},
   "outputs": [
    {
     "name": "stdout",
     "output_type": "stream",
     "text": [
      "['a', 'b', 'c', 'd']\n",
      "['a', 'b', 'new value', 'c', 'd']\n"
     ]
    }
   ],
   "source": [
    "# for that we use insert() method - we cannot do it append because it always insert in the last \n",
    "\n",
    "names : list[str] = ['a', 'b', 'c', 'd']\n",
    "print(names)\n",
    "\n",
    "names.insert(2, 'new value')\n",
    "print(names)\n"
   ]
  },
  {
   "cell_type": "markdown",
   "metadata": {},
   "source": [
    "### what if we only want to remove the elements of list not a whole list "
   ]
  },
  {
   "cell_type": "code",
   "execution_count": 12,
   "metadata": {},
   "outputs": [
    {
     "name": "stdout",
     "output_type": "stream",
     "text": [
      "[]\n"
     ]
    }
   ],
   "source": [
    "# as we know del remove the list element or all list from the memory but clear only remove the elements of the list and object will remain as it is but del will remove the object \n",
    "a : list[str] = ['a', 'b', 'c']\n",
    "# del a #here del remove all list\n",
    "a.clear()\n",
    "print(a)"
   ]
  },
  {
   "cell_type": "markdown",
   "metadata": {},
   "source": [
    "## copy() method"
   ]
  },
  {
   "cell_type": "code",
   "execution_count": 13,
   "metadata": {},
   "outputs": [
    {
     "name": "stdout",
     "output_type": "stream",
     "text": [
      "['a', 'b', 'c']\n",
      "['a', 'b', 'c']\n",
      "['Pakistan', 'wania', 'c']\n",
      "['Pakistan', 'wania', 'c']\n"
     ]
    }
   ],
   "source": [
    "a : list[str] = ['a', 'b', 'c']\n",
    "b = a #shallow copy\n",
    "print(a)\n",
    "print(b)\n",
    "\n",
    "# what is problem here \n",
    "b[0] = \"Pakistan\"\n",
    "a[1] = \"wania\"\n",
    "print(a) # if we make changes in a or b, it will also reflect in both, which we dont want\n",
    "print(b) # if we make changes in a or b, it will also reflect in both, which we dont want\n",
    "\n"
   ]
  },
  {
   "cell_type": "markdown",
   "metadata": {},
   "source": [
    "### To overcome this shallow copy problem we use copy() method"
   ]
  },
  {
   "cell_type": "code",
   "execution_count": 80,
   "metadata": {},
   "outputs": [
    {
     "name": "stdout",
     "output_type": "stream",
     "text": [
      "['a', 'b', 'c']\n",
      "['a', 'b', 'c']\n",
      "['a', 'b', 'c']\n",
      "['Pakistan', 'b', 'c']\n"
     ]
    }
   ],
   "source": [
    "a : list[str] = ['a', 'b', 'c']\n",
    "b = a.copy() #Deep copy\n",
    "print(a)\n",
    "print(b)\n",
    "\n",
    "b[0] = \"Pakistan\" # now here it will change only in b not in a \n",
    "print(a)\n",
    "print(b)"
   ]
  },
  {
   "cell_type": "markdown",
   "metadata": {},
   "source": [
    "## count() method"
   ]
  },
  {
   "cell_type": "code",
   "execution_count": 83,
   "metadata": {},
   "outputs": [
    {
     "name": "stdout",
     "output_type": "stream",
     "text": [
      "3\n",
      "3\n",
      "2\n"
     ]
    }
   ],
   "source": [
    "#count \n",
    "a : list[str] = ['a', 'a', 'a', 'b', 'b', 'c', 'c', 'c']\n",
    "\n",
    "print(a.count('c'))\n",
    "print(a.count('a'))\n",
    "print(a.count('b'))\n",
    "\n",
    "#length and count is not same \n",
    "#length is a global function that can be applied to string, list or any datatype but count() only apply to list "
   ]
  },
  {
   "cell_type": "markdown",
   "metadata": {},
   "source": [
    "## extend() method"
   ]
  },
  {
   "cell_type": "code",
   "execution_count": 92,
   "metadata": {},
   "outputs": [
    {
     "name": "stdout",
     "output_type": "stream",
     "text": [
      "['Qasim', 'Zia', ['Noman', 'Inam']]\n"
     ]
    }
   ],
   "source": [
    "gen_ai_memebers : list[str] = [\"Qasim\", \"Zia\"]\n",
    "new_faculty_members : list[str] = [\"Noman\",\"Inam\"]\n",
    "\n",
    "#we want to add the new faculty members into gen_ai_members so for that \n",
    "gen_ai_memebers.append(new_faculty_members)\n",
    "print(gen_ai_memebers) # here we get list inside another list but we want to add it here individual all elements not a whole list"
   ]
  },
  {
   "cell_type": "markdown",
   "metadata": {},
   "source": [
    "### To avoid the above problem - we will use extend() instead of append()"
   ]
  },
  {
   "cell_type": "code",
   "execution_count": 93,
   "metadata": {},
   "outputs": [
    {
     "name": "stdout",
     "output_type": "stream",
     "text": [
      "['Qasim', 'Zia', 'Noman', 'Inam']\n"
     ]
    }
   ],
   "source": [
    "gen_ai_memebers : list[str] = [\"Qasim\", \"Zia\"]\n",
    "new_faculty_members : list[str] = [\"Noman\",\"Inam\"]\n",
    "\n",
    "#we want to add the new faculty members into gen_ai_members so for that \n",
    "gen_ai_memebers.extend(new_faculty_members)\n",
    "print(gen_ai_memebers)"
   ]
  },
  {
   "cell_type": "code",
   "execution_count": 26,
   "metadata": {},
   "outputs": [
    {
     "data": {
      "text/plain": [
       "['Sir Zia', 'Dr Noman']"
      ]
     },
     "execution_count": 26,
     "metadata": {},
     "output_type": "execute_result"
    }
   ],
   "source": [
    "names : list[str] = [\"Sir Zia\",\"Muhammad Qasim\",'Sir Inam',\"Dr Noman\"] # GenAI founder members\n",
    "\n",
    "\n",
    "del names[1:3] #it del the index 1 to 2 - 1 is included and 3 is excluded\n",
    "\n",
    "names"
   ]
  },
  {
   "cell_type": "markdown",
   "metadata": {},
   "source": [
    "## Remove List element through text using remove() method"
   ]
  },
  {
   "cell_type": "code",
   "execution_count": 95,
   "metadata": {},
   "outputs": [
    {
     "name": "stdout",
     "output_type": "stream",
     "text": [
      "['Wania', 'Zarnab', 'Roma']\n"
     ]
    }
   ],
   "source": [
    "names : list[str] = [\"Wania\", \"Arzak\", \"Zarnab\", \"Roma\"]\n",
    "names.remove(\"Arzak\") #remove with text value\n",
    "print(names)"
   ]
  },
  {
   "cell_type": "markdown",
   "metadata": {},
   "source": [
    "## We can find an index number through text in list using index() method"
   ]
  },
  {
   "cell_type": "code",
   "execution_count": 102,
   "metadata": {},
   "outputs": [
    {
     "name": "stdout",
     "output_type": "stream",
     "text": [
      "1\n",
      "0\n",
      "2\n"
     ]
    }
   ],
   "source": [
    "names : list[str] = [\"Wania\", \"Arzak\", \"Zarnab\", \"Roma\"]\n",
    "a = names.index(\"Arzak\") #index number of Arzak\n",
    "print(a)\n",
    "\n",
    "names : list[str] = [\"Wania\", \"Arzak\",  \"Wania\", \"Wania\",\"Zarnab\", \"Roma\"] #if one element is more than once then it will give you first occurance of that element.\n",
    "b = names.index(\"Wania\")\n",
    "c = names.index(\"Wania\", 1)  # we are telling it here that search from index 1\n",
    "print(b)\n",
    "print(c)"
   ]
  },
  {
   "cell_type": "markdown",
   "metadata": {},
   "source": [
    "## reverse() method"
   ]
  },
  {
   "cell_type": "code",
   "execution_count": 103,
   "metadata": {},
   "outputs": [
    {
     "name": "stdout",
     "output_type": "stream",
     "text": [
      "['Roma', 'Zarnab', 'Arzak', 'Wania']\n"
     ]
    }
   ],
   "source": [
    "names : list[str] = [\"Wania\", \"Arzak\", \"Zarnab\", \"Roma\"]\n",
    "names.reverse() #it change your real data - in-memory \n",
    "print(names)\n",
    "\n",
    "# there are 2 function - inline and in-memory - what in-memory do is it change your real data"
   ]
  },
  {
   "cell_type": "markdown",
   "metadata": {},
   "source": [
    "## sort() method"
   ]
  },
  {
   "cell_type": "code",
   "execution_count": 107,
   "metadata": {},
   "outputs": [
    {
     "name": "stdout",
     "output_type": "stream",
     "text": [
      "['Arzak', 'Roma', 'Wania', 'Zarnab']\n",
      "['Zarnab', 'Wania', 'Roma', 'Arzak']\n"
     ]
    }
   ],
   "source": [
    "# this function will sort in ascending order\n",
    "names : list[str] = [\"Wania\", \"Arzak\", \"Zarnab\", \"Roma\"]\n",
    "names.sort() #in-memory = change the real data sort - sorting will be in ascending order by default\n",
    "print(names)\n",
    "\n",
    "\n",
    "names2 : list[str] = [\"Wania\", \"Arzak\", \"Zarnab\", \"Roma\"]\n",
    "names2.sort(reverse=True) #in-memory = change the real data sort - sorting will be in desending order here\n",
    "print(names2)"
   ]
  },
  {
   "cell_type": "code",
   "execution_count": 27,
   "metadata": {},
   "outputs": [
    {
     "name": "stdout",
     "output_type": "stream",
     "text": [
      "6\n"
     ]
    }
   ],
   "source": [
    "names :list[str] = list(\"ACBDEF\")\n",
    "print(len(names))"
   ]
  },
  {
   "cell_type": "code",
   "execution_count": null,
   "metadata": {},
   "outputs": [],
   "source": []
  }
 ],
 "metadata": {
  "kernelspec": {
   "display_name": "Python 3",
   "language": "python",
   "name": "python3"
  },
  "language_info": {
   "codemirror_mode": {
    "name": "ipython",
    "version": 3
   },
   "file_extension": ".py",
   "mimetype": "text/x-python",
   "name": "python",
   "nbconvert_exporter": "python",
   "pygments_lexer": "ipython3",
   "version": "3.12.0"
  }
 },
 "nbformat": 4,
 "nbformat_minor": 2
}

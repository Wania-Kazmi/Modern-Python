{
 "cells": [
  {
   "cell_type": "markdown",
   "metadata": {},
   "source": [
    "# Address doesnot change "
   ]
  },
  {
   "cell_type": "code",
   "execution_count": 2,
   "metadata": {},
   "outputs": [
    {
     "name": "stdout",
     "output_type": "stream",
     "text": [
      "list_b: [1, 2, 3, 4]\n",
      "[1, 2, 3, 4]\n"
     ]
    }
   ],
   "source": [
    "#here physical memory is same but names are different which point to single physical memory\n",
    "list_a : list[int] = [1,2,3] #mutable object\n",
    "list_b = list_a\n",
    "list_a.append(4)\n",
    "print(\"list_b:\", list_b) \n",
    "print(\"list_a:\",list_a)"
   ]
  },
  {
   "cell_type": "markdown",
   "metadata": {},
   "source": [
    "# Address changes without Function call"
   ]
  },
  {
   "cell_type": "code",
   "execution_count": 3,
   "metadata": {},
   "outputs": [
    {
     "name": "stdout",
     "output_type": "stream",
     "text": [
      "Before Notification 10 140734278257368\n",
      "After notification 11 140734278257400\n"
     ]
    }
   ],
   "source": [
    "x = 10\n",
    "print(\"Before Notification\", x, id(x))\n",
    "x += 1\n",
    "print(\"After notification\", x, id(x))\n"
   ]
  },
  {
   "cell_type": "markdown",
   "metadata": {},
   "source": [
    "# Mutable objects and Immutable objects\n",
    "* Mutable = changeable\n",
    "* Immutable = not changeable\n",
    "\n",
    "1. Immutable objects are - string, int, float, tuple, boolean\n",
    "2. Mutable objects are - list, set, dictionary, class object\n",
    "\n",
    "In immutable data type - you will pass the copy and address of \"a\" variable will be seperate (reference to below example). We create a copy of int a and put it into num1. Here the num1 and a address will be seperate\n",
    "\n",
    "In javascript there were primitive types and objects but in python everything is object"
   ]
  },
  {
   "cell_type": "markdown",
   "metadata": {},
   "source": [
    "# Creating a Deep copy of variable - pass by value when variable is mutable"
   ]
  },
  {
   "cell_type": "code",
   "execution_count": 10,
   "metadata": {},
   "outputs": [
    {
     "name": "stdout",
     "output_type": "stream",
     "text": [
      "Address when first assign value to variable a 140733902932536\n",
      "num1 value before updation is 5\n",
      "Address a is: 140733902932536 \n",
      "Address of num1 is : 140733902932536\n",
      "num1 value after updation is 6\n",
      "Address a is: 140733902932536 \n",
      "Address of num1 is : 140733902932568\n",
      "End of program and value of a is here: 5 and address of a is: 140733902932536\n"
     ]
    }
   ],
   "source": [
    "a : int = 5 #immutable datatype - these datatypes will always be pass by value\n",
    "print(f\"Address when first assign value to variable a {id(a)}\")\n",
    "def abc(num1: int) -> None:\n",
    "    print(f\"num1 value before updation is {num1}\")\n",
    "    print(f\"Address a is: {id(a)} \\nAddress of num1 is : {id(num1)}\")\n",
    "    num1 = 6 # copy - changes occur in copy not in original - and change will reflect only in this scope\n",
    "    print(f\"num1 value after updation is {num1}\")\n",
    "    print(f\"Address a is: {id(a)} \\nAddress of num1 is : {id(num1)}\")\n",
    "\n",
    "\n",
    "abc(a) #send a copy to function parameter - pass by value - immutable \n",
    "print(f\"End of program and value of a is here: {a} and address of a is: {id(a)}\") #throughout the program the address of a is same"
   ]
  },
  {
   "cell_type": "code",
   "execution_count": 13,
   "metadata": {},
   "outputs": [
    {
     "name": "stdout",
     "output_type": "stream",
     "text": [
      "z value is 7 and it's address is 7\n",
      "z address is 140733902932600 and address of id x is 140733902932600\n",
      "z address is 140733902932600 and address of id x after updation is 140733902938776\n"
     ]
    }
   ],
   "source": [
    "z : int = 7\n",
    "x : int = z # we pass a reference here of z means addresss will also be same\n",
    "print(f\"z value is {z} and it's address is {x}\")\n",
    "print(f\"z address is {id(z)} and address of id x is {id(x)}\")\n",
    "\n",
    "x = 200 #value update here means address will also be changed\n",
    "print(f\"z address is {id(z)} and address of id x after updation is {id(x)}\")"
   ]
  },
  {
   "cell_type": "code",
   "execution_count": 14,
   "metadata": {},
   "outputs": [
    {
     "name": "stdout",
     "output_type": "stream",
     "text": [
      "z value is 7 and it's address is 7\n",
      "z address is 140733902932600 and address of id x is 140733902932600\n",
      "z address is 140733902932600 and address of id x after updation is 140733902938776\n"
     ]
    }
   ],
   "source": [
    "z : int = 7\n",
    "x : int = 7 # if the value is same then the address will be same\n",
    "print(f\"z value is {z} and it's address is {x}\")\n",
    "print(f\"z address is {id(z)} and address of id x is {id(x)}\")\n",
    "\n",
    "x = 200 #value update here means address will also be changed\n",
    "print(f\"z address is {id(z)} and address of id x after updation is {id(x)}\")"
   ]
  },
  {
   "cell_type": "code",
   "execution_count": 15,
   "metadata": {},
   "outputs": [
    {
     "name": "stdout",
     "output_type": "stream",
     "text": [
      "z value is 7 and it's address is 7\n",
      "z address is 140733902932600 and address of id x is 140733902932600\n",
      "z address is 140733902932600 and address of id x after updation is 140733902938776\n"
     ]
    }
   ],
   "source": [
    "z : int = 7\n",
    "x : int = int(7) # if the value is same then the address will be same always \n",
    "print(f\"z value is {z} and it's address is {x}\")\n",
    "print(f\"z address is {id(z)} and address of id x is {id(x)}\")\n",
    "\n",
    "x = 200 #value update here means address will also be changed\n",
    "print(f\"z address is {id(z)} and address of id x after updation is {id(x)}\")"
   ]
  },
  {
   "cell_type": "markdown",
   "metadata": {},
   "source": [
    "# If you will pass Mutable data type in method, then you perform changes in one variable it will reflect the changes in the other variable as well. "
   ]
  },
  {
   "cell_type": "markdown",
   "metadata": {},
   "source": [
    "## Creating a shallow copy - pass by reference as list is mutable"
   ]
  },
  {
   "cell_type": "code",
   "execution_count": 17,
   "metadata": {},
   "outputs": [
    {
     "name": "stdout",
     "output_type": "stream",
     "text": [
      "Address of a is: 2741380842240 and address of num1 is: 2741380842240\n",
      "num1 value is [1, 2, 3, 4, 5]\n",
      "Address of a is: 2741380842240 and address of num1 is: 2741380842240\n",
      "[1, 2, 3, 4, 5]\n"
     ]
    }
   ],
   "source": [
    "# a and num1 is refering to same object here\n",
    "a : list[int] = [1,2,3,4]\n",
    "\n",
    "def passValue(num1: list[int]) -> None: #num1 address and a address is same\n",
    "    print(f\"Address of a is: {id(a)} and address of num1 is: {id(num1)}\")\n",
    "    num1.append(5) #as it is mutable(changeable so 5 will be added in both num1 and a & immutable data type cant be changeable so for that it create a new memory address but that is not a case with mutable data type)\n",
    "    print(f\"num1 value is {num1}\")\n",
    "    print(f\"Address of a is: {id(a)} and address of num1 is: {id(num1)}\") #same address even after changes because it is mutable data type and changes are allow in it so it will also change \"a\" with it\n",
    "\n",
    "passValue(a) #pass by reference (mutable datatype)\n",
    "print(a)"
   ]
  },
  {
   "cell_type": "code",
   "execution_count": 21,
   "metadata": {},
   "outputs": [
    {
     "name": "stdout",
     "output_type": "stream",
     "text": [
      "num1 value [1, 2, 3, 4] and it's address is 2741375047808 and a value [1, 2, 3, 4] and address is 2741375047808\n",
      "num1 value is [22, 50, 5]\n",
      "Value of a is : [1, 2, 3, 4] and value if num1 is [22, 50, 5]\n",
      "Address of a is 2741375047808 and address of num1 is 2741381163712\n",
      "[1, 2, 3, 4]\n"
     ]
    }
   ],
   "source": [
    "# a and num1 is refering to same object here\n",
    "a : list[int] = [1,2,3,4]\n",
    "\n",
    "def passValue(num1: list[int]) -> None: # here a list is passed and it occupied new space in memory with name num1 and we put a reference of a in num1 - so it is copy of reference\n",
    "    # now num1 has a new object that has a reference of a object and a has original object reference.\n",
    "    print(f\"num1 value {num1} and it's address is {id(num1)} and a value {a} and address is {id(a)}\")\n",
    "    num1 : list[int] = [22, 50] # new object is created here - reassign list variable \n",
    "    num1.append(5)\n",
    "    print(f\"num1 value is {num1}\")\n",
    "    print(f\"Value of a is : {a} and value if num1 is {num1}\")\n",
    "    print(f'Address of a is {id(a)} and address of num1 is {id(num1)}')\n",
    "\n",
    "passValue(a) #pass by reference (mutable datatype)\n",
    "print(a)"
   ]
  },
  {
   "cell_type": "code",
   "execution_count": 20,
   "metadata": {},
   "outputs": [
    {
     "name": "stdout",
     "output_type": "stream",
     "text": [
      "Value of a is : [1, 2, 3, 4] and value if num1 is [1, 2, 3, 4]\n",
      "Address of a is 2741380621376 and address of num1 is 2741380797248\n",
      "[1, 2, 3, 4]\n"
     ]
    }
   ],
   "source": [
    "# a and num1 is refering to same object here\n",
    "a : list[int] = [1,2,3,4]\n",
    "\n",
    "def passValue(num1: list[int]) -> None: # here a list is passed and it occupied new space in memory with name num1 and we put a reference of a in num1 - so it is copy of reference\n",
    "    # now num1 has a new object that has a reference of a object and a has original object reference. Do num1 and a become seperate objects that's why value in a doesnot change\n",
    "    num1 : list[int] = [1,2,3,4] # new object is created here - reassign list variable \n",
    "    # num1.append(5)\n",
    "    # print(f\"num1 value is {num1}\")\n",
    "    print(f\"Value of a is : {a} and value if num1 is {num1}\")\n",
    "    print(f'Address of a is {id(a)} and address of num1 is {id(num1)}')\n",
    "\n",
    "passValue(a) #pass by reference (mutable datatype)\n",
    "print(a)"
   ]
  },
  {
   "cell_type": "code",
   "execution_count": 22,
   "metadata": {},
   "outputs": [
    {
     "name": "stdout",
     "output_type": "stream",
     "text": [
      "address of a is 2741381166272 and b is 2741380624704\n"
     ]
    }
   ],
   "source": [
    "a : list[int] = [1,2,3,4] #mutable\n",
    "b : list[int] = [1,2,3,4] #mutable\n",
    "\n",
    "print(f\"address of a is {id(a)} and b is {id(b)}\")"
   ]
  },
  {
   "cell_type": "markdown",
   "metadata": {},
   "source": [
    "# Runtime Error"
   ]
  },
  {
   "cell_type": "code",
   "execution_count": 24,
   "metadata": {},
   "outputs": [
    {
     "name": "stdout",
     "output_type": "stream",
     "text": [
      "5.0\n"
     ]
    }
   ],
   "source": [
    "a : int = int(input(\"Enter number 1: \"))\n",
    "b : int = int(input(\"Enter number 2: \"))\n",
    "\n",
    "print(a/b)"
   ]
  },
  {
   "cell_type": "code",
   "execution_count": 25,
   "metadata": {},
   "outputs": [
    {
     "ename": "ZeroDivisionError",
     "evalue": "division by zero",
     "output_type": "error",
     "traceback": [
      "\u001b[1;31m---------------------------------------------------------------------------\u001b[0m",
      "\u001b[1;31mZeroDivisionError\u001b[0m                         Traceback (most recent call last)",
      "\u001b[1;32md:\\solopreneur-journey\\Q4\\modern-python\\class11\\class11.ipynb Cell 19\u001b[0m line \u001b[0;36m4\n\u001b[0;32m      <a href='vscode-notebook-cell:/d%3A/solopreneur-journey/Q4/modern-python/class11/class11.ipynb#X30sZmlsZQ%3D%3D?line=0'>1</a>\u001b[0m a : \u001b[39mint\u001b[39m \u001b[39m=\u001b[39m \u001b[39mint\u001b[39m(\u001b[39minput\u001b[39m(\u001b[39m\"\u001b[39m\u001b[39mEnter number 1: \u001b[39m\u001b[39m\"\u001b[39m))\n\u001b[0;32m      <a href='vscode-notebook-cell:/d%3A/solopreneur-journey/Q4/modern-python/class11/class11.ipynb#X30sZmlsZQ%3D%3D?line=1'>2</a>\u001b[0m b : \u001b[39mint\u001b[39m \u001b[39m=\u001b[39m \u001b[39mint\u001b[39m(\u001b[39minput\u001b[39m(\u001b[39m\"\u001b[39m\u001b[39mEnter number 2: \u001b[39m\u001b[39m\"\u001b[39m))\n\u001b[1;32m----> <a href='vscode-notebook-cell:/d%3A/solopreneur-journey/Q4/modern-python/class11/class11.ipynb#X30sZmlsZQ%3D%3D?line=3'>4</a>\u001b[0m \u001b[39mprint\u001b[39m(a\u001b[39m/\u001b[39;49mb)\n",
      "\u001b[1;31mZeroDivisionError\u001b[0m: division by zero"
     ]
    }
   ],
   "source": [
    "a : int = int(input(\"Enter number 1: \")) #8\n",
    "b : int = int(input(\"Enter number 2: \")) #0\n",
    "\n",
    "print(a/b) #return 0 division error"
   ]
  },
  {
   "cell_type": "code",
   "execution_count": 26,
   "metadata": {},
   "outputs": [
    {
     "ename": "IndexError",
     "evalue": "list index out of range",
     "output_type": "error",
     "traceback": [
      "\u001b[1;31m---------------------------------------------------------------------------\u001b[0m",
      "\u001b[1;31mIndexError\u001b[0m                                Traceback (most recent call last)",
      "\u001b[1;32md:\\solopreneur-journey\\Q4\\modern-python\\class11\\class11.ipynb Cell 20\u001b[0m line \u001b[0;36m4\n\u001b[0;32m      <a href='vscode-notebook-cell:/d%3A/solopreneur-journey/Q4/modern-python/class11/class11.ipynb#X31sZmlsZQ%3D%3D?line=0'>1</a>\u001b[0m names:\u001b[39mlist\u001b[39m[\u001b[39mstr\u001b[39m] \u001b[39m=\u001b[39m [\u001b[39m'\u001b[39m\u001b[39mSir Zia\u001b[39m\u001b[39m'\u001b[39m,\u001b[39m\"\u001b[39m\u001b[39mSir Inam\u001b[39m\u001b[39m\"\u001b[39m,\u001b[39m\"\u001b[39m\u001b[39mMuhammad Qasim\u001b[39m\u001b[39m\"\u001b[39m]\n\u001b[0;32m      <a href='vscode-notebook-cell:/d%3A/solopreneur-journey/Q4/modern-python/class11/class11.ipynb#X31sZmlsZQ%3D%3D?line=2'>3</a>\u001b[0m indx : \u001b[39mint\u001b[39m \u001b[39m=\u001b[39m \u001b[39mint\u001b[39m(\u001b[39minput\u001b[39m(\u001b[39m\"\u001b[39m\u001b[39mEnter index number:\u001b[39m\u001b[39m\\t\u001b[39;00m\u001b[39m\"\u001b[39m)) \u001b[39m#100\u001b[39;00m\n\u001b[1;32m----> <a href='vscode-notebook-cell:/d%3A/solopreneur-journey/Q4/modern-python/class11/class11.ipynb#X31sZmlsZQ%3D%3D?line=3'>4</a>\u001b[0m \u001b[39mprint\u001b[39m(names[indx]) \u001b[39m#index out of bound\u001b[39;00m\n",
      "\u001b[1;31mIndexError\u001b[0m: list index out of range"
     ]
    }
   ],
   "source": [
    "names:list[str] = ['Sir Zia',\"Sir Inam\",\"Muhammad Qasim\"]\n",
    "\n",
    "indx : int = int(input(\"Enter index number:\\t\")) #100\n",
    "print(names[indx]) #index out of bound"
   ]
  },
  {
   "cell_type": "code",
   "execution_count": 27,
   "metadata": {},
   "outputs": [
    {
     "ename": "TypeError",
     "evalue": "'tuple' object does not support item assignment",
     "output_type": "error",
     "traceback": [
      "\u001b[1;31m---------------------------------------------------------------------------\u001b[0m",
      "\u001b[1;31mTypeError\u001b[0m                                 Traceback (most recent call last)",
      "\u001b[1;32md:\\solopreneur-journey\\Q4\\modern-python\\class11\\class11.ipynb Cell 21\u001b[0m line \u001b[0;36m2\n\u001b[0;32m      <a href='vscode-notebook-cell:/d%3A/solopreneur-journey/Q4/modern-python/class11/class11.ipynb#X32sZmlsZQ%3D%3D?line=0'>1</a>\u001b[0m data : \u001b[39mtuple\u001b[39m[\u001b[39mint\u001b[39m,\u001b[39mint\u001b[39m,\u001b[39mint\u001b[39m] \u001b[39m=\u001b[39m (\u001b[39m1\u001b[39m,\u001b[39m2\u001b[39m,\u001b[39m3\u001b[39m)\n\u001b[1;32m----> <a href='vscode-notebook-cell:/d%3A/solopreneur-journey/Q4/modern-python/class11/class11.ipynb#X32sZmlsZQ%3D%3D?line=1'>2</a>\u001b[0m data[\u001b[39m0\u001b[39;49m] \u001b[39m=\u001b[39m \u001b[39m2000\u001b[39m\n",
      "\u001b[1;31mTypeError\u001b[0m: 'tuple' object does not support item assignment"
     ]
    }
   ],
   "source": [
    "data : tuple[int,int,int] = (1,2,3)\n",
    "data[0] = 2000 #trying to update tuple which is not possible"
   ]
  },
  {
   "cell_type": "code",
   "execution_count": 28,
   "metadata": {},
   "outputs": [
    {
     "ename": "TypeError",
     "evalue": "can only concatenate str (not \"int\") to str",
     "output_type": "error",
     "traceback": [
      "\u001b[1;31m---------------------------------------------------------------------------\u001b[0m",
      "\u001b[1;31mTypeError\u001b[0m                                 Traceback (most recent call last)",
      "\u001b[1;32md:\\solopreneur-journey\\Q4\\modern-python\\class11\\class11.ipynb Cell 22\u001b[0m line \u001b[0;36m1\n\u001b[1;32m----> <a href='vscode-notebook-cell:/d%3A/solopreneur-journey/Q4/modern-python/class11/class11.ipynb#X33sZmlsZQ%3D%3D?line=0'>1</a>\u001b[0m \u001b[39m\"\u001b[39;49m\u001b[39m2\u001b[39;49m\u001b[39m\"\u001b[39;49m \u001b[39m+\u001b[39;49m \u001b[39m2\u001b[39;49m\n",
      "\u001b[1;31mTypeError\u001b[0m: can only concatenate str (not \"int\") to str"
     ]
    }
   ],
   "source": [
    "\"2\" + 2"
   ]
  },
  {
   "cell_type": "code",
   "execution_count": 30,
   "metadata": {},
   "outputs": [
    {
     "ename": "KeyError",
     "evalue": "'father_name'",
     "output_type": "error",
     "traceback": [
      "\u001b[1;31m---------------------------------------------------------------------------\u001b[0m",
      "\u001b[1;31mKeyError\u001b[0m                                  Traceback (most recent call last)",
      "\u001b[1;32md:\\solopreneur-journey\\Q4\\modern-python\\class11\\class11.ipynb Cell 23\u001b[0m line \u001b[0;36m7\n\u001b[0;32m      <a href='vscode-notebook-cell:/d%3A/solopreneur-journey/Q4/modern-python/class11/class11.ipynb#X34sZmlsZQ%3D%3D?line=0'>1</a>\u001b[0m data : \u001b[39mdict\u001b[39m[\u001b[39mstr\u001b[39m,\u001b[39mstr\u001b[39m] \u001b[39m=\u001b[39m {\n\u001b[0;32m      <a href='vscode-notebook-cell:/d%3A/solopreneur-journey/Q4/modern-python/class11/class11.ipynb#X34sZmlsZQ%3D%3D?line=1'>2</a>\u001b[0m     \u001b[39m\"\u001b[39m\u001b[39mname\u001b[39m\u001b[39m\"\u001b[39m : \u001b[39m\"\u001b[39m\u001b[39mWania Kazmi\u001b[39m\u001b[39m\"\u001b[39m,\n\u001b[0;32m      <a href='vscode-notebook-cell:/d%3A/solopreneur-journey/Q4/modern-python/class11/class11.ipynb#X34sZmlsZQ%3D%3D?line=2'>3</a>\u001b[0m     \u001b[39m\"\u001b[39m\u001b[39meducation\u001b[39m\u001b[39m\"\u001b[39m : \u001b[39m\"\u001b[39m\u001b[39mBSSE\u001b[39m\u001b[39m\"\u001b[39m\n\u001b[0;32m      <a href='vscode-notebook-cell:/d%3A/solopreneur-journey/Q4/modern-python/class11/class11.ipynb#X34sZmlsZQ%3D%3D?line=3'>4</a>\u001b[0m }\n\u001b[0;32m      <a href='vscode-notebook-cell:/d%3A/solopreneur-journey/Q4/modern-python/class11/class11.ipynb#X34sZmlsZQ%3D%3D?line=5'>6</a>\u001b[0m data[\u001b[39m\"\u001b[39m\u001b[39mname\u001b[39m\u001b[39m\"\u001b[39m]\n\u001b[1;32m----> <a href='vscode-notebook-cell:/d%3A/solopreneur-journey/Q4/modern-python/class11/class11.ipynb#X34sZmlsZQ%3D%3D?line=6'>7</a>\u001b[0m data[\u001b[39m\"\u001b[39;49m\u001b[39mfather_name\u001b[39;49m\u001b[39m\"\u001b[39;49m]\n",
      "\u001b[1;31mKeyError\u001b[0m: 'father_name'"
     ]
    }
   ],
   "source": [
    "data : dict[str,str] = {\n",
    "    \"name\" : \"Wania Kazmi\",\n",
    "    \"education\" : \"BSSE\"\n",
    "}\n",
    "\n",
    "data[\"name\"]\n",
    "data[\"father_name\"]"
   ]
  },
  {
   "cell_type": "code",
   "execution_count": 32,
   "metadata": {},
   "outputs": [
    {
     "ename": "FileNotFoundError",
     "evalue": "[Errno 2] No such file or directory: 'abc.txt'",
     "output_type": "error",
     "traceback": [
      "\u001b[1;31m---------------------------------------------------------------------------\u001b[0m",
      "\u001b[1;31mFileNotFoundError\u001b[0m                         Traceback (most recent call last)",
      "\u001b[1;32md:\\solopreneur-journey\\Q4\\modern-python\\class11\\class11.ipynb Cell 24\u001b[0m line \u001b[0;36m1\n\u001b[1;32m----> <a href='vscode-notebook-cell:/d%3A/solopreneur-journey/Q4/modern-python/class11/class11.ipynb#X35sZmlsZQ%3D%3D?line=0'>1</a>\u001b[0m \u001b[39mopen\u001b[39;49m(\u001b[39m\"\u001b[39;49m\u001b[39mabc.txt\u001b[39;49m\u001b[39m\"\u001b[39;49m)\n",
      "File \u001b[1;32m~\\AppData\\Roaming\\Python\\Python312\\site-packages\\IPython\\core\\interactiveshell.py:286\u001b[0m, in \u001b[0;36m_modified_open\u001b[1;34m(file, *args, **kwargs)\u001b[0m\n\u001b[0;32m    279\u001b[0m \u001b[39mif\u001b[39;00m file \u001b[39min\u001b[39;00m {\u001b[39m0\u001b[39m, \u001b[39m1\u001b[39m, \u001b[39m2\u001b[39m}:\n\u001b[0;32m    280\u001b[0m     \u001b[39mraise\u001b[39;00m \u001b[39mValueError\u001b[39;00m(\n\u001b[0;32m    281\u001b[0m         \u001b[39mf\u001b[39m\u001b[39m\"\u001b[39m\u001b[39mIPython won\u001b[39m\u001b[39m'\u001b[39m\u001b[39mt let you open fd=\u001b[39m\u001b[39m{\u001b[39;00mfile\u001b[39m}\u001b[39;00m\u001b[39m by default \u001b[39m\u001b[39m\"\u001b[39m\n\u001b[0;32m    282\u001b[0m         \u001b[39m\"\u001b[39m\u001b[39mas it is likely to crash IPython. If you know what you are doing, \u001b[39m\u001b[39m\"\u001b[39m\n\u001b[0;32m    283\u001b[0m         \u001b[39m\"\u001b[39m\u001b[39myou can use builtins\u001b[39m\u001b[39m'\u001b[39m\u001b[39m open.\u001b[39m\u001b[39m\"\u001b[39m\n\u001b[0;32m    284\u001b[0m     )\n\u001b[1;32m--> 286\u001b[0m \u001b[39mreturn\u001b[39;00m io_open(file, \u001b[39m*\u001b[39;49margs, \u001b[39m*\u001b[39;49m\u001b[39m*\u001b[39;49mkwargs)\n",
      "\u001b[1;31mFileNotFoundError\u001b[0m: [Errno 2] No such file or directory: 'abc.txt'"
     ]
    }
   ],
   "source": [
    "open(\"abc.txt\") #here we want to open a file name abc.txt which doesnot exist "
   ]
  },
  {
   "cell_type": "markdown",
   "metadata": {},
   "source": [
    "# Handle run time error\n",
    "\n",
    "```\n",
    "try:\n",
    "    logic\n",
    "except(Error_class1, Error_class2):\n",
    "    if error occured then run this block\n",
    "else:\n",
    "    if error not occured\n",
    "finally:\n",
    "    always run\n",
    "\n",
    "```"
   ]
  },
  {
   "cell_type": "code",
   "execution_count": 33,
   "metadata": {},
   "outputs": [
    {
     "name": "stdout",
     "output_type": "stream",
     "text": [
      "There is zero devision error\n"
     ]
    }
   ],
   "source": [
    "try:\n",
    "    print(7/0)\n",
    "except(ZeroDivisionError):\n",
    "    print(\"There is zero devision error\")\n"
   ]
  },
  {
   "cell_type": "code",
   "execution_count": 34,
   "metadata": {},
   "outputs": [
    {
     "name": "stdout",
     "output_type": "stream",
     "text": [
      "logic 1\n",
      "logic 2\n"
     ]
    },
    {
     "ename": "ZeroDivisionError",
     "evalue": "division by zero",
     "output_type": "error",
     "traceback": [
      "\u001b[1;31m---------------------------------------------------------------------------\u001b[0m",
      "\u001b[1;31mZeroDivisionError\u001b[0m                         Traceback (most recent call last)",
      "\u001b[1;32md:\\solopreneur-journey\\Q4\\modern-python\\class11\\class11.ipynb Cell 27\u001b[0m line \u001b[0;36m3\n\u001b[0;32m      <a href='vscode-notebook-cell:/d%3A/solopreneur-journey/Q4/modern-python/class11/class11.ipynb#X42sZmlsZQ%3D%3D?line=0'>1</a>\u001b[0m \u001b[39mprint\u001b[39m(\u001b[39m\"\u001b[39m\u001b[39mlogic 1\u001b[39m\u001b[39m\"\u001b[39m)\n\u001b[0;32m      <a href='vscode-notebook-cell:/d%3A/solopreneur-journey/Q4/modern-python/class11/class11.ipynb#X42sZmlsZQ%3D%3D?line=1'>2</a>\u001b[0m \u001b[39mprint\u001b[39m(\u001b[39m\"\u001b[39m\u001b[39mlogic 2\u001b[39m\u001b[39m\"\u001b[39m)\n\u001b[1;32m----> <a href='vscode-notebook-cell:/d%3A/solopreneur-journey/Q4/modern-python/class11/class11.ipynb#X42sZmlsZQ%3D%3D?line=2'>3</a>\u001b[0m \u001b[39mprint\u001b[39m(\u001b[39m5\u001b[39;49m\u001b[39m/\u001b[39;49m\u001b[39m0\u001b[39;49m)\n\u001b[0;32m      <a href='vscode-notebook-cell:/d%3A/solopreneur-journey/Q4/modern-python/class11/class11.ipynb#X42sZmlsZQ%3D%3D?line=3'>4</a>\u001b[0m \u001b[39mprint\u001b[39m(\u001b[39m\"\u001b[39m\u001b[39mlogic 3\u001b[39m\u001b[39m\"\u001b[39m)\n\u001b[0;32m      <a href='vscode-notebook-cell:/d%3A/solopreneur-journey/Q4/modern-python/class11/class11.ipynb#X42sZmlsZQ%3D%3D?line=4'>5</a>\u001b[0m \u001b[39mprint\u001b[39m(\u001b[39m\"\u001b[39m\u001b[39mlogic 4\u001b[39m\u001b[39m\"\u001b[39m)\n",
      "\u001b[1;31mZeroDivisionError\u001b[0m: division by zero"
     ]
    }
   ],
   "source": [
    "print(\"logic 1\")\n",
    "print(\"logic 2\")\n",
    "print(5/0) #Error\n",
    "print(\"logic 3\")\n",
    "print(\"logic 4\")\n"
   ]
  },
  {
   "cell_type": "code",
   "execution_count": 38,
   "metadata": {},
   "outputs": [
    {
     "name": "stdout",
     "output_type": "stream",
     "text": [
      "logic 1\n",
      "logic 2\n",
      "Caught a Zero Division Error!\n",
      "This is the end of the program.\n",
      "logic 3\n",
      "logic 4\n"
     ]
    }
   ],
   "source": [
    "print(\"logic 1\")\n",
    "print(\"logic 2\")\n",
    "try:\n",
    "    print(5/0) #Error\n",
    "except(ZeroDivisionError):\n",
    "    print(\"Caught a Zero Division Error!\")\n",
    "else:\n",
    "    print(\"No error was caught.\")\n",
    "finally:\n",
    "    print(\"This is the end of the program.\")\n",
    "print(\"logic 3\") #even if the error came the below code will work now\n",
    "print(\"logic 4\")\n"
   ]
  },
  {
   "cell_type": "code",
   "execution_count": 39,
   "metadata": {},
   "outputs": [
    {
     "ename": "IndexError",
     "evalue": "list index out of range",
     "output_type": "error",
     "traceback": [
      "\u001b[1;31m---------------------------------------------------------------------------\u001b[0m",
      "\u001b[1;31mIndexError\u001b[0m                                Traceback (most recent call last)",
      "\u001b[1;32md:\\solopreneur-journey\\Q4\\modern-python\\class11\\class11.ipynb Cell 29\u001b[0m line \u001b[0;36m2\n\u001b[0;32m      <a href='vscode-notebook-cell:/d%3A/solopreneur-journey/Q4/modern-python/class11/class11.ipynb#X44sZmlsZQ%3D%3D?line=0'>1</a>\u001b[0m l1 : \u001b[39mlist\u001b[39m[\u001b[39mint\u001b[39m] \u001b[39m=\u001b[39m [\u001b[39m1\u001b[39m,\u001b[39m2\u001b[39m,\u001b[39m3\u001b[39m]\n\u001b[1;32m----> <a href='vscode-notebook-cell:/d%3A/solopreneur-journey/Q4/modern-python/class11/class11.ipynb#X44sZmlsZQ%3D%3D?line=1'>2</a>\u001b[0m l1[\u001b[39m200\u001b[39;49m]\n",
      "\u001b[1;31mIndexError\u001b[0m: list index out of range"
     ]
    }
   ],
   "source": [
    "l1 : list[int] = [1,2,3]\n",
    "l1[200]"
   ]
  },
  {
   "cell_type": "code",
   "execution_count": 40,
   "metadata": {},
   "outputs": [
    {
     "ename": "NameError",
     "evalue": "name 'xyz' is not defined",
     "output_type": "error",
     "traceback": [
      "\u001b[1;31m---------------------------------------------------------------------------\u001b[0m",
      "\u001b[1;31mNameError\u001b[0m                                 Traceback (most recent call last)",
      "\u001b[1;32md:\\solopreneur-journey\\Q4\\modern-python\\class11\\class11.ipynb Cell 30\u001b[0m line \u001b[0;36m1\n\u001b[1;32m----> <a href='vscode-notebook-cell:/d%3A/solopreneur-journey/Q4/modern-python/class11/class11.ipynb#X45sZmlsZQ%3D%3D?line=0'>1</a>\u001b[0m \u001b[39mprint\u001b[39m(xyz)\n",
      "\u001b[1;31mNameError\u001b[0m: name 'xyz' is not defined"
     ]
    }
   ],
   "source": [
    "print(xyz)"
   ]
  },
  {
   "cell_type": "code",
   "execution_count": 41,
   "metadata": {},
   "outputs": [
    {
     "name": "stdout",
     "output_type": "stream",
     "text": [
      "logic1\n",
      "logic2\n",
      "Zerro Division Error!\n",
      "logic4\n",
      "logic5\n"
     ]
    }
   ],
   "source": [
    "print(\"logic1\")\n",
    "print(\"logic2\")\n",
    "\n",
    "l1 : list[int] = [1,2,3]\n",
    "\n",
    "try:\n",
    "    print(5/0)# Error\n",
    "    print(l1[0]) #NotError\n",
    "    print(xyz) #Error\n",
    "  \n",
    "except (ZeroDivisionError,IndexError):\n",
    "    print(\"Zero Division Error!\")\n",
    "print(\"logic4\")\n",
    "print(\"logic5\")"
   ]
  },
  {
   "cell_type": "code",
   "execution_count": 42,
   "metadata": {},
   "outputs": [
    {
     "name": "stdout",
     "output_type": "stream",
     "text": [
      "logic1\n",
      "logic2\n",
      "2.5\n",
      "1\n"
     ]
    },
    {
     "ename": "NameError",
     "evalue": "name 'xyz' is not defined",
     "output_type": "error",
     "traceback": [
      "\u001b[1;31m---------------------------------------------------------------------------\u001b[0m",
      "\u001b[1;31mNameError\u001b[0m                                 Traceback (most recent call last)",
      "\u001b[1;32md:\\solopreneur-journey\\Q4\\modern-python\\class11\\class11.ipynb Cell 32\u001b[0m line \u001b[0;36m9\n\u001b[0;32m      <a href='vscode-notebook-cell:/d%3A/solopreneur-journey/Q4/modern-python/class11/class11.ipynb#X50sZmlsZQ%3D%3D?line=6'>7</a>\u001b[0m     \u001b[39mprint\u001b[39m(\u001b[39m5\u001b[39m\u001b[39m/\u001b[39m\u001b[39m2\u001b[39m)\u001b[39m# Error\u001b[39;00m\n\u001b[0;32m      <a href='vscode-notebook-cell:/d%3A/solopreneur-journey/Q4/modern-python/class11/class11.ipynb#X50sZmlsZQ%3D%3D?line=7'>8</a>\u001b[0m     \u001b[39mprint\u001b[39m(l1[\u001b[39m0\u001b[39m]) \u001b[39m#NotError\u001b[39;00m\n\u001b[1;32m----> <a href='vscode-notebook-cell:/d%3A/solopreneur-journey/Q4/modern-python/class11/class11.ipynb#X50sZmlsZQ%3D%3D?line=8'>9</a>\u001b[0m     \u001b[39mprint\u001b[39m(xyz) \u001b[39m#Error\u001b[39;00m\n\u001b[0;32m     <a href='vscode-notebook-cell:/d%3A/solopreneur-journey/Q4/modern-python/class11/class11.ipynb#X50sZmlsZQ%3D%3D?line=11'>12</a>\u001b[0m \u001b[39mexcept\u001b[39;00m (\u001b[39mZeroDivisionError\u001b[39;00m,\u001b[39mIndexError\u001b[39;00m):\n\u001b[0;32m     <a href='vscode-notebook-cell:/d%3A/solopreneur-journey/Q4/modern-python/class11/class11.ipynb#X50sZmlsZQ%3D%3D?line=12'>13</a>\u001b[0m     \u001b[39mprint\u001b[39m(\u001b[39m\"\u001b[39m\u001b[39mZero Division Error!\u001b[39m\u001b[39m\"\u001b[39m)\n",
      "\u001b[1;31mNameError\u001b[0m: name 'xyz' is not defined"
     ]
    }
   ],
   "source": [
    "print(\"logic1\")\n",
    "print(\"logic2\")\n",
    "\n",
    "l1 : list[int] = [1,2,3]\n",
    "\n",
    "try:\n",
    "    print(5/2)# Error\n",
    "    print(l1[0]) #NotError\n",
    "    print(xyz) #Error \n",
    "except (ZeroDivisionError):\n",
    "    print(\"Zero Division Error!\")\n",
    "\n",
    "except (IndexError):\n",
    "    print(\"Index Error!\")\n",
    "\n",
    "except (NameError):\n",
    "    print(\"Name Error!\")\n",
    "\n",
    "print(\"logic4\")\n",
    "print(\"logic5\")"
   ]
  }
 ],
 "metadata": {
  "kernelspec": {
   "display_name": "Python 3",
   "language": "python",
   "name": "python3"
  },
  "language_info": {
   "codemirror_mode": {
    "name": "ipython",
    "version": 3
   },
   "file_extension": ".py",
   "mimetype": "text/x-python",
   "name": "python",
   "nbconvert_exporter": "python",
   "pygments_lexer": "ipython3",
   "version": "3.12.0"
  }
 },
 "nbformat": 4,
 "nbformat_minor": 2
}
